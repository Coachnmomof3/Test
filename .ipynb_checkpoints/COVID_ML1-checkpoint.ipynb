{
 "cells": [
  {
   "cell_type": "code",
   "execution_count": 49,
   "metadata": {},
   "outputs": [],
   "source": [
    "from tensorflow.keras.preprocessing.image import ImageDataGenerator\n",
    "from tensorflow.keras.applications import VGG16\n",
    "from tensorflow.keras.layers import Activation, Dense, Dropout, Flatten, BatchNormalization, Conv2D, MaxPooling2D, Lambda, Input, AveragePooling2D\n",
    "from tensorflow.keras.models import Model, Sequential\n",
    "from tensorflow.keras.utils import to_categorical\n",
    "from sklearn.preprocessing import LabelBinarizer\n",
    "from sklearn.model_selection import train_test_split\n",
    "from tensorflow.keras.preprocessing import image\n",
    "from tensorflow.keras.optimizers import Adam\n",
    "from tensorflow.keras.optimizers import SGD\n",
    "from tensorflow.keras.preprocessing import image\n",
    "import tensorflow as tf \n",
    "import matplotlib.pyplot as plt \n",
    "import numpy as np \n",
    "import pandas as pd\n",
    "import random\n",
    "import cv2\n",
    "import os"
   ]
  },
  {
   "cell_type": "code",
   "execution_count": 50,
   "metadata": {},
   "outputs": [],
   "source": [
    "# Directory with covid\n",
    "covid_dir= os.path.join(\"./Resources/data_upload_v2/images/Covid\")\n",
    "\n",
    "# Directory with Atelectasis\n",
    "atele_dir=os.path.join(\"./Resources/data_upload_v2/images/Atelectasis\")\n",
    "\n",
    "# Directory with Cardiomegaly\n",
    "cardiom_dir=os.path.join( \"./Resources/data_upload_v2/images/Cardiomegaly\")\n",
    "\n",
    "# Directory with Consolidation\n",
    "consol_dir= os.path.join(\"./Resources/data_upload_v2/images/Consolidation\")\n",
    "\n",
    "# Directory with Edema\n",
    "edema_dir= os.path.join(\"./Resources/data_upload_v2/images/Edema\")\n",
    "\n",
    "# Directory with Enlarged_Cardiomediastinum\n",
    "enlarg_card_dir=os.path.join(\"./Resources/data_upload_v2/images/Enlarged_Cardiomediastinum\")\n",
    "\n",
    "# Directory with Fracture \n",
    "fract_dir= os.path.join(\"./Resources/data_upload_v2/images/Fracture\")\n",
    "\n",
    "#Directory with Lung_Lesion\n",
    "lunglesion_dir=os.path.join(\"./Resources/data_upload_v2/images/Lung_Lesion\")\n",
    "\n",
    "#Directory with Lung_Opacity\n",
    "lungopac_dir= os.path.join(\"./Resources/data_upload_v2/images/Lung_Opacity\")\n",
    "\n",
    "#Directory with No_Finding\n",
    "nofind_dir= os.path.join(\"./Resources/data_upload_v2/images/No_Finding\")\n",
    "\n",
    "#Directory with Pleural_Other\n",
    "plother_dir=os.path.join(\"./Resources/data_upload_v2/images/Pleural_Other\")\n",
    "\n",
    "#Directory with Pneumonia \n",
    "pneu_dir=os.path.join( \"./Resources/data_upload_v2/images/Pneumonia\")\n",
    "\n",
    "#Directory with Pneumothorax\n",
    "pneumoth_dir=os.path.join(\"./Resources/data_upload_v2/images/Pneumothorax\")\n",
    "\n",
    "#Directory with Support_Devices\n",
    "supp_dev= os.path.join(\"./Resources/data_upload_v2/images/Support_Devices\")\n"
   ]
  },
  {
   "cell_type": "code",
   "execution_count": 51,
   "metadata": {},
   "outputs": [
    {
     "name": "stdout",
     "output_type": "stream",
     "text": [
      "['Atelectasis', 'Cardiomegaly', 'Consolidation', 'Covid', 'Edema', 'Enlarged_Cardiomediastinum', 'Fracture', 'Lung_Lesion', 'Lung_Opacity', 'No_Finding', 'Pleural_Other', 'Pneumonia', 'Pneumothorax', 'Support_Devices']\n"
     ]
    }
   ],
   "source": [
    "# Check filenames \n",
    "image_names=list(os.listdir(\"./Resources/data_upload_v2/images\"))[1:]\n",
    "image_names.sort()\n",
    "print(image_names)\n"
   ]
  },
  {
   "cell_type": "code",
   "execution_count": 52,
   "metadata": {},
   "outputs": [
    {
     "name": "stdout",
     "output_type": "stream",
     "text": [
      "total covid images: 185\n",
      "total Atelectasis images: 143\n",
      "total Cardiomegaly images: 136\n",
      "total Consolidation images: 145\n",
      "total Edema images: 155\n",
      "total Enlarged_Cardiomediastinum images: 143\n",
      "total Fracture images: 142\n",
      "total Lung_Lesion images: 127\n",
      "total Lung_Opacity images: 156\n",
      "total No_Finding images: 1898\n",
      "total Pleural_Other images: 99\n",
      "total Pneumonia images: 118\n",
      "total Pneumothorax images: 164\n",
      "total Support_Devices images: 154\n"
     ]
    }
   ],
   "source": [
    "print('total covid images:', len(os.listdir(covid_dir)))\n",
    "print('total Atelectasis images:', len(os.listdir(atele_dir)))\n",
    "print('total Cardiomegaly images:', len(os.listdir(cardiom_dir)))\n",
    "print('total Consolidation images:', len(os.listdir(consol_dir)))\n",
    "print('total Edema images:', len(os.listdir(edema_dir)))\n",
    "print('total Enlarged_Cardiomediastinum images:', len(os.listdir(enlarg_card_dir)))\n",
    "print('total Fracture images:', len(os.listdir(fract_dir)))\n",
    "print('total Lung_Lesion images:', len(os.listdir(lunglesion_dir)))\n",
    "print('total Lung_Opacity images:', len(os.listdir(lungopac_dir)))\n",
    "print('total No_Finding images:', len(os.listdir(nofind_dir)))\n",
    "print('total Pleural_Other images:', len(os.listdir(plother_dir)))\n",
    "print('total Pneumonia images:', len(os.listdir(pneu_dir)))\n",
    "print('total Pneumothorax images:', len(os.listdir(pneumoth_dir)))\n",
    "print('total Support_Devices images:', len(os.listdir(supp_dev)))"
   ]
  },
  {
   "cell_type": "code",
   "execution_count": 53,
   "metadata": {},
   "outputs": [
    {
     "data": {
      "text/html": [
       "<div>\n",
       "<style scoped>\n",
       "    .dataframe tbody tr th:only-of-type {\n",
       "        vertical-align: middle;\n",
       "    }\n",
       "\n",
       "    .dataframe tbody tr th {\n",
       "        vertical-align: top;\n",
       "    }\n",
       "\n",
       "    .dataframe thead th {\n",
       "        text-align: right;\n",
       "    }\n",
       "</style>\n",
       "<table border=\"1\" class=\"dataframe\">\n",
       "  <thead>\n",
       "    <tr style=\"text-align: right;\">\n",
       "      <th></th>\n",
       "      <th>0</th>\n",
       "      <th>condition</th>\n",
       "    </tr>\n",
       "  </thead>\n",
       "  <tbody>\n",
       "    <tr>\n",
       "      <th>0</th>\n",
       "      <td>patient02592-study2-view1_frontal.jpg</td>\n",
       "      <td>Atelectasis</td>\n",
       "    </tr>\n",
       "    <tr>\n",
       "      <th>1</th>\n",
       "      <td>patient01340-study2-view1_frontal.jpg</td>\n",
       "      <td>Atelectasis</td>\n",
       "    </tr>\n",
       "    <tr>\n",
       "      <th>2</th>\n",
       "      <td>patient00109-study1-view1_frontal.jpg</td>\n",
       "      <td>Atelectasis</td>\n",
       "    </tr>\n",
       "    <tr>\n",
       "      <th>3</th>\n",
       "      <td>patient01192-study1-view1_frontal.jpg</td>\n",
       "      <td>Atelectasis</td>\n",
       "    </tr>\n",
       "    <tr>\n",
       "      <th>4</th>\n",
       "      <td>patient01608-study1-view1_frontal.jpg</td>\n",
       "      <td>Atelectasis</td>\n",
       "    </tr>\n",
       "  </tbody>\n",
       "</table>\n",
       "</div>"
      ],
      "text/plain": [
       "                                       0    condition\n",
       "0  patient02592-study2-view1_frontal.jpg  Atelectasis\n",
       "1  patient01340-study2-view1_frontal.jpg  Atelectasis\n",
       "2  patient00109-study1-view1_frontal.jpg  Atelectasis\n",
       "3  patient01192-study1-view1_frontal.jpg  Atelectasis\n",
       "4  patient01608-study1-view1_frontal.jpg  Atelectasis"
      ]
     },
     "execution_count": 53,
     "metadata": {},
     "output_type": "execute_result"
    }
   ],
   "source": [
    "df =pd.DataFrame(os.listdir(atele_dir))\n",
    "df[\"condition\"]= \"Atelectasis\"\n",
    "df.head()"
   ]
  },
  {
   "cell_type": "code",
   "execution_count": 58,
   "metadata": {},
   "outputs": [
    {
     "data": {
      "text/plain": [
       "No_Finding                    1898\n",
       "Covid                          185\n",
       "Pneumothorax                   164\n",
       "Lung_Opacity                   156\n",
       "Edema                          155\n",
       "Support_Devices                154\n",
       "Consolidation                  145\n",
       "Enlarged_Cardiomediastinum     143\n",
       "Atelectasis                    143\n",
       "Fracture                       142\n",
       "Cardiomegaly                   136\n",
       "Lung_Lesion                    127\n",
       "Pneumonia                      118\n",
       "Pleural_Other                   99\n",
       "Name: condition, dtype: int64"
      ]
     },
     "execution_count": 58,
     "metadata": {},
     "output_type": "execute_result"
    }
   ],
   "source": [
    "df =pd.DataFrame.from_records({\"file_name\":os.listdir(atele_dir),\"condition\": \"Atelectasis\"})\n",
    "\n",
    "for f in image_names[1:]:\n",
    "    folder_path=\"./Resources/data_upload_v2/images/\" + f\n",
    "    temp_df= pd.DataFrame.from_records({\"file_name\":os.listdir(folder_path),\"condition\": f })\n",
    "    df=df.append(temp_df)\n",
    "    \n",
    "df[\"condition\"].value_counts()"
   ]
  },
  {
   "cell_type": "code",
   "execution_count": 59,
   "metadata": {},
   "outputs": [],
   "source": [
    "# # import csv to match correct condition\n",
    "# data_csv= pd.read_csv(\"https://raw.githubusercontent.com/Coachnmomof3/UCB_COVID_Prediction_Model/james_demott/connect_core_data_set_csv.csv\")\n",
    "# data_csv.head()"
   ]
  },
  {
   "cell_type": "code",
   "execution_count": null,
   "metadata": {},
   "outputs": [],
   "source": [
    "# balance classes - random [\"No_Finding\"]\n",
    "# separate into train/test \n",
    "# create model"
   ]
  },
  {
   "cell_type": "code",
   "execution_count": 60,
   "metadata": {},
   "outputs": [
    {
     "data": {
      "text/html": [
       "<div>\n",
       "<style scoped>\n",
       "    .dataframe tbody tr th:only-of-type {\n",
       "        vertical-align: middle;\n",
       "    }\n",
       "\n",
       "    .dataframe tbody tr th {\n",
       "        vertical-align: top;\n",
       "    }\n",
       "\n",
       "    .dataframe thead th {\n",
       "        text-align: right;\n",
       "    }\n",
       "</style>\n",
       "<table border=\"1\" class=\"dataframe\">\n",
       "  <thead>\n",
       "    <tr style=\"text-align: right;\">\n",
       "      <th></th>\n",
       "      <th>condition</th>\n",
       "      <th>file_name</th>\n",
       "    </tr>\n",
       "  </thead>\n",
       "  <tbody>\n",
       "    <tr>\n",
       "      <th>0</th>\n",
       "      <td>Atelectasis</td>\n",
       "      <td>patient02592-study2-view1_frontal.jpg</td>\n",
       "    </tr>\n",
       "    <tr>\n",
       "      <th>1</th>\n",
       "      <td>Atelectasis</td>\n",
       "      <td>patient01340-study2-view1_frontal.jpg</td>\n",
       "    </tr>\n",
       "    <tr>\n",
       "      <th>2</th>\n",
       "      <td>Atelectasis</td>\n",
       "      <td>patient00109-study1-view1_frontal.jpg</td>\n",
       "    </tr>\n",
       "    <tr>\n",
       "      <th>3</th>\n",
       "      <td>Atelectasis</td>\n",
       "      <td>patient01192-study1-view1_frontal.jpg</td>\n",
       "    </tr>\n",
       "    <tr>\n",
       "      <th>4</th>\n",
       "      <td>Atelectasis</td>\n",
       "      <td>patient01608-study1-view1_frontal.jpg</td>\n",
       "    </tr>\n",
       "  </tbody>\n",
       "</table>\n",
       "</div>"
      ],
      "text/plain": [
       "     condition                              file_name\n",
       "0  Atelectasis  patient02592-study2-view1_frontal.jpg\n",
       "1  Atelectasis  patient01340-study2-view1_frontal.jpg\n",
       "2  Atelectasis  patient00109-study1-view1_frontal.jpg\n",
       "3  Atelectasis  patient01192-study1-view1_frontal.jpg\n",
       "4  Atelectasis  patient01608-study1-view1_frontal.jpg"
      ]
     },
     "execution_count": 60,
     "metadata": {},
     "output_type": "execute_result"
    }
   ],
   "source": [
    "# New data- NO [\"NO_FINDING\"]\n",
    "new_data= df[df[\"condition\"] != \"No_Finding\"]\n",
    "new_data.head()"
   ]
  },
  {
   "cell_type": "code",
   "execution_count": 62,
   "metadata": {},
   "outputs": [
    {
     "data": {
      "text/plain": [
       "Covid                         185\n",
       "Pneumothorax                  164\n",
       "Lung_Opacity                  156\n",
       "Edema                         155\n",
       "Support_Devices               154\n",
       "Consolidation                 145\n",
       "Atelectasis                   143\n",
       "Enlarged_Cardiomediastinum    143\n",
       "Fracture                      142\n",
       "Cardiomegaly                  136\n",
       "Lung_Lesion                   127\n",
       "Pneumonia                     118\n",
       "Pleural_Other                  99\n",
       "Name: condition, dtype: int64"
      ]
     },
     "execution_count": 62,
     "metadata": {},
     "output_type": "execute_result"
    }
   ],
   "source": [
    "new_data.condition.value_counts()"
   ]
  },
  {
   "cell_type": "code",
   "execution_count": 70,
   "metadata": {},
   "outputs": [
    {
     "ename": "SyntaxError",
     "evalue": "invalid syntax (<ipython-input-70-c460ef45ba1d>, line 28)",
     "output_type": "error",
     "traceback": [
      "\u001b[0;36m  File \u001b[0;32m\"<ipython-input-70-c460ef45ba1d>\"\u001b[0;36m, line \u001b[0;32m28\u001b[0m\n\u001b[0;31m    x_col= \"file_name\",\u001b[0m\n\u001b[0m        ^\u001b[0m\n\u001b[0;31mSyntaxError\u001b[0m\u001b[0;31m:\u001b[0m invalid syntax\n"
     ]
    }
   ],
   "source": [
    "img_width, img_height=200,200\n",
    "batch_size=128\n",
    "\n",
    "\n",
    "# Rescale images \n",
    "datagen= ImageDataGenerator(rescale=1/255)\n",
    "\n",
    "# Flow training images in batches of 128 using train_data \n",
    "train_generator= datagen.flow_from_dataframe(\n",
    "                new_data,\n",
    "                directory=\"./Resources/data_upload_v2/images/\",\n",
    "                x_col=\"file_name\",\n",
    "                y_col= \"condition\",\n",
    "                target_size=(img_width,img_height),\n",
    "                batch_size=batch_size,\n",
    "                save_format= \".jpeg\",\n",
    "                classes= [\"Covid\", \"Atelectasis\", \"Cardiomegaly\", \"Consolidation\", \"Edema\", \"Enlarged_Cardiomediastinum\", \"Fracture\", \n",
    "                          \"Lung_Lesion\", \"Lung_Opacity\", \"No_Finding\", \"Pleural_Other\", \"Pneumonia\", \"Pneumothorax\", \"Support_Devices\"],\n",
    "                class_mode='categorical', shuffle=True, seed=30)\n",
    "\n",
    "# Flow test images in \n",
    "\n",
    "datagen2=ImageDataGenerator(rescale=1/255, validation_split=.3)\n",
    "\n",
    "test_generator=datagen2.flow_from_dataframe(\n",
    "                new_data,\n",
    "                directory= \"./Resources/data_upload_v2/images/\"\n",
    "                x_col= \"file_name\",\n",
    "                y_col=\"condition\",\n",
    "                target_size=(img_width,img_height),\n",
    "                save_format= \".jpeg\",\n",
    "                batch_size=batch_size,\n",
    "                classes= [\"Covid\", \"Atelectasis\", \"Cardiomegaly\", \"Consolidation\", \"Edema\", \"Enlarged_Cardiomediastinum\", \"Fracture\", \n",
    "                          \"Lung_Lesion\", \"Lung_Opacity\", \"No_Finding\", \"Pleural_Other\", \"Pneumonia\", \"Pneumothorax\", \"Support_Devices\"],\n",
    "                class_mode='categorical',subset=\"validation\", shuffle=True, seed=30)"
   ]
  },
  {
   "cell_type": "code",
   "execution_count": 32,
   "metadata": {},
   "outputs": [],
   "source": [
    "# CNN MODEL- conv-batch-maxpool-dropout\n",
    "\n",
    "model=Sequential()\n",
    "model.add(Conv2D(32, kernel_size=3, activation=\"relu\", input_shape=(200,200,3)))\n",
    "model.add(BatchNormalization())\n",
    "model.add(MaxPooling2D(strides=(2,2)))\n",
    "model.add(Dropout(.3))\n",
    "\n",
    "model.add(Conv2D(32, kernel_size=3, activation=\"relu\"))\n",
    "model.add(BatchNormalization())\n",
    "model.add(MaxPooling2D(strides=(2,2)))\n",
    "model.add(Dropout(.5))\n",
    "\n",
    "model.add(Conv2D(64, kernel_size=3, activation=\"relu\"))\n",
    "model.add(BatchNormalization())\n",
    "model.add(MaxPooling2D(strides=(2,2)))\n",
    "model.add(Dropout(.4))\n",
    "\n",
    "model.add(Conv2D(64, kernel_size=3, activation=\"relu\"))\n",
    "model.add(BatchNormalization())\n",
    "model.add(MaxPooling2D(strides=(2,2)))\n",
    "model.add(Dropout(.3))\n",
    "\n",
    "model.add(Flatten())\n",
    "model.add(Dense(512,activation=\"relu\"))\n",
    "model.add(Dense(128,activation=\"relu\"))\n",
    "model.add(Dropout(.4))\n",
    "\n",
    "model.add(Dense(14, activation=\"softmax\"))"
   ]
  },
  {
   "cell_type": "code",
   "execution_count": 20,
   "metadata": {},
   "outputs": [
    {
     "name": "stdout",
     "output_type": "stream",
     "text": [
      "Model: \"sequential_3\"\n",
      "_________________________________________________________________\n",
      "Layer (type)                 Output Shape              Param #   \n",
      "=================================================================\n",
      "conv2d_3 (Conv2D)            (None, 198, 198, 32)      896       \n",
      "_________________________________________________________________\n",
      "batch_normalization_1 (Batch (None, 198, 198, 32)      128       \n",
      "_________________________________________________________________\n",
      "max_pooling2d (MaxPooling2D) (None, 99, 99, 32)        0         \n",
      "_________________________________________________________________\n",
      "dropout (Dropout)            (None, 99, 99, 32)        0         \n",
      "_________________________________________________________________\n",
      "conv2d_4 (Conv2D)            (None, 97, 97, 32)        9248      \n",
      "_________________________________________________________________\n",
      "batch_normalization_2 (Batch (None, 97, 97, 32)        128       \n",
      "_________________________________________________________________\n",
      "max_pooling2d_1 (MaxPooling2 (None, 48, 48, 32)        0         \n",
      "_________________________________________________________________\n",
      "dropout_1 (Dropout)          (None, 48, 48, 32)        0         \n",
      "_________________________________________________________________\n",
      "conv2d_5 (Conv2D)            (None, 46, 46, 64)        18496     \n",
      "_________________________________________________________________\n",
      "batch_normalization_3 (Batch (None, 46, 46, 64)        256       \n",
      "_________________________________________________________________\n",
      "max_pooling2d_2 (MaxPooling2 (None, 23, 23, 64)        0         \n",
      "_________________________________________________________________\n",
      "dropout_2 (Dropout)          (None, 23, 23, 64)        0         \n",
      "_________________________________________________________________\n",
      "conv2d_6 (Conv2D)            (None, 21, 21, 64)        36928     \n",
      "_________________________________________________________________\n",
      "batch_normalization_4 (Batch (None, 21, 21, 64)        256       \n",
      "_________________________________________________________________\n",
      "max_pooling2d_3 (MaxPooling2 (None, 10, 10, 64)        0         \n",
      "_________________________________________________________________\n",
      "dropout_3 (Dropout)          (None, 10, 10, 64)        0         \n",
      "_________________________________________________________________\n",
      "flatten (Flatten)            (None, 6400)              0         \n",
      "_________________________________________________________________\n",
      "dense (Dense)                (None, 512)               3277312   \n",
      "_________________________________________________________________\n",
      "dense_1 (Dense)              (None, 128)               65664     \n",
      "_________________________________________________________________\n",
      "dropout_4 (Dropout)          (None, 128)               0         \n",
      "_________________________________________________________________\n",
      "dense_2 (Dense)              (None, 14)                1806      \n",
      "=================================================================\n",
      "Total params: 3,411,118\n",
      "Trainable params: 3,410,734\n",
      "Non-trainable params: 384\n",
      "_________________________________________________________________\n"
     ]
    }
   ],
   "source": [
    "model.summary()"
   ]
  },
  {
   "cell_type": "code",
   "execution_count": 25,
   "metadata": {},
   "outputs": [
    {
     "ename": "TypeError",
     "evalue": "fit_generator() missing 1 required positional argument: 'generator'",
     "output_type": "error",
     "traceback": [
      "\u001b[0;31m---------------------------------------------------------------------------\u001b[0m",
      "\u001b[0;31mTypeError\u001b[0m                                 Traceback (most recent call last)",
      "\u001b[0;32m<ipython-input-25-a56a5ddeca57>\u001b[0m in \u001b[0;36m<module>\u001b[0;34m\u001b[0m\n\u001b[1;32m      7\u001b[0m Model.fit_generator(\n\u001b[1;32m      8\u001b[0m             \u001b[0mtrain_generator\u001b[0m\u001b[0;34m,\u001b[0m \u001b[0msteps_per_epoch\u001b[0m\u001b[0;34m=\u001b[0m\u001b[0;36m900\u001b[0m\u001b[0;34m,\u001b[0m\u001b[0;34m\u001b[0m\u001b[0;34m\u001b[0m\u001b[0m\n\u001b[0;32m----> 9\u001b[0;31m             epochs=100, callbacks=[history])\n\u001b[0m",
      "\u001b[0;32m~/anaconda3/envs/mlenv/lib/python3.7/site-packages/tensorflow/python/util/deprecation.py\u001b[0m in \u001b[0;36mnew_func\u001b[0;34m(*args, **kwargs)\u001b[0m\n\u001b[1;32m    322\u001b[0m               \u001b[0;34m'in a future version'\u001b[0m \u001b[0;32mif\u001b[0m \u001b[0mdate\u001b[0m \u001b[0;32mis\u001b[0m \u001b[0;32mNone\u001b[0m \u001b[0;32melse\u001b[0m \u001b[0;34m(\u001b[0m\u001b[0;34m'after %s'\u001b[0m \u001b[0;34m%\u001b[0m \u001b[0mdate\u001b[0m\u001b[0;34m)\u001b[0m\u001b[0;34m,\u001b[0m\u001b[0;34m\u001b[0m\u001b[0;34m\u001b[0m\u001b[0m\n\u001b[1;32m    323\u001b[0m               instructions)\n\u001b[0;32m--> 324\u001b[0;31m       \u001b[0;32mreturn\u001b[0m \u001b[0mfunc\u001b[0m\u001b[0;34m(\u001b[0m\u001b[0;34m*\u001b[0m\u001b[0margs\u001b[0m\u001b[0;34m,\u001b[0m \u001b[0;34m**\u001b[0m\u001b[0mkwargs\u001b[0m\u001b[0;34m)\u001b[0m\u001b[0;34m\u001b[0m\u001b[0;34m\u001b[0m\u001b[0m\n\u001b[0m\u001b[1;32m    325\u001b[0m     return tf_decorator.make_decorator(\n\u001b[1;32m    326\u001b[0m         \u001b[0mfunc\u001b[0m\u001b[0;34m,\u001b[0m \u001b[0mnew_func\u001b[0m\u001b[0;34m,\u001b[0m \u001b[0;34m'deprecated'\u001b[0m\u001b[0;34m,\u001b[0m\u001b[0;34m\u001b[0m\u001b[0;34m\u001b[0m\u001b[0m\n",
      "\u001b[0;31mTypeError\u001b[0m: fit_generator() missing 1 required positional argument: 'generator'"
     ]
    }
   ],
   "source": [
    "model.compile(loss=\"categorical_crossentropy\", optimizer=\"adam\", metrics=[\"categorical_accuracy\"])\n",
    "\n",
    "\n",
    "from keras.callbacks import History\n",
    "history=History()\n",
    "\n",
    "Model.fit_generator(\n",
    "            train_generator, steps_per_epoch=900,\n",
    "            epochs=100, callbacks=[history],\n",
    "            validation_data=test_generator, \n",
    "            validation_steps=2)"
   ]
  },
  {
   "cell_type": "code",
   "execution_count": null,
   "metadata": {},
   "outputs": [],
   "source": []
  }
 ],
 "metadata": {
  "kernelspec": {
   "display_name": "mlenv",
   "language": "python",
   "name": "mlenv"
  },
  "language_info": {
   "codemirror_mode": {
    "name": "ipython",
    "version": 3
   },
   "file_extension": ".py",
   "mimetype": "text/x-python",
   "name": "python",
   "nbconvert_exporter": "python",
   "pygments_lexer": "ipython3",
   "version": "3.7.7"
  }
 },
 "nbformat": 4,
 "nbformat_minor": 4
}
