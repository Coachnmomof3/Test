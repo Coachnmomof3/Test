{
 "cells": [
  {
   "cell_type": "code",
   "execution_count": 1,
   "metadata": {},
   "outputs": [],
   "source": [
    "from tensorflow.keras.preprocessing.image import ImageDataGenerator\n",
    "from tensorflow.keras.applications import VGG16\n",
    "from tensorflow.keras.layers import Activation, Dense, Dropout, Flatten, BatchNormalization, Conv2D, MaxPooling2D, Lambda, Input, AveragePooling2D\n",
    "from tensorflow.keras.models import Model, Sequential\n",
    "from tensorflow.keras.utils import to_categorical\n",
    "from sklearn.preprocessing import LabelBinarizer\n",
    "from sklearn.model_selection import train_test_split\n",
    "from tensorflow.keras.preprocessing import image\n",
    "from tensorflow.keras.optimizers import Adam\n",
    "from tensorflow.keras.optimizers import SGD\n",
    "from tensorflow.keras.preprocessing import image\n",
    "import tensorflow as tf \n",
    "import matplotlib.pyplot as plt \n",
    "import numpy as np \n",
    "import pandas as pd\n",
    "import random\n",
    "import cv2\n",
    "import os"
   ]
  },
  {
   "cell_type": "code",
   "execution_count": 11,
   "metadata": {},
   "outputs": [],
   "source": [
    "# import csv to match correct condition\n",
    "train= pd.read_csv(\"https://raw.githubusercontent.com/Coachnmomof3/UCB_COVID_Prediction_Model/james_demott/connect_core_data_set_csv.csv\", dtype=str)\n",
    "test = pd.read_csv(\"https://raw.githubusercontent.com/Coachnmomof3/UCB_COVID_Prediction_Model/james_demott/connect_core_data_set_csv.csv\")\n",
    "\n",
    "# Define Train/Test Folder path\n",
    "train_folder = \"./Resources/data_upload_v2/images\"\n",
    "test_folder = \"./Resources/data_upload_v2/images\"\n"
   ]
  },
  {
   "cell_type": "code",
   "execution_count": 12,
   "metadata": {},
   "outputs": [
    {
     "data": {
      "text/html": [
       "<div>\n",
       "<style scoped>\n",
       "    .dataframe tbody tr th:only-of-type {\n",
       "        vertical-align: middle;\n",
       "    }\n",
       "\n",
       "    .dataframe tbody tr th {\n",
       "        vertical-align: top;\n",
       "    }\n",
       "\n",
       "    .dataframe thead th {\n",
       "        text-align: right;\n",
       "    }\n",
       "</style>\n",
       "<table border=\"1\" class=\"dataframe\">\n",
       "  <thead>\n",
       "    <tr style=\"text-align: right;\">\n",
       "      <th></th>\n",
       "      <th>condition</th>\n",
       "      <th>file</th>\n",
       "      <th>test_train</th>\n",
       "    </tr>\n",
       "  </thead>\n",
       "  <tbody>\n",
       "    <tr>\n",
       "      <th>0</th>\n",
       "      <td>Atelectasis</td>\n",
       "      <td>patient00024-study2-view1_frontal.jpg</td>\n",
       "      <td>train</td>\n",
       "    </tr>\n",
       "    <tr>\n",
       "      <th>1</th>\n",
       "      <td>Atelectasis</td>\n",
       "      <td>patient00109-study1-view1_frontal.jpg</td>\n",
       "      <td>train</td>\n",
       "    </tr>\n",
       "    <tr>\n",
       "      <th>2</th>\n",
       "      <td>Atelectasis</td>\n",
       "      <td>patient00150-study2-view1_frontal.jpg</td>\n",
       "      <td>train</td>\n",
       "    </tr>\n",
       "    <tr>\n",
       "      <th>3</th>\n",
       "      <td>Atelectasis</td>\n",
       "      <td>patient00224-study1-view1_frontal.jpg</td>\n",
       "      <td>train</td>\n",
       "    </tr>\n",
       "    <tr>\n",
       "      <th>4</th>\n",
       "      <td>Atelectasis</td>\n",
       "      <td>patient00262-study2-view1_frontal.jpg</td>\n",
       "      <td>train</td>\n",
       "    </tr>\n",
       "  </tbody>\n",
       "</table>\n",
       "</div>"
      ],
      "text/plain": [
       "     condition                                   file test_train\n",
       "0  Atelectasis  patient00024-study2-view1_frontal.jpg      train\n",
       "1  Atelectasis  patient00109-study1-view1_frontal.jpg      train\n",
       "2  Atelectasis  patient00150-study2-view1_frontal.jpg      train\n",
       "3  Atelectasis  patient00224-study1-view1_frontal.jpg      train\n",
       "4  Atelectasis  patient00262-study2-view1_frontal.jpg      train"
      ]
     },
     "execution_count": 12,
     "metadata": {},
     "output_type": "execute_result"
    }
   ],
   "source": [
    "train.head()"
   ]
  },
  {
   "cell_type": "code",
   "execution_count": 19,
   "metadata": {},
   "outputs": [
    {
     "data": {
      "text/plain": [
       "No_Finding                    3400\n",
       "Edema                          240\n",
       "Fracture                       238\n",
       "Lung_Opacity                   238\n",
       "Atelectasis                    234\n",
       "Enlarged_Cardiomediastinum     230\n",
       "Support_Devices                226\n",
       "Pneumothorax                   226\n",
       "Consolidation                  224\n",
       "Cardiomegaly                   224\n",
       "Lung_Lesion                    218\n",
       "Pneumonia                      194\n",
       "Covid                          184\n",
       "Pleural_Other                  108\n",
       "Name: condition, dtype: int64"
      ]
     },
     "execution_count": 19,
     "metadata": {},
     "output_type": "execute_result"
    }
   ],
   "source": [
    "train.condition.value_counts()"
   ]
  },
  {
   "cell_type": "code",
   "execution_count": 22,
   "metadata": {},
   "outputs": [
    {
     "data": {
      "text/plain": [
       "No_Finding                    1898\n",
       "Covid                          185\n",
       "Pneumothorax                   164\n",
       "Lung_Opacity                   156\n",
       "Edema                          155\n",
       "Support_Devices                154\n",
       "Consolidation                  145\n",
       "Enlarged_Cardiomediastinum     143\n",
       "Atelectasis                    143\n",
       "Fracture                       142\n",
       "Cardiomegaly                   136\n",
       "Lung_Lesion                    127\n",
       "Pneumonia                      118\n",
       "Pleural_Other                   99\n",
       "Name: condition, dtype: int64"
      ]
     },
     "execution_count": 22,
     "metadata": {},
     "output_type": "execute_result"
    }
   ],
   "source": [
    "# Directory with Atelectasis\n",
    "atele_dir=os.path.join(\"./Resources/data_upload_v2/images/Atelectasis\")\n",
    "# Check filenames \n",
    "image_names=list(os.listdir(\"./Resources/data_upload_v2/images\"))[1:]\n",
    "image_names.sort()\n",
    "\n",
    "df =pd.DataFrame.from_records({\"file_name\":os.listdir(atele_dir),\"condition\": \"Atelectasis\"})\n",
    "\n",
    "for f in image_names[1:]:\n",
    "    folder_path=\"./Resources/data_upload_v2/images/\" + f\n",
    "    temp_df= pd.DataFrame.from_records({\"file_name\":os.listdir(folder_path),\"condition\": f })\n",
    "    df=df.append(temp_df)\n",
    "    \n",
    "df[\"condition\"].value_counts()"
   ]
  },
  {
   "cell_type": "code",
   "execution_count": 23,
   "metadata": {},
   "outputs": [
    {
     "data": {
      "text/html": [
       "<div>\n",
       "<style scoped>\n",
       "    .dataframe tbody tr th:only-of-type {\n",
       "        vertical-align: middle;\n",
       "    }\n",
       "\n",
       "    .dataframe tbody tr th {\n",
       "        vertical-align: top;\n",
       "    }\n",
       "\n",
       "    .dataframe thead th {\n",
       "        text-align: right;\n",
       "    }\n",
       "</style>\n",
       "<table border=\"1\" class=\"dataframe\">\n",
       "  <thead>\n",
       "    <tr style=\"text-align: right;\">\n",
       "      <th></th>\n",
       "      <th>condition</th>\n",
       "      <th>file_name</th>\n",
       "    </tr>\n",
       "  </thead>\n",
       "  <tbody>\n",
       "    <tr>\n",
       "      <th>0</th>\n",
       "      <td>Atelectasis</td>\n",
       "      <td>patient02592-study2-view1_frontal.jpg</td>\n",
       "    </tr>\n",
       "    <tr>\n",
       "      <th>1</th>\n",
       "      <td>Atelectasis</td>\n",
       "      <td>patient01340-study2-view1_frontal.jpg</td>\n",
       "    </tr>\n",
       "    <tr>\n",
       "      <th>2</th>\n",
       "      <td>Atelectasis</td>\n",
       "      <td>patient00109-study1-view1_frontal.jpg</td>\n",
       "    </tr>\n",
       "    <tr>\n",
       "      <th>3</th>\n",
       "      <td>Atelectasis</td>\n",
       "      <td>patient01192-study1-view1_frontal.jpg</td>\n",
       "    </tr>\n",
       "    <tr>\n",
       "      <th>4</th>\n",
       "      <td>Atelectasis</td>\n",
       "      <td>patient01608-study1-view1_frontal.jpg</td>\n",
       "    </tr>\n",
       "  </tbody>\n",
       "</table>\n",
       "</div>"
      ],
      "text/plain": [
       "     condition                              file_name\n",
       "0  Atelectasis  patient02592-study2-view1_frontal.jpg\n",
       "1  Atelectasis  patient01340-study2-view1_frontal.jpg\n",
       "2  Atelectasis  patient00109-study1-view1_frontal.jpg\n",
       "3  Atelectasis  patient01192-study1-view1_frontal.jpg\n",
       "4  Atelectasis  patient01608-study1-view1_frontal.jpg"
      ]
     },
     "execution_count": 23,
     "metadata": {},
     "output_type": "execute_result"
    }
   ],
   "source": [
    "df.head()"
   ]
  },
  {
   "cell_type": "code",
   "execution_count": 13,
   "metadata": {},
   "outputs": [],
   "source": [
    "# Define image generator \n",
    "train_gen= ImageDataGenerator(rotation_range=45, rescale=1/255, horizontal_flip=True)\n",
    "\n",
    "test_gen=ImageDataGenerator(rescale=1/255)\n"
   ]
  },
  {
   "cell_type": "code",
   "execution_count": 24,
   "metadata": {},
   "outputs": [
    {
     "name": "stdout",
     "output_type": "stream",
     "text": [
      "Found 0 validated image filenames belonging to 14 classes.\n"
     ]
    },
    {
     "name": "stderr",
     "output_type": "stream",
     "text": [
      "/Users/bijansamimi/anaconda3/envs/mlenv/lib/python3.7/site-packages/keras_preprocessing/image/dataframe_iterator.py:282: UserWarning: Found 3765 invalid image filename(s) in x_col=\"file_name\". These filename(s) will be ignored.\n",
      "  .format(n_invalid, x_col)\n"
     ]
    }
   ],
   "source": [
    "train_data = train_gen.flow_from_dataframe(dataframe=df, \n",
    "    directory = train_folder, \n",
    "    x_col = \"file_name\", \n",
    "    y_col = \"condition\", seed = 30,\n",
    "    batch_size = 128, shuffle = True, \n",
    "    class_mode=\"categorical\",\n",
    "    subset=\"training\",                                      \n",
    "    classes=[\"Covid\", \"Atelectasis\", \"Cardiomegaly\", \"Consolidation\", \"Edema\", \"Enlarged_Cardiomediastinum\", \"Fracture\", \n",
    "    \"Lung_Lesion\", \"Lung_Opacity\", \"No_Finding\", \"Pleural_Other\", \"Pneumonia\", \"Pneumothorax\", \"Support_Devices\"],\n",
    "    target_size = (200,200))\n",
    "\n",
    "# test_data = test_gen.flow_from_dataframe(dataframe = test, \n",
    "# directory = test_folder, x_col = \"file\", \n",
    "# y_col = None,\n",
    "# batch_size = 128, shuffle = False, \n",
    "# class_mode=None,target_size = (200,200))"
   ]
  },
  {
   "cell_type": "code",
   "execution_count": null,
   "metadata": {},
   "outputs": [],
   "source": []
  }
 ],
 "metadata": {
  "kernelspec": {
   "display_name": "mlenv",
   "language": "python",
   "name": "mlenv"
  },
  "language_info": {
   "codemirror_mode": {
    "name": "ipython",
    "version": 3
   },
   "file_extension": ".py",
   "mimetype": "text/x-python",
   "name": "python",
   "nbconvert_exporter": "python",
   "pygments_lexer": "ipython3",
   "version": "3.7.7"
  }
 },
 "nbformat": 4,
 "nbformat_minor": 4
}
