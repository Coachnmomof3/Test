{
 "cells": [
  {
   "cell_type": "code",
   "execution_count": 1,
   "metadata": {},
   "outputs": [],
   "source": [
    "from tensorflow.keras.preprocessing.image import ImageDataGenerator\n",
    "from tensorflow.keras.losses import SparseCategoricalCrossentropy\n",
    "from tensorflow.keras.applications import VGG16\n",
    "from keras.applications.vgg16 import preprocess_input\n",
    "from tensorflow.keras.layers import Activation, Dense, Dropout, Flatten, BatchNormalization, Conv2D, MaxPooling2D, Lambda, Input, AveragePooling2D\n",
    "from tensorflow.keras.models import Sequential, Model\n",
    "from tensorflow.keras.layers import Input\n",
    "from tensorflow.keras import layers\n",
    "from tensorflow.keras.utils import to_categorical\n",
    "from sklearn.preprocessing import LabelBinarizer\n",
    "from sklearn.model_selection import train_test_split\n",
    "from tensorflow.keras.preprocessing import image\n",
    "from tensorflow.keras.optimizers import Adam\n",
    "from tensorflow.keras.optimizers import SGD\n",
    "from tensorflow.keras.preprocessing import image\n",
    "from tensorflow.keras import backend as K\n",
    "import tensorflow as tf \n",
    "import matplotlib.pyplot as plt \n",
    "import numpy as np \n",
    "import pandas as pd\n",
    "import random\n",
    "#import cv2\n",
    "import os"
   ]
  },
  {
   "cell_type": "code",
   "execution_count": 2,
   "metadata": {},
   "outputs": [
    {
     "name": "stdout",
     "output_type": "stream",
     "text": [
      "total Covid images: 1327\n",
      "total Normal images: 1341\n",
      "total Viral_Pneumonia: 1463\n"
     ]
    }
   ],
   "source": [
    "covid_dir=os.path.join(\"Database/COVID19\")\n",
    "norm_dir=os.path.join(\"Database/NORMAL\")\n",
    "pneu_dir=os.path.join(\"Database/Viral_Pneumonia\")\n",
    "\n",
    "\n",
    "print('total Covid images:', len(os.listdir(covid_dir)))\n",
    "print('total Normal images:', len(os.listdir(norm_dir)))\n",
    "print('total Viral_Pneumonia:', len(os.listdir(pneu_dir)))\n"
   ]
  },
  {
   "cell_type": "code",
   "execution_count": 3,
   "metadata": {},
   "outputs": [
    {
     "name": "stdout",
     "output_type": "stream",
     "text": [
      "Found 2893 images belonging to 3 classes.\n",
      "Found 1238 images belonging to 3 classes.\n",
      "Found 2893 images belonging to 3 classes.\n",
      "Found 1238 images belonging to 3 classes.\n"
     ]
    }
   ],
   "source": [
    "# Settings\n",
    "batch_size = 128\n",
    "img_height, img_width = 200,200\n",
    "data_dir = \"Database/\"\n",
    "\n",
    "# Rescale images \n",
    "datagen= ImageDataGenerator(rescale=1/255,validation_split=.3,rotation_range=20,\n",
    "                           shear_range=.2,width_shift_range=0.1,height_shift_range=0.1,zoom_range=0.2,\n",
    "                           horizontal_flip=True)\n",
    "\n",
    "# Flow training images in batches of batch_size using train_data \n",
    "train_generator= datagen.flow_from_directory(\n",
    "                data_dir,\n",
    "                target_size=(img_width,img_height),\n",
    "                batch_size=batch_size,\n",
    "                subset=\"training\",\n",
    "                class_mode=\"categorical\", \n",
    "                classes= [\"COVID19\", \"NORMAL\",\"Viral_Pneumonia\"],\n",
    "                shuffle=True, \n",
    "                seed=30)\n",
    "\n",
    "\n",
    "datagen2=ImageDataGenerator(rescale=1/255,validation_split=.3)\n",
    "\n",
    "test_generator=datagen2.flow_from_directory(\n",
    "                data_dir,\n",
    "                target_size=(img_width,img_height),\n",
    "                batch_size=batch_size,\n",
    "                classes= [\"COVID19\", \"NORMAL\",\"Viral_Pneumonia\"],\n",
    "                class_mode=\"categorical\", \n",
    "                subset=\"validation\", \n",
    "                shuffle=True, \n",
    "                seed=30)\n",
    "\n",
    "## For evaluation\n",
    "eval_train_generator= datagen.flow_from_directory(\n",
    "                data_dir,\n",
    "                target_size=(img_width,img_height),\n",
    "                batch_size=batch_size,\n",
    "                subset=\"training\",\n",
    "                class_mode=\"categorical\", \n",
    "                classes= [\"COVID19\", \"NORMAL\",\"Viral_Pneumonia\"],\n",
    "                shuffle=False, \n",
    "                seed=30)\n",
    "\n",
    "eval_test_generator=datagen2.flow_from_directory(\n",
    "                data_dir,\n",
    "                target_size=(img_width,img_height),\n",
    "                batch_size=batch_size,\n",
    "                classes= [\"COVID19\", \"NORMAL\",\"Viral_Pneumonia\"],\n",
    "                class_mode=\"categorical\", \n",
    "                subset=\"validation\", \n",
    "                shuffle=False, \n",
    "                seed=30)"
   ]
  },
  {
   "cell_type": "code",
   "execution_count": 4,
   "metadata": {},
   "outputs": [],
   "source": [
    "classifier=VGG16(weights=\"imagenet\", include_top=False, input_shape=(img_height,img_width,3))\n",
    "\n",
    "for layer in classifier.layers:\n",
    "    layer.trainable=False\n",
    "\n",
    "VGG16_model = tf.keras.Sequential([\n",
    "\n",
    "classifier,\n",
    "MaxPooling2D(),\n",
    "Dense(128, activation='relu'),\n",
    "Flatten(),\n",
    "Dense(3, activation='softmax')\n",
    "])"
   ]
  },
  {
   "cell_type": "code",
   "execution_count": 5,
   "metadata": {},
   "outputs": [
    {
     "name": "stdout",
     "output_type": "stream",
     "text": [
      "Model: \"sequential\"\n",
      "_________________________________________________________________\n",
      "Layer (type)                 Output Shape              Param #   \n",
      "=================================================================\n",
      "vgg16 (Functional)           (None, 6, 6, 512)         14714688  \n",
      "_________________________________________________________________\n",
      "max_pooling2d (MaxPooling2D) (None, 3, 3, 512)         0         \n",
      "_________________________________________________________________\n",
      "dense (Dense)                (None, 3, 3, 128)         65664     \n",
      "_________________________________________________________________\n",
      "flatten (Flatten)            (None, 1152)              0         \n",
      "_________________________________________________________________\n",
      "dense_1 (Dense)              (None, 3)                 3459      \n",
      "=================================================================\n",
      "Total params: 14,783,811\n",
      "Trainable params: 69,123\n",
      "Non-trainable params: 14,714,688\n",
      "_________________________________________________________________\n"
     ]
    }
   ],
   "source": [
    "VGG16_model.summary()"
   ]
  },
  {
   "cell_type": "code",
   "execution_count": 6,
   "metadata": {},
   "outputs": [
    {
     "name": "stdout",
     "output_type": "stream",
     "text": [
      "Epoch 1/50\n",
      "23/23 [==============================] - 394s 17s/step - loss: 0.9190 - accuracy: 0.7141 - val_loss: 0.7650 - val_accuracy: 0.8514\n",
      "Epoch 2/50\n",
      "23/23 [==============================] - 392s 17s/step - loss: 0.7319 - accuracy: 0.8718 - val_loss: 0.6775 - val_accuracy: 0.8942\n",
      "Epoch 3/50\n",
      "23/23 [==============================] - 392s 17s/step - loss: 0.6862 - accuracy: 0.8911 - val_loss: 0.6972 - val_accuracy: 0.8659\n",
      "Epoch 4/50\n",
      "23/23 [==============================] - 394s 17s/step - loss: 0.6664 - accuracy: 0.9029 - val_loss: 0.6882 - val_accuracy: 0.8675\n",
      "Epoch 5/50\n",
      "23/23 [==============================] - 393s 17s/step - loss: 0.6491 - accuracy: 0.9202 - val_loss: 0.6950 - val_accuracy: 0.8619\n",
      "Epoch 6/50\n",
      "23/23 [==============================] - 393s 17s/step - loss: 0.6524 - accuracy: 0.9115 - val_loss: 0.6890 - val_accuracy: 0.8651\n",
      "Epoch 7/50\n",
      "23/23 [==============================] - 406s 18s/step - loss: 0.6341 - accuracy: 0.9336 - val_loss: 0.6777 - val_accuracy: 0.8780\n",
      "Epoch 8/50\n",
      "23/23 [==============================] - 406s 18s/step - loss: 0.6432 - accuracy: 0.9188 - val_loss: 0.6645 - val_accuracy: 0.8869\n",
      "Epoch 9/50\n",
      "23/23 [==============================] - 427s 19s/step - loss: 0.6302 - accuracy: 0.9267 - val_loss: 0.6706 - val_accuracy: 0.8772\n",
      "Epoch 10/50\n",
      "23/23 [==============================] - 406s 18s/step - loss: 0.6290 - accuracy: 0.9295 - val_loss: 0.6919 - val_accuracy: 0.8554\n",
      "Epoch 11/50\n",
      "23/23 [==============================] - 403s 18s/step - loss: 0.6300 - accuracy: 0.9278 - val_loss: 0.6650 - val_accuracy: 0.8869\n",
      "Epoch 12/50\n",
      "23/23 [==============================] - 406s 18s/step - loss: 0.6218 - accuracy: 0.9392 - val_loss: 0.6796 - val_accuracy: 0.8683\n",
      "Epoch 13/50\n",
      "23/23 [==============================] - 406s 18s/step - loss: 0.6170 - accuracy: 0.9433 - val_loss: 0.6683 - val_accuracy: 0.8837\n",
      "Epoch 14/50\n",
      "23/23 [==============================] - 401s 17s/step - loss: 0.6206 - accuracy: 0.9381 - val_loss: 0.6812 - val_accuracy: 0.8643\n",
      "Epoch 15/50\n",
      "23/23 [==============================] - 394s 17s/step - loss: 0.6225 - accuracy: 0.9326 - val_loss: 0.6576 - val_accuracy: 0.8942\n",
      "Epoch 16/50\n",
      "23/23 [==============================] - 394s 17s/step - loss: 0.6187 - accuracy: 0.9378 - val_loss: 0.6681 - val_accuracy: 0.8837\n",
      "Epoch 17/50\n",
      "23/23 [==============================] - 395s 17s/step - loss: 0.6163 - accuracy: 0.9399 - val_loss: 0.6880 - val_accuracy: 0.8627\n",
      "Epoch 18/50\n",
      "23/23 [==============================] - 394s 17s/step - loss: 0.6158 - accuracy: 0.9416 - val_loss: 0.6581 - val_accuracy: 0.8926\n",
      "Epoch 19/50\n",
      "23/23 [==============================] - 394s 17s/step - loss: 0.6173 - accuracy: 0.9371 - val_loss: 0.7104 - val_accuracy: 0.8393\n",
      "Epoch 20/50\n",
      "23/23 [==============================] - 393s 17s/step - loss: 0.6146 - accuracy: 0.9430 - val_loss: 0.6822 - val_accuracy: 0.8643\n",
      "Epoch 21/50\n",
      "23/23 [==============================] - 394s 17s/step - loss: 0.6144 - accuracy: 0.9430 - val_loss: 0.7120 - val_accuracy: 0.8352\n",
      "Epoch 22/50\n",
      "23/23 [==============================] - 391s 17s/step - loss: 0.6113 - accuracy: 0.9433 - val_loss: 0.6880 - val_accuracy: 0.8586\n",
      "Epoch 23/50\n",
      "23/23 [==============================] - 392s 17s/step - loss: 0.6132 - accuracy: 0.9412 - val_loss: 0.7142 - val_accuracy: 0.8368\n",
      "Epoch 24/50\n",
      "23/23 [==============================] - 392s 17s/step - loss: 0.6115 - accuracy: 0.9437 - val_loss: 0.6587 - val_accuracy: 0.8926\n",
      "Epoch 25/50\n",
      "23/23 [==============================] - 392s 17s/step - loss: 0.6111 - accuracy: 0.9433 - val_loss: 0.6576 - val_accuracy: 0.8926\n",
      "Epoch 26/50\n",
      "23/23 [==============================] - 393s 17s/step - loss: 0.6066 - accuracy: 0.9495 - val_loss: 0.6714 - val_accuracy: 0.8764\n",
      "Epoch 27/50\n",
      "23/23 [==============================] - 392s 17s/step - loss: 0.6074 - accuracy: 0.9471 - val_loss: 0.6662 - val_accuracy: 0.8796\n",
      "Epoch 28/50\n",
      "23/23 [==============================] - 392s 17s/step - loss: 0.6070 - accuracy: 0.9485 - val_loss: 0.6555 - val_accuracy: 0.8982\n",
      "Epoch 29/50\n",
      "23/23 [==============================] - 392s 17s/step - loss: 0.6078 - accuracy: 0.9468 - val_loss: 0.7011 - val_accuracy: 0.8489\n",
      "Epoch 30/50\n",
      "23/23 [==============================] - 394s 17s/step - loss: 0.6080 - accuracy: 0.9468 - val_loss: 0.6748 - val_accuracy: 0.8708\n",
      "Epoch 31/50\n",
      "23/23 [==============================] - 392s 17s/step - loss: 0.6038 - accuracy: 0.9502 - val_loss: 0.6750 - val_accuracy: 0.8700\n",
      "Epoch 32/50\n",
      "23/23 [==============================] - 392s 17s/step - loss: 0.6050 - accuracy: 0.9492 - val_loss: 0.7097 - val_accuracy: 0.8401\n",
      "Epoch 33/50\n",
      "23/23 [==============================] - 392s 17s/step - loss: 0.6036 - accuracy: 0.9495 - val_loss: 0.6879 - val_accuracy: 0.8554\n",
      "Epoch 34/50\n",
      "23/23 [==============================] - 392s 17s/step - loss: 0.6024 - accuracy: 0.9526 - val_loss: 0.6801 - val_accuracy: 0.8724\n",
      "Epoch 35/50\n",
      "23/23 [==============================] - 392s 17s/step - loss: 0.6056 - accuracy: 0.9488 - val_loss: 0.6686 - val_accuracy: 0.8821\n",
      "Epoch 36/50\n",
      "23/23 [==============================] - 392s 17s/step - loss: 0.6018 - accuracy: 0.9530 - val_loss: 0.6615 - val_accuracy: 0.8893\n",
      "Epoch 37/50\n",
      "23/23 [==============================] - 392s 17s/step - loss: 0.6051 - accuracy: 0.9499 - val_loss: 0.6660 - val_accuracy: 0.8837\n",
      "Epoch 38/50\n",
      "23/23 [==============================] - 392s 17s/step - loss: 0.6039 - accuracy: 0.9478 - val_loss: 0.6601 - val_accuracy: 0.8901\n",
      "Epoch 39/50\n",
      "23/23 [==============================] - 393s 17s/step - loss: 0.6028 - accuracy: 0.9492 - val_loss: 0.6677 - val_accuracy: 0.8813\n",
      "Epoch 40/50\n",
      "23/23 [==============================] - 393s 17s/step - loss: 0.6018 - accuracy: 0.9523 - val_loss: 0.6643 - val_accuracy: 0.8869\n",
      "Epoch 41/50\n",
      "23/23 [==============================] - 392s 17s/step - loss: 0.6033 - accuracy: 0.9506 - val_loss: 0.6660 - val_accuracy: 0.8845\n",
      "Epoch 42/50\n",
      "23/23 [==============================] - 392s 17s/step - loss: 0.6071 - accuracy: 0.9450 - val_loss: 0.6638 - val_accuracy: 0.8885\n",
      "Epoch 43/50\n",
      "23/23 [==============================] - 392s 17s/step - loss: 0.6057 - accuracy: 0.9488 - val_loss: 0.6646 - val_accuracy: 0.8853\n",
      "Epoch 44/50\n",
      "23/23 [==============================] - 392s 17s/step - loss: 0.6029 - accuracy: 0.9495 - val_loss: 0.6715 - val_accuracy: 0.8740\n",
      "Epoch 45/50\n",
      "23/23 [==============================] - 392s 17s/step - loss: 0.6090 - accuracy: 0.9450 - val_loss: 0.6586 - val_accuracy: 0.8869\n",
      "Epoch 46/50\n",
      "23/23 [==============================] - 393s 17s/step - loss: 0.5978 - accuracy: 0.9561 - val_loss: 0.6559 - val_accuracy: 0.8950\n",
      "Epoch 47/50\n",
      "23/23 [==============================] - 391s 17s/step - loss: 0.5956 - accuracy: 0.9582 - val_loss: 0.6614 - val_accuracy: 0.8853\n",
      "Epoch 48/50\n",
      "23/23 [==============================] - 393s 17s/step - loss: 0.6001 - accuracy: 0.9523 - val_loss: 0.6535 - val_accuracy: 0.8966\n",
      "Epoch 49/50\n",
      "23/23 [==============================] - 392s 17s/step - loss: 0.5941 - accuracy: 0.9620 - val_loss: 0.6611 - val_accuracy: 0.8869\n",
      "Epoch 50/50\n",
      "23/23 [==============================] - 392s 17s/step - loss: 0.5993 - accuracy: 0.9554 - val_loss: 0.6915 - val_accuracy: 0.8546\n"
     ]
    }
   ],
   "source": [
    "VGG16_model.compile(\n",
    "      optimizer='adam',\n",
    "      loss=tf.losses.CategoricalCrossentropy(from_logits=True),\n",
    "      metrics=['accuracy']\n",
    "      )\n",
    "VGG16_model_history = VGG16_model.fit(\n",
    "      train_generator,\n",
    "      validation_data=test_generator,\n",
    "      epochs=50,\n",
    "      verbose=1\n",
    "      )"
   ]
  },
  {
   "cell_type": "code",
   "execution_count": null,
   "metadata": {},
   "outputs": [],
   "source": [
    "#Plot Model\n",
    "plt.plot(VGG16_model2_history.history['accuracy'])\n",
    "plt.plot(VGG16_model2_history.history['val_accuracy'])\n",
    "plt.title('VGG16 model 2 accuracy')\n",
    "plt.ylabel('accuracy')\n",
    "plt.xlabel('epoch')\n",
    "plt.legend(['train', 'test'], loc='upper left')\n",
    "plt.show()"
   ]
  },
  {
   "cell_type": "code",
   "execution_count": null,
   "metadata": {},
   "outputs": [],
   "source": [
    "VGG16_model_history_df = pd.DataFrame(VGG16_model2_history.history) \n",
    "VGG16_model_history_df.to_csv('VGG16_model.csv')\n",
    "\n",
    "tf.keras.utils.plot_model(\n",
    "    VGG16_model2, to_file='VGG16_model.png', show_shapes=False,\n",
    "    show_layer_names=True, rankdir='TB', expand_nested=False, dpi=96\n",
    ")\n",
    "\n",
    "VGG16_model2.save('VGG16_model.h5')"
   ]
  },
  {
   "cell_type": "code",
   "execution_count": 7,
   "metadata": {},
   "outputs": [
    {
     "ename": "NameError",
     "evalue": "name 'test_ds' is not defined",
     "output_type": "error",
     "traceback": [
      "\u001b[0;31m---------------------------------------------------------------------------\u001b[0m",
      "\u001b[0;31mNameError\u001b[0m                                 Traceback (most recent call last)",
      "\u001b[0;32m<ipython-input-7-b4516f955bcc>\u001b[0m in \u001b[0;36m<module>\u001b[0;34m\u001b[0m\n\u001b[0;32m----> 1\u001b[0;31m \u001b[0mY_pred\u001b[0m \u001b[0;34m=\u001b[0m \u001b[0mVGG16_model\u001b[0m\u001b[0;34m.\u001b[0m\u001b[0mpredict_generator\u001b[0m\u001b[0;34m(\u001b[0m\u001b[0mtest_ds\u001b[0m\u001b[0;34m,\u001b[0m \u001b[0;36m1238\u001b[0m \u001b[0;34m//\u001b[0m \u001b[0mbatch_size\u001b[0m\u001b[0;34m+\u001b[0m\u001b[0;36m1\u001b[0m\u001b[0;34m)\u001b[0m\u001b[0;34m\u001b[0m\u001b[0;34m\u001b[0m\u001b[0m\n\u001b[0m\u001b[1;32m      2\u001b[0m \u001b[0my_pred\u001b[0m \u001b[0;34m=\u001b[0m \u001b[0mnp\u001b[0m\u001b[0;34m.\u001b[0m\u001b[0margmax\u001b[0m\u001b[0;34m(\u001b[0m\u001b[0mY_pred\u001b[0m\u001b[0;34m,\u001b[0m \u001b[0maxis\u001b[0m\u001b[0;34m=\u001b[0m\u001b[0;36m1\u001b[0m\u001b[0;34m)\u001b[0m\u001b[0;34m\u001b[0m\u001b[0;34m\u001b[0m\u001b[0m\n\u001b[1;32m      3\u001b[0m \u001b[0;34m\u001b[0m\u001b[0m\n\u001b[1;32m      4\u001b[0m \u001b[0mprint\u001b[0m\u001b[0;34m(\u001b[0m\u001b[0;34m'VGG16_model Confusion Matrix'\u001b[0m\u001b[0;34m)\u001b[0m\u001b[0;34m\u001b[0m\u001b[0;34m\u001b[0m\u001b[0m\n\u001b[1;32m      5\u001b[0m conf_matrix = pd.DataFrame(\n",
      "\u001b[0;31mNameError\u001b[0m: name 'test_ds' is not defined"
     ]
    }
   ],
   "source": [
    "Y_pred = VGG16_model.predict_generator(test_generatorgenerator_ds, 1238 // batch_size+1)\n",
    "y_pred = np.argmax(Y_pred, axis=1)\n",
    "\n",
    "print('VGG16_model Confusion Matrix')\n",
    "conf_matrix = pd.DataFrame(\n",
    "    confusion_matrix(test_ds.classes, y_pred), \n",
    "    index=['true: COVID19', 'true: NORMAL','true: Viral_Pneumonia'], \n",
    "    columns=['pred: COVID19', 'pred: NORMAL','pred: Viral_Pneumonia']\n",
    ")\n",
    "\n",
    "\n",
    "\n",
    "conf_matrix.to_csv(\"VGG16_model/confusion_matrix.csv\")\n",
    "print(conf_matrix)\n",
    "print('\\n')\n",
    "print('Classification Report')\n",
    "target_names = list(test_ds.class_indices.keys())\n",
    "print(classification_report(test_ds.classes, y_pred, target_names=target_names))"
   ]
  },
  {
   "cell_type": "code",
   "execution_count": 11,
   "metadata": {},
   "outputs": [
    {
     "name": "stdout",
     "output_type": "stream",
     "text": [
      "10/10 [==============================] - 109s 11s/step - loss: 0.6990 - accuracy: 0.8473\n",
      "\n",
      " Test Accuracy: 0.8473343849182129\n",
      "\n",
      " Test Loss: 0.6990122199058533\n"
     ]
    }
   ],
   "source": [
    "# Test Loss/ Test Accuracy\n",
    "test_loss, test_acc= VGG16_model.evaluate(test_generator)\n",
    "print(\"\\n Test Accuracy:\", test_acc)\n",
    "print(\"\\n Test Loss:\", test_loss)0"
   ]
  },
  {
   "cell_type": "code",
   "execution_count": null,
   "metadata": {},
   "outputs": [],
   "source": []
  }
 ],
 "metadata": {
  "kernelspec": {
   "display_name": "mlenv",
   "language": "python",
   "name": "mlenv"
  },
  "language_info": {
   "codemirror_mode": {
    "name": "ipython",
    "version": 3
   },
   "file_extension": ".py",
   "mimetype": "text/x-python",
   "name": "python",
   "nbconvert_exporter": "python",
   "pygments_lexer": "ipython3",
   "version": "3.7.7"
  }
 },
 "nbformat": 4,
 "nbformat_minor": 4
}
