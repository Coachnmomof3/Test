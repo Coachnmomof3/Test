{
 "cells": [
  {
   "cell_type": "code",
   "execution_count": 1,
   "metadata": {},
   "outputs": [],
   "source": [
    "import streamlit as st\n",
    "import cv2\n",
    "from PIL import Image, ImageOps\n",
    "import numpy as np"
   ]
  },
  {
   "cell_type": "code",
   "execution_count": 2,
   "metadata": {},
   "outputs": [],
   "source": [
    "st.write(\"\"\"\n",
    "         # Rock-Paper-Scissor Hand Sign Prediction\n",
    "         \"\"\"\n",
    "         )\n",
    "st.write(\"This is a simple image classification web app to predict rock-paper-scissor hand sign\")\n",
    "file = st.file_uploader(\"Please upload an image file\", type=[\"jpg\", \"png\"])"
   ]
  },
  {
   "cell_type": "code",
   "execution_count": 3,
   "metadata": {},
   "outputs": [],
   "source": [
    "def import_and_predict(image_data, model):\n",
    "    \n",
    "        size = (224,224)    \n",
    "        image = ImageOps.fit(image_data, size, Image.ANTIALIAS)\n",
    "        image = np.asarray(image)\n",
    "        img = cv2.cvtColor(image, cv2.COLOR_BGR2RGB)\n",
    "        img_resize = (cv2.resize(img, dsize=(224, 224),    interpolation=cv2.INTER_CUBIC))/255.\n",
    "        \n",
    "        img_reshape = img_resize[np.newaxis,...]\n",
    "    \n",
    "        prediction = model.predict(img_reshape)\n",
    "        \n",
    "        return prediction\n",
    "if file is None:\n",
    "    st.text(\"Please upload an image file\")\n",
    "else:\n",
    "    image = Image.open(file)\n",
    "    st.image(image, use_column_width=True)\n",
    "    prediction = import_and_predict(image, model)\n",
    "    \n",
    "    if np.argmax(prediction) == 0:\n",
    "        st.write(\"It is a paper!\")\n",
    "    elif np.argmax(prediction) == 1:\n",
    "        st.write(\"It is a rock!\")\n",
    "    else:\n",
    "        st.write(\"It is a scissor!\")\n",
    "    \n",
    "    st.text(\"Probability (0: Paper, 1: Rock, 2: Scissor\")\n",
    "    st.write(prediction)"
   ]
  },
  {
   "cell_type": "code",
   "execution_count": null,
   "metadata": {},
   "outputs": [],
   "source": []
  }
 ],
 "metadata": {
  "kernelspec": {
   "display_name": "Python 3",
   "language": "python",
   "name": "python3"
  },
  "language_info": {
   "codemirror_mode": {
    "name": "ipython",
    "version": 3
   },
   "file_extension": ".py",
   "mimetype": "text/x-python",
   "name": "python",
   "nbconvert_exporter": "python",
   "pygments_lexer": "ipython3",
   "version": "3.7.7"
  }
 },
 "nbformat": 4,
 "nbformat_minor": 4
}
