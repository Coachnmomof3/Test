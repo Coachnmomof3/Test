{
 "cells": [
  {
   "cell_type": "code",
   "execution_count": 2,
   "metadata": {},
   "outputs": [],
   "source": [
    "from tensorflow.keras.preprocessing.image import ImageDataGenerator\n",
    "from tensorflow.keras.losses import SparseCategoricalCrossentropy\n",
    "from tensorflow.keras.applications import VGG16\n",
    "from keras.applications.vgg16 import preprocess_input\n",
    "from tensorflow.keras.layers import Activation, Dense, Dropout, Flatten, BatchNormalization, Conv2D, MaxPooling2D, Lambda, Input, AveragePooling2D\n",
    "from tensorflow.keras.models import Sequential, Model\n",
    "from tensorflow.keras.layers import Input\n",
    "from tensorflow.keras import layers\n",
    "from tensorflow.keras.utils import to_categorical\n",
    "from sklearn.preprocessing import LabelBinarizer\n",
    "from sklearn.model_selection import train_test_split\n",
    "from tensorflow.keras.preprocessing import image\n",
    "from tensorflow.keras.optimizers import Adam\n",
    "from tensorflow.keras.optimizers import SGD\n",
    "from tensorflow.keras.preprocessing import image\n",
    "from tensorflow.keras import backend as K\n",
    "import tensorflow as tf \n",
    "import matplotlib.pyplot as plt \n",
    "import numpy as np \n",
    "import pandas as pd\n",
    "import random\n",
    "#import cv2\n",
    "import os"
   ]
  },
  {
   "cell_type": "code",
   "execution_count": 3,
   "metadata": {},
   "outputs": [
    {
     "name": "stdout",
     "output_type": "stream",
     "text": [
      "['.DS_Store', 'COVID19', 'NORMAL', 'Viral_Pneumonia']\n"
     ]
    }
   ],
   "source": [
    "# Check filenames \n",
    "image_names=list(os.listdir(\"Database\"))\n",
    "image_names.sort()\n",
    "print(image_names)"
   ]
  },
  {
   "cell_type": "code",
   "execution_count": 4,
   "metadata": {},
   "outputs": [
    {
     "name": "stdout",
     "output_type": "stream",
     "text": [
      "total Covid images: 1327\n",
      "total Normal images: 1341\n",
      "total Viral_Pneumonia: 1463\n"
     ]
    }
   ],
   "source": [
    "covid_dir=os.path.join(\"Database/COVID19\")\n",
    "norm_dir=os.path.join(\"Database/NORMAL\")\n",
    "pneu_dir=os.path.join(\"Database/Viral_Pneumonia\")\n",
    "\n",
    "\n",
    "print('total Covid images:', len(os.listdir(covid_dir)))\n",
    "print('total Normal images:', len(os.listdir(norm_dir)))\n",
    "print('total Viral_Pneumonia:', len(os.listdir(pneu_dir)))\n"
   ]
  },
  {
   "cell_type": "code",
   "execution_count": 5,
   "metadata": {},
   "outputs": [
    {
     "data": {
      "text/html": [
       "<div>\n",
       "<style scoped>\n",
       "    .dataframe tbody tr th:only-of-type {\n",
       "        vertical-align: middle;\n",
       "    }\n",
       "\n",
       "    .dataframe tbody tr th {\n",
       "        vertical-align: top;\n",
       "    }\n",
       "\n",
       "    .dataframe thead th {\n",
       "        text-align: right;\n",
       "    }\n",
       "</style>\n",
       "<table border=\"1\" class=\"dataframe\">\n",
       "  <thead>\n",
       "    <tr style=\"text-align: right;\">\n",
       "      <th></th>\n",
       "      <th>0</th>\n",
       "      <th>condition</th>\n",
       "    </tr>\n",
       "  </thead>\n",
       "  <tbody>\n",
       "    <tr>\n",
       "      <th>0</th>\n",
       "      <td>COVID-19 (979).png</td>\n",
       "      <td>Covid19</td>\n",
       "    </tr>\n",
       "    <tr>\n",
       "      <th>1</th>\n",
       "      <td>COVID-19 (580).png</td>\n",
       "      <td>Covid19</td>\n",
       "    </tr>\n",
       "    <tr>\n",
       "      <th>2</th>\n",
       "      <td>COVID-19 (996).png</td>\n",
       "      <td>Covid19</td>\n",
       "    </tr>\n",
       "    <tr>\n",
       "      <th>3</th>\n",
       "      <td>COVID-19 (646).png</td>\n",
       "      <td>Covid19</td>\n",
       "    </tr>\n",
       "    <tr>\n",
       "      <th>4</th>\n",
       "      <td>COVID-19 (216).png</td>\n",
       "      <td>Covid19</td>\n",
       "    </tr>\n",
       "  </tbody>\n",
       "</table>\n",
       "</div>"
      ],
      "text/plain": [
       "                    0 condition\n",
       "0  COVID-19 (979).png   Covid19\n",
       "1  COVID-19 (580).png   Covid19\n",
       "2  COVID-19 (996).png   Covid19\n",
       "3  COVID-19 (646).png   Covid19\n",
       "4  COVID-19 (216).png   Covid19"
      ]
     },
     "execution_count": 5,
     "metadata": {},
     "output_type": "execute_result"
    }
   ],
   "source": [
    "df =pd.DataFrame(os.listdir(covid_dir))\n",
    "df[\"condition\"]= \"Covid19\"\n",
    "df.head()"
   ]
  },
  {
   "cell_type": "code",
   "execution_count": 6,
   "metadata": {},
   "outputs": [
    {
     "data": {
      "text/plain": [
       "Viral_Pneumonia    1463\n",
       "NORMAL             1341\n",
       "Covid19            1327\n",
       "COVID19            1327\n",
       "Name: condition, dtype: int64"
      ]
     },
     "execution_count": 6,
     "metadata": {},
     "output_type": "execute_result"
    }
   ],
   "source": [
    "df =pd.DataFrame.from_records({\"file_name\":os.listdir(covid_dir),\"condition\": \"Covid19\"})\n",
    "\n",
    "for f in image_names[1:]:\n",
    "    folder_path=\"Database/\" + f\n",
    "    temp_df= pd.DataFrame.from_records({\"file_name\":os.listdir(folder_path),\"condition\": f })\n",
    "    df=df.append(temp_df)\n",
    "    \n",
    "df[\"condition\"].value_counts()"
   ]
  },
  {
   "cell_type": "code",
   "execution_count": 7,
   "metadata": {},
   "outputs": [
    {
     "name": "stdout",
     "output_type": "stream",
     "text": [
      "Found 2893 images belonging to 3 classes.\n",
      "Found 1238 images belonging to 3 classes.\n"
     ]
    }
   ],
   "source": [
    "img_width, img_height=200,200\n",
    "batch_size=128\n",
    "\n",
    "data_dir = \"Database/\"\n",
    "\n",
    "# Rescale images \n",
    "datagen= ImageDataGenerator(rescale=1/255,validation_split=.3,rotation_range=20,\n",
    "                           shear_range=.2,width_shift_range=0.1,height_shift_range=0.1,zoom_range=0.2)\n",
    "\n",
    "# Flow training images in batches of 128 using train_data \n",
    "train_generator= datagen.flow_from_directory(\n",
    "                data_dir,\n",
    "                target_size=(img_width,img_height),\n",
    "                batch_size=batch_size,\n",
    "                subset=\"training\",\n",
    "                class_mode=\"categorical\", \n",
    "                classes= [\"COVID19\", \"NORMAL\",\"Viral_Pneumonia\"],\n",
    "                shuffle=True, seed=30)\n",
    "\n",
    "\n",
    "datagen2=ImageDataGenerator(rescale=1/255,validation_split=.3)\n",
    "\n",
    "test_generator=datagen2.flow_from_directory(\n",
    "                data_dir,\n",
    "                target_size=(img_width,img_height),\n",
    "                batch_size=batch_size,\n",
    "                classes= [\"COVID19\", \"NORMAL\",\"Viral_Pneumonia\"],\n",
    "                class_mode=\"categorical\", subset=\"validation\", shuffle=True, seed=30)\n",
    "\n",
    "# train_ds = tf.keras.preprocessing.image_dataset_from_directory(\n",
    "#   data_dir,\n",
    "#   validation_split=0.2,\n",
    "#   subset=\"training\",\n",
    "#   seed=123,\n",
    "#   image_size=(img_height, img_width),\n",
    "#   batch_size=batch_size)\n",
    "\n",
    "# # Flow test images in \n",
    "\n",
    "\n",
    "# val_ds = tf.keras.preprocessing.image_dataset_from_directory(\n",
    "#   data_dir,\n",
    "#   validation_split=0.2,\n",
    "#   subset=\"validation\",\n",
    "#   seed=123,\n",
    "#   image_size=(img_height, img_width),\n",
    "#   batch_size=batch_size)"
   ]
  },
  {
   "cell_type": "markdown",
   "metadata": {},
   "source": [
    "## Model 1\n",
    "### Using new dataset and with 3 categories"
   ]
  },
  {
   "cell_type": "code",
   "execution_count": 8,
   "metadata": {},
   "outputs": [],
   "source": [
    "# CNN MODEL- conv-batch-maxpool-dropout\n",
    "\n",
    "classifier=Sequential()\n",
    "classifier.add(Conv2D(32, kernel_size=3, activation=\"relu\", input_shape=(200,200,3)))\n",
    "classifier.add(BatchNormalization())\n",
    "classifier.add(MaxPooling2D(strides=(2,2)))\n",
    "classifier.add(Dropout(.3))\n",
    "\n",
    "classifier.add(Conv2D(32, kernel_size=3, activation=\"relu\"))\n",
    "classifier.add(BatchNormalization())\n",
    "classifier.add(MaxPooling2D(strides=(2,2)))\n",
    "classifier.add(Dropout(.5))\n",
    "\n",
    "classifier.add(Conv2D(64, kernel_size=3, activation=\"relu\"))\n",
    "classifier.add(BatchNormalization())\n",
    "classifier.add(MaxPooling2D(strides=(2,2)))\n",
    "classifier.add(Dropout(.4))\n",
    "\n",
    "classifier.add(Conv2D(64, kernel_size=3, activation=\"relu\"))\n",
    "classifier.add(BatchNormalization())\n",
    "classifier.add(MaxPooling2D(strides=(2,2)))\n",
    "classifier.add(Dropout(.3))\n",
    "\n",
    "classifier.add(Flatten())\n",
    "classifier.add(Dense(512,activation=\"relu\"))\n",
    "classifier.add(Dense(128,activation=\"relu\"))\n",
    "classifier.add(Dropout(.4))\n",
    "\n",
    "classifier.add(Dense(3, activation=\"softmax\"))"
   ]
  },
  {
   "cell_type": "code",
   "execution_count": 9,
   "metadata": {},
   "outputs": [
    {
     "name": "stdout",
     "output_type": "stream",
     "text": [
      "Model: \"sequential\"\n",
      "_________________________________________________________________\n",
      "Layer (type)                 Output Shape              Param #   \n",
      "=================================================================\n",
      "conv2d (Conv2D)              (None, 198, 198, 32)      896       \n",
      "_________________________________________________________________\n",
      "batch_normalization (BatchNo (None, 198, 198, 32)      128       \n",
      "_________________________________________________________________\n",
      "max_pooling2d (MaxPooling2D) (None, 99, 99, 32)        0         \n",
      "_________________________________________________________________\n",
      "dropout (Dropout)            (None, 99, 99, 32)        0         \n",
      "_________________________________________________________________\n",
      "conv2d_1 (Conv2D)            (None, 97, 97, 32)        9248      \n",
      "_________________________________________________________________\n",
      "batch_normalization_1 (Batch (None, 97, 97, 32)        128       \n",
      "_________________________________________________________________\n",
      "max_pooling2d_1 (MaxPooling2 (None, 48, 48, 32)        0         \n",
      "_________________________________________________________________\n",
      "dropout_1 (Dropout)          (None, 48, 48, 32)        0         \n",
      "_________________________________________________________________\n",
      "conv2d_2 (Conv2D)            (None, 46, 46, 64)        18496     \n",
      "_________________________________________________________________\n",
      "batch_normalization_2 (Batch (None, 46, 46, 64)        256       \n",
      "_________________________________________________________________\n",
      "max_pooling2d_2 (MaxPooling2 (None, 23, 23, 64)        0         \n",
      "_________________________________________________________________\n",
      "dropout_2 (Dropout)          (None, 23, 23, 64)        0         \n",
      "_________________________________________________________________\n",
      "conv2d_3 (Conv2D)            (None, 21, 21, 64)        36928     \n",
      "_________________________________________________________________\n",
      "batch_normalization_3 (Batch (None, 21, 21, 64)        256       \n",
      "_________________________________________________________________\n",
      "max_pooling2d_3 (MaxPooling2 (None, 10, 10, 64)        0         \n",
      "_________________________________________________________________\n",
      "dropout_3 (Dropout)          (None, 10, 10, 64)        0         \n",
      "_________________________________________________________________\n",
      "flatten (Flatten)            (None, 6400)              0         \n",
      "_________________________________________________________________\n",
      "dense (Dense)                (None, 512)               3277312   \n",
      "_________________________________________________________________\n",
      "dense_1 (Dense)              (None, 128)               65664     \n",
      "_________________________________________________________________\n",
      "dropout_4 (Dropout)          (None, 128)               0         \n",
      "_________________________________________________________________\n",
      "dense_2 (Dense)              (None, 3)                 387       \n",
      "=================================================================\n",
      "Total params: 3,409,699\n",
      "Trainable params: 3,409,315\n",
      "Non-trainable params: 384\n",
      "_________________________________________________________________\n"
     ]
    }
   ],
   "source": [
    "classifier.summary()"
   ]
  },
  {
   "cell_type": "code",
   "execution_count": 10,
   "metadata": {},
   "outputs": [
    {
     "name": "stdout",
     "output_type": "stream",
     "text": [
      "WARNING:tensorflow:From <ipython-input-10-d303d9e1f097>:13: Model.fit_generator (from tensorflow.python.keras.engine.training) is deprecated and will be removed in a future version.\n",
      "Instructions for updating:\n",
      "Please use Model.fit, which supports generators.\n",
      "Epoch 1/30\n",
      "22/22 [==============================] - 109s 5s/step - loss: 1.4534 - categorical_accuracy: 0.5899 - val_loss: 2.6489 - val_categorical_accuracy: 0.5521\n",
      "Epoch 2/30\n",
      "22/22 [==============================] - 102s 5s/step - loss: 0.5664 - categorical_accuracy: 0.7801 - val_loss: 5.3865 - val_categorical_accuracy: 0.3177\n",
      "Epoch 3/30\n",
      "22/22 [==============================] - 99s 5s/step - loss: 0.4596 - categorical_accuracy: 0.8213 - val_loss: 8.3850 - val_categorical_accuracy: 0.3220\n",
      "Epoch 4/30\n",
      "22/22 [==============================] - 97s 4s/step - loss: 0.4332 - categorical_accuracy: 0.8394 - val_loss: 4.6281 - val_categorical_accuracy: 0.4462\n",
      "Epoch 5/30\n",
      "22/22 [==============================] - 105s 5s/step - loss: 0.3562 - categorical_accuracy: 0.8694 - val_loss: 6.7347 - val_categorical_accuracy: 0.3125\n",
      "Epoch 6/30\n",
      "22/22 [==============================] - 98s 4s/step - loss: 0.3449 - categorical_accuracy: 0.8716 - val_loss: 5.3520 - val_categorical_accuracy: 0.3194\n",
      "Epoch 7/30\n",
      "22/22 [==============================] - 103s 5s/step - loss: 0.3150 - categorical_accuracy: 0.8850 - val_loss: 4.3307 - val_categorical_accuracy: 0.4696\n",
      "Epoch 8/30\n",
      "22/22 [==============================] - 96s 4s/step - loss: 0.3175 - categorical_accuracy: 0.8843 - val_loss: 3.6319 - val_categorical_accuracy: 0.5764\n",
      "Epoch 9/30\n",
      "22/22 [==============================] - 97s 4s/step - loss: 0.3242 - categorical_accuracy: 0.8786 - val_loss: 7.5749 - val_categorical_accuracy: 0.3238\n",
      "Epoch 10/30\n",
      "22/22 [==============================] - 99s 5s/step - loss: 0.2977 - categorical_accuracy: 0.8976 - val_loss: 6.4827 - val_categorical_accuracy: 0.3220\n",
      "Epoch 11/30\n",
      "22/22 [==============================] - 105s 5s/step - loss: 0.2720 - categorical_accuracy: 0.9013 - val_loss: 5.9345 - val_categorical_accuracy: 0.3863\n",
      "Epoch 12/30\n",
      "22/22 [==============================] - 108s 5s/step - loss: 0.2641 - categorical_accuracy: 0.9067 - val_loss: 5.6082 - val_categorical_accuracy: 0.3724\n",
      "Epoch 13/30\n",
      "22/22 [==============================] - 102s 5s/step - loss: 0.2651 - categorical_accuracy: 0.9118 - val_loss: 6.4021 - val_categorical_accuracy: 0.3168\n",
      "Epoch 14/30\n",
      "22/22 [==============================] - 97s 4s/step - loss: 0.2391 - categorical_accuracy: 0.9193 - val_loss: 9.0847 - val_categorical_accuracy: 0.3151\n",
      "Epoch 15/30\n",
      "22/22 [==============================] - 96s 4s/step - loss: 0.2408 - categorical_accuracy: 0.9183 - val_loss: 6.0099 - val_categorical_accuracy: 0.4948\n",
      "Epoch 16/30\n",
      "22/22 [==============================] - 97s 4s/step - loss: 0.2248 - categorical_accuracy: 0.9251 - val_loss: 6.2159 - val_categorical_accuracy: 0.4878\n",
      "Epoch 17/30\n",
      "22/22 [==============================] - 100s 5s/step - loss: 0.2308 - categorical_accuracy: 0.9237 - val_loss: 5.4395 - val_categorical_accuracy: 0.5095\n",
      "Epoch 18/30\n",
      "22/22 [==============================] - 95s 4s/step - loss: 0.2366 - categorical_accuracy: 0.9172 - val_loss: 6.7364 - val_categorical_accuracy: 0.3220\n",
      "Epoch 19/30\n",
      "22/22 [==============================] - 95s 4s/step - loss: 0.2247 - categorical_accuracy: 0.9201 - val_loss: 3.1106 - val_categorical_accuracy: 0.4210\n",
      "Epoch 20/30\n",
      "22/22 [==============================] - 95s 4s/step - loss: 0.2217 - categorical_accuracy: 0.9222 - val_loss: 6.3957 - val_categorical_accuracy: 0.4444\n",
      "Epoch 21/30\n",
      "22/22 [==============================] - 95s 4s/step - loss: 0.2454 - categorical_accuracy: 0.9179 - val_loss: 4.4748 - val_categorical_accuracy: 0.6311\n",
      "Epoch 22/30\n",
      "22/22 [==============================] - 95s 4s/step - loss: 0.2036 - categorical_accuracy: 0.9219 - val_loss: 4.0786 - val_categorical_accuracy: 0.6241\n",
      "Epoch 23/30\n",
      "22/22 [==============================] - 95s 4s/step - loss: 0.1983 - categorical_accuracy: 0.9331 - val_loss: 3.5411 - val_categorical_accuracy: 0.6215\n",
      "Epoch 24/30\n",
      "22/22 [==============================] - 96s 4s/step - loss: 0.1980 - categorical_accuracy: 0.9324 - val_loss: 1.7634 - val_categorical_accuracy: 0.6545\n",
      "Epoch 25/30\n",
      "22/22 [==============================] - 95s 4s/step - loss: 0.2097 - categorical_accuracy: 0.9284 - val_loss: 3.3438 - val_categorical_accuracy: 0.6406\n",
      "Epoch 26/30\n",
      "22/22 [==============================] - 95s 4s/step - loss: 0.2035 - categorical_accuracy: 0.9284 - val_loss: 3.6304 - val_categorical_accuracy: 0.6172\n",
      "Epoch 27/30\n",
      "22/22 [==============================] - 96s 4s/step - loss: 0.1903 - categorical_accuracy: 0.9378 - val_loss: 1.7006 - val_categorical_accuracy: 0.6615\n",
      "Epoch 28/30\n",
      "22/22 [==============================] - 94s 4s/step - loss: 0.1941 - categorical_accuracy: 0.9371 - val_loss: 0.8652 - val_categorical_accuracy: 0.7387\n",
      "Epoch 29/30\n",
      "22/22 [==============================] - 95s 4s/step - loss: 0.1944 - categorical_accuracy: 0.9309 - val_loss: 3.6616 - val_categorical_accuracy: 0.6155\n",
      "Epoch 30/30\n",
      "22/22 [==============================] - 96s 4s/step - loss: 0.1909 - categorical_accuracy: 0.9360 - val_loss: 1.6882 - val_categorical_accuracy: 0.6615\n"
     ]
    }
   ],
   "source": [
    "classifier.compile(loss=\"categorical_crossentropy\", \n",
    "              optimizer=\"adam\", \n",
    "              metrics=[\"categorical_accuracy\"])\n",
    "\n",
    "total_sample=train_generator.n\n",
    "total_test=test_generator.n\n",
    "batch_size=128\n",
    "\n",
    "history= classifier.fit_generator(\n",
    "            train_generator, steps_per_epoch=int(total_sample/batch_size),\n",
    "            epochs=30,\n",
    "            validation_data=test_generator, \n",
    "            validation_steps=int(total_test/batch_size))"
   ]
  },
  {
   "cell_type": "code",
   "execution_count": 11,
   "metadata": {},
   "outputs": [],
   "source": [
    "# Save Model- save weights\n",
    "classifier.save(\"model_1.h5\")"
   ]
  },
  {
   "cell_type": "code",
   "execution_count": 12,
   "metadata": {},
   "outputs": [
    {
     "name": "stdout",
     "output_type": "stream",
     "text": [
      "23/23 [==============================] - 56s 2s/step - loss: 2.9574 - categorical_accuracy: 0.5973\n",
      "\n",
      " Train Accuracy: 0.5973038077354431\n",
      "\n",
      " Train Loss: 2.957383632659912\n"
     ]
    }
   ],
   "source": [
    "# Train Loss/ Train Accuracy\n",
    "train_loss, train_acc = classifier.evaluate(train_generator)\n",
    "print(\"\\n Train Accuracy:\", train_acc)\n",
    "print(\"\\n Train Loss:\", train_loss)"
   ]
  },
  {
   "cell_type": "code",
   "execution_count": 13,
   "metadata": {},
   "outputs": [
    {
     "name": "stdout",
     "output_type": "stream",
     "text": [
      "10/10 [==============================] - 15s 1s/step - loss: 1.6552 - categorical_accuracy: 0.6632\n",
      "\n",
      " Test Accuracy: 0.6631664037704468\n",
      "\n",
      " Test Loss: 1.6551761627197266\n"
     ]
    }
   ],
   "source": [
    "# Test Loss/ Test Accuracy\n",
    "test_loss, test_acc= classifier.evaluate(test_generator)\n",
    "print(\"\\n Test Accuracy:\", test_acc)\n",
    "print(\"\\n Test Loss:\", test_loss)"
   ]
  },
  {
   "cell_type": "code",
   "execution_count": 19,
   "metadata": {},
   "outputs": [
    {
     "data": {
      "text/plain": [
       "['loss', 'categorical_accuracy']"
      ]
     },
     "execution_count": 19,
     "metadata": {},
     "output_type": "execute_result"
    }
   ],
   "source": [
    "classifier.metrics_names"
   ]
  },
  {
   "cell_type": "code",
   "execution_count": 20,
   "metadata": {},
   "outputs": [
    {
     "data": {
      "image/png": "[encoded data removed]",
      "text/plain": [
       "<Figure size 432x288 with 1 Axes>"
      ]
     },
     "metadata": {
      "needs_background": "light"
     },
     "output_type": "display_data"
    }
   ],
   "source": [
    "# PLOT ACCURACY\n",
    "plt.plot(history.history['categorical_accuracy'])\n",
    "plt.plot(history.history['val_categorical_accuracy'])\n",
    "plt.title('Model Accuracy per Epoch')\n",
    "plt.ylabel('accuracy')\n",
    "plt.xlabel('epoch')\n",
    "plt.legend(['train', 'test'], loc='lower center')\n",
    "plt.show()"
   ]
  },
  {
   "cell_type": "code",
   "execution_count": 25,
   "metadata": {},
   "outputs": [
    {
     "data": {
      "image/png": "[encoded data removed]",
      "text/plain": [
       "<Figure size 432x288 with 1 Axes>"
      ]
     },
     "metadata": {
      "needs_background": "light"
     },
     "output_type": "display_data"
    }
   ],
   "source": [
    "# PLOT LOSS\n",
    "plt.plot(history.history['loss'])\n",
    "plt.plot(history.history['val_loss'])\n",
    "plt.title('Model Accuracy per Epoch')\n",
    "plt.ylabel('loss')\n",
    "plt.xlabel('epoch')\n",
    "plt.legend(['train', 'test'], loc='lower center')\n",
    "plt.show()"
   ]
  },
  {
   "cell_type": "code",
   "execution_count": 30,
   "metadata": {},
   "outputs": [],
   "source": [
    "# Save history of model into csv\n",
    "hist_df1 = pd.DataFrame(history.history) \n",
    "\n",
    "# or save to csv: \n",
    "hist_csv_file = 'history1.csv'\n",
    "with open(hist_csv_file, mode='w') as f:\n",
    "    hist_df1.to_csv(f)"
   ]
  },
  {
   "cell_type": "markdown",
   "metadata": {},
   "source": [
    "## Model 2"
   ]
  },
  {
   "cell_type": "code",
   "execution_count": 31,
   "metadata": {},
   "outputs": [],
   "source": [
    "## Model 2\n",
    "classifier= Sequential()\n",
    "\n",
    "# First convolution layer\n",
    "classifier.add(Conv2D(32, (3,3), input_shape=(200,200,3),activation='relu'))\n",
    "classifier.add(BatchNormalization())\n",
    "classifier.add(MaxPooling2D(pool_size=(2,2)))\n",
    "\n",
    "# Second convolution layer\n",
    "classifier.add(Conv2D(64,(3,3),activation=\"relu\"))\n",
    "classifier.add(Dropout(0.1))\n",
    "classifier.add(BatchNormalization())\n",
    "classifier.add(MaxPooling2D(pool_size=(2,2)))\n",
    "\n",
    "# Third convolution layer\n",
    "classifier.add(Conv2D(64, (3,3), activation=\"relu\"))\n",
    "classifier.add(BatchNormalization())\n",
    "classifier.add(MaxPooling2D(pool_size=(2,2)))\n",
    "\n",
    "# Fourth convolution layer\n",
    "classifier.add(Conv2D(128, (3,3), activation=\"relu\"))\n",
    "classifier.add(Dropout(0.2))\n",
    "classifier.add(BatchNormalization())\n",
    "classifier.add(MaxPooling2D(pool_size=(2,2)))\n",
    "\n",
    "#Fifth convolution layer\n",
    "classifier.add(Conv2D(128, (3,3), activation=\"relu\"))\n",
    "classifier.add(Dropout(0.2))\n",
    "classifier.add(BatchNormalization())\n",
    "classifier.add(MaxPooling2D(pool_size=(2,2)))\n",
    "\n",
    "# Flatten the results to feed into a dense layer\n",
    "classifier.add(Flatten())\n",
    "\n",
    "# 128 neuron in the fully-connected layer\n",
    "classifier.add(Dense(units = 128 , activation = 'relu'))\n",
    "classifier.add(Dropout(0.2))\n",
    "\n",
    "# 14 output neurons for 14 classes with the softmax activation\n",
    "classifier.add(Dense(units = 3 , activation = 'softmax'))"
   ]
  },
  {
   "cell_type": "code",
   "execution_count": 32,
   "metadata": {},
   "outputs": [
    {
     "name": "stdout",
     "output_type": "stream",
     "text": [
      "Model: \"sequential_3\"\n",
      "_________________________________________________________________\n",
      "Layer (type)                 Output Shape              Param #   \n",
      "=================================================================\n",
      "conv2d_14 (Conv2D)           (None, 198, 198, 32)      896       \n",
      "_________________________________________________________________\n",
      "batch_normalization_14 (Batc (None, 198, 198, 32)      128       \n",
      "_________________________________________________________________\n",
      "max_pooling2d_14 (MaxPooling (None, 99, 99, 32)        0         \n",
      "_________________________________________________________________\n",
      "conv2d_15 (Conv2D)           (None, 97, 97, 64)        18496     \n",
      "_________________________________________________________________\n",
      "dropout_13 (Dropout)         (None, 97, 97, 64)        0         \n",
      "_________________________________________________________________\n",
      "batch_normalization_15 (Batc (None, 97, 97, 64)        256       \n",
      "_________________________________________________________________\n",
      "max_pooling2d_15 (MaxPooling (None, 48, 48, 64)        0         \n",
      "_________________________________________________________________\n",
      "conv2d_16 (Conv2D)           (None, 46, 46, 64)        36928     \n",
      "_________________________________________________________________\n",
      "batch_normalization_16 (Batc (None, 46, 46, 64)        256       \n",
      "_________________________________________________________________\n",
      "max_pooling2d_16 (MaxPooling (None, 23, 23, 64)        0         \n",
      "_________________________________________________________________\n",
      "conv2d_17 (Conv2D)           (None, 21, 21, 128)       73856     \n",
      "_________________________________________________________________\n",
      "dropout_14 (Dropout)         (None, 21, 21, 128)       0         \n",
      "_________________________________________________________________\n",
      "batch_normalization_17 (Batc (None, 21, 21, 128)       512       \n",
      "_________________________________________________________________\n",
      "max_pooling2d_17 (MaxPooling (None, 10, 10, 128)       0         \n",
      "_________________________________________________________________\n",
      "conv2d_18 (Conv2D)           (None, 8, 8, 128)         147584    \n",
      "_________________________________________________________________\n",
      "dropout_15 (Dropout)         (None, 8, 8, 128)         0         \n",
      "_________________________________________________________________\n",
      "batch_normalization_18 (Batc (None, 8, 8, 128)         512       \n",
      "_________________________________________________________________\n",
      "max_pooling2d_18 (MaxPooling (None, 4, 4, 128)         0         \n",
      "_________________________________________________________________\n",
      "flatten_3 (Flatten)          (None, 2048)              0         \n",
      "_________________________________________________________________\n",
      "dense_7 (Dense)              (None, 128)               262272    \n",
      "_________________________________________________________________\n",
      "dropout_16 (Dropout)         (None, 128)               0         \n",
      "_________________________________________________________________\n",
      "dense_8 (Dense)              (None, 3)                 387       \n",
      "=================================================================\n",
      "Total params: 542,083\n",
      "Trainable params: 541,251\n",
      "Non-trainable params: 832\n",
      "_________________________________________________________________\n"
     ]
    }
   ],
   "source": [
    "classifier.summary()"
   ]
  },
  {
   "cell_type": "code",
   "execution_count": 33,
   "metadata": {},
   "outputs": [
    {
     "name": "stdout",
     "output_type": "stream",
     "text": [
      "Epoch 1/30\n",
      "22/22 [==============================] - 113s 5s/step - loss: 0.7904 - accuracy: 0.7353 - val_loss: 1.5889 - val_accuracy: 0.3186\n",
      "Epoch 2/30\n",
      "22/22 [==============================] - 121s 6s/step - loss: 0.3502 - accuracy: 0.8687 - val_loss: 2.8283 - val_accuracy: 0.5703\n",
      "Epoch 3/30\n",
      "22/22 [==============================] - 109s 5s/step - loss: 0.2948 - accuracy: 0.8911 - val_loss: 3.5147 - val_accuracy: 0.4983\n",
      "Epoch 4/30\n",
      "22/22 [==============================] - 110s 5s/step - loss: 0.2565 - accuracy: 0.9087 - val_loss: 4.4834 - val_accuracy: 0.3229\n",
      "Epoch 5/30\n",
      "22/22 [==============================] - 108s 5s/step - loss: 0.2481 - accuracy: 0.9107 - val_loss: 5.0507 - val_accuracy: 0.3229\n",
      "Epoch 6/30\n",
      "22/22 [==============================] - 109s 5s/step - loss: 0.2424 - accuracy: 0.9161 - val_loss: 4.6095 - val_accuracy: 0.3264\n",
      "Epoch 7/30\n",
      "22/22 [==============================] - 126s 6s/step - loss: 0.2216 - accuracy: 0.9233 - val_loss: 4.6092 - val_accuracy: 0.3368\n",
      "Epoch 8/30\n",
      "22/22 [==============================] - 118s 5s/step - loss: 0.2252 - accuracy: 0.9244 - val_loss: 4.3680 - val_accuracy: 0.4245\n",
      "Epoch 9/30\n",
      "22/22 [==============================] - 118s 5s/step - loss: 0.2095 - accuracy: 0.9280 - val_loss: 5.1405 - val_accuracy: 0.3464\n",
      "Epoch 10/30\n",
      "22/22 [==============================] - 108s 5s/step - loss: 0.2121 - accuracy: 0.9248 - val_loss: 3.9194 - val_accuracy: 0.6111\n",
      "Epoch 11/30\n",
      "22/22 [==============================] - 112s 5s/step - loss: 0.1834 - accuracy: 0.9363 - val_loss: 4.0545 - val_accuracy: 0.5564\n",
      "Epoch 12/30\n",
      "22/22 [==============================] - 107s 5s/step - loss: 0.1574 - accuracy: 0.9378 - val_loss: 3.9158 - val_accuracy: 0.6241\n",
      "Epoch 13/30\n",
      "22/22 [==============================] - 108s 5s/step - loss: 0.1863 - accuracy: 0.9364 - val_loss: 3.6592 - val_accuracy: 0.5477\n",
      "Epoch 14/30\n",
      "22/22 [==============================] - 108s 5s/step - loss: 0.1653 - accuracy: 0.9407 - val_loss: 3.9207 - val_accuracy: 0.5938\n",
      "Epoch 15/30\n",
      "22/22 [==============================] - 113s 5s/step - loss: 0.1577 - accuracy: 0.9439 - val_loss: 3.0664 - val_accuracy: 0.6259\n",
      "Epoch 16/30\n",
      "22/22 [==============================] - 121s 6s/step - loss: 0.1606 - accuracy: 0.9461 - val_loss: 4.4252 - val_accuracy: 0.5460\n",
      "Epoch 17/30\n",
      "22/22 [==============================] - 110s 5s/step - loss: 0.1723 - accuracy: 0.9403 - val_loss: 3.4054 - val_accuracy: 0.6345\n",
      "Epoch 18/30\n",
      "22/22 [==============================] - 108s 5s/step - loss: 0.1664 - accuracy: 0.9403 - val_loss: 3.9007 - val_accuracy: 0.6120\n",
      "Epoch 19/30\n",
      "22/22 [==============================] - 108s 5s/step - loss: 0.1566 - accuracy: 0.9472 - val_loss: 3.2785 - val_accuracy: 0.6354\n",
      "Epoch 20/30\n",
      "22/22 [==============================] - 107s 5s/step - loss: 0.1634 - accuracy: 0.9421 - val_loss: 3.4436 - val_accuracy: 0.6476\n",
      "Epoch 21/30\n",
      "22/22 [==============================] - 107s 5s/step - loss: 0.1489 - accuracy: 0.9501 - val_loss: 0.2895 - val_accuracy: 0.9089\n",
      "Epoch 22/30\n",
      "22/22 [==============================] - 108s 5s/step - loss: 0.1361 - accuracy: 0.9548 - val_loss: 1.0155 - val_accuracy: 0.6988\n",
      "Epoch 23/30\n",
      "22/22 [==============================] - 113s 5s/step - loss: 0.1119 - accuracy: 0.9599 - val_loss: 2.2190 - val_accuracy: 0.5990\n",
      "Epoch 24/30\n",
      "22/22 [==============================] - 120s 5s/step - loss: 0.1228 - accuracy: 0.9563 - val_loss: 2.6979 - val_accuracy: 0.5200\n",
      "Epoch 25/30\n",
      "22/22 [==============================] - 108s 5s/step - loss: 0.1440 - accuracy: 0.9494 - val_loss: 2.7803 - val_accuracy: 0.6415\n",
      "Epoch 26/30\n",
      "22/22 [==============================] - 123s 6s/step - loss: 0.1252 - accuracy: 0.9559 - val_loss: 3.5282 - val_accuracy: 0.5026\n",
      "Epoch 27/30\n",
      "22/22 [==============================] - 116s 5s/step - loss: 0.1227 - accuracy: 0.9526 - val_loss: 1.0106 - val_accuracy: 0.5530\n",
      "Epoch 28/30\n",
      "22/22 [==============================] - 112s 5s/step - loss: 0.1100 - accuracy: 0.9649 - val_loss: 1.0411 - val_accuracy: 0.5269\n",
      "Epoch 29/30\n",
      "22/22 [==============================] - 107s 5s/step - loss: 0.1195 - accuracy: 0.9595 - val_loss: 2.9539 - val_accuracy: 0.6224\n",
      "Epoch 30/30\n",
      "22/22 [==============================] - 108s 5s/step - loss: 0.1354 - accuracy: 0.9548 - val_loss: 2.6053 - val_accuracy: 0.6181\n"
     ]
    }
   ],
   "source": [
    "# Model 2, with augmentation\n",
    "classifier.compile(\n",
    "  optimizer='adam',\n",
    "  loss=\"categorical_crossentropy\",\n",
    "  metrics=['accuracy'])\n",
    "\n",
    "\n",
    "total_sample= train_generator.n\n",
    "total_test=test_generator.n\n",
    "batch_size=128\n",
    "\n",
    "\n",
    "history= classifier.fit_generator(\n",
    "            train_generator, steps_per_epoch=int(total_sample/batch_size),\n",
    "            epochs=30,\n",
    "            validation_data=test_generator,\n",
    "            validation_steps=int(total_test/batch_size))"
   ]
  },
  {
   "cell_type": "code",
   "execution_count": 34,
   "metadata": {},
   "outputs": [],
   "source": [
    "# Save Model-save weights\n",
    "classifier.save(\"model_2.h5\")"
   ]
  },
  {
   "cell_type": "code",
   "execution_count": 35,
   "metadata": {},
   "outputs": [
    {
     "name": "stdout",
     "output_type": "stream",
     "text": [
      "23/23 [==============================] - 59s 3s/step - loss: 3.5160 - accuracy: 0.5900\n",
      "\n",
      " Train Accuracy: 0.5900449156761169\n",
      "\n",
      " Train Loss: 3.515977144241333\n"
     ]
    }
   ],
   "source": [
    "# Train loss/ Train Accuracy\n",
    "train_loss, train_acc = classifier.evaluate(train_generator)\n",
    "print(\"\\n Train Accuracy:\", train_acc)\n",
    "print(\"\\n Train Loss:\", train_loss)"
   ]
  },
  {
   "cell_type": "code",
   "execution_count": 36,
   "metadata": {},
   "outputs": [
    {
     "name": "stdout",
     "output_type": "stream",
     "text": [
      "10/10 [==============================] - 16s 2s/step - loss: 2.5968 - accuracy: 0.6195\n",
      "\n",
      " Test Accuracy: 0.6195476651191711\n",
      "\n",
      " Test Loss: 2.5968239307403564\n"
     ]
    }
   ],
   "source": [
    "# Test Loss/ Test Accuracy\n",
    "test_loss, test_acc= classifier.evaluate(test_generator)\n",
    "print(\"\\n Test Accuracy:\", test_acc)\n",
    "print(\"\\n Test Loss:\", test_loss)"
   ]
  },
  {
   "cell_type": "code",
   "execution_count": 39,
   "metadata": {},
   "outputs": [
    {
     "data": {
      "text/plain": [
       "['loss', 'accuracy']"
      ]
     },
     "execution_count": 39,
     "metadata": {},
     "output_type": "execute_result"
    }
   ],
   "source": [
    "classifier.metrics_names"
   ]
  },
  {
   "cell_type": "code",
   "execution_count": 40,
   "metadata": {},
   "outputs": [
    {
     "data": {
      "image/png": "[encoded data removed]",
      "text/plain": [
       "<Figure size 432x288 with 1 Axes>"
      ]
     },
     "metadata": {
      "needs_background": "light"
     },
     "output_type": "display_data"
    }
   ],
   "source": [
    "# PLOT ACCURACY\n",
    "plt.plot(history.history['accuracy'])\n",
    "plt.plot(history.history['val_accuracy'])\n",
    "plt.title('Model 2 Accuracy per Epoch')\n",
    "plt.ylabel('accuracy')\n",
    "plt.xlabel('epoch')\n",
    "plt.legend(['train', 'test'], loc='lower center')\n",
    "plt.show()"
   ]
  },
  {
   "cell_type": "code",
   "execution_count": 41,
   "metadata": {},
   "outputs": [
    {
     "data": {
      "image/png": "[encoded data removed]",
      "text/plain": [
       "<Figure size 432x288 with 1 Axes>"
      ]
     },
     "metadata": {
      "needs_background": "light"
     },
     "output_type": "display_data"
    }
   ],
   "source": [
    "# PLOT LOSS\n",
    "plt.plot(history.history['loss'])\n",
    "plt.plot(history.history['val_loss'])\n",
    "plt.title('Model 2 Accuracy per Epoch')\n",
    "plt.ylabel('loss')\n",
    "plt.xlabel('epoch')\n",
    "plt.legend(['train', 'test'], loc='lower center')\n",
    "plt.show()"
   ]
  },
  {
   "cell_type": "code",
   "execution_count": 38,
   "metadata": {},
   "outputs": [],
   "source": [
    "# Save history of model into csv\n",
    "hist_df2 = pd.DataFrame(history.history) \n",
    "\n",
    "# or save to csv: \n",
    "hist_csv_file = 'history2.csv'\n",
    "with open(hist_csv_file, mode='w') as f:\n",
    "    hist_df2.to_csv(f)"
   ]
  },
  {
   "cell_type": "markdown",
   "metadata": {},
   "source": [
    "# Model 3"
   ]
  },
  {
   "cell_type": "code",
   "execution_count": 42,
   "metadata": {},
   "outputs": [],
   "source": [
    "# Model 3\n",
    "# GENERATE MODEL\n",
    "classifier= Sequential()\n",
    "\n",
    "# First convolution layer\n",
    "classifier.add(Conv2D(32, (3,3), input_shape=(200,200,3),activation='relu'))\n",
    "classifier.add(BatchNormalization())\n",
    "classifier.add(MaxPooling2D(pool_size=(2,2)))\n",
    "\n",
    "# Second convolution layer\n",
    "classifier.add(Conv2D(32,(3,3),activation=\"relu\"))\n",
    "classifier.add(Dropout(0.1))\n",
    "classifier.add(BatchNormalization())\n",
    "classifier.add(MaxPooling2D(pool_size=(2,2)))\n",
    "\n",
    "# Flatten the results to feed into a dense layer\n",
    "classifier.add(Flatten())\n",
    "\n",
    "# 128 neuron in the fully-connected layer\n",
    "classifier.add(Dense(128 , activation = 'relu'))\n",
    "classifier.add(Dropout(0.2))\n",
    "\n",
    "# 14 output neurons for 14 classes with the softmax activation\n",
    "classifier.add(Dense(3 , activation = 'softmax'))"
   ]
  },
  {
   "cell_type": "code",
   "execution_count": 44,
   "metadata": {},
   "outputs": [
    {
     "name": "stdout",
     "output_type": "stream",
     "text": [
      "Model: \"sequential_4\"\n",
      "_________________________________________________________________\n",
      "Layer (type)                 Output Shape              Param #   \n",
      "=================================================================\n",
      "conv2d_19 (Conv2D)           (None, 198, 198, 32)      896       \n",
      "_________________________________________________________________\n",
      "batch_normalization_19 (Batc (None, 198, 198, 32)      128       \n",
      "_________________________________________________________________\n",
      "max_pooling2d_19 (MaxPooling (None, 99, 99, 32)        0         \n",
      "_________________________________________________________________\n",
      "conv2d_20 (Conv2D)           (None, 97, 97, 32)        9248      \n",
      "_________________________________________________________________\n",
      "dropout_17 (Dropout)         (None, 97, 97, 32)        0         \n",
      "_________________________________________________________________\n",
      "batch_normalization_20 (Batc (None, 97, 97, 32)        128       \n",
      "_________________________________________________________________\n",
      "max_pooling2d_20 (MaxPooling (None, 48, 48, 32)        0         \n",
      "_________________________________________________________________\n",
      "flatten_4 (Flatten)          (None, 73728)             0         \n",
      "_________________________________________________________________\n",
      "dense_9 (Dense)              (None, 128)               9437312   \n",
      "_________________________________________________________________\n",
      "dropout_18 (Dropout)         (None, 128)               0         \n",
      "_________________________________________________________________\n",
      "dense_10 (Dense)             (None, 3)                 387       \n",
      "=================================================================\n",
      "Total params: 9,448,099\n",
      "Trainable params: 9,447,971\n",
      "Non-trainable params: 128\n",
      "_________________________________________________________________\n"
     ]
    }
   ],
   "source": [
    "classifier.summary()"
   ]
  },
  {
   "cell_type": "code",
   "execution_count": 45,
   "metadata": {},
   "outputs": [
    {
     "name": "stdout",
     "output_type": "stream",
     "text": [
      "Epoch 1/30\n",
      "22/22 [==============================] - 97s 4s/step - loss: 1.7917 - accuracy: 0.6307 - val_loss: 2.0458 - val_accuracy: 0.5972\n",
      "Epoch 2/30\n",
      "22/22 [==============================] - 95s 4s/step - loss: 1.1467 - accuracy: 0.7638 - val_loss: 1.0402 - val_accuracy: 0.6068\n",
      "Epoch 3/30\n",
      "22/22 [==============================] - 89s 4s/step - loss: 0.6806 - accuracy: 0.7917 - val_loss: 1.7709 - val_accuracy: 0.5903\n",
      "Epoch 4/30\n",
      "22/22 [==============================] - 89s 4s/step - loss: 0.5549 - accuracy: 0.8242 - val_loss: 5.2704 - val_accuracy: 0.5764\n",
      "Epoch 5/30\n",
      "22/22 [==============================] - 89s 4s/step - loss: 0.5075 - accuracy: 0.8257 - val_loss: 8.2677 - val_accuracy: 0.6120\n",
      "Epoch 6/30\n",
      "22/22 [==============================] - 91s 4s/step - loss: 0.4065 - accuracy: 0.8448 - val_loss: 9.3292 - val_accuracy: 0.5694\n",
      "Epoch 7/30\n",
      "22/22 [==============================] - 89s 4s/step - loss: 0.4379 - accuracy: 0.8488 - val_loss: 10.8449 - val_accuracy: 0.5139\n",
      "Epoch 8/30\n",
      "22/22 [==============================] - 89s 4s/step - loss: 0.4348 - accuracy: 0.8430 - val_loss: 14.1199 - val_accuracy: 0.6207\n",
      "Epoch 9/30\n",
      "22/22 [==============================] - 91s 4s/step - loss: 0.3835 - accuracy: 0.8702 - val_loss: 12.8136 - val_accuracy: 0.6120\n",
      "Epoch 10/30\n",
      "22/22 [==============================] - 90s 4s/step - loss: 0.3978 - accuracy: 0.8528 - val_loss: 14.1623 - val_accuracy: 0.6259\n",
      "Epoch 11/30\n",
      "22/22 [==============================] - 91s 4s/step - loss: 0.4555 - accuracy: 0.8514 - val_loss: 12.1323 - val_accuracy: 0.5312\n",
      "Epoch 12/30\n",
      "22/22 [==============================] - 97s 4s/step - loss: 0.4040 - accuracy: 0.8691 - val_loss: 16.0304 - val_accuracy: 0.5764\n",
      "Epoch 13/30\n",
      "22/22 [==============================] - 90s 4s/step - loss: 0.4396 - accuracy: 0.8597 - val_loss: 10.1425 - val_accuracy: 0.5477\n",
      "Epoch 14/30\n",
      "22/22 [==============================] - 90s 4s/step - loss: 0.3649 - accuracy: 0.8814 - val_loss: 10.1981 - val_accuracy: 0.5920\n",
      "Epoch 15/30\n",
      "22/22 [==============================] - 89s 4s/step - loss: 0.3440 - accuracy: 0.8846 - val_loss: 6.7910 - val_accuracy: 0.6172\n",
      "Epoch 16/30\n",
      "22/22 [==============================] - 88s 4s/step - loss: 0.2930 - accuracy: 0.8984 - val_loss: 5.5828 - val_accuracy: 0.6155\n",
      "Epoch 17/30\n",
      "22/22 [==============================] - 88s 4s/step - loss: 0.2840 - accuracy: 0.8962 - val_loss: 5.3080 - val_accuracy: 0.6146\n",
      "Epoch 18/30\n",
      "22/22 [==============================] - 89s 4s/step - loss: 0.2926 - accuracy: 0.8940 - val_loss: 6.6414 - val_accuracy: 0.5243\n",
      "Epoch 19/30\n",
      "22/22 [==============================] - 89s 4s/step - loss: 0.2936 - accuracy: 0.8893 - val_loss: 4.2718 - val_accuracy: 0.5859\n",
      "Epoch 20/30\n",
      "22/22 [==============================] - 89s 4s/step - loss: 0.3027 - accuracy: 0.8995 - val_loss: 5.3023 - val_accuracy: 0.5547\n",
      "Epoch 21/30\n",
      "22/22 [==============================] - 586s 27s/step - loss: 0.2756 - accuracy: 0.9009 - val_loss: 10.3255 - val_accuracy: 0.3941\n",
      "Epoch 22/30\n",
      "22/22 [==============================] - 89s 4s/step - loss: 0.2638 - accuracy: 0.9139 - val_loss: 7.1676 - val_accuracy: 0.4609\n",
      "Epoch 23/30\n",
      "22/22 [==============================] - 88s 4s/step - loss: 0.2843 - accuracy: 0.8995 - val_loss: 8.5816 - val_accuracy: 0.3472\n",
      "Epoch 24/30\n",
      "22/22 [==============================] - 90s 4s/step - loss: 0.2673 - accuracy: 0.9071 - val_loss: 3.9531 - val_accuracy: 0.3368\n",
      "Epoch 25/30\n",
      "22/22 [==============================] - 90s 4s/step - loss: 0.2695 - accuracy: 0.9016 - val_loss: 2.3549 - val_accuracy: 0.6424\n",
      "Epoch 26/30\n",
      "22/22 [==============================] - 89s 4s/step - loss: 0.2442 - accuracy: 0.9175 - val_loss: 1.0332 - val_accuracy: 0.7222\n",
      "Epoch 27/30\n",
      "22/22 [==============================] - 89s 4s/step - loss: 0.2557 - accuracy: 0.9071 - val_loss: 2.8494 - val_accuracy: 0.4766\n",
      "Epoch 28/30\n",
      "22/22 [==============================] - 97s 4s/step - loss: 0.2448 - accuracy: 0.9157 - val_loss: 0.9255 - val_accuracy: 0.7222\n",
      "Epoch 29/30\n",
      "22/22 [==============================] - 90s 4s/step - loss: 0.2556 - accuracy: 0.9157 - val_loss: 0.6947 - val_accuracy: 0.7231\n",
      "Epoch 30/30\n",
      "22/22 [==============================] - 100s 5s/step - loss: 0.2423 - accuracy: 0.9172 - val_loss: 0.9551 - val_accuracy: 0.6892\n"
     ]
    }
   ],
   "source": [
    "# Model 3, with augmentation\n",
    "classifier.compile(\n",
    "  optimizer='adam',\n",
    "  loss=\"categorical_crossentropy\",\n",
    "  metrics=['accuracy'])\n",
    "\n",
    "# total_valsample=test_generator.n\n",
    "total_sample= train_generator.n\n",
    "total_test=test_generator.n\n",
    "batch_size=128\n",
    "\n",
    "history= classifier.fit_generator(\n",
    "            train_generator, steps_per_epoch=int(total_sample/batch_size),\n",
    "            epochs=30,\n",
    "            validation_data=test_generator,\n",
    "            validation_steps=int(total_test/batch_size))"
   ]
  },
  {
   "cell_type": "code",
   "execution_count": 46,
   "metadata": {},
   "outputs": [],
   "source": [
    "# Save Model-save weights\n",
    "classifier.save(\"model_3.h5\")"
   ]
  },
  {
   "cell_type": "code",
   "execution_count": 47,
   "metadata": {},
   "outputs": [
    {
     "name": "stdout",
     "output_type": "stream",
     "text": [
      "23/23 [==============================] - 56s 2s/step - loss: 0.8944 - accuracy: 0.7598\n",
      "\n",
      " Train Accuracy: 0.7597649693489075\n",
      "\n",
      " Train Loss: 0.894377589225769\n"
     ]
    }
   ],
   "source": [
    "# Train loss/ Train Accuracy\n",
    "train_loss, train_acc = classifier.evaluate(train_generator)\n",
    "print(\"\\n Train Accuracy:\", train_acc)\n",
    "print(\"\\n Train Loss:\", train_loss)"
   ]
  },
  {
   "cell_type": "code",
   "execution_count": 48,
   "metadata": {},
   "outputs": [
    {
     "name": "stdout",
     "output_type": "stream",
     "text": [
      "10/10 [==============================] - 14s 1s/step - loss: 0.9478 - accuracy: 0.6882\n",
      "\n",
      " Test Accuracy: 0.6882067918777466\n",
      "\n",
      " Test Loss: 0.9478113651275635\n"
     ]
    }
   ],
   "source": [
    "# Test Loss/ Test Accuracy\n",
    "test_loss, test_acc= classifier.evaluate(test_generator)\n",
    "print(\"\\n Test Accuracy:\", test_acc)\n",
    "print(\"\\n Test Loss:\", test_loss)"
   ]
  },
  {
   "cell_type": "code",
   "execution_count": 49,
   "metadata": {},
   "outputs": [
    {
     "data": {
      "text/plain": [
       "['loss', 'accuracy']"
      ]
     },
     "execution_count": 49,
     "metadata": {},
     "output_type": "execute_result"
    }
   ],
   "source": [
    "classifier.metrics_names"
   ]
  },
  {
   "cell_type": "code",
   "execution_count": 50,
   "metadata": {},
   "outputs": [
    {
     "data": {
      "image/png": "[encoded data removed]",
      "text/plain": [
       "<Figure size 432x288 with 1 Axes>"
      ]
     },
     "metadata": {
      "needs_background": "light"
     },
     "output_type": "display_data"
    }
   ],
   "source": [
    "# PLOT ACCURACY\n",
    "plt.plot(history.history['accuracy'])\n",
    "plt.plot(history.history['val_accuracy'])\n",
    "plt.title('Model 3 Accuracy per Epoch')\n",
    "plt.ylabel('accuracy')\n",
    "plt.xlabel('epoch')\n",
    "plt.legend(['train', 'test'], loc='lower center')\n",
    "plt.show()"
   ]
  },
  {
   "cell_type": "code",
   "execution_count": 51,
   "metadata": {},
   "outputs": [
    {
     "data": {
      "image/png": "[encoded data removed]",
      "text/plain": [
       "<Figure size 432x288 with 1 Axes>"
      ]
     },
     "metadata": {
      "needs_background": "light"
     },
     "output_type": "display_data"
    }
   ],
   "source": [
    "# PLOT LOSS\n",
    "plt.plot(history.history['loss'])\n",
    "plt.plot(history.history['val_loss'])\n",
    "plt.title('Model 3 Accuracy per Epoch')\n",
    "plt.ylabel('loss')\n",
    "plt.xlabel('epoch')\n",
    "plt.legend(['train', 'test'], loc='lower center')\n",
    "plt.show()"
   ]
  },
  {
   "cell_type": "code",
   "execution_count": 52,
   "metadata": {},
   "outputs": [],
   "source": [
    "# Save history of model into csv\n",
    "hist_df3 = pd.DataFrame(history.history) \n",
    "\n",
    "# or save to csv: \n",
    "hist_csv_file = 'history3.csv'\n",
    "with open(hist_csv_file, mode='w') as f:\n",
    "    hist_df3.to_csv(f)"
   ]
  },
  {
   "cell_type": "markdown",
   "metadata": {},
   "source": [
    "# Model 4- Transfer Learning"
   ]
  },
  {
   "cell_type": "code",
   "execution_count": 53,
   "metadata": {},
   "outputs": [
    {
     "name": "stdout",
     "output_type": "stream",
     "text": [
      "Found 2893 images belonging to 3 classes.\n",
      "Found 1238 images belonging to 3 classes.\n"
     ]
    }
   ],
   "source": [
    "img_width, img_height=200,200\n",
    "batch_size=128\n",
    "\n",
    "data_dir = \"Database/\"\n",
    "\n",
    "# Rescale images \n",
    "datagen= ImageDataGenerator(rescale=1/255,validation_split=.3,rotation_range=20,\n",
    "                           shear_range=.2,width_shift_range=0.1,height_shift_range=0.1,zoom_range=0.2,\n",
    "                           preprocessing_function=preprocess_input)\n",
    "\n",
    "# Flow training images in batches of 128 using train_data \n",
    "train_generator= datagen.flow_from_directory(\n",
    "                data_dir,\n",
    "                target_size=(64,64),\n",
    "                batch_size=batch_size,\n",
    "                subset=\"training\",\n",
    "                class_mode=\"categorical\", \n",
    "                classes= [\"COVID19\", \"NORMAL\",\"Viral_Pneumonia\"],\n",
    "                shuffle=True, seed=30)\n",
    "\n",
    "\n",
    "datagen2=ImageDataGenerator(rescale=1/255,validation_split=.3,\n",
    "                            preprocessing_function=preprocess_input)\n",
    "\n",
    "test_generator=datagen2.flow_from_directory(\n",
    "                data_dir,\n",
    "                target_size=(64,64),\n",
    "                batch_size=batch_size,\n",
    "                classes= [\"COVID19\", \"NORMAL\",\"Viral_Pneumonia\"],\n",
    "                class_mode=\"categorical\", subset=\"validation\", shuffle=True, seed=30)"
   ]
  },
  {
   "cell_type": "code",
   "execution_count": 54,
   "metadata": {},
   "outputs": [],
   "source": [
    "# Model 4\n",
    "\n",
    "datagen= ImageDataGenerator(rescale=1/255,validation_split=.3)\n",
    "\n",
    "classifier=VGG16(weights=\"imagenet\", include_top=False, input_shape=(64,64,3))\n",
    "\n",
    "for layer in classifier.layers:\n",
    "    layer.trainable=False\n",
    "\n",
    "x=Flatten()(classifier.output)\n",
    "x=Dense(3, activation=\"softmax\")(x)\n",
    "\n",
    "model=Model(inputs=classifier.input, outputs=x)\n",
    "model.compile(loss=\"categorical_crossentropy\", optimizer=\"adam\",metrics=[\"accuracy\"])"
   ]
  },
  {
   "cell_type": "code",
   "execution_count": 56,
   "metadata": {},
   "outputs": [
    {
     "name": "stdout",
     "output_type": "stream",
     "text": [
      "Model: \"functional_1\"\n",
      "_________________________________________________________________\n",
      "Layer (type)                 Output Shape              Param #   \n",
      "=================================================================\n",
      "input_1 (InputLayer)         [(None, 64, 64, 3)]       0         \n",
      "_________________________________________________________________\n",
      "block1_conv1 (Conv2D)        (None, 64, 64, 64)        1792      \n",
      "_________________________________________________________________\n",
      "block1_conv2 (Conv2D)        (None, 64, 64, 64)        36928     \n",
      "_________________________________________________________________\n",
      "block1_pool (MaxPooling2D)   (None, 32, 32, 64)        0         \n",
      "_________________________________________________________________\n",
      "block2_conv1 (Conv2D)        (None, 32, 32, 128)       73856     \n",
      "_________________________________________________________________\n",
      "block2_conv2 (Conv2D)        (None, 32, 32, 128)       147584    \n",
      "_________________________________________________________________\n",
      "block2_pool (MaxPooling2D)   (None, 16, 16, 128)       0         \n",
      "_________________________________________________________________\n",
      "block3_conv1 (Conv2D)        (None, 16, 16, 256)       295168    \n",
      "_________________________________________________________________\n",
      "block3_conv2 (Conv2D)        (None, 16, 16, 256)       590080    \n",
      "_________________________________________________________________\n",
      "block3_conv3 (Conv2D)        (None, 16, 16, 256)       590080    \n",
      "_________________________________________________________________\n",
      "block3_pool (MaxPooling2D)   (None, 8, 8, 256)         0         \n",
      "_________________________________________________________________\n",
      "block4_conv1 (Conv2D)        (None, 8, 8, 512)         1180160   \n",
      "_________________________________________________________________\n",
      "block4_conv2 (Conv2D)        (None, 8, 8, 512)         2359808   \n",
      "_________________________________________________________________\n",
      "block4_conv3 (Conv2D)        (None, 8, 8, 512)         2359808   \n",
      "_________________________________________________________________\n",
      "block4_pool (MaxPooling2D)   (None, 4, 4, 512)         0         \n",
      "_________________________________________________________________\n",
      "block5_conv1 (Conv2D)        (None, 4, 4, 512)         2359808   \n",
      "_________________________________________________________________\n",
      "block5_conv2 (Conv2D)        (None, 4, 4, 512)         2359808   \n",
      "_________________________________________________________________\n",
      "block5_conv3 (Conv2D)        (None, 4, 4, 512)         2359808   \n",
      "_________________________________________________________________\n",
      "block5_pool (MaxPooling2D)   (None, 2, 2, 512)         0         \n",
      "_________________________________________________________________\n",
      "flatten_5 (Flatten)          (None, 2048)              0         \n",
      "_________________________________________________________________\n",
      "dense_11 (Dense)             (None, 3)                 6147      \n",
      "=================================================================\n",
      "Total params: 14,720,835\n",
      "Trainable params: 6,147\n",
      "Non-trainable params: 14,714,688\n",
      "_________________________________________________________________\n"
     ]
    }
   ],
   "source": [
    "model.summary()"
   ]
  },
  {
   "cell_type": "code",
   "execution_count": 55,
   "metadata": {},
   "outputs": [
    {
     "name": "stdout",
     "output_type": "stream",
     "text": [
      "Epoch 1/100\n",
      "22/22 [==============================] - 71s 3s/step - loss: 0.9659 - accuracy: 0.5392 - val_loss: 0.7505 - val_accuracy: 0.6236\n",
      "Epoch 2/100\n",
      " 1/22 [>.............................] - ETA: 0s - loss: 0.7554 - accuracy: 0.6953"
     ]
    },
    {
     "ename": "KeyboardInterrupt",
     "evalue": "",
     "output_type": "error",
     "traceback": [
      "\u001b[0;31m---------------------------------------------------------------------------\u001b[0m",
      "\u001b[0;31mKeyboardInterrupt\u001b[0m                         Traceback (most recent call last)",
      "\u001b[0;32m<ipython-input-55-106d1bd2385b>\u001b[0m in \u001b[0;36m<module>\u001b[0;34m\u001b[0m\n\u001b[1;32m      6\u001b[0m             \u001b[0mtrain_generator\u001b[0m\u001b[0;34m,\u001b[0m \u001b[0msteps_per_epoch\u001b[0m\u001b[0;34m=\u001b[0m\u001b[0mint\u001b[0m\u001b[0;34m(\u001b[0m\u001b[0mtotal_sample\u001b[0m\u001b[0;34m/\u001b[0m\u001b[0mbatch_size\u001b[0m\u001b[0;34m)\u001b[0m\u001b[0;34m,\u001b[0m\u001b[0;34m\u001b[0m\u001b[0;34m\u001b[0m\u001b[0m\n\u001b[1;32m      7\u001b[0m             \u001b[0mepochs\u001b[0m\u001b[0;34m=\u001b[0m\u001b[0;36m100\u001b[0m\u001b[0;34m,\u001b[0m\u001b[0;34m\u001b[0m\u001b[0;34m\u001b[0m\u001b[0m\n\u001b[0;32m----> 8\u001b[0;31m             validation_data=test_generator)\n\u001b[0m",
      "\u001b[0;32m~/anaconda3/envs/mlenv/lib/python3.7/site-packages/tensorflow/python/util/deprecation.py\u001b[0m in \u001b[0;36mnew_func\u001b[0;34m(*args, **kwargs)\u001b[0m\n\u001b[1;32m    322\u001b[0m               \u001b[0;34m'in a future version'\u001b[0m \u001b[0;32mif\u001b[0m \u001b[0mdate\u001b[0m \u001b[0;32mis\u001b[0m \u001b[0;32mNone\u001b[0m \u001b[0;32melse\u001b[0m \u001b[0;34m(\u001b[0m\u001b[0;34m'after %s'\u001b[0m \u001b[0;34m%\u001b[0m \u001b[0mdate\u001b[0m\u001b[0;34m)\u001b[0m\u001b[0;34m,\u001b[0m\u001b[0;34m\u001b[0m\u001b[0;34m\u001b[0m\u001b[0m\n\u001b[1;32m    323\u001b[0m               instructions)\n\u001b[0;32m--> 324\u001b[0;31m       \u001b[0;32mreturn\u001b[0m \u001b[0mfunc\u001b[0m\u001b[0;34m(\u001b[0m\u001b[0;34m*\u001b[0m\u001b[0margs\u001b[0m\u001b[0;34m,\u001b[0m \u001b[0;34m**\u001b[0m\u001b[0mkwargs\u001b[0m\u001b[0;34m)\u001b[0m\u001b[0;34m\u001b[0m\u001b[0;34m\u001b[0m\u001b[0m\n\u001b[0m\u001b[1;32m    325\u001b[0m     return tf_decorator.make_decorator(\n\u001b[1;32m    326\u001b[0m         \u001b[0mfunc\u001b[0m\u001b[0;34m,\u001b[0m \u001b[0mnew_func\u001b[0m\u001b[0;34m,\u001b[0m \u001b[0;34m'deprecated'\u001b[0m\u001b[0;34m,\u001b[0m\u001b[0;34m\u001b[0m\u001b[0;34m\u001b[0m\u001b[0m\n",
      "\u001b[0;32m~/anaconda3/envs/mlenv/lib/python3.7/site-packages/tensorflow/python/keras/engine/training.py\u001b[0m in \u001b[0;36mfit_generator\u001b[0;34m(self, generator, steps_per_epoch, epochs, verbose, callbacks, validation_data, validation_steps, validation_freq, class_weight, max_queue_size, workers, use_multiprocessing, shuffle, initial_epoch)\u001b[0m\n\u001b[1;32m   1827\u001b[0m         \u001b[0muse_multiprocessing\u001b[0m\u001b[0;34m=\u001b[0m\u001b[0muse_multiprocessing\u001b[0m\u001b[0;34m,\u001b[0m\u001b[0;34m\u001b[0m\u001b[0;34m\u001b[0m\u001b[0m\n\u001b[1;32m   1828\u001b[0m         \u001b[0mshuffle\u001b[0m\u001b[0;34m=\u001b[0m\u001b[0mshuffle\u001b[0m\u001b[0;34m,\u001b[0m\u001b[0;34m\u001b[0m\u001b[0;34m\u001b[0m\u001b[0m\n\u001b[0;32m-> 1829\u001b[0;31m         initial_epoch=initial_epoch)\n\u001b[0m\u001b[1;32m   1830\u001b[0m \u001b[0;34m\u001b[0m\u001b[0m\n\u001b[1;32m   1831\u001b[0m   @deprecation.deprecated(\n",
      "\u001b[0;32m~/anaconda3/envs/mlenv/lib/python3.7/site-packages/tensorflow/python/keras/engine/training.py\u001b[0m in \u001b[0;36m_method_wrapper\u001b[0;34m(self, *args, **kwargs)\u001b[0m\n\u001b[1;32m    106\u001b[0m   \u001b[0;32mdef\u001b[0m \u001b[0m_method_wrapper\u001b[0m\u001b[0;34m(\u001b[0m\u001b[0mself\u001b[0m\u001b[0;34m,\u001b[0m \u001b[0;34m*\u001b[0m\u001b[0margs\u001b[0m\u001b[0;34m,\u001b[0m \u001b[0;34m**\u001b[0m\u001b[0mkwargs\u001b[0m\u001b[0;34m)\u001b[0m\u001b[0;34m:\u001b[0m\u001b[0;34m\u001b[0m\u001b[0;34m\u001b[0m\u001b[0m\n\u001b[1;32m    107\u001b[0m     \u001b[0;32mif\u001b[0m \u001b[0;32mnot\u001b[0m \u001b[0mself\u001b[0m\u001b[0;34m.\u001b[0m\u001b[0m_in_multi_worker_mode\u001b[0m\u001b[0;34m(\u001b[0m\u001b[0;34m)\u001b[0m\u001b[0;34m:\u001b[0m  \u001b[0;31m# pylint: disable=protected-access\u001b[0m\u001b[0;34m\u001b[0m\u001b[0;34m\u001b[0m\u001b[0m\n\u001b[0;32m--> 108\u001b[0;31m       \u001b[0;32mreturn\u001b[0m \u001b[0mmethod\u001b[0m\u001b[0;34m(\u001b[0m\u001b[0mself\u001b[0m\u001b[0;34m,\u001b[0m \u001b[0;34m*\u001b[0m\u001b[0margs\u001b[0m\u001b[0;34m,\u001b[0m \u001b[0;34m**\u001b[0m\u001b[0mkwargs\u001b[0m\u001b[0;34m)\u001b[0m\u001b[0;34m\u001b[0m\u001b[0;34m\u001b[0m\u001b[0m\n\u001b[0m\u001b[1;32m    109\u001b[0m \u001b[0;34m\u001b[0m\u001b[0m\n\u001b[1;32m    110\u001b[0m     \u001b[0;31m# Running inside `run_distribute_coordinator` already.\u001b[0m\u001b[0;34m\u001b[0m\u001b[0;34m\u001b[0m\u001b[0;34m\u001b[0m\u001b[0m\n",
      "\u001b[0;32m~/anaconda3/envs/mlenv/lib/python3.7/site-packages/tensorflow/python/keras/engine/training.py\u001b[0m in \u001b[0;36mfit\u001b[0;34m(self, x, y, batch_size, epochs, verbose, callbacks, validation_split, validation_data, shuffle, class_weight, sample_weight, initial_epoch, steps_per_epoch, validation_steps, validation_batch_size, validation_freq, max_queue_size, workers, use_multiprocessing)\u001b[0m\n\u001b[1;32m   1096\u001b[0m                 batch_size=batch_size):\n\u001b[1;32m   1097\u001b[0m               \u001b[0mcallbacks\u001b[0m\u001b[0;34m.\u001b[0m\u001b[0mon_train_batch_begin\u001b[0m\u001b[0;34m(\u001b[0m\u001b[0mstep\u001b[0m\u001b[0;34m)\u001b[0m\u001b[0;34m\u001b[0m\u001b[0;34m\u001b[0m\u001b[0m\n\u001b[0;32m-> 1098\u001b[0;31m               \u001b[0mtmp_logs\u001b[0m \u001b[0;34m=\u001b[0m \u001b[0mtrain_function\u001b[0m\u001b[0;34m(\u001b[0m\u001b[0miterator\u001b[0m\u001b[0;34m)\u001b[0m\u001b[0;34m\u001b[0m\u001b[0;34m\u001b[0m\u001b[0m\n\u001b[0m\u001b[1;32m   1099\u001b[0m               \u001b[0;32mif\u001b[0m \u001b[0mdata_handler\u001b[0m\u001b[0;34m.\u001b[0m\u001b[0mshould_sync\u001b[0m\u001b[0;34m:\u001b[0m\u001b[0;34m\u001b[0m\u001b[0;34m\u001b[0m\u001b[0m\n\u001b[1;32m   1100\u001b[0m                 \u001b[0mcontext\u001b[0m\u001b[0;34m.\u001b[0m\u001b[0masync_wait\u001b[0m\u001b[0;34m(\u001b[0m\u001b[0;34m)\u001b[0m\u001b[0;34m\u001b[0m\u001b[0;34m\u001b[0m\u001b[0m\n",
      "\u001b[0;32m~/anaconda3/envs/mlenv/lib/python3.7/site-packages/tensorflow/python/eager/def_function.py\u001b[0m in \u001b[0;36m__call__\u001b[0;34m(self, *args, **kwds)\u001b[0m\n\u001b[1;32m    778\u001b[0m       \u001b[0;32melse\u001b[0m\u001b[0;34m:\u001b[0m\u001b[0;34m\u001b[0m\u001b[0;34m\u001b[0m\u001b[0m\n\u001b[1;32m    779\u001b[0m         \u001b[0mcompiler\u001b[0m \u001b[0;34m=\u001b[0m \u001b[0;34m\"nonXla\"\u001b[0m\u001b[0;34m\u001b[0m\u001b[0;34m\u001b[0m\u001b[0m\n\u001b[0;32m--> 780\u001b[0;31m         \u001b[0mresult\u001b[0m \u001b[0;34m=\u001b[0m \u001b[0mself\u001b[0m\u001b[0;34m.\u001b[0m\u001b[0m_call\u001b[0m\u001b[0;34m(\u001b[0m\u001b[0;34m*\u001b[0m\u001b[0margs\u001b[0m\u001b[0;34m,\u001b[0m \u001b[0;34m**\u001b[0m\u001b[0mkwds\u001b[0m\u001b[0;34m)\u001b[0m\u001b[0;34m\u001b[0m\u001b[0;34m\u001b[0m\u001b[0m\n\u001b[0m\u001b[1;32m    781\u001b[0m \u001b[0;34m\u001b[0m\u001b[0m\n\u001b[1;32m    782\u001b[0m       \u001b[0mnew_tracing_count\u001b[0m \u001b[0;34m=\u001b[0m \u001b[0mself\u001b[0m\u001b[0;34m.\u001b[0m\u001b[0m_get_tracing_count\u001b[0m\u001b[0;34m(\u001b[0m\u001b[0;34m)\u001b[0m\u001b[0;34m\u001b[0m\u001b[0;34m\u001b[0m\u001b[0m\n",
      "\u001b[0;32m~/anaconda3/envs/mlenv/lib/python3.7/site-packages/tensorflow/python/eager/def_function.py\u001b[0m in \u001b[0;36m_call\u001b[0;34m(self, *args, **kwds)\u001b[0m\n\u001b[1;32m    805\u001b[0m       \u001b[0;31m# In this case we have created variables on the first call, so we run the\u001b[0m\u001b[0;34m\u001b[0m\u001b[0;34m\u001b[0m\u001b[0;34m\u001b[0m\u001b[0m\n\u001b[1;32m    806\u001b[0m       \u001b[0;31m# defunned version which is guaranteed to never create variables.\u001b[0m\u001b[0;34m\u001b[0m\u001b[0;34m\u001b[0m\u001b[0;34m\u001b[0m\u001b[0m\n\u001b[0;32m--> 807\u001b[0;31m       \u001b[0;32mreturn\u001b[0m \u001b[0mself\u001b[0m\u001b[0;34m.\u001b[0m\u001b[0m_stateless_fn\u001b[0m\u001b[0;34m(\u001b[0m\u001b[0;34m*\u001b[0m\u001b[0margs\u001b[0m\u001b[0;34m,\u001b[0m \u001b[0;34m**\u001b[0m\u001b[0mkwds\u001b[0m\u001b[0;34m)\u001b[0m  \u001b[0;31m# pylint: disable=not-callable\u001b[0m\u001b[0;34m\u001b[0m\u001b[0;34m\u001b[0m\u001b[0m\n\u001b[0m\u001b[1;32m    808\u001b[0m     \u001b[0;32melif\u001b[0m \u001b[0mself\u001b[0m\u001b[0;34m.\u001b[0m\u001b[0m_stateful_fn\u001b[0m \u001b[0;32mis\u001b[0m \u001b[0;32mnot\u001b[0m \u001b[0;32mNone\u001b[0m\u001b[0;34m:\u001b[0m\u001b[0;34m\u001b[0m\u001b[0;34m\u001b[0m\u001b[0m\n\u001b[1;32m    809\u001b[0m       \u001b[0;31m# Release the lock early so that multiple threads can perform the call\u001b[0m\u001b[0;34m\u001b[0m\u001b[0;34m\u001b[0m\u001b[0;34m\u001b[0m\u001b[0m\n",
      "\u001b[0;32m~/anaconda3/envs/mlenv/lib/python3.7/site-packages/tensorflow/python/eager/function.py\u001b[0m in \u001b[0;36m__call__\u001b[0;34m(self, *args, **kwargs)\u001b[0m\n\u001b[1;32m   2827\u001b[0m     \u001b[0;32mwith\u001b[0m \u001b[0mself\u001b[0m\u001b[0;34m.\u001b[0m\u001b[0m_lock\u001b[0m\u001b[0;34m:\u001b[0m\u001b[0;34m\u001b[0m\u001b[0;34m\u001b[0m\u001b[0m\n\u001b[1;32m   2828\u001b[0m       \u001b[0mgraph_function\u001b[0m\u001b[0;34m,\u001b[0m \u001b[0margs\u001b[0m\u001b[0;34m,\u001b[0m \u001b[0mkwargs\u001b[0m \u001b[0;34m=\u001b[0m \u001b[0mself\u001b[0m\u001b[0;34m.\u001b[0m\u001b[0m_maybe_define_function\u001b[0m\u001b[0;34m(\u001b[0m\u001b[0margs\u001b[0m\u001b[0;34m,\u001b[0m \u001b[0mkwargs\u001b[0m\u001b[0;34m)\u001b[0m\u001b[0;34m\u001b[0m\u001b[0;34m\u001b[0m\u001b[0m\n\u001b[0;32m-> 2829\u001b[0;31m     \u001b[0;32mreturn\u001b[0m \u001b[0mgraph_function\u001b[0m\u001b[0;34m.\u001b[0m\u001b[0m_filtered_call\u001b[0m\u001b[0;34m(\u001b[0m\u001b[0margs\u001b[0m\u001b[0;34m,\u001b[0m \u001b[0mkwargs\u001b[0m\u001b[0;34m)\u001b[0m  \u001b[0;31m# pylint: disable=protected-access\u001b[0m\u001b[0;34m\u001b[0m\u001b[0;34m\u001b[0m\u001b[0m\n\u001b[0m\u001b[1;32m   2830\u001b[0m \u001b[0;34m\u001b[0m\u001b[0m\n\u001b[1;32m   2831\u001b[0m   \u001b[0;34m@\u001b[0m\u001b[0mproperty\u001b[0m\u001b[0;34m\u001b[0m\u001b[0;34m\u001b[0m\u001b[0m\n",
      "\u001b[0;32m~/anaconda3/envs/mlenv/lib/python3.7/site-packages/tensorflow/python/eager/function.py\u001b[0m in \u001b[0;36m_filtered_call\u001b[0;34m(self, args, kwargs, cancellation_manager)\u001b[0m\n\u001b[1;32m   1846\u001b[0m                            resource_variable_ops.BaseResourceVariable))],\n\u001b[1;32m   1847\u001b[0m         \u001b[0mcaptured_inputs\u001b[0m\u001b[0;34m=\u001b[0m\u001b[0mself\u001b[0m\u001b[0;34m.\u001b[0m\u001b[0mcaptured_inputs\u001b[0m\u001b[0;34m,\u001b[0m\u001b[0;34m\u001b[0m\u001b[0;34m\u001b[0m\u001b[0m\n\u001b[0;32m-> 1848\u001b[0;31m         cancellation_manager=cancellation_manager)\n\u001b[0m\u001b[1;32m   1849\u001b[0m \u001b[0;34m\u001b[0m\u001b[0m\n\u001b[1;32m   1850\u001b[0m   \u001b[0;32mdef\u001b[0m \u001b[0m_call_flat\u001b[0m\u001b[0;34m(\u001b[0m\u001b[0mself\u001b[0m\u001b[0;34m,\u001b[0m \u001b[0margs\u001b[0m\u001b[0;34m,\u001b[0m \u001b[0mcaptured_inputs\u001b[0m\u001b[0;34m,\u001b[0m \u001b[0mcancellation_manager\u001b[0m\u001b[0;34m=\u001b[0m\u001b[0;32mNone\u001b[0m\u001b[0;34m)\u001b[0m\u001b[0;34m:\u001b[0m\u001b[0;34m\u001b[0m\u001b[0;34m\u001b[0m\u001b[0m\n",
      "\u001b[0;32m~/anaconda3/envs/mlenv/lib/python3.7/site-packages/tensorflow/python/eager/function.py\u001b[0m in \u001b[0;36m_call_flat\u001b[0;34m(self, args, captured_inputs, cancellation_manager)\u001b[0m\n\u001b[1;32m   1922\u001b[0m       \u001b[0;31m# No tape is watching; skip to running the function.\u001b[0m\u001b[0;34m\u001b[0m\u001b[0;34m\u001b[0m\u001b[0;34m\u001b[0m\u001b[0m\n\u001b[1;32m   1923\u001b[0m       return self._build_call_outputs(self._inference_function.call(\n\u001b[0;32m-> 1924\u001b[0;31m           ctx, args, cancellation_manager=cancellation_manager))\n\u001b[0m\u001b[1;32m   1925\u001b[0m     forward_backward = self._select_forward_and_backward_functions(\n\u001b[1;32m   1926\u001b[0m         \u001b[0margs\u001b[0m\u001b[0;34m,\u001b[0m\u001b[0;34m\u001b[0m\u001b[0;34m\u001b[0m\u001b[0m\n",
      "\u001b[0;32m~/anaconda3/envs/mlenv/lib/python3.7/site-packages/tensorflow/python/eager/function.py\u001b[0m in \u001b[0;36mcall\u001b[0;34m(self, ctx, args, cancellation_manager)\u001b[0m\n\u001b[1;32m    548\u001b[0m               \u001b[0minputs\u001b[0m\u001b[0;34m=\u001b[0m\u001b[0margs\u001b[0m\u001b[0;34m,\u001b[0m\u001b[0;34m\u001b[0m\u001b[0;34m\u001b[0m\u001b[0m\n\u001b[1;32m    549\u001b[0m               \u001b[0mattrs\u001b[0m\u001b[0;34m=\u001b[0m\u001b[0mattrs\u001b[0m\u001b[0;34m,\u001b[0m\u001b[0;34m\u001b[0m\u001b[0;34m\u001b[0m\u001b[0m\n\u001b[0;32m--> 550\u001b[0;31m               ctx=ctx)\n\u001b[0m\u001b[1;32m    551\u001b[0m         \u001b[0;32melse\u001b[0m\u001b[0;34m:\u001b[0m\u001b[0;34m\u001b[0m\u001b[0;34m\u001b[0m\u001b[0m\n\u001b[1;32m    552\u001b[0m           outputs = execute.execute_with_cancellation(\n",
      "\u001b[0;32m~/anaconda3/envs/mlenv/lib/python3.7/site-packages/tensorflow/python/eager/execute.py\u001b[0m in \u001b[0;36mquick_execute\u001b[0;34m(op_name, num_outputs, inputs, attrs, ctx, name)\u001b[0m\n\u001b[1;32m     58\u001b[0m     \u001b[0mctx\u001b[0m\u001b[0;34m.\u001b[0m\u001b[0mensure_initialized\u001b[0m\u001b[0;34m(\u001b[0m\u001b[0;34m)\u001b[0m\u001b[0;34m\u001b[0m\u001b[0;34m\u001b[0m\u001b[0m\n\u001b[1;32m     59\u001b[0m     tensors = pywrap_tfe.TFE_Py_Execute(ctx._handle, device_name, op_name,\n\u001b[0;32m---> 60\u001b[0;31m                                         inputs, attrs, num_outputs)\n\u001b[0m\u001b[1;32m     61\u001b[0m   \u001b[0;32mexcept\u001b[0m \u001b[0mcore\u001b[0m\u001b[0;34m.\u001b[0m\u001b[0m_NotOkStatusException\u001b[0m \u001b[0;32mas\u001b[0m \u001b[0me\u001b[0m\u001b[0;34m:\u001b[0m\u001b[0;34m\u001b[0m\u001b[0;34m\u001b[0m\u001b[0m\n\u001b[1;32m     62\u001b[0m     \u001b[0;32mif\u001b[0m \u001b[0mname\u001b[0m \u001b[0;32mis\u001b[0m \u001b[0;32mnot\u001b[0m \u001b[0;32mNone\u001b[0m\u001b[0;34m:\u001b[0m\u001b[0;34m\u001b[0m\u001b[0;34m\u001b[0m\u001b[0m\n",
      "\u001b[0;31mKeyboardInterrupt\u001b[0m: "
     ]
    }
   ],
   "source": [
    "total_sample= train_generator.n\n",
    "batch_size=128\n",
    "\n",
    "\n",
    "history= model.fit_generator(\n",
    "            train_generator, steps_per_epoch=int(total_sample/batch_size),\n",
    "            epochs=100,\n",
    "            validation_data=test_generator)"
   ]
  },
  {
   "cell_type": "code",
   "execution_count": null,
   "metadata": {},
   "outputs": [],
   "source": [
    "# Save Model-save weights\n",
    "classifier.save(\"model_4tf_vgg16.h5\")"
   ]
  },
  {
   "cell_type": "code",
   "execution_count": null,
   "metadata": {},
   "outputs": [],
   "source": [
    "# Train loss/ Train Accuracy\n",
    "train_loss, train_acc = model.evaluate(train_generator)\n",
    "print(\"\\n Train Accuracy:\", train_acc)\n",
    "print(\"\\n Train Loss:\", train_loss)"
   ]
  },
  {
   "cell_type": "code",
   "execution_count": null,
   "metadata": {},
   "outputs": [],
   "source": [
    "# Test Loss/ Test Accuracy\n",
    "test_loss, test_acc= model.evaluate(test_generator)\n",
    "print(\"\\n Test Accuracy:\", test_acc)\n",
    "print(\"\\n Test Loss:\", test_loss)"
   ]
  },
  {
   "cell_type": "code",
   "execution_count": null,
   "metadata": {},
   "outputs": [],
   "source": [
    "model.metrics_names"
   ]
  },
  {
   "cell_type": "code",
   "execution_count": null,
   "metadata": {},
   "outputs": [],
   "source": [
    "# PLOT ACCURACY\n",
    "plt.plot(history.history['accuracy'])\n",
    "plt.plot(history.history['val_accuracy'])\n",
    "plt.title('Model 3 Accuracy per Epoch')\n",
    "plt.ylabel('accuracy')\n",
    "plt.xlabel('epoch')\n",
    "plt.legend(['train', 'test'], loc='lower center')\n",
    "plt.show()"
   ]
  },
  {
   "cell_type": "code",
   "execution_count": null,
   "metadata": {},
   "outputs": [],
   "source": [
    "# PLOT LOSS\n",
    "plt.plot(history.history['loss'])\n",
    "plt.plot(history.history['val_loss'])\n",
    "plt.title('Model 3 Accuracy per Epoch')\n",
    "plt.ylabel('loss')\n",
    "plt.xlabel('epoch')\n",
    "plt.legend(['train', 'test'], loc='lower center')\n",
    "plt.show()"
   ]
  },
  {
   "cell_type": "markdown",
   "metadata": {},
   "source": [
    "## Model 4 at 100 epochs, from before..."
   ]
  },
  {
   "cell_type": "code",
   "execution_count": 12,
   "metadata": {},
   "outputs": [
    {
     "name": "stdout",
     "output_type": "stream",
     "text": [
      "Found 2893 images belonging to 3 classes.\n",
      "Found 1238 images belonging to 3 classes.\n"
     ]
    }
   ],
   "source": [
    "# Model 4- Transfer Learning\n",
    "data_dir = \"Database/\"\n",
    "\n",
    "# Rescale images \n",
    "datagen= ImageDataGenerator(rescale=1/255,validation_split=.3,rotation_range=20,\n",
    "                           shear_range=.2,width_shift_range=0.1,height_shift_range=0.1,zoom_range=0.2,\n",
    "                           preprocessing_function=preprocess_input)\n",
    "\n",
    "# Flow training images in batches of 128 using train_data \n",
    "train_generator= datagen.flow_from_directory(\n",
    "                data_dir,\n",
    "                target_size=(64,64),\n",
    "                batch_size=batch_size,\n",
    "                subset=\"training\",\n",
    "                class_mode=\"categorical\", \n",
    "                classes= [\"COVID19\", \"NORMAL\",\"Viral_Pneumonia\"],\n",
    "                shuffle=True, seed=30)\n",
    "\n",
    "\n",
    "datagen2=ImageDataGenerator(rescale=1/255,validation_split=.3,\n",
    "                            preprocessing_function=preprocess_input)\n",
    "\n",
    "test_generator=datagen2.flow_from_directory(\n",
    "                data_dir,\n",
    "                target_size=(64,64),\n",
    "                batch_size=batch_size,\n",
    "                classes= [\"COVID19\", \"NORMAL\",\"Viral_Pneumonia\"],\n",
    "                class_mode=\"categorical\", subset=\"validation\", shuffle=True, seed=30)"
   ]
  },
  {
   "cell_type": "code",
   "execution_count": 13,
   "metadata": {},
   "outputs": [],
   "source": [
    "datagen= ImageDataGenerator(rescale=1/255,validation_split=.3)\n",
    "\n",
    "classifier=VGG16(weights=\"imagenet\", include_top=False, input_shape=(64,64,3))\n",
    "\n",
    "for layer in classifier.layers:\n",
    "    layer.trainable=False\n",
    "\n",
    "x=Flatten()(classifier.output)\n",
    "x=Dense(3, activation=\"softmax\")(x)\n",
    "\n",
    "model=Model(inputs=classifier.input, outputs=x)\n",
    "model.compile(loss=\"categorical_crossentropy\", optimizer=\"adam\",metrics=[\"accuracy\"])"
   ]
  },
  {
   "cell_type": "code",
   "execution_count": 14,
   "metadata": {},
   "outputs": [
    {
     "name": "stdout",
     "output_type": "stream",
     "text": [
      "Epoch 1/100\n",
      "22/22 [==============================] - 67s 3s/step - loss: 0.8128 - accuracy: 0.7052 - val_loss: 0.6017 - val_accuracy: 0.8069\n",
      "Epoch 2/100\n",
      "22/22 [==============================] - 66s 3s/step - loss: 0.5718 - accuracy: 0.8145 - val_loss: 0.5529 - val_accuracy: 0.7504\n",
      "Epoch 3/100\n",
      "22/22 [==============================] - 65s 3s/step - loss: 0.4830 - accuracy: 0.8427 - val_loss: 0.4969 - val_accuracy: 0.7763\n",
      "Epoch 4/100\n",
      "22/22 [==============================] - 66s 3s/step - loss: 0.4414 - accuracy: 0.8495 - val_loss: 0.4655 - val_accuracy: 0.7989\n",
      "Epoch 5/100\n",
      "22/22 [==============================] - 64s 3s/step - loss: 0.4107 - accuracy: 0.8582 - val_loss: 0.5311 - val_accuracy: 0.7447\n",
      "Epoch 6/100\n",
      "22/22 [==============================] - 67s 3s/step - loss: 0.3899 - accuracy: 0.8752 - val_loss: 0.4976 - val_accuracy: 0.7738\n",
      "Epoch 7/100\n",
      "22/22 [==============================] - 66s 3s/step - loss: 0.3798 - accuracy: 0.8676 - val_loss: 0.4605 - val_accuracy: 0.7981\n",
      "Epoch 8/100\n",
      "22/22 [==============================] - 65s 3s/step - loss: 0.3683 - accuracy: 0.8676 - val_loss: 0.4430 - val_accuracy: 0.8053\n",
      "Epoch 9/100\n",
      "22/22 [==============================] - 65s 3s/step - loss: 0.3561 - accuracy: 0.8752 - val_loss: 0.4203 - val_accuracy: 0.8215\n",
      "Epoch 10/100\n",
      "22/22 [==============================] - 65s 3s/step - loss: 0.3359 - accuracy: 0.8817 - val_loss: 0.4641 - val_accuracy: 0.7940\n",
      "Epoch 11/100\n",
      "22/22 [==============================] - 66s 3s/step - loss: 0.3290 - accuracy: 0.8915 - val_loss: 0.4488 - val_accuracy: 0.8053\n",
      "Epoch 12/100\n",
      "22/22 [==============================] - 64s 3s/step - loss: 0.3161 - accuracy: 0.8933 - val_loss: 0.3753 - val_accuracy: 0.8481\n",
      "Epoch 13/100\n",
      "22/22 [==============================] - 855s 39s/step - loss: 0.3087 - accuracy: 0.8893 - val_loss: 0.4058 - val_accuracy: 0.8328\n",
      "Epoch 14/100\n",
      "22/22 [==============================] - 2852s 130s/step - loss: 0.3165 - accuracy: 0.8875 - val_loss: 0.4277 - val_accuracy: 0.8150\n",
      "Epoch 15/100\n",
      "22/22 [==============================] - 2054s 93s/step - loss: 0.2945 - accuracy: 0.9038 - val_loss: 0.4775 - val_accuracy: 0.7916\n",
      "Epoch 16/100\n",
      "22/22 [==============================] - 192s 9s/step - loss: 0.2914 - accuracy: 0.9016 - val_loss: 0.4322 - val_accuracy: 0.8174\n",
      "Epoch 17/100\n",
      "22/22 [==============================] - 65s 3s/step - loss: 0.2952 - accuracy: 0.8893 - val_loss: 0.4437 - val_accuracy: 0.8110\n",
      "Epoch 18/100\n",
      "22/22 [==============================] - 65s 3s/step - loss: 0.2960 - accuracy: 0.8926 - val_loss: 0.4435 - val_accuracy: 0.8078\n",
      "Epoch 19/100\n",
      "22/22 [==============================] - 64s 3s/step - loss: 0.2880 - accuracy: 0.8948 - val_loss: 0.4198 - val_accuracy: 0.8191\n",
      "Epoch 20/100\n",
      "22/22 [==============================] - 65s 3s/step - loss: 0.2826 - accuracy: 0.9071 - val_loss: 0.3894 - val_accuracy: 0.8384\n",
      "Epoch 21/100\n",
      "22/22 [==============================] - 66s 3s/step - loss: 0.2782 - accuracy: 0.9020 - val_loss: 0.4410 - val_accuracy: 0.8134\n",
      "Epoch 22/100\n",
      "22/22 [==============================] - 65s 3s/step - loss: 0.2803 - accuracy: 0.9045 - val_loss: 0.3961 - val_accuracy: 0.8368\n",
      "Epoch 23/100\n",
      "22/22 [==============================] - 65s 3s/step - loss: 0.2702 - accuracy: 0.9045 - val_loss: 0.4093 - val_accuracy: 0.8223\n",
      "Epoch 24/100\n",
      "22/22 [==============================] - 65s 3s/step - loss: 0.2717 - accuracy: 0.9060 - val_loss: 0.4380 - val_accuracy: 0.8102\n",
      "Epoch 25/100\n",
      "22/22 [==============================] - 65s 3s/step - loss: 0.2779 - accuracy: 0.9016 - val_loss: 0.4022 - val_accuracy: 0.8336\n",
      "Epoch 26/100\n",
      "22/22 [==============================] - 206s 9s/step - loss: 0.2721 - accuracy: 0.8995 - val_loss: 0.3886 - val_accuracy: 0.8401\n",
      "Epoch 27/100\n",
      "22/22 [==============================] - 65s 3s/step - loss: 0.2636 - accuracy: 0.9143 - val_loss: 0.3801 - val_accuracy: 0.8449\n",
      "Epoch 28/100\n",
      "22/22 [==============================] - 67s 3s/step - loss: 0.2523 - accuracy: 0.9071 - val_loss: 0.4004 - val_accuracy: 0.8320\n",
      "Epoch 29/100\n",
      "22/22 [==============================] - 65s 3s/step - loss: 0.2644 - accuracy: 0.9125 - val_loss: 0.4260 - val_accuracy: 0.8191\n",
      "Epoch 30/100\n",
      "22/22 [==============================] - 65s 3s/step - loss: 0.2598 - accuracy: 0.9099 - val_loss: 0.4086 - val_accuracy: 0.8296\n",
      "Epoch 31/100\n",
      "22/22 [==============================] - 65s 3s/step - loss: 0.2504 - accuracy: 0.9143 - val_loss: 0.3847 - val_accuracy: 0.8409\n",
      "Epoch 32/100\n",
      "22/22 [==============================] - 65s 3s/step - loss: 0.2511 - accuracy: 0.9146 - val_loss: 0.3726 - val_accuracy: 0.8514\n",
      "Epoch 33/100\n",
      "22/22 [==============================] - 65s 3s/step - loss: 0.2519 - accuracy: 0.9092 - val_loss: 0.3726 - val_accuracy: 0.8489\n",
      "Epoch 34/100\n",
      "22/22 [==============================] - 65s 3s/step - loss: 0.2393 - accuracy: 0.9201 - val_loss: 0.3715 - val_accuracy: 0.8546\n",
      "Epoch 35/100\n",
      "22/22 [==============================] - 66s 3s/step - loss: 0.2572 - accuracy: 0.9139 - val_loss: 0.3974 - val_accuracy: 0.8376\n",
      "Epoch 36/100\n",
      "22/22 [==============================] - 66s 3s/step - loss: 0.2417 - accuracy: 0.9161 - val_loss: 0.3608 - val_accuracy: 0.8570\n",
      "Epoch 37/100\n",
      "22/22 [==============================] - 65s 3s/step - loss: 0.2426 - accuracy: 0.9197 - val_loss: 0.3758 - val_accuracy: 0.8498\n",
      "Epoch 38/100\n",
      "22/22 [==============================] - 65s 3s/step - loss: 0.2499 - accuracy: 0.9143 - val_loss: 0.4066 - val_accuracy: 0.8336\n",
      "Epoch 39/100\n",
      "22/22 [==============================] - 65s 3s/step - loss: 0.2413 - accuracy: 0.9197 - val_loss: 0.3968 - val_accuracy: 0.8393\n",
      "Epoch 40/100\n",
      "22/22 [==============================] - 66s 3s/step - loss: 0.2469 - accuracy: 0.9078 - val_loss: 0.3958 - val_accuracy: 0.8384\n",
      "Epoch 41/100\n",
      "22/22 [==============================] - 65s 3s/step - loss: 0.2288 - accuracy: 0.9219 - val_loss: 0.3844 - val_accuracy: 0.8465\n",
      "Epoch 42/100\n",
      "22/22 [==============================] - 66s 3s/step - loss: 0.2422 - accuracy: 0.9136 - val_loss: 0.3968 - val_accuracy: 0.8376\n",
      "Epoch 43/100\n",
      "22/22 [==============================] - 65s 3s/step - loss: 0.2427 - accuracy: 0.9150 - val_loss: 0.3744 - val_accuracy: 0.8481\n",
      "Epoch 44/100\n",
      "22/22 [==============================] - 66s 3s/step - loss: 0.2362 - accuracy: 0.9130 - val_loss: 0.4110 - val_accuracy: 0.8344\n",
      "Epoch 45/100\n",
      "22/22 [==============================] - 65s 3s/step - loss: 0.2432 - accuracy: 0.9183 - val_loss: 0.4062 - val_accuracy: 0.8360\n",
      "Epoch 46/100\n",
      "22/22 [==============================] - 65s 3s/step - loss: 0.2394 - accuracy: 0.9230 - val_loss: 0.3628 - val_accuracy: 0.8578\n",
      "Epoch 47/100\n",
      "22/22 [==============================] - 67s 3s/step - loss: 0.2296 - accuracy: 0.9219 - val_loss: 0.3637 - val_accuracy: 0.8498\n",
      "Epoch 48/100\n",
      "22/22 [==============================] - 66s 3s/step - loss: 0.2334 - accuracy: 0.9262 - val_loss: 0.3692 - val_accuracy: 0.8514\n",
      "Epoch 49/100\n",
      "22/22 [==============================] - 65s 3s/step - loss: 0.2442 - accuracy: 0.9201 - val_loss: 0.4188 - val_accuracy: 0.8199\n",
      "Epoch 50/100\n",
      "22/22 [==============================] - 65s 3s/step - loss: 0.2278 - accuracy: 0.9208 - val_loss: 0.3729 - val_accuracy: 0.8514\n",
      "Epoch 51/100\n",
      "22/22 [==============================] - 65s 3s/step - loss: 0.2275 - accuracy: 0.9222 - val_loss: 0.4291 - val_accuracy: 0.8166\n",
      "Epoch 52/100\n",
      "22/22 [==============================] - 2129s 97s/step - loss: 0.2323 - accuracy: 0.9197 - val_loss: 0.4120 - val_accuracy: 0.8263\n",
      "Epoch 53/100\n",
      "22/22 [==============================] - 970s 44s/step - loss: 0.2337 - accuracy: 0.9183 - val_loss: 0.4177 - val_accuracy: 0.8255\n",
      "Epoch 54/100\n",
      "22/22 [==============================] - 66s 3s/step - loss: 0.2288 - accuracy: 0.9212 - val_loss: 0.3675 - val_accuracy: 0.8506\n",
      "Epoch 55/100\n",
      "22/22 [==============================] - 65s 3s/step - loss: 0.2143 - accuracy: 0.9273 - val_loss: 0.4021 - val_accuracy: 0.8376\n",
      "Epoch 56/100\n",
      "22/22 [==============================] - 66s 3s/step - loss: 0.2311 - accuracy: 0.9208 - val_loss: 0.3793 - val_accuracy: 0.8441\n",
      "Epoch 57/100\n",
      "22/22 [==============================] - 65s 3s/step - loss: 0.2269 - accuracy: 0.9186 - val_loss: 0.3423 - val_accuracy: 0.8675\n",
      "Epoch 58/100\n",
      "22/22 [==============================] - 65s 3s/step - loss: 0.2260 - accuracy: 0.9230 - val_loss: 0.3800 - val_accuracy: 0.8465\n",
      "Epoch 59/100\n",
      "22/22 [==============================] - 65s 3s/step - loss: 0.2221 - accuracy: 0.9212 - val_loss: 0.3607 - val_accuracy: 0.8554\n",
      "Epoch 60/100\n",
      "22/22 [==============================] - 65s 3s/step - loss: 0.2187 - accuracy: 0.9219 - val_loss: 0.3824 - val_accuracy: 0.8473\n",
      "Epoch 61/100\n",
      "22/22 [==============================] - 65s 3s/step - loss: 0.2223 - accuracy: 0.9222 - val_loss: 0.3632 - val_accuracy: 0.8570\n",
      "Epoch 62/100\n",
      "22/22 [==============================] - 65s 3s/step - loss: 0.2225 - accuracy: 0.9273 - val_loss: 0.3608 - val_accuracy: 0.8586\n",
      "Epoch 63/100\n",
      "22/22 [==============================] - 803s 36s/step - loss: 0.2140 - accuracy: 0.9255 - val_loss: 0.3755 - val_accuracy: 0.8465\n",
      "Epoch 64/100\n",
      "22/22 [==============================] - 744s 34s/step - loss: 0.2207 - accuracy: 0.9222 - val_loss: 0.3762 - val_accuracy: 0.8530\n",
      "Epoch 65/100\n",
      "22/22 [==============================] - 65s 3s/step - loss: 0.2128 - accuracy: 0.9284 - val_loss: 0.3850 - val_accuracy: 0.8401\n",
      "Epoch 66/100\n",
      "22/22 [==============================] - 66s 3s/step - loss: 0.2177 - accuracy: 0.9266 - val_loss: 0.3671 - val_accuracy: 0.8570\n",
      "Epoch 67/100\n",
      "22/22 [==============================] - 65s 3s/step - loss: 0.1978 - accuracy: 0.9309 - val_loss: 0.3291 - val_accuracy: 0.8796\n",
      "Epoch 68/100\n",
      "22/22 [==============================] - 65s 3s/step - loss: 0.2169 - accuracy: 0.9288 - val_loss: 0.3675 - val_accuracy: 0.8522\n",
      "Epoch 69/100\n",
      "22/22 [==============================] - 66s 3s/step - loss: 0.2091 - accuracy: 0.9302 - val_loss: 0.3687 - val_accuracy: 0.8522\n",
      "Epoch 70/100\n",
      "22/22 [==============================] - 65s 3s/step - loss: 0.2229 - accuracy: 0.9233 - val_loss: 0.3894 - val_accuracy: 0.8360\n",
      "Epoch 71/100\n",
      "22/22 [==============================] - 66s 3s/step - loss: 0.2134 - accuracy: 0.9230 - val_loss: 0.4159 - val_accuracy: 0.8336\n",
      "Epoch 72/100\n",
      "22/22 [==============================] - 66s 3s/step - loss: 0.2212 - accuracy: 0.9248 - val_loss: 0.3299 - val_accuracy: 0.8764\n",
      "Epoch 73/100\n",
      "22/22 [==============================] - 65s 3s/step - loss: 0.2133 - accuracy: 0.9280 - val_loss: 0.4078 - val_accuracy: 0.8320\n",
      "Epoch 74/100\n",
      "22/22 [==============================] - 65s 3s/step - loss: 0.2161 - accuracy: 0.9259 - val_loss: 0.3620 - val_accuracy: 0.8538\n",
      "Epoch 75/100\n",
      "22/22 [==============================] - 66s 3s/step - loss: 0.2122 - accuracy: 0.9277 - val_loss: 0.3746 - val_accuracy: 0.8441\n",
      "Epoch 76/100\n",
      "22/22 [==============================] - 66s 3s/step - loss: 0.2057 - accuracy: 0.9298 - val_loss: 0.3812 - val_accuracy: 0.8401\n",
      "Epoch 77/100\n",
      "22/22 [==============================] - 66s 3s/step - loss: 0.2150 - accuracy: 0.9266 - val_loss: 0.4054 - val_accuracy: 0.8344\n",
      "Epoch 78/100\n",
      "22/22 [==============================] - 65s 3s/step - loss: 0.2087 - accuracy: 0.9306 - val_loss: 0.3935 - val_accuracy: 0.8401\n",
      "Epoch 79/100\n",
      "22/22 [==============================] - 66s 3s/step - loss: 0.2056 - accuracy: 0.9273 - val_loss: 0.4238 - val_accuracy: 0.8247\n",
      "Epoch 80/100\n",
      "22/22 [==============================] - 66s 3s/step - loss: 0.2027 - accuracy: 0.9313 - val_loss: 0.3538 - val_accuracy: 0.8611\n",
      "Epoch 81/100\n",
      "22/22 [==============================] - 65s 3s/step - loss: 0.2048 - accuracy: 0.9273 - val_loss: 0.3578 - val_accuracy: 0.8643\n",
      "Epoch 82/100\n",
      "22/22 [==============================] - 66s 3s/step - loss: 0.2015 - accuracy: 0.9302 - val_loss: 0.3735 - val_accuracy: 0.8465\n",
      "Epoch 83/100\n",
      "22/22 [==============================] - 65s 3s/step - loss: 0.2083 - accuracy: 0.9313 - val_loss: 0.3892 - val_accuracy: 0.8360\n",
      "Epoch 84/100\n",
      "22/22 [==============================] - 65s 3s/step - loss: 0.2026 - accuracy: 0.9353 - val_loss: 0.3856 - val_accuracy: 0.8441\n",
      "Epoch 85/100\n",
      "22/22 [==============================] - 65s 3s/step - loss: 0.2047 - accuracy: 0.9291 - val_loss: 0.3920 - val_accuracy: 0.8433\n",
      "Epoch 86/100\n",
      "22/22 [==============================] - 65s 3s/step - loss: 0.2069 - accuracy: 0.9280 - val_loss: 0.3820 - val_accuracy: 0.8465\n",
      "Epoch 87/100\n",
      "22/22 [==============================] - 74s 3s/step - loss: 0.2094 - accuracy: 0.9298 - val_loss: 0.3794 - val_accuracy: 0.8473\n",
      "Epoch 88/100\n",
      "22/22 [==============================] - 68s 3s/step - loss: 0.2000 - accuracy: 0.9324 - val_loss: 0.4244 - val_accuracy: 0.8255\n",
      "Epoch 89/100\n",
      "22/22 [==============================] - 65s 3s/step - loss: 0.2049 - accuracy: 0.9313 - val_loss: 0.3750 - val_accuracy: 0.8498\n",
      "Epoch 90/100\n",
      "22/22 [==============================] - 65s 3s/step - loss: 0.2023 - accuracy: 0.9298 - val_loss: 0.3689 - val_accuracy: 0.8538\n",
      "Epoch 91/100\n",
      "22/22 [==============================] - 65s 3s/step - loss: 0.2036 - accuracy: 0.9298 - val_loss: 0.3918 - val_accuracy: 0.8393\n",
      "Epoch 92/100\n",
      "22/22 [==============================] - 65s 3s/step - loss: 0.1986 - accuracy: 0.9335 - val_loss: 0.4042 - val_accuracy: 0.8344\n",
      "Epoch 93/100\n",
      "22/22 [==============================] - 65s 3s/step - loss: 0.1999 - accuracy: 0.9306 - val_loss: 0.3507 - val_accuracy: 0.8691\n",
      "Epoch 94/100\n",
      "22/22 [==============================] - 66s 3s/step - loss: 0.2032 - accuracy: 0.9295 - val_loss: 0.3942 - val_accuracy: 0.8433\n",
      "Epoch 95/100\n",
      "22/22 [==============================] - 66s 3s/step - loss: 0.1992 - accuracy: 0.9309 - val_loss: 0.3757 - val_accuracy: 0.8481\n",
      "Epoch 96/100\n",
      "22/22 [==============================] - 65s 3s/step - loss: 0.2030 - accuracy: 0.9302 - val_loss: 0.3414 - val_accuracy: 0.8732\n",
      "Epoch 97/100\n",
      "22/22 [==============================] - 65s 3s/step - loss: 0.2059 - accuracy: 0.9269 - val_loss: 0.3698 - val_accuracy: 0.8530\n",
      "Epoch 98/100\n",
      "22/22 [==============================] - 66s 3s/step - loss: 0.1995 - accuracy: 0.9342 - val_loss: 0.3893 - val_accuracy: 0.8473\n",
      "Epoch 99/100\n",
      "22/22 [==============================] - 66s 3s/step - loss: 0.2037 - accuracy: 0.9342 - val_loss: 0.3567 - val_accuracy: 0.8578\n",
      "Epoch 100/100\n",
      "22/22 [==============================] - 66s 3s/step - loss: 0.1842 - accuracy: 0.9367 - val_loss: 0.3949 - val_accuracy: 0.8360\n"
     ]
    }
   ],
   "source": [
    "total_sample= train_generator.n\n",
    "batch_size=128\n",
    "\n",
    "\n",
    "history= model.fit_generator(\n",
    "            train_generator, steps_per_epoch=int(total_sample/batch_size),\n",
    "            epochs=100,\n",
    "            validation_data=test_generator)"
   ]
  },
  {
   "cell_type": "markdown",
   "metadata": {},
   "source": [
    "## Model 5-Transfer Learning"
   ]
  },
  {
   "cell_type": "code",
   "execution_count": 15,
   "metadata": {},
   "outputs": [
    {
     "name": "stdout",
     "output_type": "stream",
     "text": [
      "Found 2893 images belonging to 3 classes.\n",
      "Found 1238 images belonging to 3 classes.\n"
     ]
    }
   ],
   "source": [
    "# Model 5- Transfer Learning\n",
    "data_dir = \"Database/\"\n",
    "\n",
    "# Rescale images \n",
    "datagen= ImageDataGenerator(rescale=1/255,validation_split=.3,rotation_range=20,\n",
    "                           shear_range=.2,width_shift_range=0.1,height_shift_range=0.1,zoom_range=0.2,\n",
    "                           preprocessing_function=preprocess_input)\n",
    "\n",
    "# Flow training images in batches of 128 using train_data \n",
    "train_generator= datagen.flow_from_directory(\n",
    "                data_dir,\n",
    "                target_size=(64,64),\n",
    "                batch_size=batch_size,\n",
    "                subset=\"training\",\n",
    "                class_mode=\"categorical\", \n",
    "                classes= [\"COVID19\", \"NORMAL\",\"Viral_Pneumonia\"],\n",
    "                shuffle=True, seed=30)\n",
    "\n",
    "\n",
    "datagen2=ImageDataGenerator(rescale=1/255,validation_split=.3,\n",
    "                            preprocessing_function=preprocess_input)\n",
    "\n",
    "test_generator=datagen2.flow_from_directory(\n",
    "                data_dir,\n",
    "                target_size=(64,64),\n",
    "                batch_size=batch_size,\n",
    "                classes= [\"COVID19\", \"NORMAL\",\"Viral_Pneumonia\"],\n",
    "                class_mode=\"categorical\", subset=\"validation\", shuffle=True, seed=30)"
   ]
  },
  {
   "cell_type": "code",
   "execution_count": 18,
   "metadata": {},
   "outputs": [],
   "source": [
    "datagen= ImageDataGenerator(rescale=1/255,validation_split=.3)\n",
    "\n",
    "# classifier=VGG16(weights=\"imagenet\", include_top=False, input_shape=(64,64,3))\n",
    "\n",
    "\n",
    "# x=Flatten()(classifier.output)\n",
    "# x=Dense(3, activation=\"softmax\")(x)\n",
    "\n",
    "\n",
    "classifier = VGG16(weights=\"imagenet\", include_top=False, input_tensor=Input(shape=(64, 64, 3)))\n",
    "\n",
    "x = classifier.output\n",
    "x = AveragePooling2D(pool_size=(2, 2))(x)\n",
    "x = Flatten(name=\"flatten\")(x)\n",
    "x = Dense(128, activation=\"relu\")(x)\n",
    "x = Dropout(0.6)(x)\n",
    "x = Dense(3, activation=\"softmax\")(x)\n",
    "\n",
    "for layer in classifier.layers:\n",
    "    layer.trainable=False\n",
    "\n",
    "model=Model(inputs=classifier.input, outputs=x)\n",
    "model.compile(loss=\"categorical_crossentropy\", optimizer=\"adam\",metrics=[\"accuracy\"])"
   ]
  },
  {
   "cell_type": "code",
   "execution_count": 19,
   "metadata": {},
   "outputs": [
    {
     "name": "stdout",
     "output_type": "stream",
     "text": [
      "Epoch 1/50\n",
      "22/22 [==============================] - 66s 3s/step - loss: 0.9848 - accuracy: 0.5288 - val_loss: 0.6371 - val_accuracy: 0.7876\n",
      "Epoch 2/50\n",
      "22/22 [==============================] - 66s 3s/step - loss: 0.6620 - accuracy: 0.7320 - val_loss: 0.5263 - val_accuracy: 0.7617\n",
      "Epoch 3/50\n",
      "22/22 [==============================] - 66s 3s/step - loss: 0.5388 - accuracy: 0.8000 - val_loss: 0.4934 - val_accuracy: 0.7746\n",
      "Epoch 4/50\n",
      "22/22 [==============================] - 65s 3s/step - loss: 0.5017 - accuracy: 0.8134 - val_loss: 0.5262 - val_accuracy: 0.7391\n",
      "Epoch 5/50\n",
      "22/22 [==============================] - 65s 3s/step - loss: 0.4776 - accuracy: 0.8206 - val_loss: 0.5202 - val_accuracy: 0.7447\n",
      "Epoch 6/50\n",
      "22/22 [==============================] - 66s 3s/step - loss: 0.4473 - accuracy: 0.8260 - val_loss: 0.5485 - val_accuracy: 0.7278\n",
      "Epoch 7/50\n",
      "22/22 [==============================] - 66s 3s/step - loss: 0.4282 - accuracy: 0.8383 - val_loss: 0.4510 - val_accuracy: 0.7940\n",
      "Epoch 8/50\n",
      "22/22 [==============================] - 66s 3s/step - loss: 0.4151 - accuracy: 0.8391 - val_loss: 0.4751 - val_accuracy: 0.7884\n",
      "Epoch 9/50\n",
      "22/22 [==============================] - 65s 3s/step - loss: 0.3993 - accuracy: 0.8506 - val_loss: 0.5000 - val_accuracy: 0.7666\n",
      "Epoch 10/50\n",
      "22/22 [==============================] - 65s 3s/step - loss: 0.3805 - accuracy: 0.8495 - val_loss: 0.4748 - val_accuracy: 0.7811\n",
      "Epoch 11/50\n",
      "22/22 [==============================] - 65s 3s/step - loss: 0.3751 - accuracy: 0.8608 - val_loss: 0.4624 - val_accuracy: 0.7956\n",
      "Epoch 12/50\n",
      "22/22 [==============================] - 65s 3s/step - loss: 0.3672 - accuracy: 0.8600 - val_loss: 0.5093 - val_accuracy: 0.7722\n",
      "Epoch 13/50\n",
      "22/22 [==============================] - 65s 3s/step - loss: 0.3555 - accuracy: 0.8637 - val_loss: 0.4254 - val_accuracy: 0.8158\n",
      "Epoch 14/50\n",
      "22/22 [==============================] - 65s 3s/step - loss: 0.3523 - accuracy: 0.8633 - val_loss: 0.3748 - val_accuracy: 0.8425\n",
      "Epoch 15/50\n",
      "22/22 [==============================] - 65s 3s/step - loss: 0.3619 - accuracy: 0.8593 - val_loss: 0.3983 - val_accuracy: 0.8255\n",
      "Epoch 16/50\n",
      "22/22 [==============================] - 65s 3s/step - loss: 0.3348 - accuracy: 0.8705 - val_loss: 0.4217 - val_accuracy: 0.8142\n",
      "Epoch 17/50\n",
      "22/22 [==============================] - 371s 17s/step - loss: 0.3576 - accuracy: 0.8712 - val_loss: 0.4440 - val_accuracy: 0.8086\n",
      "Epoch 18/50\n",
      "22/22 [==============================] - 196s 9s/step - loss: 0.3238 - accuracy: 0.8778 - val_loss: 0.4291 - val_accuracy: 0.8142\n",
      "Epoch 19/50\n",
      "22/22 [==============================] - 66s 3s/step - loss: 0.3371 - accuracy: 0.8745 - val_loss: 0.4690 - val_accuracy: 0.7940\n",
      "Epoch 20/50\n",
      "22/22 [==============================] - 65s 3s/step - loss: 0.3202 - accuracy: 0.8825 - val_loss: 0.4268 - val_accuracy: 0.8231\n",
      "Epoch 21/50\n",
      "22/22 [==============================] - 65s 3s/step - loss: 0.3205 - accuracy: 0.8796 - val_loss: 0.4034 - val_accuracy: 0.8288\n",
      "Epoch 22/50\n",
      "22/22 [==============================] - 65s 3s/step - loss: 0.3155 - accuracy: 0.8825 - val_loss: 0.4262 - val_accuracy: 0.8191\n",
      "Epoch 23/50\n",
      "22/22 [==============================] - 65s 3s/step - loss: 0.3111 - accuracy: 0.8828 - val_loss: 0.3940 - val_accuracy: 0.8368\n",
      "Epoch 24/50\n",
      "22/22 [==============================] - 64s 3s/step - loss: 0.3138 - accuracy: 0.8774 - val_loss: 0.3690 - val_accuracy: 0.8514\n",
      "Epoch 25/50\n",
      "22/22 [==============================] - 65s 3s/step - loss: 0.3029 - accuracy: 0.8879 - val_loss: 0.4270 - val_accuracy: 0.8255\n",
      "Epoch 26/50\n",
      "22/22 [==============================] - 65s 3s/step - loss: 0.2982 - accuracy: 0.8933 - val_loss: 0.4139 - val_accuracy: 0.8255\n",
      "Epoch 27/50\n",
      "22/22 [==============================] - 65s 3s/step - loss: 0.2841 - accuracy: 0.8962 - val_loss: 0.4265 - val_accuracy: 0.8255\n",
      "Epoch 28/50\n",
      "22/22 [==============================] - 82s 4s/step - loss: 0.3112 - accuracy: 0.8850 - val_loss: 0.3858 - val_accuracy: 0.8409\n",
      "Epoch 29/50\n",
      "22/22 [==============================] - 66s 3s/step - loss: 0.2960 - accuracy: 0.8893 - val_loss: 0.3737 - val_accuracy: 0.8538\n",
      "Epoch 30/50\n",
      "22/22 [==============================] - 66s 3s/step - loss: 0.2970 - accuracy: 0.8835 - val_loss: 0.3746 - val_accuracy: 0.8457\n",
      "Epoch 31/50\n",
      "22/22 [==============================] - 66s 3s/step - loss: 0.2872 - accuracy: 0.8933 - val_loss: 0.3785 - val_accuracy: 0.8481\n",
      "Epoch 32/50\n",
      "22/22 [==============================] - 64s 3s/step - loss: 0.2876 - accuracy: 0.8937 - val_loss: 0.3967 - val_accuracy: 0.8384\n",
      "Epoch 33/50\n",
      "22/22 [==============================] - 64s 3s/step - loss: 0.2817 - accuracy: 0.8998 - val_loss: 0.4282 - val_accuracy: 0.8279\n",
      "Epoch 34/50\n",
      "22/22 [==============================] - 65s 3s/step - loss: 0.2983 - accuracy: 0.8890 - val_loss: 0.3904 - val_accuracy: 0.8393\n",
      "Epoch 35/50\n",
      "22/22 [==============================] - 65s 3s/step - loss: 0.2826 - accuracy: 0.8962 - val_loss: 0.4114 - val_accuracy: 0.8352\n",
      "Epoch 36/50\n",
      "22/22 [==============================] - 65s 3s/step - loss: 0.3011 - accuracy: 0.8958 - val_loss: 0.4543 - val_accuracy: 0.8086\n",
      "Epoch 37/50\n",
      "22/22 [==============================] - 65s 3s/step - loss: 0.2822 - accuracy: 0.8969 - val_loss: 0.4003 - val_accuracy: 0.8409\n",
      "Epoch 38/50\n",
      "22/22 [==============================] - 336s 15s/step - loss: 0.2715 - accuracy: 0.9027 - val_loss: 0.4261 - val_accuracy: 0.8312\n",
      "Epoch 39/50\n",
      "22/22 [==============================] - 1183s 54s/step - loss: 0.2783 - accuracy: 0.8940 - val_loss: 0.4346 - val_accuracy: 0.8231\n",
      "Epoch 40/50\n",
      "22/22 [==============================] - 66s 3s/step - loss: 0.2725 - accuracy: 0.8951 - val_loss: 0.4152 - val_accuracy: 0.8304\n",
      "Epoch 41/50\n",
      "22/22 [==============================] - 65s 3s/step - loss: 0.2716 - accuracy: 0.9027 - val_loss: 0.3946 - val_accuracy: 0.8393\n",
      "Epoch 42/50\n",
      "22/22 [==============================] - 65s 3s/step - loss: 0.2892 - accuracy: 0.8937 - val_loss: 0.3913 - val_accuracy: 0.8417\n",
      "Epoch 43/50\n",
      "22/22 [==============================] - 66s 3s/step - loss: 0.2775 - accuracy: 0.8951 - val_loss: 0.3749 - val_accuracy: 0.8538\n",
      "Epoch 44/50\n",
      "22/22 [==============================] - 65s 3s/step - loss: 0.2748 - accuracy: 0.9034 - val_loss: 0.4226 - val_accuracy: 0.8320\n",
      "Epoch 45/50\n",
      "22/22 [==============================] - 65s 3s/step - loss: 0.2843 - accuracy: 0.8915 - val_loss: 0.4025 - val_accuracy: 0.8376\n",
      "Epoch 46/50\n",
      "22/22 [==============================] - 66s 3s/step - loss: 0.2684 - accuracy: 0.9013 - val_loss: 0.4142 - val_accuracy: 0.8336\n",
      "Epoch 47/50\n",
      "22/22 [==============================] - 65s 3s/step - loss: 0.2680 - accuracy: 0.9042 - val_loss: 0.3917 - val_accuracy: 0.8425\n",
      "Epoch 48/50\n",
      "22/22 [==============================] - 66s 3s/step - loss: 0.2698 - accuracy: 0.8999 - val_loss: 0.3959 - val_accuracy: 0.8376\n",
      "Epoch 49/50\n",
      "22/22 [==============================] - 65s 3s/step - loss: 0.2639 - accuracy: 0.9038 - val_loss: 0.4598 - val_accuracy: 0.8029\n",
      "Epoch 50/50\n",
      "22/22 [==============================] - 66s 3s/step - loss: 0.2676 - accuracy: 0.9063 - val_loss: 0.4124 - val_accuracy: 0.8336\n"
     ]
    }
   ],
   "source": [
    "total_sample= train_generator.n\n",
    "batch_size=128\n",
    "\n",
    "\n",
    "history= model.fit_generator(\n",
    "            train_generator, steps_per_epoch=int(total_sample/batch_size),\n",
    "            epochs=50,\n",
    "            validation_data=test_generator)"
   ]
  },
  {
   "cell_type": "code",
   "execution_count": null,
   "metadata": {},
   "outputs": [],
   "source": []
  }
 ],
 "metadata": {
  "kernelspec": {
   "display_name": "mlenv",
   "language": "python",
   "name": "mlenv"
  },
  "language_info": {
   "codemirror_mode": {
    "name": "ipython",
    "version": 3
   },
   "file_extension": ".py",
   "mimetype": "text/x-python",
   "name": "python",
   "nbconvert_exporter": "python",
   "pygments_lexer": "ipython3",
   "version": "3.7.7"
  }
 },
 "nbformat": 4,
 "nbformat_minor": 4
}
