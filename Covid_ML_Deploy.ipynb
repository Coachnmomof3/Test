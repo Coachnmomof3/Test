{
  "nbformat": 4,
  "nbformat_minor": 0,
  "metadata": {
    "colab": {
      "name": "Covid_ML_Deploy.ipynb",
      "provenance": []
    },
    "kernelspec": {
      "name": "python3",
      "display_name": "Python 3"
    }
  },
  "cells": [
    {
      "cell_type": "code",
      "metadata": {
        "id": "rdlrqp8AJjn1"
      },
      "source": [
        "pip install keras streamlit pillow numpy h5py"
      ],
      "execution_count": null,
      "outputs": []
    },
    {
      "cell_type": "code",
      "metadata": {
        "id": "FWA5fxsoJl7K"
      },
      "source": [
        "!pip -q install streamlit\r\n",
        "!pip -q install pyngrok"
      ],
      "execution_count": 1,
      "outputs": []
    },
    {
      "cell_type": "code",
      "metadata": {
        "colab": {
          "base_uri": "https://localhost:8080/"
        },
        "id": "VZEK_d6-KDjQ",
        "outputId": "076de2a9-633f-4619-f3e6-21f05a379746"
      },
      "source": [
        "#Keras pretrained model\r\n",
        "!wget https://github.com/Coachnmomof3/UCB_COVID_Prediction_Model/blob/Bijan_Samimi_ml/Models/VGG16_final_model/VGG16_model.h5"
      ],
      "execution_count": 13,
      "outputs": [
        {
          "output_type": "stream",
          "text": [
            "--2021-01-14 00:09:26--  https://github.com/Coachnmomof3/UCB_COVID_Prediction_Model/blob/Bijan_Samimi_ml/Models/VGG16_final_model/VGG16_model.h5\n",
            "Resolving github.com (github.com)... 140.82.112.4\n",
            "Connecting to github.com (github.com)|140.82.112.4|:443... connected.\n",
            "HTTP request sent, awaiting response... 200 OK\n",
            "Length: unspecified [text/html]\n",
            "Saving to: ‘VGG16_model.h5’\n",
            "\n",
            "\rVGG16_model.h5          [<=>                 ]       0  --.-KB/s               \rVGG16_model.h5          [ <=>                ]  92.04K  --.-KB/s    in 0.03s   \n",
            "\n",
            "2021-01-14 00:09:27 (3.21 MB/s) - ‘VGG16_model.h5’ saved [94246]\n",
            "\n"
          ],
          "name": "stdout"
        }
      ]
    },
    {
      "cell_type": "code",
      "metadata": {
        "colab": {
          "base_uri": "https://localhost:8080/"
        },
        "id": "JnXkzzSmJo8g",
        "outputId": "b94d2805-745c-419f-9008-d447c5917605"
      },
      "source": [
        "%%writefile app.py\r\n",
        "import streamlit as st\r\n",
        "import cv2\r\n",
        "from PIL import Image, ImageOps\r\n",
        "import numpy as np \r\n",
        "\r\n",
        "import tensorflow as tf\r\n",
        "\r\n",
        "model_name = 'VGG16_model.h5'\r\n",
        "model = tf.keras.models.load_model(model_name)\r\n",
        "\r\n",
        "st.write(\"\"\"\r\n",
        "         # COVID-19 and Viral Pneumonia Predictions\r\n",
        "         \"\"\"\r\n",
        "         )\r\n",
        "st.write(\"This is a simple image classification web app to predict if a patient has COVID-19, Viral Pneumonia or is Healthy from chest X-Rays\")\r\n",
        "file = st.file_uploader(\"Please upload an image file\", type=[\"jpg\", \"png\"])\r\n",
        "\r\n",
        "def import_and_predict(image_data, model):\r\n",
        "    size = (224,224)    \r\n",
        "    image = ImageOps.fit(image_data, size, Image.ANTIALIAS)\r\n",
        "    image = np.asarray(image)\r\n",
        "    img = cv2.cvtColor(image, cv2.COLOR_BGR2RGB)\r\n",
        "    img_resize = (cv2.resize(img, dsize=(224, 224),    interpolation=cv2.INTER_CUBIC))/255.\r\n",
        "        \r\n",
        "    img_reshape = img_resize[np.newaxis,...]\r\n",
        "    \r\n",
        "    prediction = model.predict(img_reshape)\r\n",
        "        \r\n",
        "    return prediction\r\n",
        "\r\n",
        "if file is None:\r\n",
        "    st.text(\"Please upload an image file\")\r\n",
        "else:\r\n",
        "    image = Image.open(file)\r\n",
        "    st.image(image, use_column_width=True)\r\n",
        "    prediction = import_and_predict(image, model)\r\n",
        "    \r\n",
        "    max = np.max(prediction)\r\n",
        "    \r\n",
        "    if prediction[0][0]==max:\r\n",
        "      st.text(\"The prediction is COVID\")\r\n",
        "    if prediction[0][1]==max:\r\n",
        "      st.text(\"The prediction is NORMAL\")\r\n",
        "    if prediction[0][2]==max:\r\n",
        "      st.text(\"The prediction is Viral Pneumonia\")\r\n",
        "    \r\n",
        "    st.text(\"Likelihood 0: COVID, 1: NORMAL, 2: Viral Pneumonia\")\r\n",
        "    st.write(prediction)"
      ],
      "execution_count": 17,
      "outputs": [
        {
          "output_type": "stream",
          "text": [
            "Overwriting app.py\n"
          ],
          "name": "stdout"
        }
      ]
    },
    {
      "cell_type": "code",
      "metadata": {
        "colab": {
          "base_uri": "https://localhost:8080/"
        },
        "id": "AAGjRQ6FL0G1",
        "outputId": "6ec77e24-8395-4a4b-8d59-0582a0f965dd"
      },
      "source": [
        "from pyngrok import ngrok\r\n",
        "public_url = ngrok.connect(port='80')\r\n",
        "print('Link to web app:')\r\n",
        "print (public_url)\r\n",
        "!streamlit run --server.port 80 app.py >/dev/null"
      ],
      "execution_count": 16,
      "outputs": [
        {
          "output_type": "stream",
          "text": [
            "Link to web app:\n",
            "NgrokTunnel: \"http://5832acf4a0a6.ngrok.io\" -> \"http://localhost:80\"\n",
            "2021-01-14 00:39:58.638115: I tensorflow/stream_executor/platform/default/dso_loader.cc:49] Successfully opened dynamic library libcudart.so.10.1\n",
            "2021-01-14 00:40:00.281792: I tensorflow/compiler/jit/xla_cpu_device.cc:41] Not creating XLA devices, tf_xla_enable_xla_devices not set\n",
            "2021-01-14 00:40:00.282901: I tensorflow/stream_executor/platform/default/dso_loader.cc:49] Successfully opened dynamic library libcuda.so.1\n",
            "2021-01-14 00:40:00.294531: E tensorflow/stream_executor/cuda/cuda_driver.cc:328] failed call to cuInit: CUDA_ERROR_NO_DEVICE: no CUDA-capable device is detected\n",
            "2021-01-14 00:40:00.294600: I tensorflow/stream_executor/cuda/cuda_diagnostics.cc:156] kernel driver does not appear to be running on this host (1e59674acbe5): /proc/driver/nvidia/version does not exist\n",
            "2021-01-14 00:40:00.295439: I tensorflow/compiler/jit/xla_gpu_device.cc:99] Not creating XLA devices, tf_xla_enable_xla_devices not set\n",
            "2021-01-14 00:40:08.886837: I tensorflow/compiler/mlir/mlir_graph_optimization_pass.cc:116] None of the MLIR optimization passes are enabled (registered 2)\n",
            "2021-01-14 00:40:08.887340: I tensorflow/core/platform/profile_utils/cpu_utils.cc:112] CPU Frequency: 2299995000 Hz\n"
          ],
          "name": "stdout"
        }
      ]
    },
    {
      "cell_type": "code",
      "metadata": {
        "id": "8FWbDiNaMyui"
      },
      "source": [
        ""
      ],
      "execution_count": null,
      "outputs": []
    }
  ]
}