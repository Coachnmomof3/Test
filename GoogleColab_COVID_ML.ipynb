{
  "nbformat": 4,
  "nbformat_minor": 0,
  "metadata": {
    "accelerator": "GPU",
    "colab": {
      "name": "GoogleColab_COVID_ML.ipynb",
      "provenance": [],
      "collapsed_sections": []
    },
    "kernelspec": {
      "display_name": "Python 3",
      "name": "python3"
    }
  },
  "cells": [
    {
      "cell_type": "code",
      "metadata": {
        "id": "SUY3Yo_zOfmz"
      },
      "source": [
        "!pip install -q pyyaml h5py"
      ],
      "execution_count": 1,
      "outputs": []
    },
    {
      "cell_type": "code",
      "metadata": {
        "id": "9lt8CVBL0OAV"
      },
      "source": [
        "from tensorflow.keras.preprocessing.image import ImageDataGenerator\n",
        "from tensorflow.keras.losses import SparseCategoricalCrossentropy\n",
        "from tensorflow.keras.applications import VGG16\n",
        "from tensorflow.keras.applications.resnet50 import ResNet50 \n",
        "from keras.applications.vgg16 import preprocess_input\n",
        "from tensorflow.keras.layers import Activation, Dense, Dropout, Flatten, BatchNormalization, Conv2D, MaxPooling2D, Lambda, Input, AveragePooling2D\n",
        "from tensorflow.keras.models import Sequential, Model\n",
        "from tensorflow.keras.layers import Input\n",
        "from tensorflow.keras import layers\n",
        "from tensorflow.keras.utils import to_categorical\n",
        "from sklearn.preprocessing import LabelBinarizer\n",
        "from sklearn.model_selection import train_test_split\n",
        "from tensorflow.keras.preprocessing import image\n",
        "from tensorflow.keras.optimizers import Adam\n",
        "from tensorflow.keras.optimizers import SGD\n",
        "from tensorflow.keras.preprocessing import image\n",
        "from tensorflow.keras import backend as K\n",
        "import tensorflow as tf \n",
        "from sklearn.metrics import classification_report, confusion_matrix\n",
        "import matplotlib.pyplot as plt \n",
        "import numpy as np \n",
        "import pandas as pd\n",
        "import random\n",
        "#import cv2\n",
        "import os"
      ],
      "execution_count": 2,
      "outputs": []
    },
    {
      "cell_type": "code",
      "metadata": {
        "colab": {
          "base_uri": "https://localhost:8080/",
          "height": 35
        },
        "id": "xQm4fstBuTIg",
        "outputId": "0a8b6e22-3efd-47f2-e438-458806f70580"
      },
      "source": [
        "device = tf.test.gpu_device_name()\r\n",
        "device"
      ],
      "execution_count": 2,
      "outputs": [
        {
          "output_type": "execute_result",
          "data": {
            "application/vnd.google.colaboratory.intrinsic+json": {
              "type": "string"
            },
            "text/plain": [
              "'/device:GPU:0'"
            ]
          },
          "metadata": {
            "tags": []
          },
          "execution_count": 2
        }
      ]
    },
    {
      "cell_type": "code",
      "metadata": {
        "colab": {
          "base_uri": "https://localhost:8080/"
        },
        "id": "L99dOLAb0vB3",
        "outputId": "c973a847-ff43-44d8-d14b-7c80bcc9e036"
      },
      "source": [
        "# Mounting the drive\n",
        "from google.colab import drive\n",
        "drive.mount('/content/drive')"
      ],
      "execution_count": 4,
      "outputs": [
        {
          "output_type": "stream",
          "text": [
            "Drive already mounted at /content/drive; to attempt to forcibly remount, call drive.mount(\"/content/drive\", force_remount=True).\n"
          ],
          "name": "stdout"
        }
      ]
    },
    {
      "cell_type": "code",
      "metadata": {
        "id": "DqfJ0n8h2Zp_"
      },
      "source": [
        "# Changing directory to images\n",
        "os.chdir(\"/content/drive/MyDrive/Data Analysis Bootcamp/Resources\")"
      ],
      "execution_count": 4,
      "outputs": []
    },
    {
      "cell_type": "code",
      "metadata": {
        "colab": {
          "base_uri": "https://localhost:8080/"
        },
        "id": "eqiYPt-V0OAV",
        "outputId": "10a77787-2653-4299-d875-3c62a65ca8f9"
      },
      "source": [
        "# Check Classes \n",
        "image_names=list(os.listdir(\"Database\"))\n",
        "image_names.sort()\n",
        "print(image_names)\n",
        "class_number = len(image_names)"
      ],
      "execution_count": 5,
      "outputs": [
        {
          "output_type": "stream",
          "text": [
            "['COVID19', 'NORMAL', 'Viral_Pneumonia']\n"
          ],
          "name": "stdout"
        }
      ]
    },
    {
      "cell_type": "code",
      "metadata": {
        "colab": {
          "base_uri": "https://localhost:8080/"
        },
        "id": "LWMEFFWH0OAW",
        "outputId": "e3670862-b45c-4b7b-963d-0c6404e2b02c"
      },
      "source": [
        "# Directory with Atelectasis\n",
        "atele_dir=os.path.join(\"Database/COVID19\")\n",
        "df =pd.DataFrame.from_records({\"file_name\":os.listdir(atele_dir),\"condition\": \"Covid\"})\n",
        "for f in image_names[1:]:\n",
        "    folder_path=\"Database/\" + f\n",
        "    temp_df= pd.DataFrame.from_records({\"file_name\":os.listdir(folder_path),\"condition\": f })\n",
        "    df=df.append(temp_df)\n",
        "    \n",
        "df[\"condition\"].value_counts()"
      ],
      "execution_count": 7,
      "outputs": [
        {
          "output_type": "execute_result",
          "data": {
            "text/plain": [
              "Viral_Pneumonia    1463\n",
              "NORMAL             1341\n",
              "Covid              1327\n",
              "Name: condition, dtype: int64"
            ]
          },
          "metadata": {
            "tags": []
          },
          "execution_count": 7
        }
      ]
    },
    {
      "cell_type": "code",
      "metadata": {
        "id": "Ti7rsv5t0OAX"
      },
      "source": [
        "#Exporting Label CSV\n",
        "df.to_csv(\"Labels.csv\")"
      ],
      "execution_count": null,
      "outputs": []
    },
    {
      "cell_type": "code",
      "metadata": {
        "id": "pwuEDPJf0OAX"
      },
      "source": [
        "# balance classes - random Random Sampling No_Finding\n",
        "#df_no_finding = df[df[\"condition\"]==\"No_Finding\"].sample(n=150, random_state=42)\n",
        "#df_balanced = df[df[\"condition\"]!=\"No_Finding\"].append(df_no_finding)\n",
        "#df_balanced[\"condition\"].value_counts()"
      ],
      "execution_count": null,
      "outputs": []
    },
    {
      "cell_type": "code",
      "metadata": {
        "id": "oxmn5Z0M0OAX"
      },
      "source": [
        "#df_balanced[\"file_name\"] = \"Resources/Images/Classes/\"+df_balanced[\"file_name\"]"
      ],
      "execution_count": null,
      "outputs": []
    },
    {
      "cell_type": "code",
      "metadata": {
        "id": "FVe4Czei0OAX"
      },
      "source": [
        "# Settings\n",
        "batch_size = 128\n",
        "img_height, img_width = 200,200\n",
        "epochs = 50\n",
        "data_dir = \"Database/\""
      ],
      "execution_count": 6,
      "outputs": []
    },
    {
      "cell_type": "code",
      "metadata": {
        "colab": {
          "base_uri": "https://localhost:8080/"
        },
        "id": "ggL4dMd70a8A",
        "outputId": "c519e84a-6b1c-4795-d18f-c526268da98c"
      },
      "source": [
        "# Rescale images \r\n",
        "datagen= ImageDataGenerator(rescale=1/255,validation_split=.3,rotation_range=20,\r\n",
        "                           shear_range=.2,width_shift_range=0.1,height_shift_range=0.1,zoom_range=0.2)\r\n",
        "\r\n",
        "# Flow training images in batches of batch_size using train_data \r\n",
        "train_ds= datagen.flow_from_directory(\r\n",
        "                data_dir,\r\n",
        "                target_size=(img_width,img_height),\r\n",
        "                batch_size=batch_size,\r\n",
        "                subset=\"training\",\r\n",
        "                class_mode=\"categorical\", \r\n",
        "                classes= image_names,\r\n",
        "                shuffle=True, \r\n",
        "                seed=30)\r\n",
        "\r\n",
        "\r\n",
        "datagen2=ImageDataGenerator(rescale=1/255,validation_split=.3)\r\n",
        "\r\n",
        "val_ds=datagen2.flow_from_directory(\r\n",
        "                data_dir,\r\n",
        "                target_size=(img_width,img_height),\r\n",
        "                batch_size=batch_size,\r\n",
        "                classes= image_names,\r\n",
        "                class_mode=\"categorical\", \r\n",
        "                subset=\"validation\", \r\n",
        "                shuffle=True, \r\n",
        "                seed=30)\r\n",
        "\r\n",
        "## For evaluation\r\n",
        "eval_train_ds= datagen.flow_from_directory(\r\n",
        "                data_dir,\r\n",
        "                target_size=(img_width,img_height),\r\n",
        "                batch_size=batch_size,\r\n",
        "                subset=\"training\",\r\n",
        "                class_mode=\"categorical\", \r\n",
        "                classes= image_names,\r\n",
        "                shuffle=False, \r\n",
        "                seed=30)\r\n",
        "\r\n",
        "eval_val_ds=datagen2.flow_from_directory(\r\n",
        "                data_dir,\r\n",
        "                target_size=(img_width,img_height),\r\n",
        "                batch_size=batch_size,\r\n",
        "                classes= image_names,\r\n",
        "                class_mode=\"categorical\", \r\n",
        "                subset=\"validation\", \r\n",
        "                shuffle=False, \r\n",
        "                seed=30)"
      ],
      "execution_count": 19,
      "outputs": [
        {
          "output_type": "stream",
          "text": [
            "Found 2893 images belonging to 3 classes.\n",
            "Found 1238 images belonging to 3 classes.\n",
            "Found 2893 images belonging to 3 classes.\n",
            "Found 1238 images belonging to 3 classes.\n"
          ],
          "name": "stdout"
        }
      ]
    },
    {
      "cell_type": "code",
      "metadata": {
        "colab": {
          "base_uri": "https://localhost:8080/",
          "height": 1000
        },
        "id": "_GJdffTzxvy8",
        "outputId": "b5f19cce-7921-43dd-974d-165e6a514e11"
      },
      "source": [
        "# Base model\r\n",
        "\r\n",
        "with tf.device(device):\r\n",
        "  Base_model = tf.keras.Sequential([\r\n",
        "                               Conv2D(32, 3, activation='relu'),\r\n",
        "                               MaxPooling2D(),\r\n",
        "                               Conv2D(32, 3, activation='relu'),\r\n",
        "                               MaxPooling2D(),\r\n",
        "                               Conv2D(32, 3, activation='relu'),\r\n",
        "                               MaxPooling2D(),\r\n",
        "                               Dense(img_height, activation='relu'),\r\n",
        "                               Flatten(),\r\n",
        "                               Dense(class_number, activation='softmax')\r\n",
        "                               ])\r\n",
        "  Base_model.compile(\r\n",
        "  optimizer='adam',\r\n",
        "  loss=tf.keras.losses.CategoricalCrossentropy(from_logits=True),\r\n",
        "  metrics=['accuracy']\r\n",
        "  )\r\n",
        "\r\n",
        "  Base_history = Base_model.fit(\r\n",
        "  train_ds,\r\n",
        "  validation_data=val_ds,\r\n",
        "  epochs=epochs,\r\n",
        "  verbose=1\r\n",
        "  )\r\n",
        "\r\n",
        "  plt.plot(Base_history.history['accuracy'])\r\n",
        "  plt.plot(Base_history.history['val_accuracy'])\r\n",
        "  plt.title('Base model accuracy')\r\n",
        "  plt.ylabel('accuracy')\r\n",
        "  plt.xlabel('epoch')\r\n",
        "  plt.legend(['train', 'test'], loc='upper left')\r\n",
        "  plt.show()"
      ],
      "execution_count": null,
      "outputs": [
        {
          "output_type": "stream",
          "text": [
            "Epoch 1/50\n",
            "23/23 [==============================] - 1226s 54s/step - loss: 1.0789 - accuracy: 0.4434 - val_loss: 0.4834 - val_accuracy: 0.8207\n",
            "Epoch 2/50\n",
            "23/23 [==============================] - 78s 3s/step - loss: 0.7707 - accuracy: 0.6585 - val_loss: 0.4363 - val_accuracy: 0.8449\n",
            "Epoch 3/50\n",
            "23/23 [==============================] - 77s 3s/step - loss: 0.5465 - accuracy: 0.7900 - val_loss: 0.4503 - val_accuracy: 0.8086\n",
            "Epoch 4/50\n",
            "23/23 [==============================] - 77s 3s/step - loss: 0.4723 - accuracy: 0.8122 - val_loss: 0.2837 - val_accuracy: 0.9095\n",
            "Epoch 5/50\n",
            "23/23 [==============================] - 77s 3s/step - loss: 0.4080 - accuracy: 0.8419 - val_loss: 0.3144 - val_accuracy: 0.8893\n",
            "Epoch 6/50\n",
            "23/23 [==============================] - 75s 3s/step - loss: 0.4254 - accuracy: 0.8413 - val_loss: 0.3299 - val_accuracy: 0.8869\n",
            "Epoch 7/50\n",
            "23/23 [==============================] - 75s 3s/step - loss: 0.4235 - accuracy: 0.8235 - val_loss: 0.2353 - val_accuracy: 0.9144\n",
            "Epoch 8/50\n",
            "23/23 [==============================] - 75s 3s/step - loss: 0.3733 - accuracy: 0.8575 - val_loss: 0.3034 - val_accuracy: 0.8708\n",
            "Epoch 9/50\n",
            "23/23 [==============================] - 76s 3s/step - loss: 0.4035 - accuracy: 0.8354 - val_loss: 0.3613 - val_accuracy: 0.8473\n",
            "Epoch 10/50\n",
            "23/23 [==============================] - 76s 3s/step - loss: 0.3281 - accuracy: 0.8821 - val_loss: 0.2970 - val_accuracy: 0.8756\n",
            "Epoch 11/50\n",
            "23/23 [==============================] - 76s 3s/step - loss: 0.3145 - accuracy: 0.8878 - val_loss: 0.2441 - val_accuracy: 0.9047\n",
            "Epoch 12/50\n",
            "23/23 [==============================] - 76s 3s/step - loss: 0.3124 - accuracy: 0.8770 - val_loss: 0.5019 - val_accuracy: 0.7900\n",
            "Epoch 13/50\n",
            "23/23 [==============================] - 76s 3s/step - loss: 0.2974 - accuracy: 0.8965 - val_loss: 0.2542 - val_accuracy: 0.9055\n",
            "Epoch 14/50\n",
            "23/23 [==============================] - 76s 3s/step - loss: 0.3279 - accuracy: 0.8750 - val_loss: 0.3939 - val_accuracy: 0.8263\n",
            "Epoch 15/50\n",
            "23/23 [==============================] - 75s 3s/step - loss: 0.2797 - accuracy: 0.8998 - val_loss: 0.2012 - val_accuracy: 0.9200\n",
            "Epoch 16/50\n",
            "23/23 [==============================] - 76s 3s/step - loss: 0.2704 - accuracy: 0.9023 - val_loss: 0.3499 - val_accuracy: 0.8651\n",
            "Epoch 17/50\n",
            "23/23 [==============================] - 78s 3s/step - loss: 0.3463 - accuracy: 0.8723 - val_loss: 0.3579 - val_accuracy: 0.8667\n",
            "Epoch 18/50\n",
            "23/23 [==============================] - 77s 3s/step - loss: 0.2671 - accuracy: 0.8946 - val_loss: 0.2003 - val_accuracy: 0.9313\n",
            "Epoch 19/50\n",
            "23/23 [==============================] - 77s 3s/step - loss: 0.2845 - accuracy: 0.8961 - val_loss: 0.2341 - val_accuracy: 0.9192\n",
            "Epoch 20/50\n",
            "23/23 [==============================] - 77s 3s/step - loss: 0.2671 - accuracy: 0.9056 - val_loss: 0.2680 - val_accuracy: 0.8885\n",
            "Epoch 21/50\n",
            "23/23 [==============================] - 77s 3s/step - loss: 0.2560 - accuracy: 0.9050 - val_loss: 0.3018 - val_accuracy: 0.8885\n",
            "Epoch 22/50\n",
            "23/23 [==============================] - 76s 3s/step - loss: 0.2270 - accuracy: 0.9138 - val_loss: 0.2810 - val_accuracy: 0.8893\n",
            "Epoch 23/50\n",
            "23/23 [==============================] - 75s 3s/step - loss: 0.2281 - accuracy: 0.9218 - val_loss: 0.2852 - val_accuracy: 0.8885\n",
            "Epoch 24/50\n",
            "23/23 [==============================] - 75s 3s/step - loss: 0.2133 - accuracy: 0.9300 - val_loss: 0.2356 - val_accuracy: 0.9079\n",
            "Epoch 25/50\n",
            "23/23 [==============================] - 76s 3s/step - loss: 0.2522 - accuracy: 0.9072 - val_loss: 0.4467 - val_accuracy: 0.8126\n",
            "Epoch 26/50\n",
            "23/23 [==============================] - 77s 3s/step - loss: 0.2306 - accuracy: 0.9124 - val_loss: 0.2040 - val_accuracy: 0.9265\n",
            "Epoch 27/50\n",
            "23/23 [==============================] - 77s 3s/step - loss: 0.1895 - accuracy: 0.9312 - val_loss: 0.2291 - val_accuracy: 0.9216\n",
            "Epoch 28/50\n",
            "23/23 [==============================] - 76s 3s/step - loss: 0.2200 - accuracy: 0.9162 - val_loss: 0.2112 - val_accuracy: 0.9208\n",
            "Epoch 29/50\n",
            "23/23 [==============================] - 76s 3s/step - loss: 0.2103 - accuracy: 0.9234 - val_loss: 0.2650 - val_accuracy: 0.8998\n",
            "Epoch 30/50\n",
            "23/23 [==============================] - 75s 3s/step - loss: 0.2106 - accuracy: 0.9190 - val_loss: 0.1840 - val_accuracy: 0.9370\n",
            "Epoch 31/50\n",
            "23/23 [==============================] - 75s 3s/step - loss: 0.2217 - accuracy: 0.9208 - val_loss: 0.2744 - val_accuracy: 0.8950\n",
            "Epoch 32/50\n",
            "23/23 [==============================] - 74s 3s/step - loss: 0.2484 - accuracy: 0.9110 - val_loss: 0.3913 - val_accuracy: 0.8538\n",
            "Epoch 33/50\n",
            "23/23 [==============================] - 75s 3s/step - loss: 0.2354 - accuracy: 0.9189 - val_loss: 0.2464 - val_accuracy: 0.9079\n",
            "Epoch 34/50\n",
            "23/23 [==============================] - 75s 3s/step - loss: 0.1866 - accuracy: 0.9332 - val_loss: 0.2863 - val_accuracy: 0.8885\n",
            "Epoch 35/50\n",
            "23/23 [==============================] - 75s 3s/step - loss: 0.1897 - accuracy: 0.9331 - val_loss: 0.1944 - val_accuracy: 0.9330\n",
            "Epoch 36/50\n",
            "23/23 [==============================] - 76s 3s/step - loss: 0.1889 - accuracy: 0.9324 - val_loss: 0.2207 - val_accuracy: 0.9313\n",
            "Epoch 37/50\n",
            "23/23 [==============================] - 75s 3s/step - loss: 0.2407 - accuracy: 0.9073 - val_loss: 0.2396 - val_accuracy: 0.9136\n",
            "Epoch 38/50\n",
            "23/23 [==============================] - 75s 3s/step - loss: 0.2044 - accuracy: 0.9265 - val_loss: 0.2421 - val_accuracy: 0.9176\n",
            "Epoch 39/50\n",
            "23/23 [==============================] - 75s 3s/step - loss: 0.1800 - accuracy: 0.9350 - val_loss: 0.3649 - val_accuracy: 0.8724\n",
            "Epoch 40/50\n",
            "23/23 [==============================] - 75s 3s/step - loss: 0.1984 - accuracy: 0.9363 - val_loss: 0.4160 - val_accuracy: 0.8393\n",
            "Epoch 41/50\n",
            "23/23 [==============================] - 75s 3s/step - loss: 0.1996 - accuracy: 0.9293 - val_loss: 0.2022 - val_accuracy: 0.9249\n",
            "Epoch 42/50\n",
            "23/23 [==============================] - 75s 3s/step - loss: 0.1834 - accuracy: 0.9298 - val_loss: 0.2556 - val_accuracy: 0.9079\n",
            "Epoch 43/50\n",
            "23/23 [==============================] - 75s 3s/step - loss: 0.1997 - accuracy: 0.9322 - val_loss: 0.2654 - val_accuracy: 0.8974\n",
            "Epoch 44/50\n",
            "23/23 [==============================] - 76s 3s/step - loss: 0.1686 - accuracy: 0.9390 - val_loss: 0.2546 - val_accuracy: 0.9111\n",
            "Epoch 45/50\n",
            "23/23 [==============================] - 77s 3s/step - loss: 0.1819 - accuracy: 0.9387 - val_loss: 0.2115 - val_accuracy: 0.9225\n",
            "Epoch 46/50\n",
            "23/23 [==============================] - 77s 3s/step - loss: 0.1839 - accuracy: 0.9395 - val_loss: 0.2377 - val_accuracy: 0.9168\n",
            "Epoch 47/50\n",
            "23/23 [==============================] - 76s 3s/step - loss: 0.1774 - accuracy: 0.9406 - val_loss: 0.1981 - val_accuracy: 0.9257\n",
            "Epoch 48/50\n",
            "23/23 [==============================] - 76s 3s/step - loss: 0.1673 - accuracy: 0.9438 - val_loss: 0.1782 - val_accuracy: 0.9362\n",
            "Epoch 49/50\n",
            "23/23 [==============================] - 76s 3s/step - loss: 0.1820 - accuracy: 0.9318 - val_loss: 0.1572 - val_accuracy: 0.9451\n",
            "Epoch 50/50\n",
            "23/23 [==============================] - 77s 3s/step - loss: 0.1980 - accuracy: 0.9278 - val_loss: 0.3850 - val_accuracy: 0.8368\n"
          ],
          "name": "stdout"
        },
        {
          "output_type": "display_data",
          "data": {
            "image/png": "[encoded data removed]",
            "text/plain": [
              "<Figure size 432x288 with 1 Axes>"
            ]
          },
          "metadata": {
            "tags": []
          }
        }
      ]
    },
    {
      "cell_type": "code",
      "metadata": {
        "colab": {
          "base_uri": "https://localhost:8080/",
          "height": 970
        },
        "id": "PBKkipelrsAw",
        "outputId": "7fd9b8d2-651e-44cb-831f-b481503c5b8b"
      },
      "source": [
        "Base_model.save('Base_model')\r\n",
        "\r\n",
        "Base_hist_df = pd.DataFrame(Base_history.history) \r\n",
        "Base_hist_df.to_csv('Base_model/history.csv')\r\n",
        "\r\n",
        "tf.keras.utils.plot_model(\r\n",
        "    Base_model, to_file='Base_model/architecture.png', show_shapes=False,\r\n",
        "    show_layer_names=True, rankdir='TB', expand_nested=False, dpi=96\r\n",
        ")\r\n",
        "\r\n"
      ],
      "execution_count": null,
      "outputs": [
        {
          "output_type": "stream",
          "text": [
            "INFO:tensorflow:Assets written to: Base_model/assets\n"
          ],
          "name": "stdout"
        },
        {
          "output_type": "execute_result",
          "data": {
            "image/png": "[encoded data removed]",
            "text/plain": [
              "<IPython.core.display.Image object>"
            ]
          },
          "metadata": {
            "tags": []
          },
          "execution_count": 54
        }
      ]
    },
    {
      "cell_type": "code",
      "metadata": {
        "colab": {
          "base_uri": "https://localhost:8080/",
          "height": 1000
        },
        "id": "ep5uy9utz2qo",
        "outputId": "156ade42-d622-4363-8d4b-3ccb0c5e493d"
      },
      "source": [
        "# VGG16 Model\r\n",
        "\r\n",
        "VGG16_classifier=VGG16(weights=\"imagenet\", include_top=False, input_tensor=Input(shape=(img_height, img_width, 3)))\r\n",
        "\r\n",
        "for layer in VGG16_classifier.layers:\r\n",
        "    layer.trainable=False\r\n",
        "\r\n",
        "with tf.device(device):\r\n",
        "  VGG16_model = tf.keras.Sequential([\r\n",
        "                                     VGG16_classifier,\r\n",
        "                                     MaxPooling2D(),\r\n",
        "                                     Dense(img_height, activation='relu'),\r\n",
        "                                     Flatten(),\r\n",
        "                                     Dense(class_number, activation='softmax')\r\n",
        "                                     ])\r\n",
        "\r\n",
        "  VGG16_model.compile(\r\n",
        "      optimizer='adam',\r\n",
        "      loss=tf.losses.CategoricalCrossentropy(from_logits=True),\r\n",
        "      metrics=['accuracy']\r\n",
        "      )\r\n",
        "  \r\n",
        "  VGG16_model_history = VGG16_model.fit(\r\n",
        "      train_ds,\r\n",
        "      validation_data=val_ds,\r\n",
        "      epochs=epochs,\r\n",
        "      verbose=1\r\n",
        "      )\r\n",
        "  plt.plot(VGG16_model_history.history['accuracy'])\r\n",
        "  plt.plot(VGG16_model_history.history['val_accuracy'])\r\n",
        "  plt.title('VGG16 model accuracy')\r\n",
        "  plt.ylabel('accuracy')\r\n",
        "  plt.xlabel('epoch')\r\n",
        "  plt.legend(['train', 'test'], loc='upper left')\r\n",
        "  plt.show()  "
      ],
      "execution_count": null,
      "outputs": [
        {
          "output_type": "stream",
          "text": [
            "Epoch 1/50\n",
            "23/23 [==============================] - 92s 4s/step - loss: 0.8584 - accuracy: 0.6090 - val_loss: 0.4080 - val_accuracy: 0.8376\n",
            "Epoch 2/50\n",
            "23/23 [==============================] - 86s 4s/step - loss: 0.3644 - accuracy: 0.8671 - val_loss: 0.3435 - val_accuracy: 0.8627\n",
            "Epoch 3/50\n",
            "23/23 [==============================] - 86s 4s/step - loss: 0.3055 - accuracy: 0.8923 - val_loss: 0.2886 - val_accuracy: 0.8861\n",
            "Epoch 4/50\n",
            "23/23 [==============================] - 87s 4s/step - loss: 0.2498 - accuracy: 0.9133 - val_loss: 0.3039 - val_accuracy: 0.8853\n",
            "Epoch 5/50\n",
            "23/23 [==============================] - 86s 4s/step - loss: 0.2263 - accuracy: 0.9201 - val_loss: 0.2792 - val_accuracy: 0.8958\n",
            "Epoch 6/50\n",
            "23/23 [==============================] - 86s 4s/step - loss: 0.2093 - accuracy: 0.9290 - val_loss: 0.2908 - val_accuracy: 0.8893\n",
            "Epoch 7/50\n",
            "23/23 [==============================] - 85s 4s/step - loss: 0.2074 - accuracy: 0.9322 - val_loss: 0.4510 - val_accuracy: 0.8263\n",
            "Epoch 8/50\n",
            "23/23 [==============================] - 84s 4s/step - loss: 0.2136 - accuracy: 0.9170 - val_loss: 0.4093 - val_accuracy: 0.8425\n",
            "Epoch 9/50\n",
            "23/23 [==============================] - 86s 4s/step - loss: 0.1876 - accuracy: 0.9358 - val_loss: 0.3267 - val_accuracy: 0.8764\n",
            "Epoch 10/50\n",
            "23/23 [==============================] - 86s 4s/step - loss: 0.1826 - accuracy: 0.9444 - val_loss: 0.2927 - val_accuracy: 0.8918\n",
            "Epoch 11/50\n",
            "23/23 [==============================] - 87s 4s/step - loss: 0.1630 - accuracy: 0.9443 - val_loss: 0.3731 - val_accuracy: 0.8627\n",
            "Epoch 12/50\n",
            "23/23 [==============================] - 86s 4s/step - loss: 0.1657 - accuracy: 0.9512 - val_loss: 0.2861 - val_accuracy: 0.8910\n",
            "Epoch 13/50\n",
            "23/23 [==============================] - 86s 4s/step - loss: 0.1587 - accuracy: 0.9544 - val_loss: 0.3665 - val_accuracy: 0.8659\n",
            "Epoch 14/50\n",
            "23/23 [==============================] - 86s 4s/step - loss: 0.1485 - accuracy: 0.9534 - val_loss: 0.2495 - val_accuracy: 0.9015\n",
            "Epoch 15/50\n",
            "23/23 [==============================] - 86s 4s/step - loss: 0.1649 - accuracy: 0.9422 - val_loss: 0.3031 - val_accuracy: 0.8853\n",
            "Epoch 16/50\n",
            "23/23 [==============================] - 86s 4s/step - loss: 0.1450 - accuracy: 0.9565 - val_loss: 0.2863 - val_accuracy: 0.8934\n",
            "Epoch 17/50\n",
            "23/23 [==============================] - 86s 4s/step - loss: 0.1431 - accuracy: 0.9500 - val_loss: 0.2528 - val_accuracy: 0.9071\n",
            "Epoch 18/50\n",
            "23/23 [==============================] - 86s 4s/step - loss: 0.1345 - accuracy: 0.9582 - val_loss: 0.3067 - val_accuracy: 0.8877\n",
            "Epoch 19/50\n",
            "23/23 [==============================] - 86s 4s/step - loss: 0.1276 - accuracy: 0.9612 - val_loss: 0.2786 - val_accuracy: 0.8958\n",
            "Epoch 20/50\n",
            "23/23 [==============================] - 87s 4s/step - loss: 0.1130 - accuracy: 0.9682 - val_loss: 0.2836 - val_accuracy: 0.8901\n",
            "Epoch 21/50\n",
            "23/23 [==============================] - 87s 4s/step - loss: 0.1271 - accuracy: 0.9551 - val_loss: 0.3864 - val_accuracy: 0.8635\n",
            "Epoch 22/50\n",
            "23/23 [==============================] - 87s 4s/step - loss: 0.1291 - accuracy: 0.9631 - val_loss: 0.3707 - val_accuracy: 0.8691\n",
            "Epoch 23/50\n",
            "23/23 [==============================] - 87s 4s/step - loss: 0.1201 - accuracy: 0.9626 - val_loss: 0.3590 - val_accuracy: 0.8740\n",
            "Epoch 24/50\n",
            "23/23 [==============================] - 86s 4s/step - loss: 0.1032 - accuracy: 0.9694 - val_loss: 0.2260 - val_accuracy: 0.9095\n",
            "Epoch 25/50\n",
            "23/23 [==============================] - 86s 4s/step - loss: 0.1398 - accuracy: 0.9491 - val_loss: 0.3382 - val_accuracy: 0.8732\n",
            "Epoch 26/50\n",
            "23/23 [==============================] - 87s 4s/step - loss: 0.1346 - accuracy: 0.9530 - val_loss: 0.2863 - val_accuracy: 0.8942\n",
            "Epoch 27/50\n",
            "23/23 [==============================] - 87s 4s/step - loss: 0.1306 - accuracy: 0.9521 - val_loss: 0.3283 - val_accuracy: 0.8708\n",
            "Epoch 28/50\n",
            "23/23 [==============================] - 86s 4s/step - loss: 0.1134 - accuracy: 0.9629 - val_loss: 0.3039 - val_accuracy: 0.8861\n",
            "Epoch 29/50\n",
            "23/23 [==============================] - 86s 4s/step - loss: 0.1031 - accuracy: 0.9675 - val_loss: 0.2577 - val_accuracy: 0.9063\n",
            "Epoch 30/50\n",
            "23/23 [==============================] - 86s 4s/step - loss: 0.1124 - accuracy: 0.9677 - val_loss: 0.3931 - val_accuracy: 0.8643\n",
            "Epoch 31/50\n",
            "23/23 [==============================] - 87s 4s/step - loss: 0.1116 - accuracy: 0.9623 - val_loss: 0.2663 - val_accuracy: 0.8990\n",
            "Epoch 32/50\n",
            "23/23 [==============================] - 86s 4s/step - loss: 0.1022 - accuracy: 0.9712 - val_loss: 0.2586 - val_accuracy: 0.9023\n",
            "Epoch 33/50\n",
            "23/23 [==============================] - 86s 4s/step - loss: 0.0938 - accuracy: 0.9732 - val_loss: 0.3088 - val_accuracy: 0.8853\n",
            "Epoch 34/50\n",
            "23/23 [==============================] - 86s 4s/step - loss: 0.0929 - accuracy: 0.9682 - val_loss: 0.2819 - val_accuracy: 0.8934\n",
            "Epoch 35/50\n",
            "23/23 [==============================] - 86s 4s/step - loss: 0.1112 - accuracy: 0.9630 - val_loss: 0.3072 - val_accuracy: 0.8861\n",
            "Epoch 36/50\n",
            "23/23 [==============================] - 87s 4s/step - loss: 0.1050 - accuracy: 0.9635 - val_loss: 0.2718 - val_accuracy: 0.9006\n",
            "Epoch 37/50\n",
            "23/23 [==============================] - 86s 4s/step - loss: 0.1086 - accuracy: 0.9593 - val_loss: 0.3280 - val_accuracy: 0.8780\n",
            "Epoch 38/50\n",
            "23/23 [==============================] - 87s 4s/step - loss: 0.0998 - accuracy: 0.9675 - val_loss: 0.2987 - val_accuracy: 0.8910\n",
            "Epoch 39/50\n",
            "23/23 [==============================] - 86s 4s/step - loss: 0.1011 - accuracy: 0.9641 - val_loss: 0.2824 - val_accuracy: 0.9006\n",
            "Epoch 40/50\n",
            "23/23 [==============================] - 86s 4s/step - loss: 0.1072 - accuracy: 0.9618 - val_loss: 0.2640 - val_accuracy: 0.8998\n",
            "Epoch 41/50\n",
            "23/23 [==============================] - 86s 4s/step - loss: 0.0829 - accuracy: 0.9713 - val_loss: 0.3064 - val_accuracy: 0.8845\n",
            "Epoch 42/50\n",
            "23/23 [==============================] - 86s 4s/step - loss: 0.0926 - accuracy: 0.9722 - val_loss: 0.3635 - val_accuracy: 0.8764\n",
            "Epoch 43/50\n",
            "23/23 [==============================] - 85s 4s/step - loss: 0.1057 - accuracy: 0.9638 - val_loss: 0.3814 - val_accuracy: 0.8700\n",
            "Epoch 44/50\n",
            "23/23 [==============================] - 85s 4s/step - loss: 0.0786 - accuracy: 0.9783 - val_loss: 0.2544 - val_accuracy: 0.8982\n",
            "Epoch 45/50\n",
            "23/23 [==============================] - 86s 4s/step - loss: 0.0859 - accuracy: 0.9682 - val_loss: 0.3469 - val_accuracy: 0.8756\n",
            "Epoch 46/50\n",
            "23/23 [==============================] - 86s 4s/step - loss: 0.0977 - accuracy: 0.9670 - val_loss: 0.3969 - val_accuracy: 0.8635\n",
            "Epoch 47/50\n",
            "23/23 [==============================] - 86s 4s/step - loss: 0.1023 - accuracy: 0.9642 - val_loss: 0.3032 - val_accuracy: 0.8910\n",
            "Epoch 48/50\n",
            "23/23 [==============================] - 86s 4s/step - loss: 0.0738 - accuracy: 0.9752 - val_loss: 0.3631 - val_accuracy: 0.8756\n",
            "Epoch 49/50\n",
            "23/23 [==============================] - 87s 4s/step - loss: 0.0868 - accuracy: 0.9657 - val_loss: 0.2951 - val_accuracy: 0.8918\n",
            "Epoch 50/50\n",
            "23/23 [==============================] - 86s 4s/step - loss: 0.0875 - accuracy: 0.9694 - val_loss: 0.3507 - val_accuracy: 0.8716\n"
          ],
          "name": "stdout"
        },
        {
          "output_type": "display_data",
          "data": {
            "image/png": "[encoded data removed]",
            "text/plain": [
              "<Figure size 432x288 with 1 Axes>"
            ]
          },
          "metadata": {
            "tags": []
          }
        }
      ]
    },
    {
      "cell_type": "code",
      "metadata": {
        "colab": {
          "base_uri": "https://localhost:8080/",
          "height": 581
        },
        "id": "omk4DXoJ4gt_",
        "outputId": "578a1a47-3a01-4c44-a900-213b4895040a"
      },
      "source": [
        "VGG16_model.save('VGG16_model')\r\n",
        "\r\n",
        "VGG16_model_history_df = pd.DataFrame(VGG16_model_history.history) \r\n",
        "VGG16_model_history_df.to_csv('VGG16_model/history.csv')\r\n",
        "\r\n",
        "tf.keras.utils.plot_model(\r\n",
        "    VGG16_model, to_file='VGG16_model/architecture.png', show_shapes=False,\r\n",
        "    show_layer_names=True, rankdir='TB', expand_nested=False, dpi=96\r\n",
        ")"
      ],
      "execution_count": null,
      "outputs": [
        {
          "output_type": "stream",
          "text": [
            "INFO:tensorflow:Assets written to: VGG16_model/assets\n"
          ],
          "name": "stdout"
        },
        {
          "output_type": "execute_result",
          "data": {
            "image/png": "[encoded data removed]",
            "text/plain": [
              "<IPython.core.display.Image object>"
            ]
          },
          "metadata": {
            "tags": []
          },
          "execution_count": 57
        }
      ]
    },
    {
      "cell_type": "code",
      "metadata": {
        "colab": {
          "base_uri": "https://localhost:8080/"
        },
        "id": "GH0erJVUQDSW",
        "outputId": "a72b123a-2de0-47f9-9c5d-9ea01611ea74"
      },
      "source": [
        "Y_pred = VGG16_model.predict_generator(val_ds2, 1238 // batch_size+1)\r\n",
        "y_pred = np.argmax(Y_pred, axis=1)\r\n",
        "\r\n",
        "print('VGG16_model Confusion Matrix')\r\n",
        "conf_matrix = pd.DataFrame(\r\n",
        "    confusion_matrix(val_ds2.classes, y_pred), \r\n",
        "    index=['true: COVID19', 'true: NORMAL','true: Viral_Pneumonia'], \r\n",
        "    columns=['pred: COVID19', 'pred: NORMAL','pred: Viral_Pneumonia']\r\n",
        ")\r\n",
        "conf_matrix.to_csv(\"VGG16_model/confusion_matrix.csv\")\r\n",
        "print(conf_matrix)\r\n",
        "print('\\n')\r\n",
        "print('Classification Report')\r\n",
        "target_names = list(val_ds2.class_indices.keys())\r\n",
        "print(classification_report(val_ds2.classes, y_pred, target_names=target_names))"
      ],
      "execution_count": null,
      "outputs": [
        {
          "output_type": "stream",
          "text": [
            "/usr/local/lib/python3.6/dist-packages/tensorflow/python/keras/engine/training.py:1905: UserWarning: `Model.predict_generator` is deprecated and will be removed in a future version. Please use `Model.predict`, which supports generators.\n",
            "  warnings.warn('`Model.predict_generator` is deprecated and '\n"
          ],
          "name": "stderr"
        },
        {
          "output_type": "stream",
          "text": [
            "VGG16_model Confusion Matrix\n",
            "                       pred: COVID19  pred: NORMAL  pred: Viral_Pneumonia\n",
            "true: COVID19                    351             9                     38\n",
            "true: NORMAL                       0           387                     15\n",
            "true: Viral_Pneumonia              3            94                    341\n",
            "\n",
            "\n",
            "Classification Report\n",
            "                 precision    recall  f1-score   support\n",
            "\n",
            "        COVID19       0.99      0.88      0.93       398\n",
            "         NORMAL       0.79      0.96      0.87       402\n",
            "Viral_Pneumonia       0.87      0.78      0.82       438\n",
            "\n",
            "       accuracy                           0.87      1238\n",
            "      macro avg       0.88      0.87      0.87      1238\n",
            "   weighted avg       0.88      0.87      0.87      1238\n",
            "\n"
          ],
          "name": "stdout"
        }
      ]
    },
    {
      "cell_type": "code",
      "metadata": {
        "colab": {
          "base_uri": "https://localhost:8080/",
          "height": 1000
        },
        "id": "3iUCglMez5G9",
        "outputId": "ce5bd630-6f5f-4826-a76b-8b045f9f7801"
      },
      "source": [
        "#ResNet50 model\r\n",
        "\r\n",
        "ResNet50_classifier=ResNet50(weights=\"imagenet\", include_top=False, input_tensor=Input(shape=(img_height, img_width, 3)))\r\n",
        "\r\n",
        "for layer in ResNet50_classifier.layers:\r\n",
        "    layer.trainable=False\r\n",
        "\r\n",
        "with tf.device(device):\r\n",
        "  ResNet50_model = tf.keras.Sequential([\r\n",
        "                                     ResNet50_classifier,\r\n",
        "                                     MaxPooling2D(),\r\n",
        "                                     Dense(img_height, activation='relu'),\r\n",
        "                                     Flatten(),\r\n",
        "                                     Dense(class_number, activation='softmax')\r\n",
        "                                     ])\r\n",
        "\r\n",
        "  ResNet50_model.compile(\r\n",
        "      optimizer='adam',\r\n",
        "      loss=tf.losses.CategoricalCrossentropy(from_logits=True),\r\n",
        "      metrics=['accuracy']\r\n",
        "      )\r\n",
        "  \r\n",
        "  ResNet50_model_history = ResNet50_model.fit(\r\n",
        "      train_ds,\r\n",
        "      validation_data=val_ds,\r\n",
        "      epochs=epochs,\r\n",
        "      verbose=1\r\n",
        "      )\r\n",
        "  plt.plot(ResNet50_model_history.history['accuracy'])\r\n",
        "  plt.plot(ResNet50_model_history.history['val_accuracy'])\r\n",
        "  plt.title('ResNet50 model accuracy')\r\n",
        "  plt.ylabel('accuracy')\r\n",
        "  plt.xlabel('epoch')\r\n",
        "  plt.legend(['train', 'test'], loc='upper left')\r\n",
        "  plt.show()  "
      ],
      "execution_count": null,
      "outputs": [
        {
          "output_type": "stream",
          "text": [
            "Downloading data from https://storage.googleapis.com/tensorflow/keras-applications/resnet/resnet50_weights_tf_dim_ordering_tf_kernels_notop.h5\n",
            "94773248/94765736 [==============================] - 1s 0us/step\n",
            "Epoch 1/50\n",
            "23/23 [==============================] - 1182s 51s/step - loss: 1.9573 - accuracy: 0.3123 - val_loss: 0.9317 - val_accuracy: 0.6187\n",
            "Epoch 2/50\n",
            "23/23 [==============================] - 76s 3s/step - loss: 0.9948 - accuracy: 0.4723 - val_loss: 0.7836 - val_accuracy: 0.7617\n",
            "Epoch 3/50\n",
            "23/23 [==============================] - 75s 3s/step - loss: 0.8416 - accuracy: 0.6872 - val_loss: 0.6794 - val_accuracy: 0.7569\n",
            "Epoch 4/50\n",
            "23/23 [==============================] - 75s 3s/step - loss: 0.7761 - accuracy: 0.6657 - val_loss: 0.6492 - val_accuracy: 0.7698\n",
            "Epoch 5/50\n",
            "23/23 [==============================] - 75s 3s/step - loss: 0.7077 - accuracy: 0.7127 - val_loss: 0.5802 - val_accuracy: 0.7932\n",
            "Epoch 6/50\n",
            "23/23 [==============================] - 75s 3s/step - loss: 0.6771 - accuracy: 0.7096 - val_loss: 0.5180 - val_accuracy: 0.8005\n",
            "Epoch 7/50\n",
            "23/23 [==============================] - 75s 3s/step - loss: 0.6548 - accuracy: 0.7355 - val_loss: 0.5087 - val_accuracy: 0.8053\n",
            "Epoch 8/50\n",
            "23/23 [==============================] - 76s 3s/step - loss: 0.5967 - accuracy: 0.7631 - val_loss: 0.4686 - val_accuracy: 0.8191\n",
            "Epoch 9/50\n",
            "23/23 [==============================] - 76s 3s/step - loss: 0.5895 - accuracy: 0.7552 - val_loss: 0.4361 - val_accuracy: 0.8425\n",
            "Epoch 10/50\n",
            "23/23 [==============================] - 75s 3s/step - loss: 0.5588 - accuracy: 0.7752 - val_loss: 0.5288 - val_accuracy: 0.7641\n",
            "Epoch 11/50\n",
            "23/23 [==============================] - 75s 3s/step - loss: 0.5317 - accuracy: 0.7897 - val_loss: 0.4839 - val_accuracy: 0.8102\n",
            "Epoch 12/50\n",
            "23/23 [==============================] - 75s 3s/step - loss: 0.5192 - accuracy: 0.8020 - val_loss: 0.4562 - val_accuracy: 0.8086\n",
            "Epoch 13/50\n",
            "23/23 [==============================] - 75s 3s/step - loss: 0.5203 - accuracy: 0.7983 - val_loss: 0.4281 - val_accuracy: 0.8078\n",
            "Epoch 14/50\n",
            "23/23 [==============================] - 75s 3s/step - loss: 0.4762 - accuracy: 0.8242 - val_loss: 0.4686 - val_accuracy: 0.7843\n",
            "Epoch 15/50\n",
            "23/23 [==============================] - 75s 3s/step - loss: 0.5076 - accuracy: 0.7877 - val_loss: 0.3982 - val_accuracy: 0.8344\n",
            "Epoch 16/50\n",
            "23/23 [==============================] - 75s 3s/step - loss: 0.4662 - accuracy: 0.8192 - val_loss: 0.3852 - val_accuracy: 0.8506\n",
            "Epoch 17/50\n",
            "23/23 [==============================] - 75s 3s/step - loss: 0.4640 - accuracy: 0.8251 - val_loss: 0.3590 - val_accuracy: 0.8546\n",
            "Epoch 18/50\n",
            "23/23 [==============================] - 75s 3s/step - loss: 0.4530 - accuracy: 0.8353 - val_loss: 0.3595 - val_accuracy: 0.8570\n",
            "Epoch 19/50\n",
            "23/23 [==============================] - 75s 3s/step - loss: 0.4438 - accuracy: 0.8258 - val_loss: 0.3271 - val_accuracy: 0.8764\n",
            "Epoch 20/50\n",
            "23/23 [==============================] - 75s 3s/step - loss: 0.4209 - accuracy: 0.8372 - val_loss: 0.3264 - val_accuracy: 0.8772\n",
            "Epoch 21/50\n",
            "23/23 [==============================] - 75s 3s/step - loss: 0.4525 - accuracy: 0.8202 - val_loss: 0.3289 - val_accuracy: 0.8643\n",
            "Epoch 22/50\n",
            "23/23 [==============================] - 74s 3s/step - loss: 0.4016 - accuracy: 0.8516 - val_loss: 0.3944 - val_accuracy: 0.8344\n",
            "Epoch 23/50\n",
            "23/23 [==============================] - 74s 3s/step - loss: 0.4381 - accuracy: 0.8324 - val_loss: 0.3938 - val_accuracy: 0.8409\n",
            "Epoch 24/50\n",
            "23/23 [==============================] - 74s 3s/step - loss: 0.4031 - accuracy: 0.8394 - val_loss: 0.3487 - val_accuracy: 0.8538\n",
            "Epoch 25/50\n",
            "23/23 [==============================] - 75s 3s/step - loss: 0.4280 - accuracy: 0.8345 - val_loss: 0.3661 - val_accuracy: 0.8465\n",
            "Epoch 26/50\n",
            "23/23 [==============================] - 74s 3s/step - loss: 0.4070 - accuracy: 0.8519 - val_loss: 0.3314 - val_accuracy: 0.8643\n",
            "Epoch 27/50\n",
            "23/23 [==============================] - 74s 3s/step - loss: 0.4525 - accuracy: 0.8238 - val_loss: 0.3049 - val_accuracy: 0.8772\n",
            "Epoch 28/50\n",
            "23/23 [==============================] - 74s 3s/step - loss: 0.3991 - accuracy: 0.8512 - val_loss: 0.3320 - val_accuracy: 0.8683\n",
            "Epoch 29/50\n",
            "23/23 [==============================] - 75s 3s/step - loss: 0.3936 - accuracy: 0.8567 - val_loss: 0.3588 - val_accuracy: 0.8546\n",
            "Epoch 30/50\n",
            "23/23 [==============================] - 75s 3s/step - loss: 0.3837 - accuracy: 0.8547 - val_loss: 0.3356 - val_accuracy: 0.8675\n",
            "Epoch 31/50\n",
            "23/23 [==============================] - 75s 3s/step - loss: 0.3843 - accuracy: 0.8491 - val_loss: 0.4145 - val_accuracy: 0.8320\n",
            "Epoch 32/50\n",
            "23/23 [==============================] - 74s 3s/step - loss: 0.3747 - accuracy: 0.8561 - val_loss: 0.3997 - val_accuracy: 0.8457\n",
            "Epoch 33/50\n",
            "23/23 [==============================] - 75s 3s/step - loss: 0.3923 - accuracy: 0.8544 - val_loss: 0.4352 - val_accuracy: 0.8271\n",
            "Epoch 34/50\n",
            "23/23 [==============================] - 76s 3s/step - loss: 0.3763 - accuracy: 0.8570 - val_loss: 0.3225 - val_accuracy: 0.8724\n",
            "Epoch 35/50\n",
            "23/23 [==============================] - 74s 3s/step - loss: 0.4053 - accuracy: 0.8458 - val_loss: 0.3289 - val_accuracy: 0.8700\n",
            "Epoch 36/50\n",
            "23/23 [==============================] - 74s 3s/step - loss: 0.3592 - accuracy: 0.8639 - val_loss: 0.4195 - val_accuracy: 0.8304\n",
            "Epoch 37/50\n",
            "23/23 [==============================] - 74s 3s/step - loss: 0.3660 - accuracy: 0.8611 - val_loss: 0.3162 - val_accuracy: 0.8772\n",
            "Epoch 38/50\n",
            "23/23 [==============================] - 75s 3s/step - loss: 0.3744 - accuracy: 0.8582 - val_loss: 0.3311 - val_accuracy: 0.8691\n",
            "Epoch 39/50\n",
            "23/23 [==============================] - 74s 3s/step - loss: 0.3477 - accuracy: 0.8734 - val_loss: 0.3240 - val_accuracy: 0.8772\n",
            "Epoch 40/50\n",
            "23/23 [==============================] - 74s 3s/step - loss: 0.3452 - accuracy: 0.8715 - val_loss: 0.3313 - val_accuracy: 0.8667\n",
            "Epoch 41/50\n",
            "23/23 [==============================] - 74s 3s/step - loss: 0.3763 - accuracy: 0.8563 - val_loss: 0.3346 - val_accuracy: 0.8683\n",
            "Epoch 42/50\n",
            "23/23 [==============================] - 75s 3s/step - loss: 0.3561 - accuracy: 0.8641 - val_loss: 0.3969 - val_accuracy: 0.8449\n",
            "Epoch 43/50\n",
            "23/23 [==============================] - 75s 3s/step - loss: 0.3909 - accuracy: 0.8423 - val_loss: 0.3135 - val_accuracy: 0.8756\n",
            "Epoch 44/50\n",
            "23/23 [==============================] - 74s 3s/step - loss: 0.3725 - accuracy: 0.8609 - val_loss: 0.4677 - val_accuracy: 0.8215\n",
            "Epoch 45/50\n",
            "23/23 [==============================] - 74s 3s/step - loss: 0.3842 - accuracy: 0.8496 - val_loss: 0.3221 - val_accuracy: 0.8748\n",
            "Epoch 46/50\n",
            "23/23 [==============================] - 75s 3s/step - loss: 0.3751 - accuracy: 0.8502 - val_loss: 0.3120 - val_accuracy: 0.8821\n",
            "Epoch 47/50\n",
            "23/23 [==============================] - 76s 3s/step - loss: 0.3545 - accuracy: 0.8691 - val_loss: 0.3642 - val_accuracy: 0.8603\n",
            "Epoch 48/50\n",
            "23/23 [==============================] - 75s 3s/step - loss: 0.3522 - accuracy: 0.8694 - val_loss: 0.3778 - val_accuracy: 0.8522\n",
            "Epoch 49/50\n",
            "23/23 [==============================] - 76s 3s/step - loss: 0.3705 - accuracy: 0.8592 - val_loss: 0.3003 - val_accuracy: 0.8821\n",
            "Epoch 50/50\n",
            "23/23 [==============================] - 74s 3s/step - loss: 0.3603 - accuracy: 0.8653 - val_loss: 0.3061 - val_accuracy: 0.8748\n"
          ],
          "name": "stdout"
        },
        {
          "output_type": "display_data",
          "data": {
            "image/png": "[encoded data removed]",
            "text/plain": [
              "<Figure size 432x288 with 1 Axes>"
            ]
          },
          "metadata": {
            "tags": []
          }
        }
      ]
    },
    {
      "cell_type": "code",
      "metadata": {
        "colab": {
          "base_uri": "https://localhost:8080/",
          "height": 581
        },
        "id": "paapP-_z42Fn",
        "outputId": "0e1491a6-5f79-44b3-8c86-17998b22e141"
      },
      "source": [
        "ResNet50_model.save('ResNet50_model')\r\n",
        "\r\n",
        "ResNet50_model_history_df = pd.DataFrame(ResNet50_model_history.history) \r\n",
        "ResNet50_model_history_df.to_csv('ResNet50_model/history.csv')\r\n",
        "\r\n",
        "tf.keras.utils.plot_model(\r\n",
        "    ResNet50_model, to_file='ResNet50_model/architecture.png', show_shapes=False,\r\n",
        "    show_layer_names=True, rankdir='TB', expand_nested=False, dpi=96\r\n",
        ")"
      ],
      "execution_count": null,
      "outputs": [
        {
          "output_type": "stream",
          "text": [
            "INFO:tensorflow:Assets written to: ResNet50_model/assets\n"
          ],
          "name": "stdout"
        },
        {
          "output_type": "execute_result",
          "data": {
            "image/png": "[encoded data removed]",
            "text/plain": [
              "<IPython.core.display.Image object>"
            ]
          },
          "metadata": {
            "tags": []
          },
          "execution_count": 10
        }
      ]
    },
    {
      "cell_type": "code",
      "metadata": {
        "colab": {
          "base_uri": "https://localhost:8080/"
        },
        "id": "uRqKZWRuV1im",
        "outputId": "2b5b9984-8a93-4789-e56d-91e62c5f9d5d"
      },
      "source": [
        "Y_pred = ResNet50_model.predict_generator(val_ds2, 1238 // batch_size+1)\r\n",
        "y_pred = np.argmax(Y_pred, axis=1)\r\n",
        "\r\n",
        "print('ResNet50_model Confusion Matrix')\r\n",
        "conf_matrix = pd.DataFrame(\r\n",
        "    confusion_matrix(val_ds2.classes, y_pred), \r\n",
        "    index=['true: COVID19', 'true: NORMAL','true: Viral_Pneumonia'], \r\n",
        "    columns=['pred: COVID19', 'pred: NORMAL','pred: Viral_Pneumonia']\r\n",
        ")\r\n",
        "conf_matrix.to_csv(\"ResNet50_model/confusion_matrix.csv\")\r\n",
        "print(conf_matrix)\r\n",
        "print('\\n')\r\n",
        "print('Classification Report')\r\n",
        "target_names = list(val_ds2.class_indices.keys())\r\n",
        "print(classification_report(val_ds2.classes, y_pred, target_names=target_names))"
      ],
      "execution_count": null,
      "outputs": [
        {
          "output_type": "stream",
          "text": [
            "/usr/local/lib/python3.6/dist-packages/tensorflow/python/keras/engine/training.py:1905: UserWarning: `Model.predict_generator` is deprecated and will be removed in a future version. Please use `Model.predict`, which supports generators.\n",
            "  warnings.warn('`Model.predict_generator` is deprecated and '\n"
          ],
          "name": "stderr"
        },
        {
          "output_type": "stream",
          "text": [
            "ResNet50_model Confusion Matrix\n",
            "                       pred: COVID19  pred: NORMAL  pred: Viral_Pneumonia\n",
            "true: COVID19                    369             6                     23\n",
            "true: NORMAL                       4           369                     29\n",
            "true: Viral_Pneumonia             12            81                    345\n",
            "\n",
            "\n",
            "Classification Report\n",
            "                 precision    recall  f1-score   support\n",
            "\n",
            "        COVID19       0.96      0.93      0.94       398\n",
            "         NORMAL       0.81      0.92      0.86       402\n",
            "Viral_Pneumonia       0.87      0.79      0.83       438\n",
            "\n",
            "       accuracy                           0.87      1238\n",
            "      macro avg       0.88      0.88      0.88      1238\n",
            "   weighted avg       0.88      0.87      0.87      1238\n",
            "\n"
          ],
          "name": "stdout"
        }
      ]
    },
    {
      "cell_type": "code",
      "metadata": {
        "colab": {
          "base_uri": "https://localhost:8080/",
          "height": 1000
        },
        "id": "vlBynWPnz5KD",
        "outputId": "4f1390da-0e8d-4502-de72-f19be05f9bb7"
      },
      "source": [
        "# VGG16 Model with Dropout\r\n",
        "\r\n",
        "VGG16_classifier2=VGG16(weights=\"imagenet\", include_top=False, input_tensor=Input(shape=(img_height, img_width, 3)))\r\n",
        "\r\n",
        "for layer in VGG16_classifier2.layers:\r\n",
        "    layer.trainable=False\r\n",
        "\r\n",
        "with tf.device('/device:GPU:0'):\r\n",
        "  VGG16_model2 = tf.keras.Sequential([\r\n",
        "                                     VGG16_classifier2,\r\n",
        "                                     MaxPooling2D(),\r\n",
        "                                     Flatten(),\r\n",
        "                                     Dense(img_height, activation='relu'),\r\n",
        "                                     Dropout(0.5),\r\n",
        "                                     Dense(class_number, activation='softmax')\r\n",
        "                                     ])\r\n",
        "\r\n",
        "  VGG16_model2.compile(\r\n",
        "      optimizer='adam',\r\n",
        "      loss=tf.losses.CategoricalCrossentropy(from_logits=True),\r\n",
        "      metrics=['accuracy']\r\n",
        "      )\r\n",
        "  \r\n",
        "  VGG16_model2_history = VGG16_model2.fit(\r\n",
        "      train_ds,\r\n",
        "      validation_data=val_ds,\r\n",
        "      epochs=epochs,\r\n",
        "      verbose=1\r\n",
        "      )\r\n",
        "  plt.plot(VGG16_model2_history.history['accuracy'])\r\n",
        "  plt.plot(VGG16_model2_history.history['val_accuracy'])\r\n",
        "  plt.title('VGG16 model 2 accuracy')\r\n",
        "  plt.ylabel('accuracy')\r\n",
        "  plt.xlabel('epoch')\r\n",
        "  plt.legend(['train', 'test'], loc='upper left')\r\n",
        "  plt.show()  "
      ],
      "execution_count": null,
      "outputs": [
        {
          "output_type": "stream",
          "text": [
            "Downloading data from https://storage.googleapis.com/tensorflow/keras-applications/vgg16/vgg16_weights_tf_dim_ordering_tf_kernels_notop.h5\n",
            "58892288/58889256 [==============================] - 0s 0us/step\n",
            "Epoch 1/50\n",
            "23/23 [==============================] - 1165s 51s/step - loss: 1.2222 - accuracy: 0.5414 - val_loss: 0.3976 - val_accuracy: 0.8288\n",
            "Epoch 2/50\n",
            "23/23 [==============================] - 77s 3s/step - loss: 0.4341 - accuracy: 0.8349 - val_loss: 0.4082 - val_accuracy: 0.8304\n",
            "Epoch 3/50\n",
            "23/23 [==============================] - 76s 3s/step - loss: 0.3297 - accuracy: 0.8827 - val_loss: 0.3339 - val_accuracy: 0.8748\n",
            "Epoch 4/50\n",
            "23/23 [==============================] - 78s 3s/step - loss: 0.3075 - accuracy: 0.8947 - val_loss: 0.4062 - val_accuracy: 0.8417\n",
            "Epoch 5/50\n",
            "23/23 [==============================] - 78s 3s/step - loss: 0.2598 - accuracy: 0.9139 - val_loss: 0.3008 - val_accuracy: 0.8821\n",
            "Epoch 6/50\n",
            "23/23 [==============================] - 80s 3s/step - loss: 0.2532 - accuracy: 0.9208 - val_loss: 0.3591 - val_accuracy: 0.8546\n",
            "Epoch 7/50\n",
            "23/23 [==============================] - 80s 3s/step - loss: 0.2367 - accuracy: 0.9237 - val_loss: 0.2977 - val_accuracy: 0.8845\n",
            "Epoch 8/50\n",
            "23/23 [==============================] - 79s 3s/step - loss: 0.2434 - accuracy: 0.9237 - val_loss: 0.2929 - val_accuracy: 0.8910\n",
            "Epoch 9/50\n",
            "23/23 [==============================] - 77s 3s/step - loss: 0.2244 - accuracy: 0.9312 - val_loss: 0.2967 - val_accuracy: 0.8845\n",
            "Epoch 10/50\n",
            "23/23 [==============================] - 76s 3s/step - loss: 0.2230 - accuracy: 0.9277 - val_loss: 0.3752 - val_accuracy: 0.8570\n",
            "Epoch 11/50\n",
            "23/23 [==============================] - 76s 3s/step - loss: 0.2292 - accuracy: 0.9206 - val_loss: 0.2861 - val_accuracy: 0.8869\n",
            "Epoch 12/50\n",
            "23/23 [==============================] - 76s 3s/step - loss: 0.2063 - accuracy: 0.9332 - val_loss: 0.3839 - val_accuracy: 0.8554\n",
            "Epoch 13/50\n",
            "23/23 [==============================] - 76s 3s/step - loss: 0.1771 - accuracy: 0.9372 - val_loss: 0.2800 - val_accuracy: 0.8942\n",
            "Epoch 14/50\n",
            "23/23 [==============================] - 76s 3s/step - loss: 0.1799 - accuracy: 0.9390 - val_loss: 0.3315 - val_accuracy: 0.8691\n",
            "Epoch 15/50\n",
            "23/23 [==============================] - 75s 3s/step - loss: 0.1638 - accuracy: 0.9385 - val_loss: 0.3229 - val_accuracy: 0.8732\n",
            "Epoch 16/50\n",
            "23/23 [==============================] - 76s 3s/step - loss: 0.1907 - accuracy: 0.9335 - val_loss: 0.3238 - val_accuracy: 0.8724\n",
            "Epoch 17/50\n",
            "23/23 [==============================] - 75s 3s/step - loss: 0.1883 - accuracy: 0.9384 - val_loss: 0.3659 - val_accuracy: 0.8635\n",
            "Epoch 18/50\n",
            "23/23 [==============================] - 76s 3s/step - loss: 0.1555 - accuracy: 0.9486 - val_loss: 0.2923 - val_accuracy: 0.8869\n",
            "Epoch 19/50\n",
            "23/23 [==============================] - 76s 3s/step - loss: 0.1537 - accuracy: 0.9424 - val_loss: 0.3224 - val_accuracy: 0.8732\n",
            "Epoch 20/50\n",
            "23/23 [==============================] - 75s 3s/step - loss: 0.1466 - accuracy: 0.9507 - val_loss: 0.2518 - val_accuracy: 0.9006\n",
            "Epoch 21/50\n",
            "23/23 [==============================] - 75s 3s/step - loss: 0.1568 - accuracy: 0.9472 - val_loss: 0.2873 - val_accuracy: 0.8942\n",
            "Epoch 22/50\n",
            "23/23 [==============================] - 75s 3s/step - loss: 0.1637 - accuracy: 0.9440 - val_loss: 0.3219 - val_accuracy: 0.8764\n",
            "Epoch 23/50\n",
            "23/23 [==============================] - 76s 3s/step - loss: 0.1548 - accuracy: 0.9466 - val_loss: 0.3790 - val_accuracy: 0.8675\n",
            "Epoch 24/50\n",
            "23/23 [==============================] - 75s 3s/step - loss: 0.1474 - accuracy: 0.9508 - val_loss: 0.2904 - val_accuracy: 0.8934\n",
            "Epoch 25/50\n",
            "23/23 [==============================] - 75s 3s/step - loss: 0.1308 - accuracy: 0.9516 - val_loss: 0.3393 - val_accuracy: 0.8740\n",
            "Epoch 26/50\n",
            "23/23 [==============================] - 75s 3s/step - loss: 0.1389 - accuracy: 0.9501 - val_loss: 0.3166 - val_accuracy: 0.8788\n",
            "Epoch 27/50\n",
            "23/23 [==============================] - 76s 3s/step - loss: 0.1465 - accuracy: 0.9465 - val_loss: 0.2439 - val_accuracy: 0.9031\n",
            "Epoch 28/50\n",
            "23/23 [==============================] - 75s 3s/step - loss: 0.1481 - accuracy: 0.9482 - val_loss: 0.3384 - val_accuracy: 0.8788\n",
            "Epoch 29/50\n",
            "23/23 [==============================] - 75s 3s/step - loss: 0.1471 - accuracy: 0.9496 - val_loss: 0.2578 - val_accuracy: 0.9006\n",
            "Epoch 30/50\n",
            "23/23 [==============================] - 75s 3s/step - loss: 0.1465 - accuracy: 0.9468 - val_loss: 0.2968 - val_accuracy: 0.8974\n",
            "Epoch 31/50\n",
            "23/23 [==============================] - 76s 3s/step - loss: 0.1458 - accuracy: 0.9466 - val_loss: 0.2562 - val_accuracy: 0.8998\n",
            "Epoch 32/50\n",
            "23/23 [==============================] - 75s 3s/step - loss: 0.1351 - accuracy: 0.9544 - val_loss: 0.2809 - val_accuracy: 0.8901\n",
            "Epoch 33/50\n",
            "23/23 [==============================] - 75s 3s/step - loss: 0.1438 - accuracy: 0.9477 - val_loss: 0.4795 - val_accuracy: 0.8449\n",
            "Epoch 34/50\n",
            "23/23 [==============================] - 75s 3s/step - loss: 0.1478 - accuracy: 0.9508 - val_loss: 0.3538 - val_accuracy: 0.8675\n",
            "Epoch 35/50\n",
            "23/23 [==============================] - 76s 3s/step - loss: 0.1233 - accuracy: 0.9598 - val_loss: 0.4125 - val_accuracy: 0.8603\n",
            "Epoch 36/50\n",
            "23/23 [==============================] - 75s 3s/step - loss: 0.1245 - accuracy: 0.9564 - val_loss: 0.2772 - val_accuracy: 0.8982\n",
            "Epoch 37/50\n",
            "23/23 [==============================] - 75s 3s/step - loss: 0.1270 - accuracy: 0.9626 - val_loss: 0.3784 - val_accuracy: 0.8659\n",
            "Epoch 38/50\n",
            "23/23 [==============================] - 75s 3s/step - loss: 0.1183 - accuracy: 0.9576 - val_loss: 0.2689 - val_accuracy: 0.9023\n",
            "Epoch 39/50\n",
            "23/23 [==============================] - 75s 3s/step - loss: 0.1358 - accuracy: 0.9559 - val_loss: 0.3797 - val_accuracy: 0.8732\n",
            "Epoch 40/50\n",
            "23/23 [==============================] - 75s 3s/step - loss: 0.1427 - accuracy: 0.9467 - val_loss: 0.2650 - val_accuracy: 0.8990\n",
            "Epoch 41/50\n",
            "23/23 [==============================] - 75s 3s/step - loss: 0.1379 - accuracy: 0.9510 - val_loss: 0.3275 - val_accuracy: 0.8869\n",
            "Epoch 42/50\n",
            "23/23 [==============================] - 75s 3s/step - loss: 0.1196 - accuracy: 0.9610 - val_loss: 0.2239 - val_accuracy: 0.9103\n",
            "Epoch 43/50\n",
            "23/23 [==============================] - 75s 3s/step - loss: 0.1226 - accuracy: 0.9569 - val_loss: 0.4258 - val_accuracy: 0.8603\n",
            "Epoch 44/50\n",
            "23/23 [==============================] - 75s 3s/step - loss: 0.1530 - accuracy: 0.9553 - val_loss: 0.2891 - val_accuracy: 0.8950\n",
            "Epoch 45/50\n",
            "23/23 [==============================] - 75s 3s/step - loss: 0.1563 - accuracy: 0.9439 - val_loss: 0.3105 - val_accuracy: 0.8893\n",
            "Epoch 46/50\n",
            "23/23 [==============================] - 75s 3s/step - loss: 0.1245 - accuracy: 0.9598 - val_loss: 0.2736 - val_accuracy: 0.8974\n",
            "Epoch 47/50\n",
            "23/23 [==============================] - 76s 3s/step - loss: 0.1223 - accuracy: 0.9623 - val_loss: 0.3192 - val_accuracy: 0.8756\n",
            "Epoch 48/50\n",
            "23/23 [==============================] - 76s 3s/step - loss: 0.1211 - accuracy: 0.9590 - val_loss: 0.2823 - val_accuracy: 0.8877\n",
            "Epoch 49/50\n",
            "23/23 [==============================] - 76s 3s/step - loss: 0.1217 - accuracy: 0.9595 - val_loss: 0.3167 - val_accuracy: 0.8837\n",
            "Epoch 50/50\n",
            "23/23 [==============================] - 76s 3s/step - loss: 0.1144 - accuracy: 0.9600 - val_loss: 0.3693 - val_accuracy: 0.8691\n"
          ],
          "name": "stdout"
        },
        {
          "output_type": "display_data",
          "data": {
            "image/png": "[encoded data removed]",
            "text/plain": [
              "<Figure size 432x288 with 1 Axes>"
            ]
          },
          "metadata": {
            "tags": []
          }
        }
      ]
    },
    {
      "cell_type": "code",
      "metadata": {
        "id": "V1rCrd3Rz5M1"
      },
      "source": [
        "VGG16_model2_history_df = pd.DataFrame(VGG16_model2_history.history) \r\n",
        "VGG16_model2_history_df.to_csv('VGG16_model2.csv')\r\n",
        "\r\n",
        "tf.keras.utils.plot_model(\r\n",
        "    VGG16_model2, to_file='VGG16_model2.png', show_shapes=False,\r\n",
        "    show_layer_names=True, rankdir='TB', expand_nested=False, dpi=96\r\n",
        ")\r\n",
        "\r\n",
        "VGG16_model2.save('VGG16_model2.h5')"
      ],
      "execution_count": null,
      "outputs": []
    },
    {
      "cell_type": "code",
      "metadata": {
        "colab": {
          "base_uri": "https://localhost:8080/"
        },
        "id": "HpLwSsOd53L4",
        "outputId": "170c252a-e0fa-42e7-c48e-311b54810c6a"
      },
      "source": [
        "val_ds"
      ],
      "execution_count": null,
      "outputs": [
        {
          "output_type": "execute_result",
          "data": {
            "text/plain": [
              "<tensorflow.python.keras.preprocessing.image.DirectoryIterator at 0x7f4d55e8ba90>"
            ]
          },
          "metadata": {
            "tags": []
          },
          "execution_count": 16
        }
      ]
    },
    {
      "cell_type": "code",
      "metadata": {
        "id": "fBb7kJhfq8H9"
      },
      "source": [
        "labels\r\n",
        "\r\n",
        "tf.math.confusion_matrix(\r\n",
        "    labels, predictions, num_classes=None, weights=None, dtype=tf.dtypes.int32,\r\n",
        "    name=None\r\n",
        ")"
      ],
      "execution_count": null,
      "outputs": []
    },
    {
      "cell_type": "code",
      "metadata": {
        "id": "FcVm8kd1GkXM"
      },
      "source": [
        "#################################################################################################################################################################################\r\n",
        "################################################################### Load Models #################################################################################################\r\n",
        "#################################################################################################################################################################################\r\n",
        "model_name = 'ResNet50_model'\r\n",
        "new_model = tf.keras.models.load_model(model_name)"
      ],
      "execution_count": 25,
      "outputs": []
    },
    {
      "cell_type": "code",
      "metadata": {
        "colab": {
          "base_uri": "https://localhost:8080/"
        },
        "id": "uC-4dXs5Czsw",
        "outputId": "45d51c52-c9dd-4888-d62a-e4545224334a"
      },
      "source": [
        "train_loss, train_accuracy = new_model.evaluate(eval_train_ds)\r\n",
        "print(f'\\n Training loss: {train_loss}')\r\n",
        "print(f'\\n Training accuracy: {train_accuracy}')\r\n",
        "\r\n",
        "val_loss, val_accuracy = new_model.evaluate(eval_val_ds)\r\n",
        "print(f'\\n Validation loss: {val_loss}')\r\n",
        "print(f'\\n Validation accuracy: {val_accuracy}')"
      ],
      "execution_count": 26,
      "outputs": [
        {
          "output_type": "stream",
          "text": [
            "23/23 [==============================] - 60s 3s/step - loss: 0.3249 - accuracy: 0.8745\n",
            "\n",
            " Training loss: 0.3248694837093353\n",
            "\n",
            " Training accuracy: 0.874524712562561\n",
            "10/10 [==============================] - 18s 2s/step - loss: 0.3061 - accuracy: 0.8748\n",
            "\n",
            " Validation loss: 0.30606386065483093\n",
            "\n",
            " Validation accuracy: 0.874798059463501\n"
          ],
          "name": "stdout"
        }
      ]
    },
    {
      "cell_type": "code",
      "metadata": {
        "colab": {
          "base_uri": "https://localhost:8080/"
        },
        "id": "s2JaZ3zsDIND",
        "outputId": "aeb13d1f-9005-4a73-835d-f7b824f72067"
      },
      "source": [
        "train_Y_pred = new_model.predict(eval_train_ds, 2893 // batch_size+1, verbose=1)\r\n",
        "train_y_pred = np.argmax(train_Y_pred, axis=1)\r\n",
        "\r\n",
        "print(f'{model_name} Training Confusion Matrix')\r\n",
        "conf_matrix = pd.DataFrame(\r\n",
        "    confusion_matrix(train_ds.classes, train_y_pred), \r\n",
        "    index=['true: COVID19', 'true: NORMAL','true: Viral_Pneumonia'], \r\n",
        "    columns=['pred: COVID19', 'pred: NORMAL','pred: Viral_Pneumonia']\r\n",
        ")\r\n",
        "print(conf_matrix)\r\n",
        "print('\\n')\r\n",
        "print(f'{model_name} Training Classification Report')\r\n",
        "target_names = list(train_ds.class_indices.keys())\r\n",
        "print(classification_report(train_ds.classes, train_y_pred, target_names=target_names))\r\n",
        "\r\n",
        "\r\n",
        "val_Y_pred = new_model.predict(eval_val_ds, 1238 // batch_size+1, verbose=1)\r\n",
        "val_y_pred = np.argmax(val_Y_pred, axis=1)\r\n",
        "\r\n",
        "print(f'{model_name} Validation Confusion Matrix')\r\n",
        "conf_matrix = pd.DataFrame(\r\n",
        "    confusion_matrix(val_ds.classes, val_y_pred), \r\n",
        "    index=['true: COVID19', 'true: NORMAL','true: Viral_Pneumonia'], \r\n",
        "    columns=['pred: COVID19', 'pred: NORMAL','pred: Viral_Pneumonia']\r\n",
        ")\r\n",
        "print(conf_matrix)\r\n",
        "print('\\n')\r\n",
        "print(f'{model_name} Validation Classification Report')\r\n",
        "target_names = list(val_ds.class_indices.keys())\r\n",
        "print(classification_report(val_ds.classes, val_y_pred, target_names=target_names))"
      ],
      "execution_count": 27,
      "outputs": [
        {
          "output_type": "stream",
          "text": [
            "23/23 [==============================] - 59s 3s/step\n",
            "ResNet50_model Training Confusion Matrix\n",
            "                       pred: COVID19  pred: NORMAL  pred: Viral_Pneumonia\n",
            "true: COVID19                    883             8                     38\n",
            "true: NORMAL                      21           848                     70\n",
            "true: Viral_Pneumonia            103            85                    837\n",
            "\n",
            "\n",
            "ResNet50_model Training Classification Report\n",
            "                 precision    recall  f1-score   support\n",
            "\n",
            "        COVID19       0.88      0.95      0.91       929\n",
            "         NORMAL       0.90      0.90      0.90       939\n",
            "Viral_Pneumonia       0.89      0.82      0.85      1025\n",
            "\n",
            "       accuracy                           0.89      2893\n",
            "      macro avg       0.89      0.89      0.89      2893\n",
            "   weighted avg       0.89      0.89      0.89      2893\n",
            "\n",
            "10/10 [==============================] - 17s 2s/step\n",
            "ResNet50_model Validation Confusion Matrix\n",
            "                       pred: COVID19  pred: NORMAL  pred: Viral_Pneumonia\n",
            "true: COVID19                    369             6                     23\n",
            "true: NORMAL                       4           369                     29\n",
            "true: Viral_Pneumonia             12            81                    345\n",
            "\n",
            "\n",
            "ResNet50_model Validation Classification Report\n",
            "                 precision    recall  f1-score   support\n",
            "\n",
            "        COVID19       0.96      0.93      0.94       398\n",
            "         NORMAL       0.81      0.92      0.86       402\n",
            "Viral_Pneumonia       0.87      0.79      0.83       438\n",
            "\n",
            "       accuracy                           0.87      1238\n",
            "      macro avg       0.88      0.88      0.88      1238\n",
            "   weighted avg       0.88      0.87      0.87      1238\n",
            "\n"
          ],
          "name": "stdout"
        }
      ]
    },
    {
      "cell_type": "code",
      "metadata": {
        "id": "wDZ_CeqgO6Nt"
      },
      "source": [
        ""
      ],
      "execution_count": null,
      "outputs": []
    }
  ]
}