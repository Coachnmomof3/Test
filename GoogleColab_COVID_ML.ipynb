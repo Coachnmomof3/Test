{
  "nbformat": 4,
  "nbformat_minor": 0,
  "metadata": {
    "accelerator": "GPU",
    "colab": {
      "name": "GoogleColab_COVID_ML.ipynb",
      "provenance": [],
      "collapsed_sections": []
    },
    "kernelspec": {
      "display_name": "Python 3",
      "name": "python3"
    }
  },
  "cells": [
    {
      "cell_type": "code",
      "metadata": {
        "colab": {
          "base_uri": "https://localhost:8080/"
        },
        "id": "8Oifec4p_tmr",
        "outputId": "c217c8ae-461e-4b23-f528-2b2c521f41f6"
      },
      "source": [
        "!ln -sf /opt/bin/nvidia-smi /usr/bin/nvidia-smi\r\n",
        "!pip install gputil\r\n",
        "!pip install psutil\r\n",
        "!pip install humanize\r\n",
        "import psutil\r\n",
        "import humanize\r\n",
        "import os\r\n",
        "import GPUtil as GPU\r\n",
        "GPUs = GPU.getGPUs()\r\n",
        "# XXX: only one GPU on Colab and isn’t guaranteed\r\n",
        "gpu = GPUs[0]\r\n",
        "def printm():\r\n",
        " process = psutil.Process(os.getpid())\r\n",
        " print(\"Gen RAM Free: \" + humanize.naturalsize( psutil.virtual_memory().available ), \" | Proc size: \" + humanize.naturalsize( process.memory_info().rss))\r\n",
        " print(\"GPU RAM Free: {0:.0f}MB | Used: {1:.0f}MB | Util {2:3.0f}% | Total {3:.0f}MB\".format(gpu.memoryFree, gpu.memoryUsed, gpu.memoryUtil*100, gpu.memoryTotal))\r\n",
        "printm() "
      ],
      "execution_count": 1,
      "outputs": [
        {
          "output_type": "stream",
          "text": [
            "Collecting gputil\n",
            "  Downloading https://files.pythonhosted.org/packages/ed/0e/5c61eedde9f6c87713e89d794f01e378cfd9565847d4576fa627d758c554/GPUtil-1.4.0.tar.gz\n",
            "Building wheels for collected packages: gputil\n",
            "  Building wheel for gputil (setup.py) ... \u001b[?25l\u001b[?25hdone\n",
            "  Created wheel for gputil: filename=GPUtil-1.4.0-cp36-none-any.whl size=7411 sha256=e916047a66dfe9cbe82894cd451b2de4969aee9c66e6da8ad2de2c28bf7bb18d\n",
            "  Stored in directory: /root/.cache/pip/wheels/3d/77/07/80562de4bb0786e5ea186911a2c831fdd0018bda69beab71fd\n",
            "Successfully built gputil\n",
            "Installing collected packages: gputil\n",
            "Successfully installed gputil-1.4.0\n",
            "Requirement already satisfied: psutil in /usr/local/lib/python3.6/dist-packages (5.4.8)\n",
            "Requirement already satisfied: humanize in /usr/local/lib/python3.6/dist-packages (0.5.1)\n",
            "Gen RAM Free: 12.8 GB  | Proc size: 111.9 MB\n",
            "GPU RAM Free: 15079MB | Used: 0MB | Util   0% | Total 15079MB\n"
          ],
          "name": "stdout"
        }
      ]
    },
    {
      "cell_type": "code",
      "metadata": {
        "id": "_czLXlJx_4KE"
      },
      "source": [
        "!kill -9 -1"
      ],
      "execution_count": null,
      "outputs": []
    },
    {
      "cell_type": "code",
      "metadata": {
        "id": "SUY3Yo_zOfmz"
      },
      "source": [
        "!pip install -q pyyaml h5py"
      ],
      "execution_count": 2,
      "outputs": []
    },
    {
      "cell_type": "code",
      "metadata": {
        "id": "9lt8CVBL0OAV"
      },
      "source": [
        "from tensorflow.keras.preprocessing.image import ImageDataGenerator\n",
        "from tensorflow.keras.losses import SparseCategoricalCrossentropy\n",
        "from tensorflow.keras.applications import VGG16\n",
        "from tensorflow.keras.applications.resnet50 import ResNet50 \n",
        "from keras.applications.vgg16 import preprocess_input\n",
        "from tensorflow.keras.layers import Activation, Dense, Dropout, Flatten, BatchNormalization, Conv2D, MaxPooling2D, Lambda, Input, AveragePooling2D\n",
        "from tensorflow.keras.models import Sequential, Model\n",
        "from tensorflow.keras.layers import Input\n",
        "from tensorflow.keras import layers\n",
        "from tensorflow.keras.utils import to_categorical\n",
        "from sklearn.preprocessing import LabelBinarizer\n",
        "from sklearn.model_selection import train_test_split\n",
        "from tensorflow.keras.preprocessing import image\n",
        "from tensorflow.keras.optimizers import Adam\n",
        "from tensorflow.keras.optimizers import SGD\n",
        "from tensorflow.keras.preprocessing import image\n",
        "from tensorflow.keras import backend as K\n",
        "import tensorflow as tf \n",
        "from sklearn.metrics import classification_report, confusion_matrix\n",
        "import matplotlib.pyplot as plt \n",
        "import numpy as np \n",
        "import pandas as pd\n",
        "import random\n",
        "#import cv2\n",
        "import os"
      ],
      "execution_count": 114,
      "outputs": []
    },
    {
      "cell_type": "code",
      "metadata": {
        "colab": {
          "base_uri": "https://localhost:8080/",
          "height": 338
        },
        "id": "xQm4fstBuTIg",
        "outputId": "786b79b2-551e-44be-99cb-f10176339c06"
      },
      "source": [
        "from tensorflow.python.client import device_lib\r\n",
        "print(device_lib.list_local_devices())\r\n",
        "\r\n",
        "device = tf.test.gpu_device_name()\r\n",
        "device"
      ],
      "execution_count": 115,
      "outputs": [
        {
          "output_type": "stream",
          "text": [
            "[name: \"/device:CPU:0\"\n",
            "device_type: \"CPU\"\n",
            "memory_limit: 268435456\n",
            "locality {\n",
            "}\n",
            "incarnation: 406251721776596939\n",
            ", name: \"/device:GPU:0\"\n",
            "device_type: \"GPU\"\n",
            "memory_limit: 14638920512\n",
            "locality {\n",
            "  bus_id: 1\n",
            "  links {\n",
            "  }\n",
            "}\n",
            "incarnation: 2382369384559023624\n",
            "physical_device_desc: \"device: 0, name: Tesla T4, pci bus id: 0000:00:04.0, compute capability: 7.5\"\n",
            "]\n"
          ],
          "name": "stdout"
        },
        {
          "output_type": "execute_result",
          "data": {
            "application/vnd.google.colaboratory.intrinsic+json": {
              "type": "string"
            },
            "text/plain": [
              "'/device:GPU:0'"
            ]
          },
          "metadata": {
            "tags": []
          },
          "execution_count": 115
        }
      ]
    },
    {
      "cell_type": "code",
      "metadata": {
        "colab": {
          "base_uri": "https://localhost:8080/"
        },
        "id": "L99dOLAb0vB3",
        "outputId": "a588bf93-2f36-4adf-e4ed-ab423342aa3f"
      },
      "source": [
        "# Mounting the drive\n",
        "from google.colab import drive\n",
        "drive.mount('/content/drive')"
      ],
      "execution_count": 116,
      "outputs": [
        {
          "output_type": "stream",
          "text": [
            "Drive already mounted at /content/drive; to attempt to forcibly remount, call drive.mount(\"/content/drive\", force_remount=True).\n"
          ],
          "name": "stdout"
        }
      ]
    },
    {
      "cell_type": "code",
      "metadata": {
        "id": "DqfJ0n8h2Zp_"
      },
      "source": [
        "# Changing directory to images\n",
        "os.chdir(\"/content/drive/MyDrive/Data Analysis Bootcamp/Resources\")"
      ],
      "execution_count": 117,
      "outputs": []
    },
    {
      "cell_type": "code",
      "metadata": {
        "colab": {
          "base_uri": "https://localhost:8080/"
        },
        "id": "eqiYPt-V0OAV",
        "outputId": "b46d53b4-4ab2-48ca-8bfd-f0672f279411"
      },
      "source": [
        "# Check Classes \n",
        "image_names=list(os.listdir(\"Database\"))\n",
        "image_names.sort()\n",
        "print(image_names)\n",
        "class_number = len(image_names)"
      ],
      "execution_count": 8,
      "outputs": [
        {
          "output_type": "stream",
          "text": [
            "['COVID19', 'NORMAL', 'Viral_Pneumonia']\n"
          ],
          "name": "stdout"
        }
      ]
    },
    {
      "cell_type": "code",
      "metadata": {
        "id": "LWMEFFWH0OAW"
      },
      "source": [
        "# Directory with Atelectasis\n",
        "#atele_dir=os.path.join(\"Database/COVID19\")\n",
        "#df =pd.DataFrame.from_records({\"file_name\":os.listdir(atele_dir),\"condition\": \"Covid\"})\n",
        "#for f in image_names[1:]:\n",
        "#    folder_path=\"Database/\" + f\n",
        "#    temp_df= pd.DataFrame.from_records({\"file_name\":os.listdir(folder_path),\"condition\": f })\n",
        "#    df=df.append(temp_df)\n",
        "    \n",
        "#df[\"condition\"].value_counts()"
      ],
      "execution_count": 9,
      "outputs": []
    },
    {
      "cell_type": "code",
      "metadata": {
        "id": "Ti7rsv5t0OAX"
      },
      "source": [
        "#Exporting Label CSV\n",
        "#df.to_csv(\"Labels.csv\")"
      ],
      "execution_count": 10,
      "outputs": []
    },
    {
      "cell_type": "code",
      "metadata": {
        "id": "pwuEDPJf0OAX"
      },
      "source": [
        "# balance classes - random Random Sampling No_Finding\n",
        "#df_no_finding = df[df[\"condition\"]==\"No_Finding\"].sample(n=150, random_state=42)\n",
        "#df_balanced = df[df[\"condition\"]!=\"No_Finding\"].append(df_no_finding)\n",
        "#df_balanced[\"condition\"].value_counts()"
      ],
      "execution_count": 11,
      "outputs": []
    },
    {
      "cell_type": "code",
      "metadata": {
        "id": "oxmn5Z0M0OAX"
      },
      "source": [
        "#df_balanced[\"file_name\"] = \"Resources/Images/Classes/\"+df_balanced[\"file_name\"]"
      ],
      "execution_count": 12,
      "outputs": []
    },
    {
      "cell_type": "code",
      "metadata": {
        "id": "FVe4Czei0OAX"
      },
      "source": [
        "# Settings\n",
        "batch_size = 256\n",
        "img_height, img_width = 200,200\n",
        "epochs = 100\n",
        "data_dir = \"Database/\""
      ],
      "execution_count": 118,
      "outputs": []
    },
    {
      "cell_type": "code",
      "metadata": {
        "colab": {
          "base_uri": "https://localhost:8080/"
        },
        "id": "ggL4dMd70a8A",
        "outputId": "24efb875-0109-4ba3-e138-37743d8c8283"
      },
      "source": [
        "# Rescale images \r\n",
        "datagen= ImageDataGenerator(rescale=1/255,validation_split=.3,rotation_range=20,\r\n",
        "                           shear_range=.2,width_shift_range=0.1,height_shift_range=0.1,zoom_range=0.2)\r\n",
        "\r\n",
        "# Flow training images in batches of batch_size using train_data \r\n",
        "train_ds= datagen.flow_from_directory(\r\n",
        "                data_dir,\r\n",
        "                target_size=(img_width,img_height),\r\n",
        "                batch_size=batch_size,\r\n",
        "                subset=\"training\",\r\n",
        "                class_mode=\"categorical\", \r\n",
        "                classes= image_names,\r\n",
        "                shuffle=True, \r\n",
        "                seed=30)\r\n",
        "\r\n",
        "\r\n",
        "datagen2=ImageDataGenerator(rescale=1/255,validation_split=.3)\r\n",
        "\r\n",
        "val_ds=datagen2.flow_from_directory(\r\n",
        "                data_dir,\r\n",
        "                target_size=(img_width,img_height),\r\n",
        "                batch_size=batch_size,\r\n",
        "                classes= image_names,\r\n",
        "                class_mode=\"categorical\", \r\n",
        "                subset=\"validation\", \r\n",
        "                shuffle=True, \r\n",
        "                seed=30)\r\n",
        "\r\n",
        "## For evaluation\r\n",
        "eval_train_ds= datagen.flow_from_directory(\r\n",
        "                data_dir,\r\n",
        "                target_size=(img_width,img_height),\r\n",
        "                batch_size=batch_size,\r\n",
        "                subset=\"training\",\r\n",
        "                class_mode=\"categorical\", \r\n",
        "                classes= image_names,\r\n",
        "                shuffle=False, \r\n",
        "                seed=30)\r\n",
        "\r\n",
        "eval_val_ds=datagen2.flow_from_directory(\r\n",
        "                data_dir,\r\n",
        "                target_size=(img_width,img_height),\r\n",
        "                batch_size=batch_size,\r\n",
        "                classes= image_names,\r\n",
        "                class_mode=\"categorical\", \r\n",
        "                subset=\"validation\", \r\n",
        "                shuffle=False, \r\n",
        "                seed=30)"
      ],
      "execution_count": 119,
      "outputs": [
        {
          "output_type": "stream",
          "text": [
            "Found 2893 images belonging to 3 classes.\n",
            "Found 1238 images belonging to 3 classes.\n",
            "Found 2893 images belonging to 3 classes.\n",
            "Found 1238 images belonging to 3 classes.\n"
          ],
          "name": "stdout"
        }
      ]
    },
    {
      "cell_type": "code",
      "metadata": {
        "colab": {
          "base_uri": "https://localhost:8080/"
        },
        "id": "_GJdffTzxvy8",
        "outputId": "31f33c62-344f-44f2-c157-d809a2155180"
      },
      "source": [
        "# Base model\r\n",
        "\r\n",
        "with tf.device(device):\r\n",
        "  Base_model = tf.keras.Sequential([\r\n",
        "                               Conv2D(32, 3, activation='relu'),\r\n",
        "                               MaxPooling2D(),\r\n",
        "                               Conv2D(32, 3, activation='relu'),\r\n",
        "                               MaxPooling2D(),\r\n",
        "                               Conv2D(32, 3, activation='relu'),\r\n",
        "                               MaxPooling2D(),\r\n",
        "                               Dense(img_height, activation='relu'),\r\n",
        "                               Flatten(),\r\n",
        "                               Dense(class_number, activation='softmax')\r\n",
        "                               ])\r\n",
        "  Base_model.compile(\r\n",
        "  optimizer='adam',\r\n",
        "  loss=tf.keras.losses.CategoricalCrossentropy(from_logits=True),\r\n",
        "  metrics=['accuracy']\r\n",
        "  )\r\n",
        "\r\n",
        "  Base_history = Base_model.fit(\r\n",
        "  train_ds,\r\n",
        "  validation_data=val_ds,\r\n",
        "  epochs=epochs,\r\n",
        "  verbose=1\r\n",
        "  )\r\n",
        "\r\n",
        "  plt.plot(Base_history.history['accuracy'])\r\n",
        "  plt.plot(Base_history.history['val_accuracy'])\r\n",
        "  plt.title('Base model accuracy')\r\n",
        "  plt.ylabel('accuracy')\r\n",
        "  plt.xlabel('epoch')\r\n",
        "  plt.legend(['train', 'test'], loc='upper left')\r\n",
        "  plt.show()"
      ],
      "execution_count": null,
      "outputs": [
        {
          "output_type": "stream",
          "text": [
            "Epoch 1/100\n",
            "23/23 [==============================] - ETA: 0s - loss: 1.0600 - accuracy: 0.4372  "
          ],
          "name": "stdout"
        }
      ]
    },
    {
      "cell_type": "code",
      "metadata": {
        "id": "PBKkipelrsAw"
      },
      "source": [
        "Base_model.save('Base_model')\r\n",
        "\r\n",
        "Base_hist_df = pd.DataFrame(Base_history.history) \r\n",
        "Base_hist_df.to_csv('Base_model/history.csv')\r\n",
        "\r\n",
        "tf.keras.utils.plot_model(\r\n",
        "    Base_model, to_file='Base_model/architecture.png', show_shapes=False,\r\n",
        "    show_layer_names=True, rankdir='TB', expand_nested=False, dpi=96\r\n",
        ")\r\n",
        "\r\n"
      ],
      "execution_count": null,
      "outputs": []
    },
    {
      "cell_type": "code",
      "metadata": {
        "colab": {
          "base_uri": "https://localhost:8080/",
          "height": 1000
        },
        "id": "ep5uy9utz2qo",
        "outputId": "8d449a7a-0804-4ea7-c6b8-449926772dc1"
      },
      "source": [
        "# VGG16 Model\r\n",
        "\r\n",
        "VGG16_classifier=VGG16(weights=\"imagenet\", include_top=False, input_tensor=Input(shape=(img_height, img_width, 3)))\r\n",
        "\r\n",
        "for layer in VGG16_classifier.layers:\r\n",
        "    layer.trainable=False\r\n",
        "\r\n",
        "callback = tf.keras.callbacks.EarlyStopping(monitor='loss', patience=3)\r\n",
        "\r\n",
        "with tf.device(device):\r\n",
        "  VGG16_model = tf.keras.Sequential([\r\n",
        "                                     VGG16_classifier,\r\n",
        "                                     #MaxPooling2D(),\r\n",
        "                                     #Dense(img_height, activation='relu'),\r\n",
        "                                     Flatten(),\r\n",
        "                                     Dense(class_number, activation='softmax')\r\n",
        "                                     ])\r\n",
        "\r\n",
        "  VGG16_model.compile(\r\n",
        "      optimizer='adam',\r\n",
        "      loss=tf.losses.CategoricalCrossentropy(from_logits=True),\r\n",
        "      metrics=['accuracy']\r\n",
        "      )\r\n",
        "  \r\n",
        "  VGG16_model_history = VGG16_model.fit(\r\n",
        "      train_ds,\r\n",
        "      validation_data=val_ds,\r\n",
        "      epochs=epochs,\r\n",
        "      verbose=1,\r\n",
        "      callbacks=[callback]\r\n",
        "      )\r\n",
        "  plt.plot(VGG16_model_history.history['accuracy'])\r\n",
        "  plt.plot(VGG16_model_history.history['val_accuracy'])\r\n",
        "  plt.title('VGG16 model accuracy')\r\n",
        "  plt.ylabel('accuracy')\r\n",
        "  plt.xlabel('epoch')\r\n",
        "  plt.legend(['train', 'test'], loc='upper left')\r\n",
        "  plt.show()  "
      ],
      "execution_count": 32,
      "outputs": [
        {
          "output_type": "stream",
          "text": [
            "Epoch 1/100\n",
            "12/12 [==============================] - 106s 8s/step - loss: 1.2812 - accuracy: 0.4857 - val_loss: 0.3921 - val_accuracy: 0.8271\n",
            "Epoch 2/100\n",
            "12/12 [==============================] - 92s 8s/step - loss: 0.3767 - accuracy: 0.8558 - val_loss: 0.3139 - val_accuracy: 0.8732\n",
            "Epoch 3/100\n",
            "12/12 [==============================] - 92s 8s/step - loss: 0.2804 - accuracy: 0.9012 - val_loss: 0.2897 - val_accuracy: 0.8845\n",
            "Epoch 4/100\n",
            "12/12 [==============================] - 93s 8s/step - loss: 0.2401 - accuracy: 0.9188 - val_loss: 0.2959 - val_accuracy: 0.8893\n",
            "Epoch 5/100\n",
            "12/12 [==============================] - 92s 8s/step - loss: 0.2147 - accuracy: 0.9303 - val_loss: 0.2659 - val_accuracy: 0.8982\n",
            "Epoch 6/100\n",
            "12/12 [==============================] - 93s 8s/step - loss: 0.2033 - accuracy: 0.9361 - val_loss: 0.2614 - val_accuracy: 0.8974\n",
            "Epoch 7/100\n",
            "12/12 [==============================] - 92s 8s/step - loss: 0.1842 - accuracy: 0.9415 - val_loss: 0.2362 - val_accuracy: 0.9079\n",
            "Epoch 8/100\n",
            "12/12 [==============================] - 92s 8s/step - loss: 0.1711 - accuracy: 0.9415 - val_loss: 0.3107 - val_accuracy: 0.8756\n",
            "Epoch 9/100\n",
            "12/12 [==============================] - 93s 8s/step - loss: 0.1818 - accuracy: 0.9439 - val_loss: 0.3142 - val_accuracy: 0.8675\n",
            "Epoch 10/100\n",
            "12/12 [==============================] - 93s 8s/step - loss: 0.1757 - accuracy: 0.9508 - val_loss: 0.3370 - val_accuracy: 0.8732\n",
            "Epoch 11/100\n",
            "12/12 [==============================] - 92s 8s/step - loss: 0.1658 - accuracy: 0.9506 - val_loss: 0.2875 - val_accuracy: 0.8821\n",
            "Epoch 12/100\n",
            "12/12 [==============================] - 93s 8s/step - loss: 0.1483 - accuracy: 0.9585 - val_loss: 0.2357 - val_accuracy: 0.9111\n",
            "Epoch 13/100\n",
            "12/12 [==============================] - 92s 8s/step - loss: 0.1699 - accuracy: 0.9416 - val_loss: 0.2628 - val_accuracy: 0.9006\n",
            "Epoch 14/100\n",
            "12/12 [==============================] - 92s 8s/step - loss: 0.1350 - accuracy: 0.9548 - val_loss: 0.2878 - val_accuracy: 0.8893\n",
            "Epoch 15/100\n",
            "12/12 [==============================] - 92s 8s/step - loss: 0.1410 - accuracy: 0.9529 - val_loss: 0.2617 - val_accuracy: 0.8990\n",
            "Epoch 16/100\n",
            "12/12 [==============================] - 92s 8s/step - loss: 0.1492 - accuracy: 0.9502 - val_loss: 0.2862 - val_accuracy: 0.8885\n",
            "Epoch 17/100\n",
            "12/12 [==============================] - 91s 8s/step - loss: 0.1224 - accuracy: 0.9610 - val_loss: 0.2521 - val_accuracy: 0.9023\n",
            "Epoch 18/100\n",
            "12/12 [==============================] - 93s 8s/step - loss: 0.1251 - accuracy: 0.9616 - val_loss: 0.3009 - val_accuracy: 0.8853\n",
            "Epoch 19/100\n",
            "12/12 [==============================] - 93s 8s/step - loss: 0.1208 - accuracy: 0.9644 - val_loss: 0.2602 - val_accuracy: 0.8982\n",
            "Epoch 20/100\n",
            "12/12 [==============================] - 93s 8s/step - loss: 0.1181 - accuracy: 0.9639 - val_loss: 0.3226 - val_accuracy: 0.8788\n",
            "Epoch 21/100\n",
            "12/12 [==============================] - 93s 8s/step - loss: 0.1237 - accuracy: 0.9642 - val_loss: 0.2263 - val_accuracy: 0.9176\n",
            "Epoch 22/100\n",
            "12/12 [==============================] - 93s 8s/step - loss: 0.1184 - accuracy: 0.9641 - val_loss: 0.2661 - val_accuracy: 0.8958\n",
            "Epoch 23/100\n",
            "12/12 [==============================] - 91s 8s/step - loss: 0.1185 - accuracy: 0.9631 - val_loss: 0.2542 - val_accuracy: 0.8974\n",
            "Epoch 24/100\n",
            "12/12 [==============================] - 89s 7s/step - loss: 0.1032 - accuracy: 0.9713 - val_loss: 0.2260 - val_accuracy: 0.9184\n",
            "Epoch 25/100\n",
            "12/12 [==============================] - 88s 7s/step - loss: 0.1067 - accuracy: 0.9642 - val_loss: 0.2893 - val_accuracy: 0.8918\n",
            "Epoch 26/100\n",
            "12/12 [==============================] - 88s 7s/step - loss: 0.1012 - accuracy: 0.9686 - val_loss: 0.2302 - val_accuracy: 0.9160\n",
            "Epoch 27/100\n",
            "12/12 [==============================] - 88s 7s/step - loss: 0.1097 - accuracy: 0.9648 - val_loss: 0.2484 - val_accuracy: 0.9031\n",
            "Epoch 28/100\n",
            "12/12 [==============================] - 87s 7s/step - loss: 0.1160 - accuracy: 0.9638 - val_loss: 0.2859 - val_accuracy: 0.8918\n",
            "Epoch 29/100\n",
            "12/12 [==============================] - 86s 7s/step - loss: 0.0952 - accuracy: 0.9739 - val_loss: 0.2511 - val_accuracy: 0.9055\n",
            "Epoch 30/100\n",
            "12/12 [==============================] - 87s 7s/step - loss: 0.1031 - accuracy: 0.9702 - val_loss: 0.2658 - val_accuracy: 0.8982\n",
            "Epoch 31/100\n",
            "12/12 [==============================] - 87s 7s/step - loss: 0.0924 - accuracy: 0.9720 - val_loss: 0.2420 - val_accuracy: 0.9095\n",
            "Epoch 32/100\n",
            "12/12 [==============================] - 88s 7s/step - loss: 0.0921 - accuracy: 0.9693 - val_loss: 0.3176 - val_accuracy: 0.8764\n",
            "Epoch 33/100\n",
            "12/12 [==============================] - 89s 7s/step - loss: 0.0843 - accuracy: 0.9725 - val_loss: 0.3441 - val_accuracy: 0.8724\n",
            "Epoch 34/100\n",
            "12/12 [==============================] - 89s 8s/step - loss: 0.0950 - accuracy: 0.9699 - val_loss: 0.2265 - val_accuracy: 0.9152\n",
            "Epoch 35/100\n",
            "12/12 [==============================] - 90s 8s/step - loss: 0.0945 - accuracy: 0.9652 - val_loss: 0.3391 - val_accuracy: 0.8764\n",
            "Epoch 36/100\n",
            "12/12 [==============================] - 92s 8s/step - loss: 0.0981 - accuracy: 0.9659 - val_loss: 0.2869 - val_accuracy: 0.8958\n"
          ],
          "name": "stdout"
        },
        {
          "output_type": "display_data",
          "data": {
            "image/png": "[encoded data removed]",
            "text/plain": [
              "<Figure size 432x288 with 1 Axes>"
            ]
          },
          "metadata": {
            "tags": [],
            "needs_background": "light"
          }
        }
      ]
    },
    {
      "cell_type": "code",
      "metadata": {
        "id": "omk4DXoJ4gt_"
      },
      "source": [
        "VGG16_model.save('VGG16_model')\r\n",
        "\r\n",
        "VGG16_model_history_df = pd.DataFrame(VGG16_model_history.history) \r\n",
        "VGG16_model_history_df.to_csv('VGG16_model/history.csv')\r\n",
        "\r\n",
        "tf.keras.utils.plot_model(\r\n",
        "    VGG16_model, to_file='VGG16_model/architecture.png', show_shapes=False,\r\n",
        "    show_layer_names=True, rankdir='TB', expand_nested=False, dpi=96\r\n",
        ")"
      ],
      "execution_count": null,
      "outputs": []
    },
    {
      "cell_type": "code",
      "metadata": {
        "id": "GH0erJVUQDSW"
      },
      "source": [
        "Y_pred = VGG16_model.predict_generator(val_ds2, 1238 // batch_size+1)\r\n",
        "y_pred = np.argmax(Y_pred, axis=1)\r\n",
        "\r\n",
        "print('VGG16_model Confusion Matrix')\r\n",
        "conf_matrix = pd.DataFrame(\r\n",
        "    confusion_matrix(val_ds2.classes, y_pred), \r\n",
        "    index=['true: COVID19', 'true: NORMAL','true: Viral_Pneumonia'], \r\n",
        "    columns=['pred: COVID19', 'pred: NORMAL','pred: Viral_Pneumonia']\r\n",
        ")\r\n",
        "conf_matrix.to_csv(\"VGG16_model/confusion_matrix.csv\")\r\n",
        "print(conf_matrix)\r\n",
        "print('\\n')\r\n",
        "print('Classification Report')\r\n",
        "target_names = list(val_ds2.class_indices.keys())\r\n",
        "print(classification_report(val_ds2.classes, y_pred, target_names=target_names))"
      ],
      "execution_count": null,
      "outputs": []
    },
    {
      "cell_type": "code",
      "metadata": {
        "colab": {
          "base_uri": "https://localhost:8080/"
        },
        "id": "3iUCglMez5G9",
        "outputId": "ae8fd1ba-66ab-4e23-fd60-f8c02ebaf28c"
      },
      "source": [
        "#ResNet50 model\r\n",
        "\r\n",
        "ResNet50_classifier=ResNet50(weights=\"imagenet\", include_top=False, input_tensor=Input(shape=(img_height, img_width, 3)))\r\n",
        "\r\n",
        "for layer in ResNet50_classifier.layers:\r\n",
        "    layer.trainable=False\r\n",
        "\r\n",
        "with tf.device(device):\r\n",
        "  ResNet50_model = tf.keras.Sequential([\r\n",
        "                                     ResNet50_classifier,\r\n",
        "                                     #MaxPooling2D(),\r\n",
        "                                     #Dense(img_height*2, activation='relu'),\r\n",
        "                                     #MaxPooling2D(),\r\n",
        "                                     #Dense(img_height, activation='relu')\r\n",
        "                                     Flatten(),\r\n",
        "                                     Dense(class_number, activation='softmax')\r\n",
        "                                     ])\r\n",
        "\r\n",
        "  ResNet50_model.compile(\r\n",
        "      optimizer='adam',\r\n",
        "      loss=tf.losses.CategoricalCrossentropy(from_logits=True),\r\n",
        "      metrics=['accuracy']\r\n",
        "      )\r\n",
        "  \r\n",
        "  ResNet50_model_history = ResNet50_model.fit(\r\n",
        "      train_ds,\r\n",
        "      validation_data=val_ds,\r\n",
        "      epochs=20,\r\n",
        "      verbose=1\r\n",
        "      )\r\n",
        "  plt.plot(ResNet50_model_history.history['accuracy'])\r\n",
        "  plt.plot(ResNet50_model_history.history['val_accuracy'])\r\n",
        "  plt.title('ResNet50 model accuracy')\r\n",
        "  plt.ylabel('accuracy')\r\n",
        "  plt.xlabel('epoch')\r\n",
        "  plt.legend(['train', 'test'], loc='upper left')\r\n",
        "  plt.show()  "
      ],
      "execution_count": null,
      "outputs": [
        {
          "output_type": "stream",
          "text": [
            "Epoch 1/20\n",
            " 8/12 [===================>..........] - ETA: 19s - loss: 7.6175 - accuracy: 0.3535"
          ],
          "name": "stdout"
        }
      ]
    },
    {
      "cell_type": "code",
      "metadata": {
        "colab": {
          "base_uri": "https://localhost:8080/",
          "height": 387
        },
        "id": "paapP-_z42Fn",
        "outputId": "13f9ddd2-e43a-42a2-d6aa-56295c5c6abc"
      },
      "source": [
        "ResNet50_model.save('ResNet50_model_simple')\r\n",
        "\r\n",
        "ResNet50_model_history_df = pd.DataFrame(ResNet50_model_history.history) \r\n",
        "ResNet50_model_history_df.to_csv('ResNet50_model_simple/history.csv')\r\n",
        "\r\n",
        "tf.keras.utils.plot_model(\r\n",
        "    ResNet50_model, to_file='ResNet50_model_simple/architecture.png', show_shapes=False,\r\n",
        "    show_layer_names=True, rankdir='TB', expand_nested=False, dpi=96\r\n",
        ")"
      ],
      "execution_count": null,
      "outputs": [
        {
          "output_type": "stream",
          "text": [
            "INFO:tensorflow:Assets written to: ResNet50_model_simple/assets\n"
          ],
          "name": "stdout"
        },
        {
          "output_type": "execute_result",
          "data": {
            "image/png": "[encoded data removed]",
            "text/plain": [
              "<IPython.core.display.Image object>"
            ]
          },
          "metadata": {
            "tags": []
          },
          "execution_count": 11
        }
      ]
    },
    {
      "cell_type": "code",
      "metadata": {
        "colab": {
          "base_uri": "https://localhost:8080/"
        },
        "id": "uRqKZWRuV1im",
        "outputId": "6b946063-546d-4e3f-889d-c2b3c4c682f0"
      },
      "source": [
        "Y_pred = ResNet50_model.predict(eval_val_ds, 1238 // batch_size+1)\r\n",
        "y_pred = np.argmax(Y_pred, axis=1)\r\n",
        "\r\n",
        "print('ResNet50_model_simple Confusion Matrix')\r\n",
        "conf_matrix = pd.DataFrame(\r\n",
        "    confusion_matrix(eval_val_ds.classes, y_pred), \r\n",
        "    index=['true: COVID19', 'true: NORMAL','true: Viral_Pneumonia'], \r\n",
        "    columns=['pred: COVID19', 'pred: NORMAL','pred: Viral_Pneumonia']\r\n",
        ")\r\n",
        "conf_matrix.to_csv(\"ResNet50_model_simple/confusion_matrix.csv\")\r\n",
        "print(conf_matrix)\r\n",
        "print('\\n')\r\n",
        "print('Classification Report')\r\n",
        "target_names = list(eval_val_ds.class_indices.keys())\r\n",
        "print(classification_report(eval_val_ds.classes, y_pred, target_names=target_names))"
      ],
      "execution_count": null,
      "outputs": [
        {
          "output_type": "stream",
          "text": [
            "ResNet50_model_simple Confusion Matrix\n",
            "                       pred: COVID19  pred: NORMAL  pred: Viral_Pneumonia\n",
            "true: COVID19                    375             5                     18\n",
            "true: NORMAL                       3           387                     12\n",
            "true: Viral_Pneumonia             11           100                    327\n",
            "\n",
            "\n",
            "Classification Report\n",
            "                 precision    recall  f1-score   support\n",
            "\n",
            "        COVID19       0.96      0.94      0.95       398\n",
            "         NORMAL       0.79      0.96      0.87       402\n",
            "Viral_Pneumonia       0.92      0.75      0.82       438\n",
            "\n",
            "       accuracy                           0.88      1238\n",
            "      macro avg       0.89      0.88      0.88      1238\n",
            "   weighted avg       0.89      0.88      0.88      1238\n",
            "\n"
          ],
          "name": "stdout"
        }
      ]
    },
    {
      "cell_type": "code",
      "metadata": {
        "colab": {
          "base_uri": "https://localhost:8080/",
          "height": 1000
        },
        "id": "vlBynWPnz5KD",
        "outputId": "bb23f6ff-0a16-4acc-abd5-b5dd4cb3c723"
      },
      "source": [
        "# VGG16 Model with Dropout\r\n",
        "\r\n",
        "VGG16_classifier2=VGG16(weights=\"imagenet\", include_top=False, input_tensor=Input(shape=(img_height, img_width, 3)))\r\n",
        "\r\n",
        "for layer in VGG16_classifier2.layers:\r\n",
        "    layer.trainable=False\r\n",
        "\r\n",
        "callback = tf.keras.callbacks.EarlyStopping(monitor='loss', patience=5)\r\n",
        "\r\n",
        "with tf.device('/device:GPU:0'):\r\n",
        "  VGG16_model2 = tf.keras.Sequential([\r\n",
        "                                     VGG16_classifier2,\r\n",
        "                                     #MaxPooling2D(),\r\n",
        "                                     Flatten(),\r\n",
        "                                     #Dense(img_height, activation='relu'),\r\n",
        "                                     Dropout(0.75),\r\n",
        "                                     Dense(class_number, activation='softmax')\r\n",
        "                                     ])\r\n",
        "\r\n",
        "  VGG16_model2.compile(\r\n",
        "      optimizer='adam',\r\n",
        "      loss=tf.losses.CategoricalCrossentropy(from_logits=True),\r\n",
        "      metrics=['accuracy']\r\n",
        "      )\r\n",
        "  \r\n",
        "  VGG16_model2_history = VGG16_model2.fit(\r\n",
        "      train_ds,\r\n",
        "      validation_data=val_ds,\r\n",
        "      epochs=epochs,\r\n",
        "      verbose=1,\r\n",
        "      callbacks=[callback]\r\n",
        "      )\r\n",
        "  plt.plot(VGG16_model2_history.history['accuracy'])\r\n",
        "  plt.plot(VGG16_model2_history.history['val_accuracy'])\r\n",
        "  plt.title('VGG16 model 2 accuracy')\r\n",
        "  plt.ylabel('accuracy')\r\n",
        "  plt.xlabel('epoch')\r\n",
        "  plt.legend(['train', 'test'], loc='upper left')\r\n",
        "  plt.show()  "
      ],
      "execution_count": 23,
      "outputs": [
        {
          "output_type": "stream",
          "text": [
            "Epoch 1/100\n",
            "12/12 [==============================] - 88s 7s/step - loss: 1.2859 - accuracy: 0.4789 - val_loss: 0.4380 - val_accuracy: 0.8126\n",
            "Epoch 2/100\n",
            "12/12 [==============================] - 86s 7s/step - loss: 0.5609 - accuracy: 0.7660 - val_loss: 0.3196 - val_accuracy: 0.8764\n",
            "Epoch 3/100\n",
            "12/12 [==============================] - 85s 7s/step - loss: 0.4207 - accuracy: 0.8257 - val_loss: 0.3371 - val_accuracy: 0.8740\n",
            "Epoch 4/100\n",
            "12/12 [==============================] - 86s 7s/step - loss: 0.3455 - accuracy: 0.8766 - val_loss: 0.3826 - val_accuracy: 0.8522\n",
            "Epoch 5/100\n",
            "12/12 [==============================] - 85s 7s/step - loss: 0.2937 - accuracy: 0.8897 - val_loss: 0.3600 - val_accuracy: 0.8611\n",
            "Epoch 6/100\n",
            "12/12 [==============================] - 86s 7s/step - loss: 0.2759 - accuracy: 0.9057 - val_loss: 0.3240 - val_accuracy: 0.8732\n",
            "Epoch 7/100\n",
            "12/12 [==============================] - 85s 7s/step - loss: 0.2705 - accuracy: 0.9016 - val_loss: 0.3305 - val_accuracy: 0.8716\n",
            "Epoch 8/100\n",
            "12/12 [==============================] - 83s 7s/step - loss: 0.2636 - accuracy: 0.9078 - val_loss: 0.3071 - val_accuracy: 0.8788\n",
            "Epoch 9/100\n",
            "12/12 [==============================] - 81s 7s/step - loss: 0.2593 - accuracy: 0.9079 - val_loss: 0.3785 - val_accuracy: 0.8562\n",
            "Epoch 10/100\n",
            "12/12 [==============================] - 81s 7s/step - loss: 0.2484 - accuracy: 0.9128 - val_loss: 0.3193 - val_accuracy: 0.8756\n",
            "Epoch 11/100\n",
            "12/12 [==============================] - 81s 7s/step - loss: 0.2301 - accuracy: 0.9204 - val_loss: 0.3135 - val_accuracy: 0.8821\n",
            "Epoch 12/100\n",
            "12/12 [==============================] - 81s 7s/step - loss: 0.2405 - accuracy: 0.9151 - val_loss: 0.3286 - val_accuracy: 0.8756\n",
            "Epoch 13/100\n",
            "12/12 [==============================] - 81s 7s/step - loss: 0.2509 - accuracy: 0.9143 - val_loss: 0.3299 - val_accuracy: 0.8732\n",
            "Epoch 14/100\n",
            "12/12 [==============================] - 79s 7s/step - loss: 0.2249 - accuracy: 0.9206 - val_loss: 0.3110 - val_accuracy: 0.8845\n",
            "Epoch 15/100\n",
            "12/12 [==============================] - 80s 7s/step - loss: 0.2325 - accuracy: 0.9159 - val_loss: 0.3351 - val_accuracy: 0.8724\n",
            "Epoch 16/100\n",
            "12/12 [==============================] - 81s 7s/step - loss: 0.2166 - accuracy: 0.9231 - val_loss: 0.3820 - val_accuracy: 0.8586\n",
            "Epoch 17/100\n",
            "12/12 [==============================] - 82s 7s/step - loss: 0.2225 - accuracy: 0.9265 - val_loss: 0.3194 - val_accuracy: 0.8796\n",
            "Epoch 18/100\n",
            "12/12 [==============================] - 83s 7s/step - loss: 0.2149 - accuracy: 0.9221 - val_loss: 0.3118 - val_accuracy: 0.8805\n",
            "Epoch 19/100\n",
            "12/12 [==============================] - 84s 7s/step - loss: 0.2162 - accuracy: 0.9241 - val_loss: 0.3988 - val_accuracy: 0.8570\n",
            "Epoch 20/100\n",
            "12/12 [==============================] - 83s 7s/step - loss: 0.2026 - accuracy: 0.9268 - val_loss: 0.3998 - val_accuracy: 0.8578\n",
            "Epoch 21/100\n",
            "12/12 [==============================] - 85s 7s/step - loss: 0.2034 - accuracy: 0.9308 - val_loss: 0.2930 - val_accuracy: 0.8877\n",
            "Epoch 22/100\n",
            "12/12 [==============================] - 85s 7s/step - loss: 0.2044 - accuracy: 0.9285 - val_loss: 0.2805 - val_accuracy: 0.8942\n",
            "Epoch 23/100\n",
            "12/12 [==============================] - 85s 7s/step - loss: 0.1935 - accuracy: 0.9344 - val_loss: 0.3211 - val_accuracy: 0.8788\n",
            "Epoch 24/100\n",
            "12/12 [==============================] - 84s 7s/step - loss: 0.2073 - accuracy: 0.9240 - val_loss: 0.3505 - val_accuracy: 0.8700\n",
            "Epoch 25/100\n",
            "12/12 [==============================] - 84s 7s/step - loss: 0.2029 - accuracy: 0.9333 - val_loss: 0.3411 - val_accuracy: 0.8772\n",
            "Epoch 26/100\n",
            "12/12 [==============================] - 85s 7s/step - loss: 0.1947 - accuracy: 0.9301 - val_loss: 0.2669 - val_accuracy: 0.8974\n",
            "Epoch 27/100\n",
            "12/12 [==============================] - 83s 7s/step - loss: 0.1988 - accuracy: 0.9306 - val_loss: 0.2944 - val_accuracy: 0.8885\n",
            "Epoch 28/100\n",
            "12/12 [==============================] - 83s 7s/step - loss: 0.1986 - accuracy: 0.9331 - val_loss: 0.3070 - val_accuracy: 0.8877\n",
            "Epoch 29/100\n",
            "12/12 [==============================] - 83s 7s/step - loss: 0.1838 - accuracy: 0.9277 - val_loss: 0.3053 - val_accuracy: 0.8893\n",
            "Epoch 30/100\n",
            "12/12 [==============================] - 83s 7s/step - loss: 0.2177 - accuracy: 0.9255 - val_loss: 0.3867 - val_accuracy: 0.8635\n",
            "Epoch 31/100\n",
            "12/12 [==============================] - 83s 7s/step - loss: 0.2168 - accuracy: 0.9298 - val_loss: 0.3300 - val_accuracy: 0.8756\n",
            "Epoch 32/100\n",
            "12/12 [==============================] - 84s 7s/step - loss: 0.1940 - accuracy: 0.9308 - val_loss: 0.3070 - val_accuracy: 0.8869\n",
            "Epoch 33/100\n",
            "12/12 [==============================] - 84s 7s/step - loss: 0.2010 - accuracy: 0.9265 - val_loss: 0.3326 - val_accuracy: 0.8764\n",
            "Epoch 34/100\n",
            "12/12 [==============================] - 83s 7s/step - loss: 0.2074 - accuracy: 0.9336 - val_loss: 0.3147 - val_accuracy: 0.8829\n",
            "Epoch 35/100\n",
            "12/12 [==============================] - 84s 7s/step - loss: 0.1866 - accuracy: 0.9347 - val_loss: 0.2822 - val_accuracy: 0.8926\n",
            "Epoch 36/100\n",
            "12/12 [==============================] - 84s 7s/step - loss: 0.1858 - accuracy: 0.9366 - val_loss: 0.3183 - val_accuracy: 0.8853\n",
            "Epoch 37/100\n",
            "12/12 [==============================] - 84s 7s/step - loss: 0.1907 - accuracy: 0.9334 - val_loss: 0.2995 - val_accuracy: 0.8910\n",
            "Epoch 38/100\n",
            "12/12 [==============================] - 84s 7s/step - loss: 0.1813 - accuracy: 0.9389 - val_loss: 0.3450 - val_accuracy: 0.8724\n",
            "Epoch 39/100\n",
            "12/12 [==============================] - 84s 7s/step - loss: 0.1929 - accuracy: 0.9368 - val_loss: 0.3393 - val_accuracy: 0.8788\n",
            "Epoch 40/100\n",
            "12/12 [==============================] - 84s 7s/step - loss: 0.1921 - accuracy: 0.9322 - val_loss: 0.3215 - val_accuracy: 0.8813\n",
            "Epoch 41/100\n",
            "12/12 [==============================] - 84s 7s/step - loss: 0.1929 - accuracy: 0.9260 - val_loss: 0.3684 - val_accuracy: 0.8691\n",
            "Epoch 42/100\n",
            "12/12 [==============================] - 84s 7s/step - loss: 0.2050 - accuracy: 0.9301 - val_loss: 0.4186 - val_accuracy: 0.8554\n",
            "Epoch 43/100\n",
            "12/12 [==============================] - 85s 7s/step - loss: 0.1780 - accuracy: 0.9377 - val_loss: 0.3762 - val_accuracy: 0.8700\n",
            "Epoch 44/100\n",
            "12/12 [==============================] - 85s 7s/step - loss: 0.1882 - accuracy: 0.9293 - val_loss: 0.2998 - val_accuracy: 0.8910\n",
            "Epoch 45/100\n",
            "12/12 [==============================] - 85s 8s/step - loss: 0.1703 - accuracy: 0.9408 - val_loss: 0.2745 - val_accuracy: 0.8966\n",
            "Epoch 46/100\n",
            "12/12 [==============================] - 85s 7s/step - loss: 0.1866 - accuracy: 0.9291 - val_loss: 0.2617 - val_accuracy: 0.9055\n",
            "Epoch 47/100\n",
            "12/12 [==============================] - 85s 7s/step - loss: 0.1864 - accuracy: 0.9307 - val_loss: 0.3380 - val_accuracy: 0.8780\n",
            "Epoch 48/100\n",
            "12/12 [==============================] - 85s 7s/step - loss: 0.2050 - accuracy: 0.9328 - val_loss: 0.4511 - val_accuracy: 0.8457\n"
          ],
          "name": "stdout"
        },
        {
          "output_type": "display_data",
          "data": {
            "image/png": "[encoded data removed]",
            "text/plain": [
              "<Figure size 432x288 with 1 Axes>"
            ]
          },
          "metadata": {
            "tags": [],
            "needs_background": "light"
          }
        }
      ]
    },
    {
      "cell_type": "code",
      "metadata": {
        "id": "V1rCrd3Rz5M1",
        "colab": {
          "base_uri": "https://localhost:8080/"
        },
        "outputId": "4dfe9e62-2950-4f81-ac39-0352c9b90e93"
      },
      "source": [
        "VGG16_model2_history_df = pd.DataFrame(VGG16_model2_history.history) \r\n",
        "VGG16_model2_history_df.to_csv('VGG16_model2.csv')\r\n",
        "\r\n",
        "tf.keras.utils.plot_model(\r\n",
        "    VGG16_model2, to_file='VGG16_model2.png', show_shapes=False,\r\n",
        "    show_layer_names=True, rankdir='TB', expand_nested=False, dpi=96\r\n",
        ")\r\n",
        "\r\n",
        "VGG16_model2.save('VGG16_model2')"
      ],
      "execution_count": 26,
      "outputs": [
        {
          "output_type": "stream",
          "text": [
            "INFO:tensorflow:Assets written to: VGG16_model2/assets\n"
          ],
          "name": "stdout"
        }
      ]
    },
    {
      "cell_type": "code",
      "metadata": {
        "colab": {
          "base_uri": "https://localhost:8080/"
        },
        "id": "HpLwSsOd53L4",
        "outputId": "170c252a-e0fa-42e7-c48e-311b54810c6a"
      },
      "source": [
        "val_ds"
      ],
      "execution_count": null,
      "outputs": [
        {
          "output_type": "execute_result",
          "data": {
            "text/plain": [
              "<tensorflow.python.keras.preprocessing.image.DirectoryIterator at 0x7f4d55e8ba90>"
            ]
          },
          "metadata": {
            "tags": []
          },
          "execution_count": 16
        }
      ]
    },
    {
      "cell_type": "code",
      "metadata": {
        "id": "fBb7kJhfq8H9"
      },
      "source": [
        "labels\r\n",
        "\r\n",
        "tf.math.confusion_matrix(\r\n",
        "    labels, predictions, num_classes=None, weights=None, dtype=tf.dtypes.int32,\r\n",
        "    name=None\r\n",
        ")"
      ],
      "execution_count": null,
      "outputs": []
    },
    {
      "cell_type": "code",
      "metadata": {
        "id": "FcVm8kd1GkXM"
      },
      "source": [
        "#################################################################################################################################################################################\r\n",
        "################################################################### Load Models #################################################################################################\r\n",
        "#################################################################################################################################################################################\r\n",
        "model_name = 'ResNet50_model'\r\n",
        "new_model = tf.keras.models.load_model(model_name)"
      ],
      "execution_count": 127,
      "outputs": []
    },
    {
      "cell_type": "code",
      "metadata": {
        "colab": {
          "base_uri": "https://localhost:8080/"
        },
        "id": "6_y0yDkfS2DD",
        "outputId": "3534e5b8-1952-46aa-e984-18932f48dc4e"
      },
      "source": [
        "!ls"
      ],
      "execution_count": 105,
      "outputs": [
        {
          "output_type": "stream",
          "text": [
            "Base_model  Labels.csv\t    ResNet50_model2  VGG16_model2\n",
            "Database    ResNet50_model  VGG16_model\n"
          ],
          "name": "stdout"
        }
      ]
    },
    {
      "cell_type": "code",
      "metadata": {
        "colab": {
          "base_uri": "https://localhost:8080/"
        },
        "id": "Zig7_z69Qnpe",
        "outputId": "ec0a8637-9e29-4539-e453-c27d1ff537a8"
      },
      "source": [
        "################ NORMAL\r\n",
        "\r\n",
        "image_path = 'Database/NORMAL/NORMAL (1).png'\r\n",
        "image = tf.keras.preprocessing.image.load_img(image_path,target_size=(200, 200))\r\n",
        "input_arr = tf.keras.preprocessing.image.img_to_array(image)\r\n",
        "input_arr = np.array([input_arr])  # Convert single image to a batch.\r\n",
        "predictions = new_model.predict(input_arr)\r\n",
        "np.around(predictions, decimals=3)"
      ],
      "execution_count": 128,
      "outputs": [
        {
          "output_type": "execute_result",
          "data": {
            "text/plain": [
              "array([[1., 0., 0.]], dtype=float32)"
            ]
          },
          "metadata": {
            "tags": []
          },
          "execution_count": 128
        }
      ]
    },
    {
      "cell_type": "code",
      "metadata": {
        "colab": {
          "base_uri": "https://localhost:8080/"
        },
        "id": "epIb-b9PULuB",
        "outputId": "6213a013-a11f-4b3b-cdf5-e3fff5c4c32b"
      },
      "source": [
        "image_path = 'Database/NORMAL/NORMAL (2).png'\r\n",
        "image = tf.keras.preprocessing.image.load_img(image_path,target_size=(200, 200))\r\n",
        "input_arr = tf.keras.preprocessing.image.img_to_array(image)\r\n",
        "input_arr = np.array([input_arr])  # Convert single image to a batch.\r\n",
        "predictions = new_model.predict(input_arr)\r\n",
        "np.around(predictions, decimals=3)"
      ],
      "execution_count": 129,
      "outputs": [
        {
          "output_type": "execute_result",
          "data": {
            "text/plain": [
              "array([[1., 0., 0.]], dtype=float32)"
            ]
          },
          "metadata": {
            "tags": []
          },
          "execution_count": 129
        }
      ]
    },
    {
      "cell_type": "code",
      "metadata": {
        "colab": {
          "base_uri": "https://localhost:8080/"
        },
        "id": "clPWrwK5ULp7",
        "outputId": "e2bdb138-575f-4f52-801b-14a575456849"
      },
      "source": [
        "image_path = 'Database/NORMAL/NORMAL (3).png'\r\n",
        "image = tf.keras.preprocessing.image.load_img(image_path,target_size=(200, 200))\r\n",
        "input_arr = tf.keras.preprocessing.image.img_to_array(image)\r\n",
        "input_arr = np.array([input_arr])  # Convert single image to a batch.\r\n",
        "predictions = new_model.predict(input_arr)\r\n",
        "np.around(predictions, decimals=3)"
      ],
      "execution_count": 130,
      "outputs": [
        {
          "output_type": "execute_result",
          "data": {
            "text/plain": [
              "array([[1., 0., 0.]], dtype=float32)"
            ]
          },
          "metadata": {
            "tags": []
          },
          "execution_count": 130
        }
      ]
    },
    {
      "cell_type": "code",
      "metadata": {
        "colab": {
          "base_uri": "https://localhost:8080/"
        },
        "id": "J0Rt-ltCULmE",
        "outputId": "6a250fdc-4da7-4b4e-a8e7-0ed0d3c903c5"
      },
      "source": [
        "############### VIRAL PNEUMONIA\r\n",
        "ds=pd.DataFrame(columns=['col1', 'col2', 'col3'])\r\n",
        "\r\n",
        "for i in range(1,501):\r\n",
        "  #image_path = f'Database/Viral_Pneumonia/Viral Pneumonia ({i+700}).png' # 0, 242, 258 resnet50: 1\r\n",
        "  #image_path = f'Database/COVID19/COVID-19 ({i+500}).png' # 132, 55, 313 resnet50: 1\r\n",
        "  image_path = f'Database/NORMAL/NORMAL ({i}).png' # 0, 500, 0\r\n",
        "  image = tf.keras.preprocessing.image.load_img(image_path,target_size=(200, 200))\r\n",
        "  input_arr = tf.keras.preprocessing.image.img_to_array(image)\r\n",
        "  input_arr = np.array([input_arr])  # Convert single image to a batch.\r\n",
        "  predictions = new_model.predict(input_arr)\r\n",
        "  preds=np.around(predictions, decimals=3)[0]\r\n",
        "  ds.loc[i-1] = preds\r\n",
        "  print(i)\r\n",
        "\r\n",
        "m = np.zeros_like(ds.values)\r\n",
        "m[np.arange(len(ds)), ds.values.argmax(1)] = 1\r\n",
        "\r\n",
        "ds1 = pd.DataFrame(m, columns = ds.columns).astype(int)\r\n",
        "ds1.sum()"
      ],
      "execution_count": 134,
      "outputs": [
        {
          "output_type": "stream",
          "text": [
            "1\n",
            "2\n",
            "3\n",
            "4\n",
            "5\n",
            "6\n",
            "7\n",
            "8\n",
            "9\n",
            "10\n",
            "11\n",
            "12\n",
            "13\n",
            "14\n",
            "15\n",
            "16\n",
            "17\n",
            "18\n",
            "19\n",
            "20\n",
            "21\n",
            "22\n",
            "23\n",
            "24\n",
            "25\n",
            "26\n",
            "27\n",
            "28\n",
            "29\n",
            "30\n",
            "31\n",
            "32\n",
            "33\n",
            "34\n",
            "35\n",
            "36\n",
            "37\n",
            "38\n",
            "39\n",
            "40\n",
            "41\n",
            "42\n",
            "43\n",
            "44\n",
            "45\n",
            "46\n",
            "47\n",
            "48\n",
            "49\n",
            "50\n",
            "51\n",
            "52\n",
            "53\n",
            "54\n",
            "55\n",
            "56\n",
            "57\n",
            "58\n",
            "59\n",
            "60\n",
            "61\n",
            "62\n",
            "63\n",
            "64\n",
            "65\n",
            "66\n",
            "67\n",
            "68\n",
            "69\n",
            "70\n",
            "71\n",
            "72\n",
            "73\n",
            "74\n",
            "75\n",
            "76\n",
            "77\n",
            "78\n",
            "79\n",
            "80\n",
            "81\n",
            "82\n",
            "83\n",
            "84\n",
            "85\n",
            "86\n",
            "87\n",
            "88\n",
            "89\n",
            "90\n",
            "91\n",
            "92\n",
            "93\n",
            "94\n",
            "95\n",
            "96\n",
            "97\n",
            "98\n",
            "99\n",
            "100\n",
            "101\n",
            "102\n",
            "103\n",
            "104\n",
            "105\n",
            "106\n",
            "107\n",
            "108\n",
            "109\n",
            "110\n",
            "111\n",
            "112\n",
            "113\n",
            "114\n",
            "115\n",
            "116\n",
            "117\n",
            "118\n",
            "119\n",
            "120\n",
            "121\n",
            "122\n",
            "123\n",
            "124\n",
            "125\n",
            "126\n",
            "127\n",
            "128\n",
            "129\n",
            "130\n",
            "131\n",
            "132\n",
            "133\n",
            "134\n",
            "135\n",
            "136\n",
            "137\n",
            "138\n",
            "139\n",
            "140\n",
            "141\n",
            "142\n",
            "143\n",
            "144\n",
            "145\n",
            "146\n",
            "147\n",
            "148\n",
            "149\n",
            "150\n",
            "151\n",
            "152\n",
            "153\n",
            "154\n",
            "155\n",
            "156\n",
            "157\n",
            "158\n",
            "159\n",
            "160\n",
            "161\n",
            "162\n",
            "163\n",
            "164\n",
            "165\n",
            "166\n",
            "167\n",
            "168\n",
            "169\n",
            "170\n",
            "171\n",
            "172\n",
            "173\n",
            "174\n",
            "175\n",
            "176\n",
            "177\n",
            "178\n",
            "179\n",
            "180\n",
            "181\n",
            "182\n",
            "183\n",
            "184\n",
            "185\n",
            "186\n",
            "187\n",
            "188\n",
            "189\n",
            "190\n",
            "191\n",
            "192\n",
            "193\n",
            "194\n",
            "195\n",
            "196\n",
            "197\n",
            "198\n",
            "199\n",
            "200\n",
            "201\n",
            "202\n",
            "203\n",
            "204\n",
            "205\n",
            "206\n",
            "207\n",
            "208\n",
            "209\n",
            "210\n",
            "211\n",
            "212\n",
            "213\n",
            "214\n",
            "215\n",
            "216\n",
            "217\n",
            "218\n",
            "219\n",
            "220\n",
            "221\n",
            "222\n",
            "223\n",
            "224\n",
            "225\n",
            "226\n",
            "227\n",
            "228\n",
            "229\n",
            "230\n",
            "231\n",
            "232\n",
            "233\n",
            "234\n",
            "235\n",
            "236\n",
            "237\n",
            "238\n",
            "239\n",
            "240\n",
            "241\n",
            "242\n",
            "243\n",
            "244\n",
            "245\n",
            "246\n",
            "247\n",
            "248\n",
            "249\n",
            "250\n",
            "251\n",
            "252\n",
            "253\n",
            "254\n",
            "255\n",
            "256\n",
            "257\n",
            "258\n",
            "259\n",
            "260\n",
            "261\n",
            "262\n",
            "263\n",
            "264\n",
            "265\n",
            "266\n",
            "267\n",
            "268\n",
            "269\n",
            "270\n",
            "271\n",
            "272\n",
            "273\n",
            "274\n",
            "275\n",
            "276\n",
            "277\n",
            "278\n",
            "279\n",
            "280\n",
            "281\n",
            "282\n",
            "283\n",
            "284\n",
            "285\n",
            "286\n",
            "287\n",
            "288\n",
            "289\n",
            "290\n",
            "291\n",
            "292\n",
            "293\n",
            "294\n",
            "295\n",
            "296\n",
            "297\n",
            "298\n",
            "299\n",
            "300\n",
            "301\n",
            "302\n",
            "303\n",
            "304\n",
            "305\n",
            "306\n",
            "307\n",
            "308\n",
            "309\n",
            "310\n",
            "311\n",
            "312\n",
            "313\n",
            "314\n",
            "315\n",
            "316\n",
            "317\n",
            "318\n",
            "319\n",
            "320\n",
            "321\n",
            "322\n",
            "323\n",
            "324\n",
            "325\n",
            "326\n",
            "327\n",
            "328\n",
            "329\n",
            "330\n",
            "331\n",
            "332\n",
            "333\n",
            "334\n",
            "335\n",
            "336\n",
            "337\n",
            "338\n",
            "339\n",
            "340\n",
            "341\n",
            "342\n",
            "343\n",
            "344\n",
            "345\n",
            "346\n",
            "347\n",
            "348\n",
            "349\n",
            "350\n",
            "351\n",
            "352\n",
            "353\n",
            "354\n",
            "355\n",
            "356\n",
            "357\n",
            "358\n",
            "359\n",
            "360\n",
            "361\n",
            "362\n",
            "363\n",
            "364\n",
            "365\n",
            "366\n",
            "367\n",
            "368\n",
            "369\n",
            "370\n",
            "371\n",
            "372\n",
            "373\n",
            "374\n",
            "375\n",
            "376\n",
            "377\n",
            "378\n",
            "379\n",
            "380\n",
            "381\n",
            "382\n",
            "383\n",
            "384\n",
            "385\n",
            "386\n",
            "387\n",
            "388\n",
            "389\n",
            "390\n",
            "391\n",
            "392\n",
            "393\n",
            "394\n",
            "395\n",
            "396\n",
            "397\n",
            "398\n",
            "399\n",
            "400\n",
            "401\n",
            "402\n",
            "403\n",
            "404\n",
            "405\n",
            "406\n",
            "407\n",
            "408\n",
            "409\n",
            "410\n",
            "411\n",
            "412\n",
            "413\n",
            "414\n",
            "415\n",
            "416\n",
            "417\n",
            "418\n",
            "419\n",
            "420\n",
            "421\n",
            "422\n",
            "423\n",
            "424\n",
            "425\n",
            "426\n",
            "427\n",
            "428\n",
            "429\n",
            "430\n",
            "431\n",
            "432\n",
            "433\n",
            "434\n",
            "435\n",
            "436\n",
            "437\n",
            "438\n",
            "439\n",
            "440\n",
            "441\n",
            "442\n",
            "443\n",
            "444\n",
            "445\n",
            "446\n",
            "447\n",
            "448\n",
            "449\n",
            "450\n",
            "451\n",
            "452\n",
            "453\n",
            "454\n",
            "455\n",
            "456\n",
            "457\n",
            "458\n",
            "459\n",
            "460\n",
            "461\n",
            "462\n",
            "463\n",
            "464\n",
            "465\n",
            "466\n",
            "467\n",
            "468\n",
            "469\n",
            "470\n",
            "471\n",
            "472\n",
            "473\n",
            "474\n",
            "475\n",
            "476\n",
            "477\n",
            "478\n",
            "479\n",
            "480\n",
            "481\n",
            "482\n",
            "483\n",
            "484\n",
            "485\n",
            "486\n",
            "487\n",
            "488\n",
            "489\n",
            "490\n",
            "491\n",
            "492\n",
            "493\n",
            "494\n",
            "495\n",
            "496\n",
            "497\n",
            "498\n",
            "499\n",
            "500\n"
          ],
          "name": "stdout"
        },
        {
          "output_type": "execute_result",
          "data": {
            "text/plain": [
              "col1    500\n",
              "col2      0\n",
              "col3      0\n",
              "dtype: int64"
            ]
          },
          "metadata": {
            "tags": []
          },
          "execution_count": 134
        }
      ]
    },
    {
      "cell_type": "code",
      "metadata": {
        "colab": {
          "base_uri": "https://localhost:8080/",
          "height": 399
        },
        "id": "d6FruHbzTvUh",
        "outputId": "4e5227dd-91b7-41c1-ccff-5b173a71ae7b"
      },
      "source": [
        "ds1[ds1['col1']==1]"
      ],
      "execution_count": 96,
      "outputs": [
        {
          "output_type": "execute_result",
          "data": {
            "text/html": [
              "<div>\n",
              "<style scoped>\n",
              "    .dataframe tbody tr th:only-of-type {\n",
              "        vertical-align: middle;\n",
              "    }\n",
              "\n",
              "    .dataframe tbody tr th {\n",
              "        vertical-align: top;\n",
              "    }\n",
              "\n",
              "    .dataframe thead th {\n",
              "        text-align: right;\n",
              "    }\n",
              "</style>\n",
              "<table border=\"1\" class=\"dataframe\">\n",
              "  <thead>\n",
              "    <tr style=\"text-align: right;\">\n",
              "      <th></th>\n",
              "      <th>col1</th>\n",
              "      <th>col2</th>\n",
              "      <th>col3</th>\n",
              "    </tr>\n",
              "  </thead>\n",
              "  <tbody>\n",
              "    <tr>\n",
              "      <th>3</th>\n",
              "      <td>1</td>\n",
              "      <td>0</td>\n",
              "      <td>0</td>\n",
              "    </tr>\n",
              "    <tr>\n",
              "      <th>4</th>\n",
              "      <td>1</td>\n",
              "      <td>0</td>\n",
              "      <td>0</td>\n",
              "    </tr>\n",
              "    <tr>\n",
              "      <th>5</th>\n",
              "      <td>1</td>\n",
              "      <td>0</td>\n",
              "      <td>0</td>\n",
              "    </tr>\n",
              "    <tr>\n",
              "      <th>15</th>\n",
              "      <td>1</td>\n",
              "      <td>0</td>\n",
              "      <td>0</td>\n",
              "    </tr>\n",
              "    <tr>\n",
              "      <th>21</th>\n",
              "      <td>1</td>\n",
              "      <td>0</td>\n",
              "      <td>0</td>\n",
              "    </tr>\n",
              "    <tr>\n",
              "      <th>...</th>\n",
              "      <td>...</td>\n",
              "      <td>...</td>\n",
              "      <td>...</td>\n",
              "    </tr>\n",
              "    <tr>\n",
              "      <th>436</th>\n",
              "      <td>1</td>\n",
              "      <td>0</td>\n",
              "      <td>0</td>\n",
              "    </tr>\n",
              "    <tr>\n",
              "      <th>440</th>\n",
              "      <td>1</td>\n",
              "      <td>0</td>\n",
              "      <td>0</td>\n",
              "    </tr>\n",
              "    <tr>\n",
              "      <th>447</th>\n",
              "      <td>1</td>\n",
              "      <td>0</td>\n",
              "      <td>0</td>\n",
              "    </tr>\n",
              "    <tr>\n",
              "      <th>463</th>\n",
              "      <td>1</td>\n",
              "      <td>0</td>\n",
              "      <td>0</td>\n",
              "    </tr>\n",
              "    <tr>\n",
              "      <th>482</th>\n",
              "      <td>1</td>\n",
              "      <td>0</td>\n",
              "      <td>0</td>\n",
              "    </tr>\n",
              "  </tbody>\n",
              "</table>\n",
              "<p>132 rows × 3 columns</p>\n",
              "</div>"
            ],
            "text/plain": [
              "     col1  col2  col3\n",
              "3       1     0     0\n",
              "4       1     0     0\n",
              "5       1     0     0\n",
              "15      1     0     0\n",
              "21      1     0     0\n",
              "..    ...   ...   ...\n",
              "436     1     0     0\n",
              "440     1     0     0\n",
              "447     1     0     0\n",
              "463     1     0     0\n",
              "482     1     0     0\n",
              "\n",
              "[132 rows x 3 columns]"
            ]
          },
          "metadata": {
            "tags": []
          },
          "execution_count": 96
        }
      ]
    },
    {
      "cell_type": "code",
      "metadata": {
        "colab": {
          "base_uri": "https://localhost:8080/"
        },
        "id": "LpgW1_XIULhL",
        "outputId": "8637ffc8-1aad-4f4d-fc3e-6b536b1f46fa"
      },
      "source": [
        "image_path = 'Database/Viral_Pneumonia/Viral Pneumonia (55).png'\r\n",
        "image = tf.keras.preprocessing.image.load_img(image_path,target_size=(200, 200))\r\n",
        "input_arr = tf.keras.preprocessing.image.img_to_array(image)\r\n",
        "input_arr = np.array([input_arr])  # Convert single image to a batch.\r\n",
        "predictions = new_model.predict(input_arr)\r\n",
        "np.around(predictions, decimals=3)"
      ],
      "execution_count": 136,
      "outputs": [
        {
          "output_type": "execute_result",
          "data": {
            "text/plain": [
              "array([[1., 0., 0.]], dtype=float32)"
            ]
          },
          "metadata": {
            "tags": []
          },
          "execution_count": 136
        }
      ]
    },
    {
      "cell_type": "code",
      "metadata": {
        "colab": {
          "base_uri": "https://localhost:8080/"
        },
        "id": "3Pc9Is7HSoHz",
        "outputId": "73a41411-455e-444b-c5a9-8e81148a4ba5"
      },
      "source": [
        "image_path = 'Database/Viral_Pneumonia/Viral Pneumonia (35).png'\r\n",
        "image = tf.keras.preprocessing.image.load_img(image_path,target_size=(200, 200))\r\n",
        "input_arr = tf.keras.preprocessing.image.img_to_array(image)\r\n",
        "input_arr = np.array([input_arr])  # Convert single image to a batch.\r\n",
        "predictions = new_model.predict(input_arr)\r\n",
        "np.around(predictions, decimals=3)"
      ],
      "execution_count": 137,
      "outputs": [
        {
          "output_type": "execute_result",
          "data": {
            "text/plain": [
              "array([[1., 0., 0.]], dtype=float32)"
            ]
          },
          "metadata": {
            "tags": []
          },
          "execution_count": 137
        }
      ]
    },
    {
      "cell_type": "code",
      "metadata": {
        "colab": {
          "base_uri": "https://localhost:8080/"
        },
        "id": "iyOxAbosULZo",
        "outputId": "679248e2-4617-4bdf-e036-4a0c6c8f6628"
      },
      "source": [
        "image_path = 'Database/Viral_Pneumonia/Viral Pneumonia (14).png'\r\n",
        "image = tf.keras.preprocessing.image.load_img(image_path,target_size=(200, 200))\r\n",
        "input_arr = tf.keras.preprocessing.image.img_to_array(image)\r\n",
        "input_arr = np.array([input_arr])  # Convert single image to a batch.\r\n",
        "predictions = new_model.predict(input_arr)\r\n",
        "np.around(predictions, decimals=3)"
      ],
      "execution_count": 138,
      "outputs": [
        {
          "output_type": "execute_result",
          "data": {
            "text/plain": [
              "array([[1., 0., 0.]], dtype=float32)"
            ]
          },
          "metadata": {
            "tags": []
          },
          "execution_count": 138
        }
      ]
    },
    {
      "cell_type": "code",
      "metadata": {
        "colab": {
          "base_uri": "https://localhost:8080/"
        },
        "id": "z6GiH0jIULOA",
        "outputId": "266a0f24-3528-4caa-cb46-3d20bdd36b22"
      },
      "source": [
        "######COVID19\r\n",
        "\r\n",
        "image_path = 'Database/COVID19/COVID-19 (504).png'\r\n",
        "image = tf.keras.preprocessing.image.load_img(image_path,target_size=(200, 200))\r\n",
        "input_arr = tf.keras.preprocessing.image.img_to_array(image)\r\n",
        "input_arr = np.array([input_arr])  # Convert single image to a batch.\r\n",
        "predictions = new_model.predict(input_arr)\r\n",
        "np.around(predictions, decimals=3)"
      ],
      "execution_count": 139,
      "outputs": [
        {
          "output_type": "execute_result",
          "data": {
            "text/plain": [
              "array([[1., 0., 0.]], dtype=float32)"
            ]
          },
          "metadata": {
            "tags": []
          },
          "execution_count": 139
        }
      ]
    },
    {
      "cell_type": "code",
      "metadata": {
        "colab": {
          "base_uri": "https://localhost:8080/"
        },
        "id": "r8c0a64ZU0Y2",
        "outputId": "e9b9e955-28ff-4dbd-de4a-3a72d1426233"
      },
      "source": [
        "image_path = 'Database/COVID19/COVID-19 (505).png'\r\n",
        "image = tf.keras.preprocessing.image.load_img(image_path,target_size=(200, 200))\r\n",
        "input_arr = tf.keras.preprocessing.image.img_to_array(image)\r\n",
        "input_arr = np.array([input_arr])  # Convert single image to a batch.\r\n",
        "predictions = new_model.predict(input_arr)\r\n",
        "np.around(predictions, decimals=3)"
      ],
      "execution_count": 140,
      "outputs": [
        {
          "output_type": "execute_result",
          "data": {
            "text/plain": [
              "array([[1., 0., 0.]], dtype=float32)"
            ]
          },
          "metadata": {
            "tags": []
          },
          "execution_count": 140
        }
      ]
    },
    {
      "cell_type": "code",
      "metadata": {
        "colab": {
          "base_uri": "https://localhost:8080/"
        },
        "id": "vxYYLH1gULAb",
        "outputId": "eb517573-fb57-4f39-e67f-9b66b3dc4d34"
      },
      "source": [
        "image_path = 'Database/COVID19/COVID-19 (506).png'\r\n",
        "image = tf.keras.preprocessing.image.load_img(image_path,target_size=(200, 200))\r\n",
        "input_arr = tf.keras.preprocessing.image.img_to_array(image)\r\n",
        "input_arr = np.array([input_arr])  # Convert single image to a batch.\r\n",
        "predictions = new_model.predict(input_arr)\r\n",
        "np.around(predictions, decimals=3)"
      ],
      "execution_count": 141,
      "outputs": [
        {
          "output_type": "execute_result",
          "data": {
            "text/plain": [
              "array([[1., 0., 0.]], dtype=float32)"
            ]
          },
          "metadata": {
            "tags": []
          },
          "execution_count": 141
        }
      ]
    },
    {
      "cell_type": "code",
      "metadata": {
        "colab": {
          "base_uri": "https://localhost:8080/"
        },
        "id": "uC-4dXs5Czsw",
        "outputId": "ea5e7788-e9a5-48a0-9b3a-c5bd5aa47b54"
      },
      "source": [
        "train_loss, train_accuracy = new_model.evaluate(eval_train_ds)\r\n",
        "print(f'\\n Training loss: {train_loss}')\r\n",
        "print(f'\\n Training accuracy: {train_accuracy}')\r\n",
        "\r\n",
        "val_loss, val_accuracy = new_model.evaluate(eval_val_ds)\r\n",
        "print(f'\\n Validation loss: {val_loss}')\r\n",
        "print(f'\\n Validation accuracy: {val_accuracy}')"
      ],
      "execution_count": 142,
      "outputs": [
        {
          "output_type": "stream",
          "text": [
            "12/12 [==============================] - 61s 5s/step - loss: 0.3294 - accuracy: 0.8752\n",
            "\n",
            " Training loss: 0.32939839363098145\n",
            "\n",
            " Training accuracy: 0.8752160668373108\n",
            "5/5 [==============================] - 18s 3s/step - loss: 0.3061 - accuracy: 0.8748\n",
            "\n",
            " Validation loss: 0.30606457591056824\n",
            "\n",
            " Validation accuracy: 0.874798059463501\n"
          ],
          "name": "stdout"
        }
      ]
    },
    {
      "cell_type": "code",
      "metadata": {
        "colab": {
          "base_uri": "https://localhost:8080/"
        },
        "id": "s2JaZ3zsDIND",
        "outputId": "eab31360-74fb-4e19-e582-55ca5de01188"
      },
      "source": [
        "train_Y_pred = new_model.predict(eval_train_ds, 2893 // batch_size+1, verbose=1)\r\n",
        "train_y_pred = np.argmax(train_Y_pred, axis=1)\r\n",
        "\r\n",
        "print(f'{model_name} Training Confusion Matrix')\r\n",
        "conf_matrix = pd.DataFrame(\r\n",
        "    confusion_matrix(train_ds.classes, train_y_pred), \r\n",
        "    index=['true: COVID19', 'true: Viral_Pneumonia','true: NORMAL'], \r\n",
        "    columns=['pred: COVID19', 'pred: Viral_Pneumonia','pred: NORMAL']\r\n",
        ")\r\n",
        "print(conf_matrix)\r\n",
        "print('\\n')\r\n",
        "print(f'{model_name} Training Classification Report')\r\n",
        "target_names = list(train_ds.class_indices.keys())\r\n",
        "print(classification_report(train_ds.classes, train_y_pred, target_names=target_names))\r\n",
        "\r\n",
        "\r\n",
        "val_Y_pred = new_model.predict(eval_val_ds, 1238 // batch_size+1, verbose=1)\r\n",
        "val_y_pred = np.argmax(val_Y_pred, axis=1)\r\n",
        "\r\n",
        "print(f'{model_name} Validation Confusion Matrix')\r\n",
        "conf_matrix = pd.DataFrame(\r\n",
        "    confusion_matrix(eval_val_ds.classes, val_y_pred), \r\n",
        "    index=['true: COVID19', 'true: NORMAL','true: Viral_Pneumonia'], \r\n",
        "    columns=['pred: COVID19', 'pred: NORMAL','pred: Viral_Pneumonia']\r\n",
        ")\r\n",
        "conf_matrix.to_csv(f\"{model_name}/confusion_matrix.csv\")\r\n",
        "print(conf_matrix)\r\n",
        "print('\\n')\r\n",
        "print(f'{model_name} Validation Classification Report')\r\n",
        "target_names = list(eval_val_ds.class_indices.keys())\r\n",
        "print(classification_report(eval_val_ds.classes, val_y_pred, target_names=target_names))"
      ],
      "execution_count": 143,
      "outputs": [
        {
          "output_type": "stream",
          "text": [
            "12/12 [==============================] - 62s 5s/step\n",
            "ResNet50_model Training Confusion Matrix\n",
            "                       pred: COVID19  pred: Viral_Pneumonia  pred: NORMAL\n",
            "true: COVID19                    879                     14            36\n",
            "true: Viral_Pneumonia             26                    819            94\n",
            "true: NORMAL                      95                     81           849\n",
            "\n",
            "\n",
            "ResNet50_model Training Classification Report\n",
            "                 precision    recall  f1-score   support\n",
            "\n",
            "        COVID19       0.88      0.95      0.91       929\n",
            "         NORMAL       0.90      0.87      0.88       939\n",
            "Viral_Pneumonia       0.87      0.83      0.85      1025\n",
            "\n",
            "       accuracy                           0.88      2893\n",
            "      macro avg       0.88      0.88      0.88      2893\n",
            "   weighted avg       0.88      0.88      0.88      2893\n",
            "\n",
            "5/5 [==============================] - 18s 4s/step\n",
            "ResNet50_model Validation Confusion Matrix\n",
            "                       pred: COVID19  pred: NORMAL  pred: Viral_Pneumonia\n",
            "true: COVID19                    369             6                     23\n",
            "true: NORMAL                       4           369                     29\n",
            "true: Viral_Pneumonia             12            81                    345\n",
            "\n",
            "\n",
            "ResNet50_model Validation Classification Report\n",
            "                 precision    recall  f1-score   support\n",
            "\n",
            "        COVID19       0.96      0.93      0.94       398\n",
            "         NORMAL       0.81      0.92      0.86       402\n",
            "Viral_Pneumonia       0.87      0.79      0.83       438\n",
            "\n",
            "       accuracy                           0.87      1238\n",
            "      macro avg       0.88      0.88      0.88      1238\n",
            "   weighted avg       0.88      0.87      0.87      1238\n",
            "\n"
          ],
          "name": "stdout"
        }
      ]
    },
    {
      "cell_type": "code",
      "metadata": {
        "id": "778UorN0Qg8q"
      },
      "source": [
        ""
      ],
      "execution_count": null,
      "outputs": []
    },
    {
      "cell_type": "code",
      "metadata": {
        "id": "wDZ_CeqgO6Nt"
      },
      "source": [
        ""
      ],
      "execution_count": null,
      "outputs": []
    }
  ]
}