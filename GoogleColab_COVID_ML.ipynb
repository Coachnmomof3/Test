{
  "nbformat": 4,
  "nbformat_minor": 0,
  "metadata": {
    "kernelspec": {
      "name": "python3",
      "display_name": "Python 3"
    },
    "colab": {
      "name": "GoogleColab_COVID_ML.ipynb",
      "provenance": []
    },
    "accelerator": "GPU"
  },
  "cells": [
    {
      "cell_type": "code",
      "metadata": {
        "id": "9lt8CVBL0OAV"
      },
      "source": [
        "from tensorflow.keras.preprocessing.image import ImageDataGenerator\n",
        "from tensorflow.keras.losses import SparseCategoricalCrossentropy\n",
        "from tensorflow.keras.applications import VGG16\n",
        "from tensorflow.keras.applications.resnet50 import ResNet50 \n",
        "from keras.applications.vgg16 import preprocess_input\n",
        "from tensorflow.keras.layers import Activation, Dense, Dropout, Flatten, BatchNormalization, Conv2D, MaxPooling2D, Lambda, Input, AveragePooling2D\n",
        "from tensorflow.keras.models import Sequential, Model\n",
        "from tensorflow.keras.layers import Input\n",
        "from tensorflow.keras import layers\n",
        "from tensorflow.keras.utils import to_categorical\n",
        "from sklearn.preprocessing import LabelBinarizer\n",
        "from sklearn.model_selection import train_test_split\n",
        "from tensorflow.keras.preprocessing import image\n",
        "from tensorflow.keras.optimizers import Adam\n",
        "from tensorflow.keras.optimizers import SGD\n",
        "from tensorflow.keras.preprocessing import image\n",
        "from tensorflow.keras import backend as K\n",
        "import tensorflow as tf \n",
        "import matplotlib.pyplot as plt \n",
        "import numpy as np \n",
        "import pandas as pd\n",
        "import random\n",
        "#import cv2\n",
        "import os"
      ],
      "execution_count": null,
      "outputs": []
    },
    {
      "cell_type": "code",
      "metadata": {
        "colab": {
          "base_uri": "https://localhost:8080/",
          "height": 35
        },
        "id": "xQm4fstBuTIg",
        "outputId": "231bc2e1-0e34-4afc-b7ce-40cf3af173db"
      },
      "source": [
        "tf.test.gpu_device_name()"
      ],
      "execution_count": null,
      "outputs": [
        {
          "output_type": "execute_result",
          "data": {
            "application/vnd.google.colaboratory.intrinsic+json": {
              "type": "string"
            },
            "text/plain": [
              "'/device:GPU:0'"
            ]
          },
          "metadata": {
            "tags": []
          },
          "execution_count": 21
        }
      ]
    },
    {
      "cell_type": "code",
      "metadata": {
        "colab": {
          "base_uri": "https://localhost:8080/"
        },
        "id": "L99dOLAb0vB3",
        "outputId": "8bc850e6-d4ce-4b86-8571-f5e8b7520adf"
      },
      "source": [
        "# Mounting the drive\n",
        "from google.colab import drive\n",
        "drive.mount('/content/drive')"
      ],
      "execution_count": null,
      "outputs": [
        {
          "output_type": "stream",
          "text": [
            "Drive already mounted at /content/drive; to attempt to forcibly remount, call drive.mount(\"/content/drive\", force_remount=True).\n"
          ],
          "name": "stdout"
        }
      ]
    },
    {
      "cell_type": "code",
      "metadata": {
        "id": "DqfJ0n8h2Zp_"
      },
      "source": [
        "# Changing directory to images\n",
        "os.chdir(\"/content/drive/MyDrive/Data Analysis Bootcamp\")"
      ],
      "execution_count": null,
      "outputs": []
    },
    {
      "cell_type": "code",
      "metadata": {
        "colab": {
          "base_uri": "https://localhost:8080/"
        },
        "id": "eqiYPt-V0OAV",
        "outputId": "b45fff30-8c93-41f8-d3f4-ea390b17fe72"
      },
      "source": [
        "# Check Classes \n",
        "image_names=list(os.listdir(\"Resources/Images/Database\"))\n",
        "image_names.sort()\n",
        "print(image_names)\n",
        "class_number = len(image_names)"
      ],
      "execution_count": null,
      "outputs": [
        {
          "output_type": "stream",
          "text": [
            "['Covid', 'No_Finding', 'Pneumonia']\n"
          ],
          "name": "stdout"
        }
      ]
    },
    {
      "cell_type": "code",
      "metadata": {
        "id": "LWMEFFWH0OAW",
        "colab": {
          "base_uri": "https://localhost:8080/"
        },
        "outputId": "0d64654b-4b17-4686-d956-069fad54dad3"
      },
      "source": [
        "# Directory with Atelectasis\n",
        "atele_dir=os.path.join(\"Resources/Images/Database/Covid\")\n",
        "df =pd.DataFrame.from_records({\"file_name\":os.listdir(atele_dir),\"condition\": \"Covid\"})\n",
        "for f in image_names[1:]:\n",
        "    folder_path=\"Resources/Images/Database/\" + f\n",
        "    temp_df= pd.DataFrame.from_records({\"file_name\":os.listdir(folder_path),\"condition\": f })\n",
        "    df=df.append(temp_df)\n",
        "    \n",
        "df[\"condition\"].value_counts()"
      ],
      "execution_count": null,
      "outputs": [
        {
          "output_type": "execute_result",
          "data": {
            "text/plain": [
              "Covid         184\n",
              "No_Finding    151\n",
              "Pneumonia     118\n",
              "Name: condition, dtype: int64"
            ]
          },
          "metadata": {
            "tags": []
          },
          "execution_count": 25
        }
      ]
    },
    {
      "cell_type": "code",
      "metadata": {
        "id": "Ti7rsv5t0OAX"
      },
      "source": [
        "#Exporting Label CSV\n",
        "#df.to_csv(\"Labels.csv\")"
      ],
      "execution_count": null,
      "outputs": []
    },
    {
      "cell_type": "code",
      "metadata": {
        "id": "pwuEDPJf0OAX"
      },
      "source": [
        "# balance classes - random Random Sampling No_Finding\n",
        "#df_no_finding = df[df[\"condition\"]==\"No_Finding\"].sample(n=150, random_state=42)\n",
        "#df_balanced = df[df[\"condition\"]!=\"No_Finding\"].append(df_no_finding)\n",
        "#df_balanced[\"condition\"].value_counts()"
      ],
      "execution_count": null,
      "outputs": []
    },
    {
      "cell_type": "code",
      "metadata": {
        "id": "oxmn5Z0M0OAX"
      },
      "source": [
        "#df_balanced[\"file_name\"] = \"Resources/Images/Classes/\"+df_balanced[\"file_name\"]"
      ],
      "execution_count": null,
      "outputs": []
    },
    {
      "cell_type": "code",
      "metadata": {
        "id": "FVe4Czei0OAX"
      },
      "source": [
        "# Settings\n",
        "batch_size = 16\n",
        "img_height, img_width = 256,256"
      ],
      "execution_count": null,
      "outputs": []
    },
    {
      "cell_type": "code",
      "metadata": {
        "colab": {
          "base_uri": "https://localhost:8080/"
        },
        "id": "ggL4dMd70a8A",
        "outputId": "b8670471-fa15-41dd-9726-95fcd92bfdb0"
      },
      "source": [
        "data_dir = \"Resources/Images/Database/\"\r\n",
        "\r\n",
        "# Rescale images \r\n",
        "datagen= ImageDataGenerator(rescale=1/255,validation_split=.3,rotation_range=20,\r\n",
        "                           shear_range=.2,width_shift_range=0.1,height_shift_range=0.1,zoom_range=0.2)\r\n",
        "\r\n",
        "# Flow training images in batches of batch_size using train_data \r\n",
        "train_ds= datagen.flow_from_directory(\r\n",
        "                data_dir,\r\n",
        "                target_size=(img_width,img_height),\r\n",
        "                batch_size=batch_size,\r\n",
        "                subset=\"training\",\r\n",
        "                class_mode=\"categorical\", \r\n",
        "                classes= image_names,\r\n",
        "                shuffle=True, \r\n",
        "                seed=30)\r\n",
        "\r\n",
        "\r\n",
        "datagen2=ImageDataGenerator(rescale=1/255,validation_split=.3)\r\n",
        "\r\n",
        "val_ds=datagen2.flow_from_directory(\r\n",
        "                data_dir,\r\n",
        "                target_size=(img_width,img_height),\r\n",
        "                batch_size=batch_size,\r\n",
        "                classes= image_names,\r\n",
        "                class_mode=\"categorical\", \r\n",
        "                subset=\"validation\", \r\n",
        "                shuffle=True, \r\n",
        "                seed=30)"
      ],
      "execution_count": null,
      "outputs": [
        {
          "output_type": "stream",
          "text": [
            "Found 318 images belonging to 3 classes.\n",
            "Found 135 images belonging to 3 classes.\n"
          ],
          "name": "stdout"
        }
      ]
    },
    {
      "cell_type": "code",
      "metadata": {
        "id": "jPL1NJ_r0OAX"
      },
      "source": [
        "#data_dir = \"Resources/Images/Classes/\"\n",
        "#train_ds = tf.keras.preprocessing.image_dataset_from_directory(\n",
        "#  data_dir,\n",
        "#  validation_split=0.2,\n",
        "#  subset=\"training\",\n",
        "#  seed=123,\n",
        "#  image_size=(img_height, img_width),\n",
        "#  batch_size=batch_size)"
      ],
      "execution_count": null,
      "outputs": []
    },
    {
      "cell_type": "code",
      "metadata": {
        "id": "fDias_Db0OAX"
      },
      "source": [
        "#val_ds = tf.keras.preprocessing.image_dataset_from_directory(\n",
        "#  data_dir,\n",
        "#  validation_split=0.2,\n",
        "#  subset=\"validation\",\n",
        "#  seed=123,\n",
        "#  image_size=(img_height, img_width),\n",
        "#  batch_size=batch_size)"
      ],
      "execution_count": null,
      "outputs": []
    },
    {
      "cell_type": "code",
      "metadata": {
        "colab": {
          "base_uri": "https://localhost:8080/",
          "height": 631
        },
        "id": "_GJdffTzxvy8",
        "outputId": "32014c6b-84c9-4560-8810-d900352f0564"
      },
      "source": [
        "with tf.device('/device:GPU:0'):\r\n",
        "  model = tf.keras.Sequential([\r\n",
        "                               Conv2D(32, 3, activation='relu'),\r\n",
        "                               MaxPooling2D(),\r\n",
        "                               Conv2D(32, 3, activation='relu'),\r\n",
        "                               MaxPooling2D(),\r\n",
        "                               Conv2D(32, 3, activation='relu'),\r\n",
        "                               MaxPooling2D(),\r\n",
        "                               Dense(img_height, activation='relu'),\r\n",
        "                               Flatten(),\r\n",
        "                               Dense(class_number, activation='softmax')\r\n",
        "                               ])\r\n",
        "  model.compile(\r\n",
        "  optimizer='adam',\r\n",
        "  loss=tf.keras.losses.CategoricalCrossentropy(from_logits=True),\r\n",
        "  metrics=['accuracy']\r\n",
        "  )\r\n",
        "\r\n",
        "  history = model.fit(\r\n",
        "  train_ds,\r\n",
        "  validation_data=val_ds,\r\n",
        "  epochs=10,\r\n",
        "  verbose=1\r\n",
        "  )\r\n",
        "\r\n",
        "  plt.plot(history.history['accuracy'])\r\n",
        "  plt.plot(history.history['val_accuracy'])\r\n",
        "  plt.title('model accuracy')\r\n",
        "  plt.ylabel('accuracy')\r\n",
        "  plt.xlabel('epoch')\r\n",
        "  plt.legend(['train', 'test'], loc='upper left')\r\n",
        "  plt.show()"
      ],
      "execution_count": null,
      "outputs": [
        {
          "output_type": "stream",
          "text": [
            "Epoch 1/10\n",
            "20/20 [==============================] - 13s 659ms/step - loss: 1.1478 - accuracy: 0.3836 - val_loss: 1.1440 - val_accuracy: 0.4074\n",
            "Epoch 2/10\n",
            "20/20 [==============================] - 13s 646ms/step - loss: 1.1458 - accuracy: 0.4057 - val_loss: 1.1440 - val_accuracy: 0.4074\n",
            "Epoch 3/10\n",
            "20/20 [==============================] - 13s 627ms/step - loss: 1.1458 - accuracy: 0.4057 - val_loss: 1.1440 - val_accuracy: 0.4074\n",
            "Epoch 4/10\n",
            "20/20 [==============================] - 12s 624ms/step - loss: 1.1458 - accuracy: 0.4057 - val_loss: 1.1440 - val_accuracy: 0.4074\n",
            "Epoch 5/10\n",
            "20/20 [==============================] - 12s 622ms/step - loss: 1.1458 - accuracy: 0.4057 - val_loss: 1.1440 - val_accuracy: 0.4074\n",
            "Epoch 6/10\n",
            "20/20 [==============================] - 13s 634ms/step - loss: 1.1458 - accuracy: 0.4057 - val_loss: 1.1440 - val_accuracy: 0.4074\n",
            "Epoch 7/10\n",
            "20/20 [==============================] - 13s 628ms/step - loss: 1.1458 - accuracy: 0.4057 - val_loss: 1.1440 - val_accuracy: 0.4074\n",
            "Epoch 8/10\n",
            "20/20 [==============================] - 13s 640ms/step - loss: 1.1458 - accuracy: 0.4057 - val_loss: 1.1440 - val_accuracy: 0.4074\n",
            "Epoch 9/10\n",
            "20/20 [==============================] - 13s 647ms/step - loss: 1.1458 - accuracy: 0.4057 - val_loss: 1.1440 - val_accuracy: 0.4074\n",
            "Epoch 10/10\n",
            "20/20 [==============================] - 13s 633ms/step - loss: 1.1458 - accuracy: 0.4057 - val_loss: 1.1440 - val_accuracy: 0.4074\n"
          ],
          "name": "stdout"
        },
        {
          "output_type": "display_data",
          "data": {
            "image/png": "[encoded data removed]",
            "text/plain": [
              "<Figure size 432x288 with 1 Axes>"
            ]
          },
          "metadata": {
            "tags": [],
            "needs_background": "light"
          }
        }
      ]
    },
    {
      "cell_type": "code",
      "metadata": {
        "id": "ep5uy9utz2qo",
        "colab": {
          "base_uri": "https://localhost:8080/",
          "height": 673
        },
        "outputId": "51e2516b-893a-48bc-9375-601e70ed19c8"
      },
      "source": [
        "with tf.device('/device:GPU:0'):\r\n",
        "  VGG16_model = tf.keras.Sequential([\r\n",
        "                                     VGG16(weights=\"imagenet\", include_top=False, input_tensor=Input(shape=(img_height, img_width, 3))),\r\n",
        "                                     MaxPooling2D(),\r\n",
        "                                     Dense(img_height, activation='relu'),\r\n",
        "                                     Flatten(),\r\n",
        "                                     Dense(class_number, activation='softmax')\r\n",
        "                                     ])\r\n",
        "\r\n",
        "  VGG16_model.compile(\r\n",
        "      optimizer='adam',\r\n",
        "      loss=tf.losses.CategoricalCrossentropy(from_logits=True),\r\n",
        "      metrics=['accuracy']\r\n",
        "      )\r\n",
        "  \r\n",
        "  VGG16_model_history = VGG16_model.fit(\r\n",
        "      train_ds,\r\n",
        "      validation_data=val_ds,\r\n",
        "      epochs=50,\r\n",
        "      verbose=1\r\n",
        "      )\r\n",
        "  plt.plot(VGG16_model_history.history['accuracy'])\r\n",
        "  plt.plot(VGG16_model_history.history['val_accuracy'])\r\n",
        "  plt.title('model accuracy')\r\n",
        "  plt.ylabel('accuracy')\r\n",
        "  plt.xlabel('epoch')\r\n",
        "  plt.legend(['train', 'test'], loc='upper left')\r\n",
        "  plt.show()  "
      ],
      "execution_count": null,
      "outputs": [
        {
          "output_type": "stream",
          "text": [
            "Epoch 1/50\n",
            "20/20 [==============================] - 14s 714ms/step - loss: 1.2257 - accuracy: 0.3176 - val_loss: 1.2181 - val_accuracy: 0.3333\n",
            "Epoch 2/50\n",
            "20/20 [==============================] - 14s 690ms/step - loss: 1.2181 - accuracy: 0.3333 - val_loss: 1.2181 - val_accuracy: 0.3333\n",
            "Epoch 3/50\n",
            "20/20 [==============================] - 14s 684ms/step - loss: 1.2181 - accuracy: 0.3333 - val_loss: 1.2181 - val_accuracy: 0.3333\n",
            "Epoch 4/50\n",
            "20/20 [==============================] - 14s 676ms/step - loss: 1.2181 - accuracy: 0.3333 - val_loss: 1.2181 - val_accuracy: 0.3333\n",
            "Epoch 5/50\n",
            "20/20 [==============================] - 14s 680ms/step - loss: 1.2181 - accuracy: 0.3333 - val_loss: 1.2181 - val_accuracy: 0.3333\n",
            "Epoch 6/50\n",
            "20/20 [==============================] - 13s 672ms/step - loss: 1.2181 - accuracy: 0.3333 - val_loss: 1.2181 - val_accuracy: 0.3333\n",
            "Epoch 7/50\n",
            "20/20 [==============================] - 14s 678ms/step - loss: 1.2181 - accuracy: 0.3333 - val_loss: 1.2181 - val_accuracy: 0.3333\n",
            "Epoch 8/50\n",
            "20/20 [==============================] - 14s 681ms/step - loss: 1.2181 - accuracy: 0.3333 - val_loss: 1.2181 - val_accuracy: 0.3333\n",
            "Epoch 9/50\n",
            "11/20 [===============>..............] - ETA: 5s - loss: 1.1951 - accuracy: 0.3563"
          ],
          "name": "stdout"
        },
        {
          "output_type": "error",
          "ename": "KeyboardInterrupt",
          "evalue": "ignored",
          "traceback": [
            "\u001b[0;31m---------------------------------------------------------------------------\u001b[0m",
            "\u001b[0;31mKeyboardInterrupt\u001b[0m                         Traceback (most recent call last)",
            "\u001b[0;32m<ipython-input-18-1dde0fece246>\u001b[0m in \u001b[0;36m<module>\u001b[0;34m()\u001b[0m\n\u001b[1;32m     18\u001b[0m       \u001b[0mvalidation_data\u001b[0m\u001b[0;34m=\u001b[0m\u001b[0mval_ds\u001b[0m\u001b[0;34m,\u001b[0m\u001b[0;34m\u001b[0m\u001b[0;34m\u001b[0m\u001b[0m\n\u001b[1;32m     19\u001b[0m       \u001b[0mepochs\u001b[0m\u001b[0;34m=\u001b[0m\u001b[0;36m50\u001b[0m\u001b[0;34m,\u001b[0m\u001b[0;34m\u001b[0m\u001b[0;34m\u001b[0m\u001b[0m\n\u001b[0;32m---> 20\u001b[0;31m       \u001b[0mverbose\u001b[0m\u001b[0;34m=\u001b[0m\u001b[0;36m1\u001b[0m\u001b[0;34m\u001b[0m\u001b[0;34m\u001b[0m\u001b[0m\n\u001b[0m\u001b[1;32m     21\u001b[0m       )\n\u001b[1;32m     22\u001b[0m   \u001b[0mplt\u001b[0m\u001b[0;34m.\u001b[0m\u001b[0mplot\u001b[0m\u001b[0;34m(\u001b[0m\u001b[0mhistory\u001b[0m\u001b[0;34m.\u001b[0m\u001b[0mhistory\u001b[0m\u001b[0;34m[\u001b[0m\u001b[0;34m'accuracy'\u001b[0m\u001b[0;34m]\u001b[0m\u001b[0;34m)\u001b[0m\u001b[0;34m\u001b[0m\u001b[0;34m\u001b[0m\u001b[0m\n",
            "\u001b[0;32m/usr/local/lib/python3.6/dist-packages/tensorflow/python/keras/engine/training.py\u001b[0m in \u001b[0;36m_method_wrapper\u001b[0;34m(self, *args, **kwargs)\u001b[0m\n\u001b[1;32m    106\u001b[0m   \u001b[0;32mdef\u001b[0m \u001b[0m_method_wrapper\u001b[0m\u001b[0;34m(\u001b[0m\u001b[0mself\u001b[0m\u001b[0;34m,\u001b[0m \u001b[0;34m*\u001b[0m\u001b[0margs\u001b[0m\u001b[0;34m,\u001b[0m \u001b[0;34m**\u001b[0m\u001b[0mkwargs\u001b[0m\u001b[0;34m)\u001b[0m\u001b[0;34m:\u001b[0m\u001b[0;34m\u001b[0m\u001b[0;34m\u001b[0m\u001b[0m\n\u001b[1;32m    107\u001b[0m     \u001b[0;32mif\u001b[0m \u001b[0;32mnot\u001b[0m \u001b[0mself\u001b[0m\u001b[0;34m.\u001b[0m\u001b[0m_in_multi_worker_mode\u001b[0m\u001b[0;34m(\u001b[0m\u001b[0;34m)\u001b[0m\u001b[0;34m:\u001b[0m  \u001b[0;31m# pylint: disable=protected-access\u001b[0m\u001b[0;34m\u001b[0m\u001b[0;34m\u001b[0m\u001b[0m\n\u001b[0;32m--> 108\u001b[0;31m       \u001b[0;32mreturn\u001b[0m \u001b[0mmethod\u001b[0m\u001b[0;34m(\u001b[0m\u001b[0mself\u001b[0m\u001b[0;34m,\u001b[0m \u001b[0;34m*\u001b[0m\u001b[0margs\u001b[0m\u001b[0;34m,\u001b[0m \u001b[0;34m**\u001b[0m\u001b[0mkwargs\u001b[0m\u001b[0;34m)\u001b[0m\u001b[0;34m\u001b[0m\u001b[0;34m\u001b[0m\u001b[0m\n\u001b[0m\u001b[1;32m    109\u001b[0m \u001b[0;34m\u001b[0m\u001b[0m\n\u001b[1;32m    110\u001b[0m     \u001b[0;31m# Running inside `run_distribute_coordinator` already.\u001b[0m\u001b[0;34m\u001b[0m\u001b[0;34m\u001b[0m\u001b[0;34m\u001b[0m\u001b[0m\n",
            "\u001b[0;32m/usr/local/lib/python3.6/dist-packages/tensorflow/python/keras/engine/training.py\u001b[0m in \u001b[0;36mfit\u001b[0;34m(self, x, y, batch_size, epochs, verbose, callbacks, validation_split, validation_data, shuffle, class_weight, sample_weight, initial_epoch, steps_per_epoch, validation_steps, validation_batch_size, validation_freq, max_queue_size, workers, use_multiprocessing)\u001b[0m\n\u001b[1;32m   1096\u001b[0m                 batch_size=batch_size):\n\u001b[1;32m   1097\u001b[0m               \u001b[0mcallbacks\u001b[0m\u001b[0;34m.\u001b[0m\u001b[0mon_train_batch_begin\u001b[0m\u001b[0;34m(\u001b[0m\u001b[0mstep\u001b[0m\u001b[0;34m)\u001b[0m\u001b[0;34m\u001b[0m\u001b[0;34m\u001b[0m\u001b[0m\n\u001b[0;32m-> 1098\u001b[0;31m               \u001b[0mtmp_logs\u001b[0m \u001b[0;34m=\u001b[0m \u001b[0mtrain_function\u001b[0m\u001b[0;34m(\u001b[0m\u001b[0miterator\u001b[0m\u001b[0;34m)\u001b[0m\u001b[0;34m\u001b[0m\u001b[0;34m\u001b[0m\u001b[0m\n\u001b[0m\u001b[1;32m   1099\u001b[0m               \u001b[0;32mif\u001b[0m \u001b[0mdata_handler\u001b[0m\u001b[0;34m.\u001b[0m\u001b[0mshould_sync\u001b[0m\u001b[0;34m:\u001b[0m\u001b[0;34m\u001b[0m\u001b[0;34m\u001b[0m\u001b[0m\n\u001b[1;32m   1100\u001b[0m                 \u001b[0mcontext\u001b[0m\u001b[0;34m.\u001b[0m\u001b[0masync_wait\u001b[0m\u001b[0;34m(\u001b[0m\u001b[0;34m)\u001b[0m\u001b[0;34m\u001b[0m\u001b[0;34m\u001b[0m\u001b[0m\n",
            "\u001b[0;32m/usr/local/lib/python3.6/dist-packages/tensorflow/python/eager/def_function.py\u001b[0m in \u001b[0;36m__call__\u001b[0;34m(self, *args, **kwds)\u001b[0m\n\u001b[1;32m    778\u001b[0m       \u001b[0;32melse\u001b[0m\u001b[0;34m:\u001b[0m\u001b[0;34m\u001b[0m\u001b[0;34m\u001b[0m\u001b[0m\n\u001b[1;32m    779\u001b[0m         \u001b[0mcompiler\u001b[0m \u001b[0;34m=\u001b[0m \u001b[0;34m\"nonXla\"\u001b[0m\u001b[0;34m\u001b[0m\u001b[0;34m\u001b[0m\u001b[0m\n\u001b[0;32m--> 780\u001b[0;31m         \u001b[0mresult\u001b[0m \u001b[0;34m=\u001b[0m \u001b[0mself\u001b[0m\u001b[0;34m.\u001b[0m\u001b[0m_call\u001b[0m\u001b[0;34m(\u001b[0m\u001b[0;34m*\u001b[0m\u001b[0margs\u001b[0m\u001b[0;34m,\u001b[0m \u001b[0;34m**\u001b[0m\u001b[0mkwds\u001b[0m\u001b[0;34m)\u001b[0m\u001b[0;34m\u001b[0m\u001b[0;34m\u001b[0m\u001b[0m\n\u001b[0m\u001b[1;32m    781\u001b[0m \u001b[0;34m\u001b[0m\u001b[0m\n\u001b[1;32m    782\u001b[0m       \u001b[0mnew_tracing_count\u001b[0m \u001b[0;34m=\u001b[0m \u001b[0mself\u001b[0m\u001b[0;34m.\u001b[0m\u001b[0m_get_tracing_count\u001b[0m\u001b[0;34m(\u001b[0m\u001b[0;34m)\u001b[0m\u001b[0;34m\u001b[0m\u001b[0;34m\u001b[0m\u001b[0m\n",
            "\u001b[0;32m/usr/local/lib/python3.6/dist-packages/tensorflow/python/eager/def_function.py\u001b[0m in \u001b[0;36m_call\u001b[0;34m(self, *args, **kwds)\u001b[0m\n\u001b[1;32m    805\u001b[0m       \u001b[0;31m# In this case we have created variables on the first call, so we run the\u001b[0m\u001b[0;34m\u001b[0m\u001b[0;34m\u001b[0m\u001b[0;34m\u001b[0m\u001b[0m\n\u001b[1;32m    806\u001b[0m       \u001b[0;31m# defunned version which is guaranteed to never create variables.\u001b[0m\u001b[0;34m\u001b[0m\u001b[0;34m\u001b[0m\u001b[0;34m\u001b[0m\u001b[0m\n\u001b[0;32m--> 807\u001b[0;31m       \u001b[0;32mreturn\u001b[0m \u001b[0mself\u001b[0m\u001b[0;34m.\u001b[0m\u001b[0m_stateless_fn\u001b[0m\u001b[0;34m(\u001b[0m\u001b[0;34m*\u001b[0m\u001b[0margs\u001b[0m\u001b[0;34m,\u001b[0m \u001b[0;34m**\u001b[0m\u001b[0mkwds\u001b[0m\u001b[0;34m)\u001b[0m  \u001b[0;31m# pylint: disable=not-callable\u001b[0m\u001b[0;34m\u001b[0m\u001b[0;34m\u001b[0m\u001b[0m\n\u001b[0m\u001b[1;32m    808\u001b[0m     \u001b[0;32melif\u001b[0m \u001b[0mself\u001b[0m\u001b[0;34m.\u001b[0m\u001b[0m_stateful_fn\u001b[0m \u001b[0;32mis\u001b[0m \u001b[0;32mnot\u001b[0m \u001b[0;32mNone\u001b[0m\u001b[0;34m:\u001b[0m\u001b[0;34m\u001b[0m\u001b[0;34m\u001b[0m\u001b[0m\n\u001b[1;32m    809\u001b[0m       \u001b[0;31m# Release the lock early so that multiple threads can perform the call\u001b[0m\u001b[0;34m\u001b[0m\u001b[0;34m\u001b[0m\u001b[0;34m\u001b[0m\u001b[0m\n",
            "\u001b[0;32m/usr/local/lib/python3.6/dist-packages/tensorflow/python/eager/function.py\u001b[0m in \u001b[0;36m__call__\u001b[0;34m(self, *args, **kwargs)\u001b[0m\n\u001b[1;32m   2827\u001b[0m     \u001b[0;32mwith\u001b[0m \u001b[0mself\u001b[0m\u001b[0;34m.\u001b[0m\u001b[0m_lock\u001b[0m\u001b[0;34m:\u001b[0m\u001b[0;34m\u001b[0m\u001b[0;34m\u001b[0m\u001b[0m\n\u001b[1;32m   2828\u001b[0m       \u001b[0mgraph_function\u001b[0m\u001b[0;34m,\u001b[0m \u001b[0margs\u001b[0m\u001b[0;34m,\u001b[0m \u001b[0mkwargs\u001b[0m \u001b[0;34m=\u001b[0m \u001b[0mself\u001b[0m\u001b[0;34m.\u001b[0m\u001b[0m_maybe_define_function\u001b[0m\u001b[0;34m(\u001b[0m\u001b[0margs\u001b[0m\u001b[0;34m,\u001b[0m \u001b[0mkwargs\u001b[0m\u001b[0;34m)\u001b[0m\u001b[0;34m\u001b[0m\u001b[0;34m\u001b[0m\u001b[0m\n\u001b[0;32m-> 2829\u001b[0;31m     \u001b[0;32mreturn\u001b[0m \u001b[0mgraph_function\u001b[0m\u001b[0;34m.\u001b[0m\u001b[0m_filtered_call\u001b[0m\u001b[0;34m(\u001b[0m\u001b[0margs\u001b[0m\u001b[0;34m,\u001b[0m \u001b[0mkwargs\u001b[0m\u001b[0;34m)\u001b[0m  \u001b[0;31m# pylint: disable=protected-access\u001b[0m\u001b[0;34m\u001b[0m\u001b[0;34m\u001b[0m\u001b[0m\n\u001b[0m\u001b[1;32m   2830\u001b[0m \u001b[0;34m\u001b[0m\u001b[0m\n\u001b[1;32m   2831\u001b[0m   \u001b[0;34m@\u001b[0m\u001b[0mproperty\u001b[0m\u001b[0;34m\u001b[0m\u001b[0;34m\u001b[0m\u001b[0m\n",
            "\u001b[0;32m/usr/local/lib/python3.6/dist-packages/tensorflow/python/eager/function.py\u001b[0m in \u001b[0;36m_filtered_call\u001b[0;34m(self, args, kwargs, cancellation_manager)\u001b[0m\n\u001b[1;32m   1846\u001b[0m                            resource_variable_ops.BaseResourceVariable))],\n\u001b[1;32m   1847\u001b[0m         \u001b[0mcaptured_inputs\u001b[0m\u001b[0;34m=\u001b[0m\u001b[0mself\u001b[0m\u001b[0;34m.\u001b[0m\u001b[0mcaptured_inputs\u001b[0m\u001b[0;34m,\u001b[0m\u001b[0;34m\u001b[0m\u001b[0;34m\u001b[0m\u001b[0m\n\u001b[0;32m-> 1848\u001b[0;31m         cancellation_manager=cancellation_manager)\n\u001b[0m\u001b[1;32m   1849\u001b[0m \u001b[0;34m\u001b[0m\u001b[0m\n\u001b[1;32m   1850\u001b[0m   \u001b[0;32mdef\u001b[0m \u001b[0m_call_flat\u001b[0m\u001b[0;34m(\u001b[0m\u001b[0mself\u001b[0m\u001b[0;34m,\u001b[0m \u001b[0margs\u001b[0m\u001b[0;34m,\u001b[0m \u001b[0mcaptured_inputs\u001b[0m\u001b[0;34m,\u001b[0m \u001b[0mcancellation_manager\u001b[0m\u001b[0;34m=\u001b[0m\u001b[0;32mNone\u001b[0m\u001b[0;34m)\u001b[0m\u001b[0;34m:\u001b[0m\u001b[0;34m\u001b[0m\u001b[0;34m\u001b[0m\u001b[0m\n",
            "\u001b[0;32m/usr/local/lib/python3.6/dist-packages/tensorflow/python/eager/function.py\u001b[0m in \u001b[0;36m_call_flat\u001b[0;34m(self, args, captured_inputs, cancellation_manager)\u001b[0m\n\u001b[1;32m   1922\u001b[0m       \u001b[0;31m# No tape is watching; skip to running the function.\u001b[0m\u001b[0;34m\u001b[0m\u001b[0;34m\u001b[0m\u001b[0;34m\u001b[0m\u001b[0m\n\u001b[1;32m   1923\u001b[0m       return self._build_call_outputs(self._inference_function.call(\n\u001b[0;32m-> 1924\u001b[0;31m           ctx, args, cancellation_manager=cancellation_manager))\n\u001b[0m\u001b[1;32m   1925\u001b[0m     forward_backward = self._select_forward_and_backward_functions(\n\u001b[1;32m   1926\u001b[0m         \u001b[0margs\u001b[0m\u001b[0;34m,\u001b[0m\u001b[0;34m\u001b[0m\u001b[0;34m\u001b[0m\u001b[0m\n",
            "\u001b[0;32m/usr/local/lib/python3.6/dist-packages/tensorflow/python/eager/function.py\u001b[0m in \u001b[0;36mcall\u001b[0;34m(self, ctx, args, cancellation_manager)\u001b[0m\n\u001b[1;32m    548\u001b[0m               \u001b[0minputs\u001b[0m\u001b[0;34m=\u001b[0m\u001b[0margs\u001b[0m\u001b[0;34m,\u001b[0m\u001b[0;34m\u001b[0m\u001b[0;34m\u001b[0m\u001b[0m\n\u001b[1;32m    549\u001b[0m               \u001b[0mattrs\u001b[0m\u001b[0;34m=\u001b[0m\u001b[0mattrs\u001b[0m\u001b[0;34m,\u001b[0m\u001b[0;34m\u001b[0m\u001b[0;34m\u001b[0m\u001b[0m\n\u001b[0;32m--> 550\u001b[0;31m               ctx=ctx)\n\u001b[0m\u001b[1;32m    551\u001b[0m         \u001b[0;32melse\u001b[0m\u001b[0;34m:\u001b[0m\u001b[0;34m\u001b[0m\u001b[0;34m\u001b[0m\u001b[0m\n\u001b[1;32m    552\u001b[0m           outputs = execute.execute_with_cancellation(\n",
            "\u001b[0;32m/usr/local/lib/python3.6/dist-packages/tensorflow/python/eager/execute.py\u001b[0m in \u001b[0;36mquick_execute\u001b[0;34m(op_name, num_outputs, inputs, attrs, ctx, name)\u001b[0m\n\u001b[1;32m     58\u001b[0m     \u001b[0mctx\u001b[0m\u001b[0;34m.\u001b[0m\u001b[0mensure_initialized\u001b[0m\u001b[0;34m(\u001b[0m\u001b[0;34m)\u001b[0m\u001b[0;34m\u001b[0m\u001b[0;34m\u001b[0m\u001b[0m\n\u001b[1;32m     59\u001b[0m     tensors = pywrap_tfe.TFE_Py_Execute(ctx._handle, device_name, op_name,\n\u001b[0;32m---> 60\u001b[0;31m                                         inputs, attrs, num_outputs)\n\u001b[0m\u001b[1;32m     61\u001b[0m   \u001b[0;32mexcept\u001b[0m \u001b[0mcore\u001b[0m\u001b[0;34m.\u001b[0m\u001b[0m_NotOkStatusException\u001b[0m \u001b[0;32mas\u001b[0m \u001b[0me\u001b[0m\u001b[0;34m:\u001b[0m\u001b[0;34m\u001b[0m\u001b[0;34m\u001b[0m\u001b[0m\n\u001b[1;32m     62\u001b[0m     \u001b[0;32mif\u001b[0m \u001b[0mname\u001b[0m \u001b[0;32mis\u001b[0m \u001b[0;32mnot\u001b[0m \u001b[0;32mNone\u001b[0m\u001b[0;34m:\u001b[0m\u001b[0;34m\u001b[0m\u001b[0;34m\u001b[0m\u001b[0m\n",
            "\u001b[0;31mKeyboardInterrupt\u001b[0m: "
          ]
        }
      ]
    },
    {
      "cell_type": "code",
      "metadata": {
        "id": "3iUCglMez5G9"
      },
      "source": [
        "with tf.device('/device:GPU:0'):\r\n",
        "  ResNet50_model = tf.keras.Sequential([\r\n",
        "                                     ResNet50(weights=\"imagenet\", include_top=False, input_tensor=Input(shape=(img_height, img_width, 3))),\r\n",
        "                                     MaxPooling2D(),\r\n",
        "                                     Dense(img_height, activation='relu'),\r\n",
        "                                     Flatten(),\r\n",
        "                                     Dense(class_number, activation='softmax')\r\n",
        "                                     ])\r\n",
        "\r\n",
        "  ResNet50_model.compile(\r\n",
        "      optimizer='adam',\r\n",
        "      loss=tf.losses.CategoricalCrossentropy(from_logits=True),\r\n",
        "      metrics=['accuracy']\r\n",
        "      )\r\n",
        "  \r\n",
        "  ResNet50_model.fit(\r\n",
        "      train_ds,\r\n",
        "      validation_data=val_ds,\r\n",
        "      epochs=50,\r\n",
        "      verbose=1\r\n",
        "      ),guijhyhujio,.ñ,gygyuigfyyygfsq4qdrftvybvtsfrdrdq222222"
      ],
      "execution_count": null,
      "outputs": []
    },
    {
      "cell_type": "code",
      "metadata": {
        "id": "vlBynWPnz5KD"
      },
      "source": [
        ""
      ],
      "execution_count": null,
      "outputs": []
    },
    {
      "cell_type": "code",
      "metadata": {
        "id": "V1rCrd3Rz5M1"
      },
      "source": [
        ""
      ],
      "execution_count": null,
      "outputs": []
    }
  ]
}