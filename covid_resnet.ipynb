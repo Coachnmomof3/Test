{
 "cells": [
  {
   "cell_type": "code",
   "execution_count": 1,
   "metadata": {},
   "outputs": [],
   "source": [
    "from tensorflow.keras.preprocessing.image import ImageDataGenerator\n",
    "from tensorflow.keras.losses import SparseCategoricalCrossentropy\n",
    "from tensorflow.keras.applications import VGG16\n",
    "from tensorflow.keras.applications.resnet50 import ResNet50 \n",
    "from keras.applications.vgg16 import preprocess_input\n",
    "from tensorflow.keras.layers import Activation, Dense, Dropout, Flatten, BatchNormalization, Conv2D, MaxPooling2D, Lambda, Input, AveragePooling2D\n",
    "from tensorflow.keras.models import Sequential, Model\n",
    "from tensorflow.keras.layers import Input\n",
    "from tensorflow.keras import layers\n",
    "from tensorflow.keras.utils import to_categorical\n",
    "from sklearn.preprocessing import LabelBinarizer\n",
    "from sklearn.model_selection import train_test_split\n",
    "from tensorflow.keras.preprocessing import image\n",
    "from tensorflow.keras.optimizers import Adam\n",
    "from tensorflow.keras.optimizers import SGD\n",
    "from tensorflow.keras.preprocessing import image\n",
    "from tensorflow.keras import backend as K\n",
    "import tensorflow as tf \n",
    "import matplotlib.pyplot as plt \n",
    "import numpy as np \n",
    "import pandas as pd\n",
    "import random\n",
    "#import cv2\n",
    "import os"
   ]
  },
  {
   "cell_type": "code",
   "execution_count": 2,
   "metadata": {},
   "outputs": [
    {
     "name": "stdout",
     "output_type": "stream",
     "text": [
      "total Covid images: 1327\n",
      "total Normal images: 1341\n",
      "total Viral_Pneumonia: 1463\n"
     ]
    }
   ],
   "source": [
    "covid_dir=os.path.join(\"Database/COVID19\")\n",
    "norm_dir=os.path.join(\"Database/NORMAL\")\n",
    "pneu_dir=os.path.join(\"Database/Viral_Pneumonia\")\n",
    "\n",
    "\n",
    "print('total Covid images:', len(os.listdir(covid_dir)))\n",
    "print('total Normal images:', len(os.listdir(norm_dir)))\n",
    "print('total Viral_Pneumonia:', len(os.listdir(pneu_dir)))"
   ]
  },
  {
   "cell_type": "code",
   "execution_count": 3,
   "metadata": {},
   "outputs": [
    {
     "name": "stdout",
     "output_type": "stream",
     "text": [
      "Found 2893 images belonging to 3 classes.\n",
      "Found 1238 images belonging to 3 classes.\n"
     ]
    }
   ],
   "source": [
    "img_width, img_height=(224,224)\n",
    "batch_size=128\n",
    "\n",
    "data_dir = \"Database/\"\n",
    "\n",
    "# Rescale images \n",
    "datagen= ImageDataGenerator(rescale=1/255,validation_split=.3,rotation_range=20,\n",
    "                           shear_range=.2,width_shift_range=0.1,height_shift_range=0.1,zoom_range=0.2,\n",
    "                           preprocessing_function=preprocess_input)\n",
    "\n",
    "# Flow training images in batches of 128 using train_data \n",
    "train_generator= datagen.flow_from_directory(\n",
    "                data_dir,\n",
    "                target_size=(img_width,img_height),\n",
    "                batch_size=batch_size,\n",
    "                subset=\"training\",\n",
    "                class_mode=\"categorical\", \n",
    "                classes= [\"COVID19\", \"NORMAL\",\"Viral_Pneumonia\"],\n",
    "                shuffle=True, seed=30)\n",
    "\n",
    "\n",
    "datagen2=ImageDataGenerator(rescale=1/255,validation_split=.3,\n",
    "                           preprocessing_function=preprocess_input)\n",
    "\n",
    "test_generator=datagen2.flow_from_directory(\n",
    "                data_dir,\n",
    "                target_size=(img_width,img_height),\n",
    "                batch_size=batch_size,\n",
    "                classes= [\"COVID19\", \"NORMAL\",\"Viral_Pneumonia\"],\n",
    "                class_mode=\"categorical\", subset=\"validation\", shuffle=True, seed=30)"
   ]
  },
  {
   "cell_type": "markdown",
   "metadata": {},
   "source": [
    "## Transfer Learning Model- Resnet"
   ]
  },
  {
   "cell_type": "code",
   "execution_count": 4,
   "metadata": {},
   "outputs": [],
   "source": [
    "classifier = ResNet50(weights='imagenet', include_top=False, input_shape=(224,224,3))\n",
    "\n",
    "# x=classifier.output\n",
    "# x=AveragePooling2D()(x)\n",
    "# x=Dense(64, activation=\"relu\")(x)\n",
    "# predictions=Dense(3, activation=\"softmax\")(x)\n",
    "# model=Model(inputs=classifier.input,outputs=predictions)\n",
    "\n",
    "x=Flatten()(classifier.output)\n",
    "x=Dense(3, activation=\"softmax\")(x)\n",
    "model=Model(inputs=classifier.input,outputs=x)\n",
    "\n",
    "\n",
    "for layer in classifier.layers:\n",
    "    layer.trainable=False\n",
    "    \n",
    "model.compile(loss=\"categorical_crossentropy\", optimizer=\"adam\",metrics=[\"accuracy\"])"
   ]
  },
  {
   "cell_type": "code",
   "execution_count": 5,
   "metadata": {},
   "outputs": [
    {
     "name": "stdout",
     "output_type": "stream",
     "text": [
      "Epoch 1/50\n",
      "23/23 [==============================] - 204s 9s/step - loss: 4.5271 - accuracy: 0.3643 - val_loss: 1.3551 - val_accuracy: 0.3538\n",
      "Epoch 2/50\n",
      "23/23 [==============================] - 198s 9s/step - loss: 1.0541 - accuracy: 0.5116 - val_loss: 0.7564 - val_accuracy: 0.6712\n",
      "Epoch 3/50\n",
      "23/23 [==============================] - 201s 9s/step - loss: 0.7405 - accuracy: 0.6657 - val_loss: 0.5886 - val_accuracy: 0.7569\n",
      "Epoch 4/50\n",
      "23/23 [==============================] - 226s 10s/step - loss: 0.6866 - accuracy: 0.7110 - val_loss: 0.6149 - val_accuracy: 0.6979\n",
      "Epoch 5/50\n",
      "23/23 [==============================] - 212s 9s/step - loss: 0.6348 - accuracy: 0.7404 - val_loss: 0.5362 - val_accuracy: 0.8150\n",
      "Epoch 6/50\n",
      "23/23 [==============================] - 216s 9s/step - loss: 0.6316 - accuracy: 0.7363 - val_loss: 0.6424 - val_accuracy: 0.6922\n",
      "Epoch 7/50\n",
      "23/23 [==============================] - 211s 9s/step - loss: 0.6192 - accuracy: 0.7425 - val_loss: 0.4314 - val_accuracy: 0.8473\n",
      "Epoch 8/50\n",
      "23/23 [==============================] - 190s 8s/step - loss: 0.5925 - accuracy: 0.7698 - val_loss: 0.4461 - val_accuracy: 0.8199\n",
      "Epoch 9/50\n",
      "23/23 [==============================] - 190s 8s/step - loss: 0.6154 - accuracy: 0.7259 - val_loss: 0.5641 - val_accuracy: 0.7706\n",
      "Epoch 10/50\n",
      "23/23 [==============================] - 191s 8s/step - loss: 0.5655 - accuracy: 0.7656 - val_loss: 0.5082 - val_accuracy: 0.7868\n",
      "Epoch 11/50\n",
      "23/23 [==============================] - 193s 8s/step - loss: 0.4974 - accuracy: 0.8189 - val_loss: 0.4638 - val_accuracy: 0.8223\n",
      "Epoch 12/50\n",
      "23/23 [==============================] - 191s 8s/step - loss: 0.4928 - accuracy: 0.8213 - val_loss: 0.4784 - val_accuracy: 0.8166\n",
      "Epoch 13/50\n",
      "23/23 [==============================] - 190s 8s/step - loss: 0.5589 - accuracy: 0.7694 - val_loss: 0.4252 - val_accuracy: 0.8554\n",
      "Epoch 14/50\n",
      "23/23 [==============================] - 190s 8s/step - loss: 0.5716 - accuracy: 0.7618 - val_loss: 0.3566 - val_accuracy: 0.8691\n",
      "Epoch 15/50\n",
      "23/23 [==============================] - 189s 8s/step - loss: 0.4946 - accuracy: 0.8054 - val_loss: 0.3754 - val_accuracy: 0.8546\n",
      "Epoch 16/50\n",
      "23/23 [==============================] - 198s 9s/step - loss: 0.4743 - accuracy: 0.8151 - val_loss: 0.3463 - val_accuracy: 0.8667\n",
      "Epoch 17/50\n",
      "23/23 [==============================] - 202s 9s/step - loss: 0.4580 - accuracy: 0.8337 - val_loss: 0.5069 - val_accuracy: 0.8013\n",
      "Epoch 18/50\n",
      "23/23 [==============================] - 195s 8s/step - loss: 0.4594 - accuracy: 0.8258 - val_loss: 0.5916 - val_accuracy: 0.7415\n",
      "Epoch 19/50\n",
      "23/23 [==============================] - 189s 8s/step - loss: 0.5234 - accuracy: 0.7860 - val_loss: 0.4097 - val_accuracy: 0.8320\n",
      "Epoch 20/50\n",
      "23/23 [==============================] - 189s 8s/step - loss: 0.4671 - accuracy: 0.8078 - val_loss: 0.5511 - val_accuracy: 0.7771\n",
      "Epoch 21/50\n",
      "23/23 [==============================] - 2458s 107s/step - loss: 0.4887 - accuracy: 0.7968 - val_loss: 0.4005 - val_accuracy: 0.8433\n",
      "Epoch 22/50\n",
      "23/23 [==============================] - 547s 24s/step - loss: 0.4174 - accuracy: 0.8465 - val_loss: 0.4478 - val_accuracy: 0.8263\n",
      "Epoch 23/50\n",
      "23/23 [==============================] - 191s 8s/step - loss: 0.4085 - accuracy: 0.8434 - val_loss: 0.3748 - val_accuracy: 0.8740\n",
      "Epoch 24/50\n",
      "23/23 [==============================] - 190s 8s/step - loss: 0.4409 - accuracy: 0.8223 - val_loss: 0.3393 - val_accuracy: 0.8788\n",
      "Epoch 25/50\n",
      "23/23 [==============================] - 191s 8s/step - loss: 0.4320 - accuracy: 0.8313 - val_loss: 0.3591 - val_accuracy: 0.8570\n",
      "Epoch 26/50\n",
      "23/23 [==============================] - 190s 8s/step - loss: 0.5656 - accuracy: 0.7567 - val_loss: 0.3411 - val_accuracy: 0.8780\n",
      "Epoch 27/50\n",
      "23/23 [==============================] - 191s 8s/step - loss: 0.4187 - accuracy: 0.8413 - val_loss: 0.3266 - val_accuracy: 0.8821\n",
      "Epoch 28/50\n",
      "23/23 [==============================] - 192s 8s/step - loss: 0.3972 - accuracy: 0.8521 - val_loss: 0.4967 - val_accuracy: 0.8150\n",
      "Epoch 29/50\n",
      "23/23 [==============================] - 870s 38s/step - loss: 0.4025 - accuracy: 0.8458 - val_loss: 0.3516 - val_accuracy: 0.8578\n",
      "Epoch 30/50\n",
      "23/23 [==============================] - 188s 8s/step - loss: 0.4138 - accuracy: 0.8431 - val_loss: 0.3173 - val_accuracy: 0.8788\n",
      "Epoch 31/50\n",
      "23/23 [==============================] - 189s 8s/step - loss: 0.4057 - accuracy: 0.8413 - val_loss: 0.4004 - val_accuracy: 0.8530\n",
      "Epoch 32/50\n",
      "23/23 [==============================] - 862s 37s/step - loss: 0.3700 - accuracy: 0.8700 - val_loss: 0.3324 - val_accuracy: 0.8724\n",
      "Epoch 33/50\n",
      "23/23 [==============================] - 191s 8s/step - loss: 0.3900 - accuracy: 0.8483 - val_loss: 0.4658 - val_accuracy: 0.8134\n",
      "Epoch 34/50\n",
      "23/23 [==============================] - 190s 8s/step - loss: 0.4242 - accuracy: 0.8289 - val_loss: 0.3467 - val_accuracy: 0.8813\n",
      "Epoch 35/50\n",
      "23/23 [==============================] - 192s 8s/step - loss: 0.5070 - accuracy: 0.7898 - val_loss: 0.3529 - val_accuracy: 0.8554\n",
      "Epoch 36/50\n",
      "23/23 [==============================] - 684s 30s/step - loss: 0.4085 - accuracy: 0.8472 - val_loss: 0.3521 - val_accuracy: 0.8659\n",
      "Epoch 37/50\n",
      "23/23 [==============================] - 192s 8s/step - loss: 0.3523 - accuracy: 0.8680 - val_loss: 0.3012 - val_accuracy: 0.8869\n",
      "Epoch 38/50\n",
      "23/23 [==============================] - 191s 8s/step - loss: 0.3712 - accuracy: 0.8569 - val_loss: 0.3252 - val_accuracy: 0.8764\n",
      "Epoch 39/50\n",
      "23/23 [==============================] - 210s 9s/step - loss: 0.3687 - accuracy: 0.8686 - val_loss: 0.3234 - val_accuracy: 0.8780\n",
      "Epoch 40/50\n",
      "23/23 [==============================] - 193s 8s/step - loss: 0.4143 - accuracy: 0.8341 - val_loss: 0.4520 - val_accuracy: 0.8263\n",
      "Epoch 41/50\n",
      "23/23 [==============================] - 191s 8s/step - loss: 0.4525 - accuracy: 0.8254 - val_loss: 0.3100 - val_accuracy: 0.8861\n",
      "Epoch 42/50\n",
      "23/23 [==============================] - 192s 8s/step - loss: 0.4346 - accuracy: 0.8317 - val_loss: 0.4313 - val_accuracy: 0.8384\n",
      "Epoch 43/50\n",
      "23/23 [==============================] - 191s 8s/step - loss: 0.4593 - accuracy: 0.8171 - val_loss: 0.9663 - val_accuracy: 0.6906\n",
      "Epoch 44/50\n",
      "23/23 [==============================] - 1864s 81s/step - loss: 0.5379 - accuracy: 0.7864 - val_loss: 0.3453 - val_accuracy: 0.8700\n",
      "Epoch 45/50\n",
      "23/23 [==============================] - 190s 8s/step - loss: 0.4499 - accuracy: 0.8165 - val_loss: 0.3712 - val_accuracy: 0.8667\n",
      "Epoch 46/50\n",
      "23/23 [==============================] - 196s 9s/step - loss: 0.4198 - accuracy: 0.8406 - val_loss: 0.4174 - val_accuracy: 0.8506\n",
      "Epoch 47/50\n",
      "23/23 [==============================] - 690s 30s/step - loss: 0.3476 - accuracy: 0.8669 - val_loss: 0.3067 - val_accuracy: 0.8805\n",
      "Epoch 48/50\n",
      "23/23 [==============================] - 3054s 133s/step - loss: 0.3725 - accuracy: 0.8645 - val_loss: 0.3857 - val_accuracy: 0.8595\n",
      "Epoch 49/50\n",
      "23/23 [==============================] - 1074s 47s/step - loss: 0.3823 - accuracy: 0.8521 - val_loss: 0.3530 - val_accuracy: 0.8764\n",
      "Epoch 50/50\n",
      "23/23 [==============================] - 2219s 96s/step - loss: 0.4200 - accuracy: 0.8368 - val_loss: 0.3987 - val_accuracy: 0.8554\n"
     ]
    }
   ],
   "source": [
    "total_sample= train_generator.n\n",
    "batch_size=128\n",
    "\n",
    "\n",
    "history= model.fit(train_generator,epochs=50, validation_data=test_generator)"
   ]
  },
  {
   "cell_type": "code",
   "execution_count": 11,
   "metadata": {},
   "outputs": [
    {
     "ename": "AttributeError",
     "evalue": "'History' object has no attribute 'save'",
     "output_type": "error",
     "traceback": [
      "\u001b[0;31m---------------------------------------------------------------------------\u001b[0m",
      "\u001b[0;31mAttributeError\u001b[0m                            Traceback (most recent call last)",
      "\u001b[0;32m<ipython-input-11-a4cba6176509>\u001b[0m in \u001b[0;36m<module>\u001b[0;34m\u001b[0m\n\u001b[1;32m      1\u001b[0m \u001b[0;31m# Save Model\u001b[0m\u001b[0;34m\u001b[0m\u001b[0;34m\u001b[0m\u001b[0;34m\u001b[0m\u001b[0m\n\u001b[0;32m----> 2\u001b[0;31m \u001b[0mhistory\u001b[0m\u001b[0;34m.\u001b[0m\u001b[0msave\u001b[0m\u001b[0;34m(\u001b[0m\u001b[0;34m\"Database/Saved_Models/ResNet_model.h5\"\u001b[0m\u001b[0;34m)\u001b[0m\u001b[0;34m\u001b[0m\u001b[0;34m\u001b[0m\u001b[0m\n\u001b[0m",
      "\u001b[0;31mAttributeError\u001b[0m: 'History' object has no attribute 'save'"
     ]
    }
   ],
   "source": [
    "# Save Model\n",
    "history.save(\"Database/Saved_Models/ResNet_model.h5\")"
   ]
  },
  {
   "cell_type": "code",
   "execution_count": 10,
   "metadata": {},
   "outputs": [
    {
     "name": "stdout",
     "output_type": "stream",
     "text": [
      "10/10 [==============================] - 50s 5s/step - loss: 0.3987 - accuracy: 0.8554\n",
      "\n",
      " Test Accuracy: 0.855411946773529\n"
     ]
    }
   ],
   "source": [
    "test_loss, test_acc= model.evaluate(test_generator)\n",
    "print(\"\\n Test Accuracy:\", test_acc)"
   ]
  },
  {
   "cell_type": "code",
   "execution_count": null,
   "metadata": {},
   "outputs": [],
   "source": []
  }
 ],
 "metadata": {
  "kernelspec": {
   "display_name": "mlenv",
   "language": "python",
   "name": "mlenv"
  },
  "language_info": {
   "codemirror_mode": {
    "name": "ipython",
    "version": 3
   },
   "file_extension": ".py",
   "mimetype": "text/x-python",
   "name": "python",
   "nbconvert_exporter": "python",
   "pygments_lexer": "ipython3",
   "version": "3.7.7"
  }
 },
 "nbformat": 4,
 "nbformat_minor": 4
}
