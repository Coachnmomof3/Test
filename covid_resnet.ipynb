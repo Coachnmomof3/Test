{
 "cells": [
  {
   "cell_type": "code",
   "execution_count": 1,
   "metadata": {},
   "outputs": [],
   "source": [
    "from tensorflow.keras.preprocessing.image import ImageDataGenerator\n",
    "from tensorflow.keras.losses import SparseCategoricalCrossentropy\n",
    "from tensorflow.keras.applications import VGG16\n",
    "from tensorflow.keras.applications.resnet50 import ResNet50 \n",
    "from keras.applications.vgg16 import preprocess_input\n",
    "from tensorflow.keras.layers import Activation, Dense, Dropout, Flatten, BatchNormalization, Conv2D, MaxPooling2D, Lambda, Input, AveragePooling2D\n",
    "from tensorflow.keras.models import Sequential, Model\n",
    "from tensorflow.keras.layers import Input\n",
    "from tensorflow.keras import layers\n",
    "from tensorflow.keras.utils import to_categorical\n",
    "from sklearn.preprocessing import LabelBinarizer\n",
    "from sklearn.model_selection import train_test_split\n",
    "from tensorflow.keras.preprocessing import image\n",
    "from tensorflow.keras.optimizers import Adam\n",
    "from tensorflow.keras.optimizers import SGD\n",
    "from tensorflow.keras.preprocessing import image\n",
    "from tensorflow.keras import backend as K\n",
    "import tensorflow as tf \n",
    "import matplotlib.pyplot as plt \n",
    "import numpy as np \n",
    "import pandas as pd\n",
    "import random\n",
    "#import cv2\n",
    "import os"
   ]
  },
  {
   "cell_type": "code",
   "execution_count": 2,
   "metadata": {},
   "outputs": [
    {
     "name": "stdout",
     "output_type": "stream",
     "text": [
      "total Covid images: 1327\n",
      "total Normal images: 1341\n",
      "total Viral_Pneumonia: 1463\n"
     ]
    }
   ],
   "source": [
    "covid_dir=os.path.join(\"Database/COVID19\")\n",
    "norm_dir=os.path.join(\"Database/NORMAL\")\n",
    "pneu_dir=os.path.join(\"Database/Viral_Pneumonia\")\n",
    "\n",
    "\n",
    "print('total Covid images:', len(os.listdir(covid_dir)))\n",
    "print('total Normal images:', len(os.listdir(norm_dir)))\n",
    "print('total Viral_Pneumonia:', len(os.listdir(pneu_dir)))"
   ]
  },
  {
   "cell_type": "code",
   "execution_count": 3,
   "metadata": {},
   "outputs": [
    {
     "name": "stdout",
     "output_type": "stream",
     "text": [
      "Found 2893 images belonging to 3 classes.\n",
      "Found 1238 images belonging to 3 classes.\n"
     ]
    }
   ],
   "source": [
    "img_width, img_height=(224,224)\n",
    "batch_size=128\n",
    "\n",
    "data_dir = \"Database/\"\n",
    "\n",
    "# Rescale images \n",
    "datagen= ImageDataGenerator(rescale=1/255,validation_split=.3,rotation_range=20,\n",
    "                           shear_range=.2,width_shift_range=0.1,height_shift_range=0.1,zoom_range=0.2,\n",
    "                           preprocessing_function=preprocess_input)\n",
    "\n",
    "# Flow training images in batches of 128 using train_data \n",
    "train_generator= datagen.flow_from_directory(\n",
    "                data_dir,\n",
    "                target_size=(img_width,img_height),\n",
    "                batch_size=batch_size,\n",
    "                subset=\"training\",\n",
    "                class_mode=\"categorical\", \n",
    "                classes= [\"COVID19\", \"NORMAL\",\"Viral_Pneumonia\"],\n",
    "                shuffle=True, seed=30)\n",
    "\n",
    "\n",
    "datagen2=ImageDataGenerator(rescale=1/255,validation_split=.3,\n",
    "                           preprocessing_function=preprocess_input)\n",
    "\n",
    "test_generator=datagen2.flow_from_directory(\n",
    "                data_dir,\n",
    "                target_size=(img_width,img_height),\n",
    "                batch_size=batch_size,\n",
    "                classes= [\"COVID19\", \"NORMAL\",\"Viral_Pneumonia\"],\n",
    "                class_mode=\"categorical\", subset=\"validation\", shuffle=True, seed=30)"
   ]
  },
  {
   "cell_type": "markdown",
   "metadata": {},
   "source": [
    "## Transfer Learning Model- Resnet"
   ]
  },
  {
   "cell_type": "code",
   "execution_count": 5,
   "metadata": {},
   "outputs": [],
   "source": [
    "classifier = ResNet50(weights='imagenet', include_top=False, input_shape=(224,224,3))\n",
    "\n",
    "# x=classifier.output\n",
    "# x=AveragePooling2D()(x)\n",
    "# x=Dense(64, activation=\"relu\")(x)\n",
    "# predictions=Dense(3, activation=\"softmax\")(x)\n",
    "# model=Model(inputs=classifier.input,outputs=predictions)\n",
    "\n",
    "x=Flatten()(classifier.output)\n",
    "x=Dense(3, activation=\"softmax\")(x)\n",
    "model=Model(inputs=classifier.input,outputs=x)\n",
    "\n",
    "\n",
    "for layer in classifier.layers:\n",
    "    layer.trainable=False\n",
    "    \n",
    "model.compile(loss=\"categorical_crossentropy\", optimizer=\"adam\",metrics=[\"accuracy\"])"
   ]
  },
  {
   "cell_type": "code",
   "execution_count": null,
   "metadata": {},
   "outputs": [
    {
     "name": "stdout",
     "output_type": "stream",
     "text": [
      "Epoch 1/30\n",
      "23/23 [==============================] - 196s 9s/step - loss: 0.6709 - accuracy: 0.7176 - val_loss: 0.6946 - val_accuracy: 0.6777\n",
      "Epoch 2/30\n",
      "23/23 [==============================] - 196s 9s/step - loss: 0.7004 - accuracy: 0.6799 - val_loss: 0.4786 - val_accuracy: 0.8263\n",
      "Epoch 3/30\n",
      "23/23 [==============================] - 191s 8s/step - loss: 0.6360 - accuracy: 0.7269 - val_loss: 0.5913 - val_accuracy: 0.7585\n",
      "Epoch 4/30\n",
      "23/23 [==============================] - 190s 8s/step - loss: 0.5879 - accuracy: 0.7632 - val_loss: 0.4974 - val_accuracy: 0.8021\n",
      "Epoch 5/30\n",
      "23/23 [==============================] - 233s 10s/step - loss: 0.6051 - accuracy: 0.7363 - val_loss: 0.4967 - val_accuracy: 0.7690\n",
      "Epoch 6/30\n",
      "23/23 [==============================] - 192s 8s/step - loss: 0.6654 - accuracy: 0.7031 - val_loss: 0.5400 - val_accuracy: 0.7779\n",
      "Epoch 7/30\n",
      "23/23 [==============================] - 191s 8s/step - loss: 0.5542 - accuracy: 0.7712 - val_loss: 0.5878 - val_accuracy: 0.7536\n",
      "Epoch 8/30\n",
      "23/23 [==============================] - 194s 8s/step - loss: 0.4962 - accuracy: 0.8161 - val_loss: 0.4274 - val_accuracy: 0.8207\n",
      "Epoch 9/30\n",
      "23/23 [==============================] - 193s 8s/step - loss: 0.5013 - accuracy: 0.8023 - val_loss: 0.3953 - val_accuracy: 0.8409\n",
      "Epoch 10/30\n",
      "23/23 [==============================] - 190s 8s/step - loss: 0.4814 - accuracy: 0.8178 - val_loss: 0.3719 - val_accuracy: 0.8619\n",
      "Epoch 11/30\n",
      "23/23 [==============================] - 199s 9s/step - loss: 0.4596 - accuracy: 0.8275 - val_loss: 0.3936 - val_accuracy: 0.8724\n",
      "Epoch 12/30\n",
      "23/23 [==============================] - 193s 8s/step - loss: 0.4714 - accuracy: 0.8203 - val_loss: 0.4929 - val_accuracy: 0.8158\n",
      "Epoch 13/30\n",
      "23/23 [==============================] - 203s 9s/step - loss: 0.5153 - accuracy: 0.7860 - val_loss: 0.4558 - val_accuracy: 0.8215\n",
      "Epoch 14/30\n",
      "23/23 [==============================] - 194s 8s/step - loss: 0.5045 - accuracy: 0.8026 - val_loss: 0.3473 - val_accuracy: 0.8667\n",
      "Epoch 15/30\n",
      "23/23 [==============================] - 192s 8s/step - loss: 0.5199 - accuracy: 0.7802 - val_loss: 0.4862 - val_accuracy: 0.8069\n",
      "Epoch 16/30\n",
      "23/23 [==============================] - 192s 8s/step - loss: 0.4664 - accuracy: 0.8171 - val_loss: 0.4218 - val_accuracy: 0.8336\n",
      "Epoch 17/30\n",
      "23/23 [==============================] - 776s 34s/step - loss: 0.4525 - accuracy: 0.8199 - val_loss: 0.5139 - val_accuracy: 0.7827\n",
      "Epoch 18/30\n",
      "23/23 [==============================] - 195s 8s/step - loss: 0.5241 - accuracy: 0.7809 - val_loss: 0.4304 - val_accuracy: 0.8279\n",
      "Epoch 19/30\n",
      "23/23 [==============================] - 195s 8s/step - loss: 0.4528 - accuracy: 0.8254 - val_loss: 0.3857 - val_accuracy: 0.8465\n",
      "Epoch 20/30\n",
      "23/23 [==============================] - 193s 8s/step - loss: 0.4099 - accuracy: 0.8389 - val_loss: 0.3563 - val_accuracy: 0.8586\n",
      "Epoch 21/30\n",
      "23/23 [==============================] - 192s 8s/step - loss: 0.4461 - accuracy: 0.8247 - val_loss: 0.4908 - val_accuracy: 0.8053\n",
      "Epoch 22/30\n",
      "23/23 [==============================] - 644s 28s/step - loss: 0.4403 - accuracy: 0.8265 - val_loss: 0.3574 - val_accuracy: 0.8748\n",
      "Epoch 23/30\n",
      "23/23 [==============================] - 194s 8s/step - loss: 0.4062 - accuracy: 0.8527 - val_loss: 0.3850 - val_accuracy: 0.8498\n",
      "Epoch 24/30\n",
      "23/23 [==============================] - 193s 8s/step - loss: 0.3998 - accuracy: 0.8500 - val_loss: 0.3161 - val_accuracy: 0.8813\n",
      "Epoch 25/30\n",
      "23/23 [==============================] - 193s 8s/step - loss: 0.4495 - accuracy: 0.8168 - val_loss: 0.4307 - val_accuracy: 0.8376\n",
      "Epoch 26/30\n",
      "23/23 [==============================] - 193s 8s/step - loss: 0.4984 - accuracy: 0.8009 - val_loss: 0.6046 - val_accuracy: 0.7625\n",
      "Epoch 27/30\n",
      "23/23 [==============================] - 194s 8s/step - loss: 0.4435 - accuracy: 0.8292 - val_loss: 0.6256 - val_accuracy: 0.7544\n",
      "Epoch 28/30\n",
      "23/23 [==============================] - 194s 8s/step - loss: 0.3845 - accuracy: 0.8521 - val_loss: 0.4068 - val_accuracy: 0.8489\n",
      "Epoch 29/30\n",
      "23/23 [==============================] - 192s 8s/step - loss: 0.3852 - accuracy: 0.8576 - val_loss: 0.3300 - val_accuracy: 0.8829\n",
      "Epoch 30/30\n",
      " 5/23 [=====>........................] - ETA: 1:28 - loss: 0.3661 - accuracy: 0.8687"
     ]
    }
   ],
   "source": [
    "total_sample= train_generator.n\n",
    "batch_size=128\n",
    "\n",
    "\n",
    "history= model.fit(train_generator,epochs=30, validation_data=test_generator)"
   ]
  },
  {
   "cell_type": "code",
   "execution_count": null,
   "metadata": {},
   "outputs": [],
   "source": [
    "# Save Model\n",
    "history.save(\"Database/Saved_Models/ResNet_model.h5\")"
   ]
  },
  {
   "cell_type": "code",
   "execution_count": null,
   "metadata": {},
   "outputs": [],
   "source": [
    "test_loss, test_acc= model.evaluate(test_generator)\n",
    "print(\"\\n Test Accuracy:\", test_acc)"
   ]
  }
 ],
 "metadata": {
  "kernelspec": {
   "display_name": "mlenv",
   "language": "python",
   "name": "mlenv"
  },
  "language_info": {
   "codemirror_mode": {
    "name": "ipython",
    "version": 3
   },
   "file_extension": ".py",
   "mimetype": "text/x-python",
   "name": "python",
   "nbconvert_exporter": "python",
   "pygments_lexer": "ipython3",
   "version": "3.7.7"
  }
 },
 "nbformat": 4,
 "nbformat_minor": 4
}
